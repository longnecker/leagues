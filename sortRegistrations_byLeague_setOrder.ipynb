{
 "cells": [
  {
   "cell_type": "markdown",
   "metadata": {},
   "source": [
    "Sort people into leagues for curling\n",
    "KL 8/30/2016; updated 9/11/2016"
   ]
  },
  {
   "cell_type": "code",
   "execution_count": 256,
   "metadata": {
    "collapsed": true
   },
   "outputs": [],
   "source": [
    "#tends to have <4 more people on the list not getting all the leagues they want"
   ]
  },
  {
   "cell_type": "code",
   "execution_count": 257,
   "metadata": {
    "collapsed": false
   },
   "outputs": [],
   "source": [
    "%reset -f"
   ]
  },
  {
   "cell_type": "code",
   "execution_count": 258,
   "metadata": {
    "collapsed": true
   },
   "outputs": [],
   "source": [
    "setSeed = False"
   ]
  },
  {
   "cell_type": "code",
   "execution_count": 259,
   "metadata": {
    "collapsed": true
   },
   "outputs": [],
   "source": [
    "#set the random seed...if a number...will be able to recreate the random numbers\n",
    "if setSeed == True:\n",
    "    SEED = 42\n",
    "elif setSeed == False:\n",
    "    SEED = None"
   ]
  },
  {
   "cell_type": "code",
   "execution_count": 260,
   "metadata": {
    "collapsed": true
   },
   "outputs": [],
   "source": [
    "import pandas as pd\n",
    "import numpy as np\n",
    "import random\n",
    "import math\n",
    "import csv\n",
    "import os.path\n",
    "\n",
    "#used this to step into the function and debug it, also need line with Tracer()() \n",
    "from IPython.core.debugger import Tracer \n",
    "\n",
    "%matplotlib inline"
   ]
  },
  {
   "cell_type": "markdown",
   "metadata": {},
   "source": [
    "Define some functions up top"
   ]
  },
  {
   "cell_type": "code",
   "execution_count": 261,
   "metadata": {
    "collapsed": false
   },
   "outputs": [],
   "source": [
    "def addOne(leagueDict,oneLeague,oneName):\n",
    "    if len(leagueDict[oneLeague])==0: #nothing there yet\n",
    "        leagueDict[oneLeague] = oneName\n",
    "    else:     #need to append\n",
    "        leagueDict[oneLeague] = leagueDict[oneLeague].append(oneName)\n",
    "    return leagueDict"
   ]
  },
  {
   "cell_type": "code",
   "execution_count": 262,
   "metadata": {
    "collapsed": true
   },
   "outputs": [],
   "source": [
    "def addManager(leagueDictionary,r,manager): #here r is the index in...\n",
    "    useRow = r.index[0]\n",
    "    oneName = regSorted.loc[useRow,['lastname', 'firstname']] \n",
    "    oneName = oneName.to_frame().transpose() #need this format to make nice output\n",
    "    leagueDictionary[manager] = oneName\n",
    "    regSorted.loc[useRow,manager]=np.nan\n",
    "    regTracking.loc[useRow,manager]='yes'\n",
    "    return leagueDictionary"
   ]
  },
  {
   "cell_type": "code",
   "execution_count": 263,
   "metadata": {
    "collapsed": false
   },
   "outputs": [],
   "source": [
    "def fileOut():\n",
    "    regTracking.to_csv('outTracking.csv')"
   ]
  },
  {
   "cell_type": "code",
   "execution_count": 264,
   "metadata": {
    "collapsed": true
   },
   "outputs": [],
   "source": [
    "def setTracking(answer,regTracking,regSorted,idxIn,leagueIn):\n",
    "    regTracking.loc[idxIn,leagueIn] = answer\n",
    "    regSorted.loc[idxIn,leagueIn] = np.nan\n",
    "    return regTracking, regSorted"
   ]
  },
  {
   "cell_type": "code",
   "execution_count": 265,
   "metadata": {
    "collapsed": false
   },
   "outputs": [],
   "source": [
    "def doStuff(iteration,idx,regTracking,regSorted,leagueDict_open,trackIssues):\n",
    "    tAns = iterAnswers.loc[iterAnswers['iteration']==iteration]\n",
    "    \n",
    "    oneName = regTracking.loc[idx,['lastname', 'firstname']] \n",
    "    oneName = oneName.to_frame().transpose() #need this format to make nice output \n",
    "    #get their next choice\n",
    "    newPriority = regSorted.loc[idx,openLeagues].dropna().min()\n",
    "    if math.isnan(newPriority) == False: #have another league listed\n",
    "        league2 = regSorted.loc[idx,openLeagues].dropna().idxmin() #returns name of league\n",
    "        #first need to check if the league has space\n",
    "        if len(leagueDict_open[league2]) < (nLimit.loc[league2,'nLimit']):\n",
    "            leagueDict_open = addOne(leagueDict_open,league2,oneName)\n",
    "            regTracking, regSorted = setTracking('yes',regTracking,regSorted,idx,league2)               \n",
    "        else: #no space in league\n",
    "            trackIssues = addOne(trackIssues,tAns.sortingIssue.loc[tAns.sortingIssue.index[0]],oneName) #seems crazy...\n",
    "            #set their first choice to 'no' and move onto second choices\n",
    "            regTracking, regSorted = setTracking(tAns.noAnswer.loc[tAns.noAnswer.index[0]],regTracking,regSorted,idx,league2)                               \n",
    "\n",
    "    elif math.isnan(newPriority):\n",
    "        trackIssues = addOne(trackIssues,tAns.choiceIssue.loc[tAns.choiceIssue.index[0]],oneName)\n",
    "\n",
    "    return regTracking, regSorted, leagueDict_open, trackIssues"
   ]
  },
  {
   "cell_type": "markdown",
   "metadata": {},
   "source": [
    "Read in the data"
   ]
  },
  {
   "cell_type": "code",
   "execution_count": 266,
   "metadata": {
    "collapsed": false
   },
   "outputs": [],
   "source": [
    "#updated 8/30/2016 to use file from website\n",
    "fName = 'BackupList_Registrations.csv' \n",
    "importInfo=pd.read_csv(fName)"
   ]
  },
  {
   "cell_type": "code",
   "execution_count": 267,
   "metadata": {
    "collapsed": true
   },
   "outputs": [],
   "source": [
    "#shuffle the information from the website site to match the format in the rest of this file\n",
    "openLeagues = ['Sunday Night', 'Monday 4PM', 'Monday Night',\n",
    "               'Tuesday 4PM','Wednesday 4PM','Thursday 4PM'] #updated to match the priority list\n",
    "otherLeagues = ['League_4_Men', 'League_7_Ladies' ,'League_Scrod']\n",
    "priorities = ['League_Pri_1','League_Pri_2','League_Pri_3','League_Pri_4','League_Pri_5','League_Pri_6']\n",
    "\n",
    "regInfo = importInfo.loc[:,(['firstname','lastname','email','League_Number_Open'] + otherLeagues)]\n",
    "\n",
    "for item in openLeagues:\n",
    "    regInfo[item] = np.nan\n",
    "\n",
    "nPeople = len(regInfo.index)\n",
    "for idx in range(0,nPeople):\n",
    "    for idxP in enumerate(priorities):\n",
    "        #remember: enumerate will allow idxP[0] is the number, while idxP[1] is the value\n",
    "        getOne = importInfo.loc[idx,idxP[1]]\n",
    "        if getOne != 'None':\n",
    "            regInfo.loc[idx,getOne] = idxP[0] + 1  #want 1,2,3 and not python zero index"
   ]
  },
  {
   "cell_type": "code",
   "execution_count": 268,
   "metadata": {
    "collapsed": false
   },
   "outputs": [],
   "source": [
    "#first, how many random numbers so I need?\n",
    "nPeople = len(regInfo.index)\n",
    "np.random.seed(SEED)\n",
    "regInfo['randomNumCol'] = np.random.choice(range(nPeople), nPeople,replace = False)\n",
    "##so now, moving back to the list of people, sort the list by the random number\n",
    "#...still need to randomize people bc might have case where I can't grant first choice\n",
    "regSorted = regInfo.sort_values(by = 'randomNumCol', ascending=True)\n",
    "regSorted = regSorted.set_index(['randomNumCol'])\n",
    "\n",
    "#copy so I can have an output tracking what was done\n",
    "regTracking = regSorted.copy(deep=True)"
   ]
  },
  {
   "cell_type": "markdown",
   "metadata": {},
   "source": [
    "setup the places to store the output"
   ]
  },
  {
   "cell_type": "code",
   "execution_count": 269,
   "metadata": {
    "collapsed": false
   },
   "outputs": [],
   "source": [
    "# random.seed(SEED)\n",
    "# randLeagues = list(openLeagues) #make a copy of the list\n",
    "# random.shuffle(randLeagues) #does this in place, so don't make a new variable\n",
    "# randLeagues"
   ]
  },
  {
   "cell_type": "code",
   "execution_count": 270,
   "metadata": {
    "collapsed": true
   },
   "outputs": [],
   "source": [
    "#in this version, set the order I run the leagues manually"
   ]
  },
  {
   "cell_type": "code",
   "execution_count": 271,
   "metadata": {
    "collapsed": false
   },
   "outputs": [],
   "source": [
    "#outcome is 23: randLeagues = ['Thursday 4PM','Monday 4PM','Wednesday 4PM','Tuesday 4PM','Monday Night','Sunday Night']\n",
    "#outcome is 21:\n",
    "#randLeagues = ['Tuesday 4PM', 'Monday Night', 'Sunday Night', 'Wednesday 4PM', 'Monday 4PM', 'Thursday 4PM']\n",
    "\n",
    "randLeagues = ['Tuesday 4PM', 'Monday Night', 'Sunday Night', 'Wednesday 4PM', 'Monday 4PM', 'Thursday 4PM']\n",
    "\n",
    "#outcome is 21:\n",
    "# randLeagues = \n",
    "# ['Tuesday 4PM',\n",
    "#  'Monday Night',\n",
    "#  'Wednesday 4PM',\n",
    "#  'Monday 4PM',\n",
    "#  'Thursday 4PM',\n",
    "#  'Sunday Night']"
   ]
  },
  {
   "cell_type": "code",
   "execution_count": 272,
   "metadata": {
    "collapsed": false
   },
   "outputs": [
    {
     "data": {
      "text/plain": [
       "{'Monday 4PM': 25,\n",
       " 'Monday Night': 35,\n",
       " 'Sunday Night': 28,\n",
       " 'Thursday 4PM': 28,\n",
       " 'Tuesday 4PM': 19,\n",
       " 'Wednesday 4PM': 15}"
      ]
     },
     "execution_count": 272,
     "metadata": {},
     "output_type": "execute_result"
    }
   ],
   "source": [
    "#want a way to quantify the most popular leagues...go back to regInfo\n",
    "countFirst = {}\n",
    "for name in openLeagues:\n",
    "    #countFirst[name] = pd.DataFrame()\n",
    "    countFirst[name] = len(regInfo.loc[regInfo[name]==1])\n",
    "\n",
    "countFirst"
   ]
  },
  {
   "cell_type": "code",
   "execution_count": 273,
   "metadata": {
    "collapsed": false
   },
   "outputs": [],
   "source": [
    "#setup the dictionary to hold the people information (start with openLeagues only)\n",
    "forDictionary = openLeagues\n",
    "#forDictionary.extend(otherLeagues)\n",
    "leagueDict_open = {}\n",
    "for name in forDictionary:\n",
    "    leagueDict_open[name] = pd.DataFrame()"
   ]
  },
  {
   "cell_type": "code",
   "execution_count": 274,
   "metadata": {
    "collapsed": false
   },
   "outputs": [],
   "source": [
    "# put the manager information into a loop bc need to check later for them\n",
    "names = [['Bill','Fragaszy'],['Peter','Brown'],['Diane', 'DiMassa'],['Kenny', 'Thomson'],\n",
    "        ['Katie', 'Murphy'],['Bill', 'Gallagher']]\n",
    "leagues = ['Sunday Night','Monday 4PM','Monday Night','Tuesday 4PM','Wednesday 4PM','Thursday 4PM']\n",
    "\n",
    "managers = pd.DataFrame(names,columns = ['firstname','lastname'],index = [leagues])\n",
    "\n",
    "if True:\n",
    "    #put the league managers into their league and set their the choice for that league to NaN\n",
    "    for oL,item in managers.iterrows():\n",
    "        r = regSorted.loc[(regSorted['lastname']==item.lastname) & (regSorted['firstname']==item.firstname)]\n",
    "        leagueDict_open = addManager(leagueDict_open,r,oL)"
   ]
  },
  {
   "cell_type": "code",
   "execution_count": 275,
   "metadata": {
    "collapsed": false
   },
   "outputs": [],
   "source": [
    "#set the limit for each league:\n",
    "sevenTeams = 28 #change to 28 (remember league manager already in here)\n",
    "eightTeams = 32\n",
    "fourteenTeams = 56\n",
    "\n",
    "d = {'Sunday Night': eightTeams,\n",
    "     'Monday 4PM': sevenTeams,\n",
    "     'Monday Night': fourteenTeams,\n",
    "     'Tuesday 4PM': sevenTeams,\n",
    "     'Wednesday 4PM': sevenTeams,\n",
    "     'Thursday 4PM': sevenTeams,}\n",
    "\n",
    "nLimit = pd.DataFrame({'nLimit' : d})\n",
    "del d"
   ]
  },
  {
   "cell_type": "code",
   "execution_count": 276,
   "metadata": {
    "collapsed": true
   },
   "outputs": [],
   "source": [
    "pd.options.mode.chained_assignment = None  # default='warn'"
   ]
  },
  {
   "cell_type": "code",
   "execution_count": 277,
   "metadata": {
    "collapsed": false
   },
   "outputs": [],
   "source": [
    "#go through a league and grant first choice for leagues...don't worry about league #2 yet\n",
    "for oneLeague in randLeagues:\n",
    "    subset = regSorted.loc[regSorted[oneLeague]==1]\n",
    "    subset.reset_index(inplace = True)\n",
    "    nPeople = len(subset.index)\n",
    "    \n",
    "    #what is the limit for this league?\n",
    "    oneLimit = nLimit.loc[oneLeague][0]\n",
    "    \n",
    "    for idx in range(0,nPeople):\n",
    "        getIdx = subset.loc[idx,'randomNumCol'] #use getIdx to go back into full index\n",
    "        oneName = subset.loc[idx,['lastname', 'firstname']] #remember, idx is into subset\n",
    "        oneName = oneName.to_frame().transpose() #need this format to make nice output \n",
    "        \n",
    "        #ACK...don't forget that idx will start at zero and league manager is in here\n",
    "        if idx  <= (oneLimit - 2):           \n",
    "            leagueDict_open = addOne(leagueDict_open,oneLeague,oneName)   \n",
    "            regTracking, regSorted = setTracking('yes',regTracking,regSorted,getIdx,oneLeague)\n",
    "        elif idx  > (oneLimit - 2):\n",
    "            trackIssues = addOne(trackIssues, 'round1_notInFirst',oneName)            \n",
    "            regTracking, regSorted = setTracking('no1',regTracking,regSorted,getIdx,oneLeague)"
   ]
  },
  {
   "cell_type": "code",
   "execution_count": 278,
   "metadata": {
    "collapsed": false
   },
   "outputs": [
    {
     "name": "stdout",
     "output_type": "stream",
     "text": [
      "Tuesday 4PM 9\n",
      "Monday Night 21\n",
      "Sunday Night 4\n",
      "Wednesday 4PM 12\n",
      "Monday 4PM 3\n",
      "Thursday 4PM 0\n"
     ]
    }
   ],
   "source": [
    "#OK...regTracking now has a 'no1' for those people who did not get their first choice...use that to\n",
    "#put those people into their second choice league\n",
    "for oneLeague in randLeagues:    \n",
    "    #how many spaces are left in this league? Use to figure out how many to add\n",
    "    nRemaining = nLimit.loc[oneLeague][0] - len(leagueDict_open[oneLeague])  \n",
    "    print oneLeague, nRemaining"
   ]
  },
  {
   "cell_type": "code",
   "execution_count": 279,
   "metadata": {
    "collapsed": true
   },
   "outputs": [],
   "source": [
    "choiceIssue = ['noSecondChoice','noAdditionalChoice','noAdditionalChoice','noAdditionalChoice']\n",
    "sortingIssue = ['round1_noRoom','round2_noRoom','round3_noRoom','round4_noRoom']\n",
    "\n",
    "issueNames = choiceIssue + sortingIssue\n",
    "#setup the dictionary to hold the issues\n",
    "trackIssues = {}\n",
    "for name in issueNames:\n",
    "    trackIssues[name] = pd.DataFrame()"
   ]
  },
  {
   "cell_type": "code",
   "execution_count": 280,
   "metadata": {
    "collapsed": false
   },
   "outputs": [],
   "source": [
    "iterAnswers = pd.DataFrame(\n",
    "    {'iteration': ['first','second','third','fourth'],\n",
    "     'choiceIssue': choiceIssue,\n",
    "    'sortingIssue': sortingIssue,\n",
    "    'noAnswer':['no1','no2','no3','no4']})"
   ]
  },
  {
   "cell_type": "code",
   "execution_count": 281,
   "metadata": {
    "collapsed": true
   },
   "outputs": [],
   "source": [
    "#go see if we can grant 2nd choices for the first round\n",
    "for idx in range(0,len(regTracking)):  \n",
    "    doSomething = []\n",
    "    r = regTracking.loc[idx,openLeagues]\n",
    "    for item in range(0,len(r)):\n",
    "        if r[item] == 'no1':\n",
    "            doSomething = True\n",
    "\n",
    "    if doSomething:\n",
    "        #def working(iteration,idx,regTracking,regSorted,leagueDict_open,trackIssues):\n",
    "        regTracking,regSorted, leagueDict_open,trackIssues = doStuff('first',idx,regTracking,regSorted,leagueDict_open,trackIssues)"
   ]
  },
  {
   "cell_type": "code",
   "execution_count": 282,
   "metadata": {
    "collapsed": false
   },
   "outputs": [],
   "source": [
    "#go see if we need to use 3rd choices for the first round\n",
    "for idx in range(0,len(regTracking)):  \n",
    "    doSomething = 0\n",
    "    r = regTracking.loc[idx,openLeagues]\n",
    "    for item in range(0,len(r)):\n",
    "        if r[item] == 'no1': #need two 'no' responses to doSomething\n",
    "             doSomething = doSomething+1\n",
    "\n",
    "    if doSomething > 1:\n",
    "        regTracking,regSorted, leagueDict_open,trackIssues = doStuff('first',idx,regTracking,regSorted,leagueDict_open,trackIssues)"
   ]
  },
  {
   "cell_type": "code",
   "execution_count": 283,
   "metadata": {
    "collapsed": false
   },
   "outputs": [
    {
     "name": "stdout",
     "output_type": "stream",
     "text": [
      "yes\n"
     ]
    }
   ],
   "source": [
    "if len(trackIssues['round1_noRoom'])==0:\n",
    "    #no longer trying to grant a first choice\n",
    "    print 'yes'\n",
    "else:\n",
    "    print 'should have kept going'"
   ]
  },
  {
   "cell_type": "code",
   "execution_count": 284,
   "metadata": {
    "collapsed": false
   },
   "outputs": [],
   "source": [
    "#now start working on second choices\n",
    "for idx in reversed(range(0,len(regTracking))):\n",
    "    nLeagues = regTracking.loc[idx,'League_Number_Open']\n",
    "    if nLeagues != 'None' : \n",
    "        if int(nLeagues) > 1:  \n",
    "            #print idx\n",
    "            regTracking,regSorted,leagueDict_open,trackIssues = doStuff('second',idx,regTracking,regSorted,leagueDict_open,trackIssues)"
   ]
  },
  {
   "cell_type": "code",
   "execution_count": 285,
   "metadata": {
    "collapsed": false
   },
   "outputs": [],
   "source": [
    "#keep trying to get people their second league\n",
    "for idx in reversed(range(0,len(regTracking))):  \n",
    "    nLeagues = regTracking.loc[idx,'League_Number_Open']\n",
    "    if nLeagues != 'None':\n",
    "        doSomething = 0\n",
    "        r = regTracking.loc[idx,openLeagues]\n",
    "        for item in range(0,len(r)):\n",
    "            if r[item] == 'no2': #need two 'no' responses to doSomething\n",
    "                 doSomething = doSomething+1\n",
    "       \n",
    "        if (doSomething > 0) & (int(nLeagues) > 1):\n",
    "            regTracking,regSorted, leagueDict_open,trackIssues = doStuff('second',idx,regTracking,regSorted,leagueDict_open,trackIssues)"
   ]
  },
  {
   "cell_type": "code",
   "execution_count": 286,
   "metadata": {
    "collapsed": false
   },
   "outputs": [],
   "source": [
    "#keep trying to get people their second league\n",
    "for idx in reversed(range(0,len(regTracking))):  \n",
    "    nLeagues = regTracking.loc[idx,'League_Number_Open']\n",
    "    if nLeagues != 'None':\n",
    "        doSomething = 0\n",
    "        r = regTracking.loc[idx,openLeagues]\n",
    "        for item in range(0,len(r)):\n",
    "            if r[item] == 'no2': #need two 'no' responses to doSomething\n",
    "                 doSomething = doSomething+1\n",
    "       \n",
    "        if (doSomething > 1) & (int(nLeagues) > 1):\n",
    "            regTracking,regSorted, leagueDict_open,trackIssues = doStuff('second',idx,regTracking,regSorted,leagueDict_open,trackIssues)"
   ]
  },
  {
   "cell_type": "code",
   "execution_count": 287,
   "metadata": {
    "collapsed": false
   },
   "outputs": [],
   "source": [
    "#keep trying to get people their second league\n",
    "for idx in reversed(range(0,len(regTracking))):  \n",
    "    nLeagues = regTracking.loc[idx,'League_Number_Open']\n",
    "    if nLeagues != 'None':\n",
    "        doSomething = 0\n",
    "        r = regTracking.loc[idx,openLeagues]\n",
    "        for item in range(0,len(r)):\n",
    "            if r[item] == 'no2': #need two 'no' responses to doSomething\n",
    "                 doSomething = doSomething+1\n",
    "       \n",
    "        if (doSomething > 1) & (int(nLeagues) > 1):\n",
    "            regTracking,regSorted, leagueDict_open,trackIssues = doStuff('second',idx,regTracking,regSorted,leagueDict_open,trackIssues)"
   ]
  },
  {
   "cell_type": "code",
   "execution_count": 288,
   "metadata": {
    "collapsed": false
   },
   "outputs": [
    {
     "name": "stdout",
     "output_type": "stream",
     "text": [
      "Tuesday 4PM 0\n",
      "Monday Night 16\n",
      "Sunday Night 0\n",
      "Wednesday 4PM 0\n",
      "Monday 4PM 0\n",
      "Thursday 4PM 0\n"
     ]
    }
   ],
   "source": [
    "#how many spaces are left in this league? Use to figure out how many to add\n",
    "for oneLeague in randLeagues:    \n",
    "    nRemaining = nLimit.loc[oneLeague][0] - len(leagueDict_open[oneLeague])  \n",
    "    print oneLeague, nRemaining"
   ]
  },
  {
   "cell_type": "markdown",
   "metadata": {
    "collapsed": true
   },
   "source": [
    "##end of second round, what about people who want to curl 3x?"
   ]
  },
  {
   "cell_type": "code",
   "execution_count": 289,
   "metadata": {
    "collapsed": false
   },
   "outputs": [],
   "source": [
    "#now start trying to grant people who want a third league\n",
    "for idx in range(0,len(regTracking)):\n",
    "    nLeagues = regTracking.loc[idx,'League_Number_Open']\n",
    "    if nLeagues != 'None' : \n",
    "        if int(nLeagues) > 2:   \n",
    "            regTracking,regSorted, leagueDict_open,trackIssues = doStuff('third',idx,regTracking,regSorted,leagueDict_open,trackIssues)"
   ]
  },
  {
   "cell_type": "code",
   "execution_count": 290,
   "metadata": {
    "collapsed": false
   },
   "outputs": [],
   "source": [
    "#keep trying to grant people who want a third league\n",
    "for idx in range(0,len(regTracking)):\n",
    "    nLeagues = regTracking.loc[idx,'League_Number_Open']\n",
    "    if nLeagues != 'None' : \n",
    "        if int(nLeagues) > 2:  \n",
    "            regTracking,regSorted, leagueDict_open,trackIssues = doStuff('third',idx,regTracking,regSorted,leagueDict_open,trackIssues)"
   ]
  },
  {
   "cell_type": "code",
   "execution_count": 291,
   "metadata": {
    "collapsed": false
   },
   "outputs": [],
   "source": [
    "#keep trying to grant people who want a third league\n",
    "for idx in range(0,len(regTracking)):\n",
    "    nLeagues = regTracking.loc[idx,'League_Number_Open']\n",
    "    if nLeagues != 'None' : \n",
    "        if int(nLeagues) > 2:   \n",
    "            regTracking,regSorted, leagueDict_open,trackIssues = doStuff('third',idx,regTracking,regSorted,leagueDict_open,trackIssues)"
   ]
  },
  {
   "cell_type": "code",
   "execution_count": 292,
   "metadata": {
    "collapsed": false
   },
   "outputs": [],
   "source": [
    "#keep trying to grant people who want a third league\n",
    "for idx in reversed(range(0,len(regTracking))):\n",
    "    nLeagues = regTracking.loc[idx,'League_Number_Open']\n",
    "    if nLeagues != 'None' : \n",
    "        if int(nLeagues) > 2:   \n",
    "            regTracking,regSorted, leagueDict_open,trackIssues = doStuff('third',idx,regTracking,regSorted,leagueDict_open,trackIssues)"
   ]
  },
  {
   "cell_type": "code",
   "execution_count": 293,
   "metadata": {
    "collapsed": true
   },
   "outputs": [],
   "source": [
    "#...and for the one person who wants to curl in 4 leagues:\n",
    "for idx in reversed(range(0,len(regTracking))):\n",
    "    nLeagues = regTracking.loc[idx,'League_Number_Open']\n",
    "    if nLeagues != 'None' : \n",
    "        if int(nLeagues) > 3:   \n",
    "            regTracking,regSorted, leagueDict_open,trackIssues = doStuff('fourth',idx,regTracking,regSorted,leagueDict_open,trackIssues)"
   ]
  },
  {
   "cell_type": "code",
   "execution_count": 294,
   "metadata": {
    "collapsed": true
   },
   "outputs": [],
   "source": [
    "#make a new dictionary for other leagues...concat with openLeagues when done\n",
    "# do doubles and competitive league by hand...\n",
    "otherLeagues = ['League_4_Men', 'League_7_Ladies' ,'League_Scrod']\n",
    "\n",
    "leagueDict_other = {}\n",
    "for name in otherLeagues:\n",
    "    leagueDict_other[name] = pd.DataFrame()"
   ]
  },
  {
   "cell_type": "code",
   "execution_count": 295,
   "metadata": {
    "collapsed": false
   },
   "outputs": [],
   "source": [
    "if True:\n",
    "    #put league managers in for other\n",
    "    manager = 'League_4_Men'\n",
    "    r = regSorted.loc[(regSorted['lastname']=='Pijanowski') & (regSorted['firstname']=='Brian')]\n",
    "    leagueDict_other = addManager(leagueDict_other,r,manager)\n",
    "\n",
    "    manager = 'League_7_Ladies'\n",
    "    r = regSorted.loc[(regSorted['lastname']=='Galligan') & (regSorted['firstname']=='Natalie')]\n",
    "    leagueDict_other = addManager(leagueDict_other,r,manager)\n",
    "\n",
    "    manager = 'League_Scrod'\n",
    "    r = regSorted.loc[(regSorted['lastname']=='Pilotte') & (regSorted['firstname']=='Courtney Lee')]\n",
    "    leagueDict_other = addManager(leagueDict_other,r,manager)"
   ]
  },
  {
   "cell_type": "code",
   "execution_count": 296,
   "metadata": {
    "collapsed": false
   },
   "outputs": [],
   "source": [
    "#only have to go through once\n",
    "for idx in range(0,len(regSorted)):\n",
    "    for oL in otherLeagues:    \n",
    "        oneName = regSorted.loc[idx,['lastname', 'firstname']] \n",
    "        oneName = oneName.to_frame().transpose() #need this format to make nice output\n",
    "        if regSorted.loc[idx,oL]=='Yes': #careful with trailing spaces\n",
    "            leagueDict_other = addOne(leagueDict_other,oL,oneName)\n",
    "            #now that I have added the person to a league, change their priority to NaN\n",
    "            regTracking.loc[idx,oL] = 'yes'\n",
    "            regSorted.loc[idx,oL] = np.nan"
   ]
  },
  {
   "cell_type": "code",
   "execution_count": 297,
   "metadata": {
    "collapsed": false
   },
   "outputs": [],
   "source": [
    "#combine the two dictionaries\n",
    "leagueDict_all = leagueDict_open.copy()\n",
    "leagueDict_all.update(leagueDict_other)\n",
    "\n",
    "#combine the list of names\n",
    "allLeagues = list(openLeagues)\n",
    "allLeagues.extend(otherLeagues)"
   ]
  },
  {
   "cell_type": "code",
   "execution_count": 298,
   "metadata": {
    "collapsed": false
   },
   "outputs": [],
   "source": [
    "#export the results to a series of CSV files (CAREFUL...will delete existing files)\n",
    "for fn in allLeagues:\n",
    "    fName = '%s.csv' % fn\n",
    "    #check if the file exists...delete if it does\n",
    "    if os.path.isfile(fName):\n",
    "        os.remove(fName)\n",
    "        \n",
    "    leagueDict_all[fn].to_csv(fName)"
   ]
  },
  {
   "cell_type": "code",
   "execution_count": 299,
   "metadata": {
    "collapsed": false
   },
   "outputs": [
    {
     "data": {
      "text/html": [
       "<div>\n",
       "<table border=\"1\" class=\"dataframe\">\n",
       "  <thead>\n",
       "    <tr style=\"text-align: right;\">\n",
       "      <th></th>\n",
       "      <th>nPeople</th>\n",
       "    </tr>\n",
       "  </thead>\n",
       "  <tbody>\n",
       "    <tr>\n",
       "      <th>Sunday Night</th>\n",
       "      <td>32.0</td>\n",
       "    </tr>\n",
       "    <tr>\n",
       "      <th>Monday 4PM</th>\n",
       "      <td>28.0</td>\n",
       "    </tr>\n",
       "    <tr>\n",
       "      <th>Monday Night</th>\n",
       "      <td>42.0</td>\n",
       "    </tr>\n",
       "    <tr>\n",
       "      <th>Tuesday 4PM</th>\n",
       "      <td>28.0</td>\n",
       "    </tr>\n",
       "    <tr>\n",
       "      <th>Wednesday 4PM</th>\n",
       "      <td>28.0</td>\n",
       "    </tr>\n",
       "    <tr>\n",
       "      <th>Thursday 4PM</th>\n",
       "      <td>28.0</td>\n",
       "    </tr>\n",
       "  </tbody>\n",
       "</table>\n",
       "</div>"
      ],
      "text/plain": [
       "               nPeople\n",
       "Sunday Night      32.0\n",
       "Monday 4PM        28.0\n",
       "Monday Night      42.0\n",
       "Tuesday 4PM       28.0\n",
       "Wednesday 4PM     28.0\n",
       "Thursday 4PM      28.0"
      ]
     },
     "execution_count": 299,
     "metadata": {},
     "output_type": "execute_result"
    },
    {
     "data": {
      "image/png": "[encoded data removed]",
      "text/plain": [
       "<matplotlib.figure.Figure at 0x5e84c30>"
      ]
     },
     "metadata": {},
     "output_type": "display_data"
    }
   ],
   "source": [
    "#do some plotting...visually see how people distributed\n",
    "gather = pd.DataFrame(np.nan, index = openLeagues, columns=['nPeople'])\n",
    "for name in openLeagues:\n",
    "    gather.loc[name,'nPeople'] = len(leagueDict_open[name])\n",
    "    \n",
    "gather.plot(kind = 'bar',title='number of people in each league at this point')\n",
    "gather"
   ]
  },
  {
   "cell_type": "code",
   "execution_count": 300,
   "metadata": {
    "collapsed": false
   },
   "outputs": [
    {
     "name": "stdout",
     "output_type": "stream",
     "text": [
      "noSecondChoice :  0  people in this category\n",
      "noAdditionalChoice :  51  people in this category\n",
      "noAdditionalChoice :  51  people in this category\n",
      "noAdditionalChoice :  51  people in this category\n",
      "round1_noRoom :  0  people in this category\n",
      "round2_noRoom :  25  people in this category\n",
      "round3_noRoom :  19  people in this category\n",
      "round4_noRoom :  0  people in this category\n"
     ]
    },
    {
     "data": {
      "text/plain": [
       "['Tuesday 4PM',\n",
       " 'Monday Night',\n",
       " 'Sunday Night',\n",
       " 'Wednesday 4PM',\n",
       " 'Monday 4PM',\n",
       " 'Thursday 4PM']"
      ]
     },
     "execution_count": 300,
     "metadata": {},
     "output_type": "execute_result"
    }
   ],
   "source": [
    "for problem in issueNames:\n",
    "    print problem, ': ', len(trackIssues[problem]), ' people in this category'\n",
    "    \n",
    "randLeagues"
   ]
  },
  {
   "cell_type": "code",
   "execution_count": 301,
   "metadata": {
    "collapsed": true
   },
   "outputs": [],
   "source": [
    "#gather up the number of people with # 'yes' < League_Number_Open\n",
    "outcome = regTracking.copy(deep = True)\n",
    "\n",
    "for idx in range(0,len(regTracking)):   \n",
    "    if regTracking.loc[idx,'League_Number_Open'] != 'None':\n",
    "        r = regTracking.loc[idx,openLeagues]\n",
    "        nLeagues = 0\n",
    "        for item in range(0,len(r)):\n",
    "            if r[item] == 'yes':\n",
    "                nLeagues = nLeagues + 1\n",
    "        if nLeagues == int(regTracking.loc[idx,'League_Number_Open']):\n",
    "            #delete from the dataframe\n",
    "            outcome.drop(idx,inplace = True)\n",
    "    else: #did not want open leagues, drop them too\n",
    "        outcome.drop(idx,inplace = True)\n",
    "        \n",
    "outcome.sort_values(by = 'League_Number_Open', inplace = True)"
   ]
  },
  {
   "cell_type": "code",
   "execution_count": 302,
   "metadata": {
    "collapsed": false
   },
   "outputs": [
    {
     "data": {
      "text/plain": [
       "21"
      ]
     },
     "execution_count": 302,
     "metadata": {},
     "output_type": "execute_result"
    }
   ],
   "source": [
    "len(outcome)"
   ]
  },
  {
   "cell_type": "code",
   "execution_count": 303,
   "metadata": {
    "collapsed": false
   },
   "outputs": [],
   "source": [
    "outcome.to_csv('exportOutcome.csv')\n",
    "regTracking.to_csv('exportTracking.csv')\n",
    "regSorted.to_csv('exportSorted.csv')\n",
    "regInfo.to_csv('exportInfo.csv')"
   ]
  },
  {
   "cell_type": "code",
   "execution_count": 304,
   "metadata": {
    "collapsed": true
   },
   "outputs": [],
   "source": [
    "#run multiple times and see the variability"
   ]
  },
  {
   "cell_type": "code",
   "execution_count": 305,
   "metadata": {
    "collapsed": false
   },
   "outputs": [
    {
     "name": "stdout",
     "output_type": "stream",
     "text": [
      "noSecondChoice :  0  people in this category\n",
      "noAdditionalChoice :  51  people in this category\n",
      "noAdditionalChoice :  51  people in this category\n",
      "noAdditionalChoice :  51  people in this category\n",
      "round1_noRoom :  0  people in this category\n",
      "round2_noRoom :  25  people in this category\n",
      "round3_noRoom :  19  people in this category\n",
      "round4_noRoom :  0  people in this category\n"
     ]
    },
    {
     "data": {
      "text/plain": [
       "['Tuesday 4PM',\n",
       " 'Monday Night',\n",
       " 'Sunday Night',\n",
       " 'Wednesday 4PM',\n",
       " 'Monday 4PM',\n",
       " 'Thursday 4PM']"
      ]
     },
     "execution_count": 305,
     "metadata": {},
     "output_type": "execute_result"
    }
   ],
   "source": [
    "for problem in issueNames:\n",
    "    print problem, ': ', len(trackIssues[problem]), ' people in this category'\n",
    "    \n",
    "randLeagues"
   ]
  },
  {
   "cell_type": "code",
   "execution_count": 306,
   "metadata": {
    "collapsed": false
   },
   "outputs": [
    {
     "name": "stdout",
     "output_type": "stream",
     "text": [
      "noSecondChoice :  0  people in this category\n",
      "noAdditionalChoice :  51  people in this category\n",
      "noAdditionalChoice :  51  people in this category\n",
      "noAdditionalChoice :  51  people in this category\n",
      "round1_noRoom :  0  people in this category\n",
      "round2_noRoom :  25  people in this category\n",
      "round3_noRoom :  19  people in this category\n",
      "round4_noRoom :  0  people in this category\n"
     ]
    },
    {
     "data": {
      "text/plain": [
       "['Tuesday 4PM',\n",
       " 'Monday Night',\n",
       " 'Sunday Night',\n",
       " 'Wednesday 4PM',\n",
       " 'Monday 4PM',\n",
       " 'Thursday 4PM']"
      ]
     },
     "execution_count": 306,
     "metadata": {},
     "output_type": "execute_result"
    }
   ],
   "source": [
    "for problem in issueNames:\n",
    "    print problem, ': ', len(trackIssues[problem]), ' people in this category'\n",
    "    \n",
    "randLeagues"
   ]
  },
  {
   "cell_type": "code",
   "execution_count": 307,
   "metadata": {
    "collapsed": false
   },
   "outputs": [
    {
     "name": "stdout",
     "output_type": "stream",
     "text": [
      "noSecondChoice :  0  people in this category\n",
      "noAdditionalChoice :  51  people in this category\n",
      "noAdditionalChoice :  51  people in this category\n",
      "noAdditionalChoice :  51  people in this category\n",
      "round1_noRoom :  0  people in this category\n",
      "round2_noRoom :  25  people in this category\n",
      "round3_noRoom :  19  people in this category\n",
      "round4_noRoom :  0  people in this category\n"
     ]
    },
    {
     "data": {
      "text/plain": [
       "['Tuesday 4PM',\n",
       " 'Monday Night',\n",
       " 'Sunday Night',\n",
       " 'Wednesday 4PM',\n",
       " 'Monday 4PM',\n",
       " 'Thursday 4PM']"
      ]
     },
     "execution_count": 307,
     "metadata": {},
     "output_type": "execute_result"
    }
   ],
   "source": [
    "for problem in issueNames:\n",
    "    print problem, ': ', len(trackIssues[problem]), ' people in this category'\n",
    "    \n",
    "randLeagues"
   ]
  },
  {
   "cell_type": "code",
   "execution_count": null,
   "metadata": {
    "collapsed": true
   },
   "outputs": [],
   "source": []
  }
 ],
 "metadata": {
  "kernelspec": {
   "display_name": "Python 2",
   "language": "python",
   "name": "python2"
  },
  "language_info": {
   "codemirror_mode": {
    "name": "ipython",
    "version": 2
   },
   "file_extension": ".py",
   "mimetype": "text/x-python",
   "name": "python",
   "nbconvert_exporter": "python",
   "pygments_lexer": "ipython2",
   "version": "2.7.12"
  }
 },
 "nbformat": 4,
 "nbformat_minor": 1
}
