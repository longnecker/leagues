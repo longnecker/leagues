{
 "cells": [
  {
   "cell_type": "markdown",
   "metadata": {},
   "source": [
    "Sort people into leagues for curling\n",
    "KL 8/30/2016"
   ]
  },
  {
   "cell_type": "markdown",
   "metadata": {},
   "source": [
    "#This version starts with a random league and puts a random subset of people into each league;\n",
    "updated to use new website export format"
   ]
  },
  {
   "cell_type": "markdown",
   "metadata": {},
   "source": [
    "#REMEMBER: this will skip league managers for the moment"
   ]
  },
  {
   "cell_type": "markdown",
   "metadata": {},
   "source": [
    "#something wrong with this in the iterations after first choices"
   ]
  },
  {
   "cell_type": "code",
   "execution_count": 31,
   "metadata": {
    "collapsed": false
   },
   "outputs": [
    {
     "name": "stdout",
     "output_type": "stream",
     "text": [
      "Once deleted, variables cannot be recovered. Proceed (y/[n])? y\n"
     ]
    }
   ],
   "source": [
    "if True:\n",
    "    %reset"
   ]
  },
  {
   "cell_type": "code",
   "execution_count": 32,
   "metadata": {
    "collapsed": true
   },
   "outputs": [],
   "source": [
    "setSeed = False"
   ]
  },
  {
   "cell_type": "code",
   "execution_count": 33,
   "metadata": {
    "collapsed": true
   },
   "outputs": [],
   "source": [
    "#set the random seed...if a number...will be able to recreate the random numbers\n",
    "if setSeed == True:\n",
    "    SEED = 42\n",
    "elif setSeed == False:\n",
    "    SEED = None"
   ]
  },
  {
   "cell_type": "code",
   "execution_count": 34,
   "metadata": {
    "collapsed": true
   },
   "outputs": [],
   "source": [
    "import pandas as pd\n",
    "import numpy as np\n",
    "import random\n",
    "import math\n",
    "import csv\n",
    "import os.path\n",
    "\n",
    "#used this to step into the function and debug it, also need line with Tracer()() \n",
    "from IPython.core.debugger import Tracer "
   ]
  },
  {
   "cell_type": "markdown",
   "metadata": {},
   "source": [
    "Define some functions up top"
   ]
  },
  {
   "cell_type": "code",
   "execution_count": 35,
   "metadata": {
    "collapsed": false
   },
   "outputs": [],
   "source": [
    "def addOne(leagueDict,oneLeague,oneName):\n",
    "    if len(leagueDict[oneLeague])==0: #nothing there yet\n",
    "        leagueDict[oneLeague] = oneName\n",
    "    else:     #need to append\n",
    "        leagueDict[oneLeague] = leagueDict[oneLeague].append(oneName)\n",
    "    return leagueDict"
   ]
  },
  {
   "cell_type": "code",
   "execution_count": 36,
   "metadata": {
    "collapsed": true
   },
   "outputs": [],
   "source": [
    "def addManager(leagueDictionary,r,manager): #here r is the index in...\n",
    "    useRow = r.index[0]\n",
    "    oneName = regSorted.loc[useRow,['lastname', 'firstname']] \n",
    "    oneName = oneName.to_frame().transpose() #need this format to make nice output\n",
    "    leagueDictionary[manager] = oneName\n",
    "    regSorted.loc[useRow,manager]=np.nan\n",
    "    regTracking.loc[useRow,manager]='yes'\n",
    "    return leagueDictionary"
   ]
  },
  {
   "cell_type": "markdown",
   "metadata": {},
   "source": [
    "Read in the data"
   ]
  },
  {
   "cell_type": "code",
   "execution_count": 37,
   "metadata": {
    "collapsed": false
   },
   "outputs": [],
   "source": [
    "#updated 8/30/2016 to use file from website\n",
    "fName = 'BackupList_Registrations.csv' \n",
    "importInfo=pd.read_csv(fName)"
   ]
  },
  {
   "cell_type": "code",
   "execution_count": 38,
   "metadata": {
    "collapsed": true
   },
   "outputs": [],
   "source": [
    "#shuffle the information from the website site to match the format in the rest of this file\n",
    "openLeagues = ['Sunday Night', 'Monday 4PM', 'Monday Night',\n",
    "               'Tuesday 4PM','Wednesday 4PM','Thursday 4PM'] #updated to match the priority list\n",
    "otherLeagues = ['League_4_Men', 'League_7_Ladies' ,'League_Scrod']\n",
    "priorities = ['League_Pri_1','League_Pri_2','League_Pri_3','League_Pri_4','League_Pri_5','League_Pri_6']\n",
    "\n",
    "regInfo = importInfo.loc[:,(['firstname','lastname','email','League_Number_Open'] + otherLeagues)]\n",
    "\n",
    "for item in openLeagues:\n",
    "    regInfo[item] = np.nan\n",
    "\n",
    "nPeople = len(regInfo.index)\n",
    "for idx in range(0,nPeople):\n",
    "    for idxP in enumerate(priorities):\n",
    "        #remember: enumerate will allow idxP[0] is the number, while idxP[1] is the value\n",
    "        getOne = importInfo.loc[idx,idxP[1]]\n",
    "        if getOne != 'None':\n",
    "            regInfo.loc[idx,getOne] = idxP[0] + 1  #want 1,2,3 and not python zero index"
   ]
  },
  {
   "cell_type": "code",
   "execution_count": 39,
   "metadata": {
    "collapsed": false
   },
   "outputs": [],
   "source": [
    "#first, how many random numbers so I need?\n",
    "nPeople = len(regInfo.index)\n",
    "np.random.seed(SEED)\n",
    "regInfo['randomNumCol'] = np.random.choice(range(nPeople), nPeople,replace = False)\n",
    "##so now, moving back to the list of people, sort the list by the random number\n",
    "#...still need to randomize people bc might have case where I can't grant first choice\n",
    "regSorted = regInfo.sort_values(by = 'randomNumCol', ascending=True)\n",
    "regSorted = regSorted.set_index(['randomNumCol'])\n",
    "\n",
    "#copy so I can have an output tracking what was done\n",
    "regTracking = regSorted.copy(deep=True)"
   ]
  },
  {
   "cell_type": "markdown",
   "metadata": {},
   "source": [
    "setup the places to store the output"
   ]
  },
  {
   "cell_type": "code",
   "execution_count": 40,
   "metadata": {
    "collapsed": false
   },
   "outputs": [
    {
     "data": {
      "text/plain": [
       "['Tuesday 4PM',\n",
       " 'Monday 4PM',\n",
       " 'Wednesday 4PM',\n",
       " 'Monday Night',\n",
       " 'Sunday Night',\n",
       " 'Thursday 4PM']"
      ]
     },
     "execution_count": 40,
     "metadata": {},
     "output_type": "execute_result"
    }
   ],
   "source": [
    "random.seed(SEED)\n",
    "randLeagues = list(openLeagues) #make a copy of the list\n",
    "random.shuffle(randLeagues) #does this in place, so don't make a new variable\n",
    "randLeagues"
   ]
  },
  {
   "cell_type": "code",
   "execution_count": 41,
   "metadata": {
    "collapsed": true
   },
   "outputs": [],
   "source": [
    "#might not want to randomize the leagues...changes outcome depending on how people prioritize"
   ]
  },
  {
   "cell_type": "code",
   "execution_count": 42,
   "metadata": {
    "collapsed": false
   },
   "outputs": [
    {
     "data": {
      "text/plain": [
       "{'Monday 4PM': 5,\n",
       " 'Monday Night': 15,\n",
       " 'Sunday Night': 12,\n",
       " 'Thursday 4PM': 15,\n",
       " 'Tuesday 4PM': 7,\n",
       " 'Wednesday 4PM': 7}"
      ]
     },
     "execution_count": 42,
     "metadata": {},
     "output_type": "execute_result"
    }
   ],
   "source": [
    "#want a way to quantify the most popular leagues...go back to regInfo\n",
    "countFirst = {}\n",
    "for name in openLeagues:\n",
    "    #countFirst[name] = pd.DataFrame()\n",
    "    countFirst[name] = len(regInfo.loc[regInfo[name]==1])\n",
    "\n",
    "countFirst\n",
    "\n",
    "#based on this...and the multiple runs, maybe should start with the least popular leagues in order\n",
    "#to get the most people into their first choice\n",
    "#though if we run Thursday 4 pm, Sunday, and Mondy 4 pm, have 1 person who doesn't even get 3rd choice"
   ]
  },
  {
   "cell_type": "code",
   "execution_count": 43,
   "metadata": {
    "collapsed": false
   },
   "outputs": [],
   "source": [
    "#setup the dictionary to hold the people information (start with openLeagues only)\n",
    "forDictionary = openLeagues\n",
    "#forDictionary.extend(otherLeagues)\n",
    "leagueDict_open = {}\n",
    "for name in forDictionary:\n",
    "    leagueDict_open[name] = pd.DataFrame()"
   ]
  },
  {
   "cell_type": "code",
   "execution_count": 44,
   "metadata": {
    "collapsed": false
   },
   "outputs": [
    {
     "data": {
      "text/html": [
       "<div>\n",
       "<table border=\"1\" class=\"dataframe\">\n",
       "  <thead>\n",
       "    <tr style=\"text-align: right;\">\n",
       "      <th></th>\n",
       "      <th>firstname</th>\n",
       "      <th>lastname</th>\n",
       "      <th>email</th>\n",
       "      <th>League_Number_Open</th>\n",
       "      <th>League_4_Men</th>\n",
       "      <th>League_7_Ladies</th>\n",
       "      <th>League_Scrod</th>\n",
       "      <th>Sunday Night</th>\n",
       "      <th>Monday 4PM</th>\n",
       "      <th>Monday Night</th>\n",
       "      <th>Tuesday 4PM</th>\n",
       "      <th>Wednesday 4PM</th>\n",
       "      <th>Thursday 4PM</th>\n",
       "    </tr>\n",
       "    <tr>\n",
       "      <th>randomNumCol</th>\n",
       "      <th></th>\n",
       "      <th></th>\n",
       "      <th></th>\n",
       "      <th></th>\n",
       "      <th></th>\n",
       "      <th></th>\n",
       "      <th></th>\n",
       "      <th></th>\n",
       "      <th></th>\n",
       "      <th></th>\n",
       "      <th></th>\n",
       "      <th></th>\n",
       "      <th></th>\n",
       "    </tr>\n",
       "  </thead>\n",
       "  <tbody>\n",
       "    <tr>\n",
       "      <th>0</th>\n",
       "      <td>Mary</td>\n",
       "      <td>Kavanagh</td>\n",
       "      <td>M84PAT@aol.com</td>\n",
       "      <td>2</td>\n",
       "      <td>No</td>\n",
       "      <td>No</td>\n",
       "      <td>No</td>\n",
       "      <td>1.0</td>\n",
       "      <td>NaN</td>\n",
       "      <td>NaN</td>\n",
       "      <td>4.0</td>\n",
       "      <td>2.0</td>\n",
       "      <td>3.0</td>\n",
       "    </tr>\n",
       "    <tr>\n",
       "      <th>1</th>\n",
       "      <td>Joseph</td>\n",
       "      <td>Tamucci</td>\n",
       "      <td>jtamucci@comcast.net</td>\n",
       "      <td>3</td>\n",
       "      <td>Yes</td>\n",
       "      <td>No</td>\n",
       "      <td>No</td>\n",
       "      <td>NaN</td>\n",
       "      <td>2.0</td>\n",
       "      <td>NaN</td>\n",
       "      <td>4.0</td>\n",
       "      <td>3.0</td>\n",
       "      <td>1.0</td>\n",
       "    </tr>\n",
       "  </tbody>\n",
       "</table>\n",
       "</div>"
      ],
      "text/plain": [
       "             firstname  lastname                 email League_Number_Open  \\\n",
       "randomNumCol                                                                \n",
       "0                 Mary  Kavanagh        M84PAT@aol.com                  2   \n",
       "1               Joseph   Tamucci  jtamucci@comcast.net                  3   \n",
       "\n",
       "             League_4_Men League_7_Ladies League_Scrod  Sunday Night  \\\n",
       "randomNumCol                                                           \n",
       "0                      No              No           No           1.0   \n",
       "1                     Yes              No           No           NaN   \n",
       "\n",
       "              Monday 4PM  Monday Night  Tuesday 4PM  Wednesday 4PM  \\\n",
       "randomNumCol                                                         \n",
       "0                    NaN           NaN          4.0            2.0   \n",
       "1                    2.0           NaN          4.0            3.0   \n",
       "\n",
       "              Thursday 4PM  \n",
       "randomNumCol                \n",
       "0                      3.0  \n",
       "1                      1.0  "
      ]
     },
     "execution_count": 44,
     "metadata": {},
     "output_type": "execute_result"
    }
   ],
   "source": [
    "regSorted.head(2)"
   ]
  },
  {
   "cell_type": "code",
   "execution_count": 45,
   "metadata": {
    "collapsed": false
   },
   "outputs": [],
   "source": [
    "if False:\n",
    "    #put the league managers into their league and set their the choice for that league to NaN\n",
    "    manager = 'Sunday Night'\n",
    "    r = regSorted.loc[(regSorted['lastname']=='Fragaszy') & (regSorted['firstname']=='Bill')]\n",
    "    leagueDict_open = addManager(leagueDict_open,r,manager)\n",
    "\n",
    "    manager = 'Monday 4PM'\n",
    "    r = regSorted.loc[(regSorted['lastname']=='Brown') & (regSorted['firstname']=='Peter')]\n",
    "    leagueDict_open = addManager(leagueDict_open,r,manager)\n",
    "\n",
    "    manager = 'Monday Night'\n",
    "    r = regSorted.loc[(regSorted['lastname']=='DiMassa') & (regSorted['firstname']=='Diane')]\n",
    "    leagueDict_open = addManager(leagueDict_open,r,manager)\n",
    "\n",
    "    manager = 'Tuesday 4PM'\n",
    "    r = regSorted.loc[(regSorted['lastname']=='Thomson') & (regSorted['firstname']=='Kenny')]\n",
    "    leagueDict_open = addManager(leagueDict_open,r,manager)\n",
    "\n",
    "    manager = 'Wednesday 4PM'\n",
    "    r = regSorted.loc[(regSorted['lastname']=='Murphy') & (regSorted['firstname']=='Katie')]\n",
    "    leagueDict_open = addManager(leagueDict_open,r,manager)\n",
    "\n",
    "    manager = 'Thursday 4PM'\n",
    "    r = regSorted.loc[(regSorted['lastname']=='Gallagher') & (regSorted['firstname']=='Bill')]\n",
    "    leagueDict_open = addManager(leagueDict_open,r,manager)"
   ]
  },
  {
   "cell_type": "code",
   "execution_count": 46,
   "metadata": {
    "collapsed": false
   },
   "outputs": [],
   "source": [
    "#set the limit for each league:\n",
    "sevenTeams = 20 #change to 28 (remember league manager already in here)\n",
    "fourteenTeams = 50\n",
    "\n",
    "d = {'Sunday Night': sevenTeams,\n",
    "     'Monday 4PM': sevenTeams,\n",
    "     'Monday Night': fourteenTeams,\n",
    "     'Tuesday 4PM': sevenTeams,\n",
    "     'Wednesday 4PM': sevenTeams,\n",
    "     'Thursday 4PM': sevenTeams,}\n",
    "\n",
    "nLimit = pd.DataFrame({'nLimit' : d})\n",
    "del d"
   ]
  },
  {
   "cell_type": "code",
   "execution_count": 47,
   "metadata": {
    "collapsed": false
   },
   "outputs": [],
   "source": [
    "issueNames = ['notInFirst','notInSecond','notInThird','notInFourth','notInFifth','noSecondChoice','noThirdChoice']\n",
    "\n",
    "#setup the dictionary to hold the issues\n",
    "trackIssues = {}\n",
    "for name in issueNames:\n",
    "    trackIssues[name] = pd.DataFrame()"
   ]
  },
  {
   "cell_type": "code",
   "execution_count": 48,
   "metadata": {
    "collapsed": false
   },
   "outputs": [
    {
     "data": {
      "text/plain": [
       "{'noSecondChoice': Empty DataFrame\n",
       " Columns: []\n",
       " Index: [], 'noThirdChoice': Empty DataFrame\n",
       " Columns: []\n",
       " Index: [], 'notInFifth': Empty DataFrame\n",
       " Columns: []\n",
       " Index: [], 'notInFirst': Empty DataFrame\n",
       " Columns: []\n",
       " Index: [], 'notInFourth': Empty DataFrame\n",
       " Columns: []\n",
       " Index: [], 'notInSecond': Empty DataFrame\n",
       " Columns: []\n",
       " Index: [], 'notInThird': Empty DataFrame\n",
       " Columns: []\n",
       " Index: []}"
      ]
     },
     "execution_count": 48,
     "metadata": {},
     "output_type": "execute_result"
    }
   ],
   "source": [
    "trackIssues"
   ]
  },
  {
   "cell_type": "code",
   "execution_count": null,
   "metadata": {
    "collapsed": true
   },
   "outputs": [],
   "source": []
  },
  {
   "cell_type": "code",
   "execution_count": 49,
   "metadata": {
    "collapsed": true
   },
   "outputs": [],
   "source": [
    "pd.options.mode.chained_assignment = None  # default='warn'"
   ]
  },
  {
   "cell_type": "code",
   "execution_count": 50,
   "metadata": {
    "collapsed": false
   },
   "outputs": [],
   "source": [
    "for oneLeague in randLeagues:    \n",
    "    #how many spaces are left in this league?\n",
    "    nRemaining = nLimit.loc[oneLeague][0] - len(leagueDict_open[oneLeague])\n",
    "    if nRemaining > 0:      \n",
    "        #find list of people interested in that league\n",
    "        subset = regSorted.loc[regSorted[oneLeague]==1]\n",
    "        subset.reset_index(inplace = True)\n",
    "        nPeople = len(subset.index)\n",
    "        subset.loc[:,('subsetRandomNumCol')] = np.random.choice(range(nPeople),nPeople, replace = False)\n",
    "\n",
    "        for idx in range(0,nPeople): #remember nPeople in this version is only subset for a league\n",
    "            oneName = subset.loc[idx,['lastname', 'firstname']] \n",
    "            oneName = oneName.to_frame().transpose() #need this format to make nice output\n",
    "\n",
    "            #does this person want another league?\n",
    "            rt = regTracking.loc[idx,openLeagues]\n",
    "            cHave = len(rt[rt=='yes'])\n",
    "            del rt\n",
    "            \n",
    "            if cHave < regTracking.loc[idx,'League_Number_Open']: #person wants more \n",
    "                if subset.loc[idx,'subsetRandomNumCol'] < (nRemaining): #random # < number of places remaining\n",
    "                    leagueDict_open = addOne(leagueDict_open,oneLeague,oneName)  \n",
    "                    $$$ERROR is HERE (should not be idx...)\n",
    "                    regSorted.loc[idx,oneLeague] = np.nan\n",
    "                    regTracking.loc[idx,oneLeague] = 'yes'\n",
    "\n",
    "                else:\n",
    "                    #no space in first choice league:\n",
    "                    trackIssues = addOne(trackIssues,'notInFirst',oneName)\n",
    "                    #set their first choice to 'no' and move onto second choices\n",
    "                    newI = subset.loc[idx,'randomNumCol'] ###remember: this is the index into regSorted and regTracking\n",
    "                    regTracking.loc[newI,oneLeague] = 'no'\n",
    "                    regSorted.loc[newI,oneLeague] = np.nan\n",
    "\n",
    "                    #use the idx into subset to go back into regTracking\n",
    "                    newPriority = regSorted.loc[newI,openLeagues].dropna().min()\n",
    "\n",
    "                    if math.isnan(newPriority) == False: #have another league listed\n",
    "                        league2 = regSorted.loc[newI,openLeagues].dropna().idxmin() #returns name of league\n",
    "                        #first need to check if the league has space\n",
    "                        if len(leagueDict_open[league2]) < (nLimit.loc[league2,'nLimit']):\n",
    "                            leagueDict_open = addOne(leagueDict_open,league2,oneName)\n",
    "                            regTracking.loc[newI,league2] = 'yes'\n",
    "                            regSorted.loc[newI,league2] = np.nan\n",
    "                        else:\n",
    "                            #no space in second choice league\n",
    "                            trackIssues = addOne(trackIssues,'notInSecond',oneName)\n",
    "                            #set their first choice to 'no' and move onto second choices\n",
    "                            regTracking.loc[newI,league2] = 'no' \n",
    "                            regSorted.loc[newI,league2] = np.nan\n",
    "\n",
    "                            #use the idx into subset to go back into regTracking\n",
    "                            priority3 = regSorted.loc[newI,openLeagues].dropna().min()\n",
    "\n",
    "                            if math.isnan(priority3) == False: #have another league listed\n",
    "                                league3 = regSorted.loc[newI,openLeagues].dropna().idxmin() #returns name of league\n",
    "                                #first need to check if the league has space\n",
    "                                if len(leagueDict_open[league3]) < (nLimit.loc[league3,'nLimit']):\n",
    "                                    leagueDict_open = addOne(leagueDict_open,league3,oneName)\n",
    "                                    regTracking.loc[newI,league3] = 'yes'\n",
    "                                    regSorted.loc[newI,league3] = np.nan\n",
    "                                else:\n",
    "                                    print oneName.values.ravel()[1],oneName.values.ravel()[0],': no space in third choice league'\n",
    "                                    trackIssues = addOne(trackIssues,'notInThird',oneName)\n",
    "                                    regTracking.loc[newI,league3] = 'no'\n",
    "                            else: \n",
    "                                #no other league listed\n",
    "                                trackIssues = addOne(trackIssues,'noThirdChoice',oneName)\n",
    "                    elif math.isnan(newPriority):\n",
    "                        #print oneName.values.ravel()[1],oneName.values.ravel()[0], ': did not list a second league'\n",
    "                        trackIssues = addOne(trackIssues,'noSecondChoice',oneName)\n",
    "        del subset\n",
    "    elif nRemaining == 0:\n",
    "        print oneLeague, 'no more space in league'"
   ]
  },
  {
   "cell_type": "code",
   "execution_count": 51,
   "metadata": {
    "collapsed": true
   },
   "outputs": [],
   "source": [
    "#go through ...this time start with second choices\n",
    "#SOMETHING NOT RIGHT...looking for more choices when people should be done..."
   ]
  },
  {
   "cell_type": "code",
   "execution_count": 52,
   "metadata": {
    "collapsed": false
   },
   "outputs": [],
   "source": [
    "for oneLeague in randLeagues:    \n",
    "    #how many spaces are left in this league?\n",
    "    nRemaining = nLimit.loc[oneLeague][0] - len(leagueDict_open[oneLeague])\n",
    "    if nRemaining > 0:      \n",
    "        #find list of people interested in that league\n",
    "        subset = regSorted.loc[regSorted[oneLeague]==2]\n",
    "        #only move on if people have actually ranked this league as their second choice...\n",
    "        #Tracer()()\n",
    "        if len(subset) > 0:           \n",
    "            subset.reset_index(inplace = True)\n",
    "            nPeople = len(subset.index)\n",
    "            #Tracer()()\n",
    "            subset.loc[:,('subsetRandomNumCol')] = np.random.choice(range(nPeople),nPeople, replace = False)\n",
    "\n",
    "            for idx in range(0,nPeople): #remember nPeople in this version is only subset for a league\n",
    "                oneName = subset.loc[idx,['lastname', 'firstname']] \n",
    "                oneName = oneName.to_frame().transpose() #need this format to make nice output\n",
    "\n",
    "                #does this person want another league?\n",
    "                rt = regTracking.loc[idx,openLeagues]\n",
    "                cHave = len(rt[rt=='yes'])\n",
    "                del rt\n",
    "\n",
    "                if cHave < regTracking.loc[idx,'League_Number_Open']: #person wants more \n",
    "                    if subset.loc[idx,'subsetRandomNumCol'] < (nRemaining): #random # < number of places remaining\n",
    "                        leagueDict_open = addOne(leagueDict_open,oneLeague,oneName)                \n",
    "                        regSorted.loc[idx,oneLeague] = np.nan\n",
    "                        regTracking.loc[idx,oneLeague] = 'yes'\n",
    "\n",
    "                    else:\n",
    "                        #no space in first choice league:\n",
    "                        trackIssues = addOne(trackIssues,'notInSecond',oneName)\n",
    "                        #set their first choice to 'no' and move onto second choices\n",
    "                        newI = subset.loc[idx,'randomNumCol'] ###remember: this is the index into regSorted and regTracking\n",
    "                        regTracking.loc[newI,oneLeague] = 'no'\n",
    "                        regSorted.loc[newI,oneLeague] = np.nan\n",
    "\n",
    "                        #use the idx into subset to go back into regTracking\n",
    "                        newPriority = regSorted.loc[newI,openLeagues].dropna().min()\n",
    "\n",
    "                        if math.isnan(newPriority) == False: #have another league listed\n",
    "                            league2 = regSorted.loc[newI,openLeagues].dropna().idxmin() #returns name of league\n",
    "                            #first need to check if the league has space\n",
    "                            if len(leagueDict_open[league2]) < (nLimit.loc[league2,'nLimit']):\n",
    "                                leagueDict_open = addOne(leagueDict_open,league2,oneName)\n",
    "                                regTracking.loc[newI,league2] = 'yes'\n",
    "                                regSorted.loc[newI,league2] = np.nan\n",
    "                            else:\n",
    "                                #no space in second choice league\n",
    "                                trackIssues = addOne(trackIssues,'notInThird',oneName)\n",
    "                                #set their first choice to 'no' and move onto second choices\n",
    "                                regTracking.loc[newI,league2] = 'no' \n",
    "                                regSorted.loc[newI,league2] = np.nan\n",
    "\n",
    "                                #use the idx into subset to go back into regTracking\n",
    "                                priority3 = regSorted.loc[newI,openLeagues].dropna().min()\n",
    "\n",
    "                                if math.isnan(priority3) == False: #have another league listed\n",
    "                                    league3 = regSorted.loc[newI,openLeagues].dropna().idxmin() #returns name of league\n",
    "                                    #first need to check if the league has space\n",
    "                                    if len(leagueDict_open[league3]) < (nLimit.loc[league3,'nLimit']):\n",
    "                                        leagueDict_open = addOne(leagueDict_open,league3,oneName)\n",
    "                                        regTracking.loc[newI,league3] = 'yes'\n",
    "                                        regSorted.loc[newI,league3] = np.nan\n",
    "                                    else:\n",
    "                                        print oneName.values.ravel()[1],oneName.values.ravel()[0],': no space in fourth choice league'\n",
    "                                        trackIssues = addOne(trackIssues,'notInFourth',oneName)\n",
    "                                        regTracking.loc[newI,league3] = 'no'\n",
    "                                else: \n",
    "                                    #no other league listed\n",
    "                                    trackIssues = addOne(trackIssues,'noFourthChoice',oneName)\n",
    "                        elif math.isnan(newPriority):\n",
    "                            #print oneName.values.ravel()[1],oneName.values.ravel()[0], ': did not list a second league'\n",
    "                            trackIssues = addOne(trackIssues,'noThirdChoice',oneName)\n",
    "            del subset\n",
    "        elif nRemaining == 0:\n",
    "            print oneLeague, 'no more space in league'"
   ]
  },
  {
   "cell_type": "code",
   "execution_count": 53,
   "metadata": {
    "collapsed": false
   },
   "outputs": [
    {
     "name": "stdout",
     "output_type": "stream",
     "text": [
      "Anne Perella : no space in fifth choice league\n"
     ]
    }
   ],
   "source": [
    "for oneLeague in randLeagues:    \n",
    "    nRemaining = nLimit.loc[oneLeague][0] - len(leagueDict_open[oneLeague])\n",
    "    if nRemaining > 0:      \n",
    "        subset = regSorted.loc[regSorted[oneLeague]==3]\n",
    "        #only move on if people have actually ranked this league as their second choice...\n",
    "        #Tracer()()\n",
    "        if len(subset) > 0:           \n",
    "            subset.reset_index(inplace = True)\n",
    "            nPeople = len(subset.index)\n",
    "            subset.loc[:,('subsetRandomNumCol')] = np.random.choice(range(nPeople),nPeople, replace = False)\n",
    "\n",
    "            for idx in range(0,nPeople): #remember nPeople in this version is only subset for a league\n",
    "                oneName = subset.loc[idx,['lastname', 'firstname']] \n",
    "                oneName = oneName.to_frame().transpose() #need this format to make nice output\n",
    "\n",
    "                #does this person want another league?\n",
    "                rt = regTracking.loc[idx,openLeagues]\n",
    "                cHave = len(rt[rt=='yes'])\n",
    "                del rt\n",
    "\n",
    "                if cHave < regTracking.loc[idx,'League_Number_Open']: #person wants more \n",
    "                    if subset.loc[idx,'subsetRandomNumCol'] < (nRemaining): #random # < number of places remaining\n",
    "                        leagueDict_open = addOne(leagueDict_open,oneLeague,oneName)                \n",
    "                        regSorted.loc[idx,oneLeague] = np.nan\n",
    "                        regTracking.loc[idx,oneLeague] = 'yes'\n",
    "\n",
    "                    else:\n",
    "                        #no space in first choice league:\n",
    "                        trackIssues = addOne(trackIssues,'notInThird',oneName)\n",
    "                        #set their first choice to 'no' and move onto second choices\n",
    "                        newI = subset.loc[idx,'randomNumCol'] ###remember: this is the index into regSorted and regTracking\n",
    "                        regTracking.loc[newI,oneLeague] = 'no'\n",
    "                        regSorted.loc[newI,oneLeague] = np.nan\n",
    "\n",
    "                        #use the idx into subset to go back into regTracking\n",
    "                        newPriority = regSorted.loc[newI,openLeagues].dropna().min()\n",
    "\n",
    "                        if math.isnan(newPriority) == False: #have another league listed\n",
    "                            league2 = regSorted.loc[newI,openLeagues].dropna().idxmin() #returns name of league\n",
    "                            #first need to check if the league has space\n",
    "                            if len(leagueDict_open[league2]) < (nLimit.loc[league2,'nLimit']):\n",
    "                                leagueDict_open = addOne(leagueDict_open,league2,oneName)\n",
    "                                regTracking.loc[newI,league2] = 'yes'\n",
    "                                regSorted.loc[newI,league2] = np.nan\n",
    "                            else:\n",
    "                                #no space in second choice league\n",
    "                                trackIssues = addOne(trackIssues,'notInFourth',oneName)\n",
    "                                #set their first choice to 'no' and move onto second choices\n",
    "                                regTracking.loc[newI,league2] = 'no' \n",
    "                                regSorted.loc[newI,league2] = np.nan\n",
    "\n",
    "                                #use the idx into subset to go back into regTracking\n",
    "                                priority3 = regSorted.loc[newI,openLeagues].dropna().min()\n",
    "\n",
    "                                if math.isnan(priority3) == False: #have another league listed\n",
    "                                    league3 = regSorted.loc[newI,openLeagues].dropna().idxmin() #returns name of league\n",
    "                                    #first need to check if the league has space\n",
    "                                    if len(leagueDict_open[league3]) < (nLimit.loc[league3,'nLimit']):\n",
    "                                        leagueDict_open = addOne(leagueDict_open,league3,oneName)\n",
    "                                        regTracking.loc[newI,league3] = 'yes'\n",
    "                                        regSorted.loc[newI,league3] = np.nan\n",
    "                                    else:\n",
    "                                        print oneName.values.ravel()[1],oneName.values.ravel()[0],': no space in fifth choice league'\n",
    "                                        trackIssues = addOne(trackIssues,'notInFifth',oneName)\n",
    "                                        regTracking.loc[newI,league3] = 'no'\n",
    "                                else: \n",
    "                                    #no other league listed\n",
    "                                    trackIssues = addOne(trackIssues,'noFifthChoice',oneName)\n",
    "                        elif math.isnan(newPriority):\n",
    "                            #print oneName.values.ravel()[1],oneName.values.ravel()[0], ': did not list a second league'\n",
    "                            trackIssues = addOne(trackIssues,'noFourthChoice',oneName)\n",
    "            del subset\n",
    "        elif nRemaining == 0:\n",
    "            print oneLeague, 'no more space in league'"
   ]
  },
  {
   "cell_type": "code",
   "execution_count": 54,
   "metadata": {
    "collapsed": true
   },
   "outputs": [],
   "source": [
    "#only need to run one more time if have people who want to curl in 4 open leagues"
   ]
  },
  {
   "cell_type": "code",
   "execution_count": 55,
   "metadata": {
    "collapsed": true
   },
   "outputs": [],
   "source": [
    "#make a new dictionary for other leagues...concat with openLeagues when done\n",
    "# do doubles and competitive league by hand...\n",
    "otherLeagues = ['League_4_Men', 'League_7_Ladies' ,'League_Scrod']\n",
    "\n",
    "leagueDict_other = {}\n",
    "for name in otherLeagues:\n",
    "    leagueDict_other[name] = pd.DataFrame()"
   ]
  },
  {
   "cell_type": "code",
   "execution_count": 56,
   "metadata": {
    "collapsed": false
   },
   "outputs": [],
   "source": [
    "if False:\n",
    "    #put league managers in for other\n",
    "    manager = 'League_4_Men'\n",
    "    r = regSorted.loc[(regSorted['lastname']=='Pijanowski') & (regSorted['firstname']=='Brian')]\n",
    "    leagueDict_other = addManager(leagueDict_other,r,manager)\n",
    "\n",
    "    manager = 'League_7_Ladies'\n",
    "    r = regSorted.loc[(regSorted['lastname']=='Galligan') & (regSorted['firstname']=='Natalie')]\n",
    "    leagueDict_other = addManager(leagueDict_other,r,manager)\n",
    "\n",
    "    manager = 'League_Scrod'\n",
    "    r = regSorted.loc[(regSorted['lastname']=='Pilotte') & (regSorted['firstname']=='Courtney Lee')]\n",
    "    leagueDict_other = addManager(leagueDict_other,r,manager)"
   ]
  },
  {
   "cell_type": "code",
   "execution_count": 57,
   "metadata": {
    "collapsed": false
   },
   "outputs": [],
   "source": [
    "#only have to go through once\n",
    "for idx in range(0,nPeople):\n",
    "    for oL in otherLeagues:    \n",
    "        oneName = regSorted.loc[idx,['lastname', 'firstname']] \n",
    "        oneName = oneName.to_frame().transpose() #need this format to make nice output\n",
    "        if regSorted.loc[idx,oL]=='Yes': #careful with trailing spaces\n",
    "            leagueDict_other = addOne(leagueDict_other,oL,oneName)\n",
    "            #now that I have added the person to a league, change their priority to NaN\n",
    "            regTracking.loc[idx,oL] = 'yes'\n",
    "            regSorted.loc[idx,oL] = np.nan"
   ]
  },
  {
   "cell_type": "code",
   "execution_count": 58,
   "metadata": {
    "collapsed": false
   },
   "outputs": [],
   "source": [
    "#combine the two dictionaries\n",
    "leagueDict_all = leagueDict_open.copy()\n",
    "leagueDict_all.update(leagueDict_other)\n",
    "\n",
    "#combine the list of names\n",
    "allLeagues = list(openLeagues)\n",
    "allLeagues.extend(otherLeagues)"
   ]
  },
  {
   "cell_type": "code",
   "execution_count": 59,
   "metadata": {
    "collapsed": false
   },
   "outputs": [],
   "source": [
    "#export the results to a series of CSV files (CAREFUL...will delete existing files)\n",
    "for fn in allLeagues:\n",
    "    fName = '%s.csv' % fn\n",
    "    #check if the file exists...delete if it does\n",
    "    if os.path.isfile(fName):\n",
    "        os.remove(fName)\n",
    "        \n",
    "    leagueDict_all[fn].to_csv(fName)"
   ]
  },
  {
   "cell_type": "code",
   "execution_count": 60,
   "metadata": {
    "collapsed": false
   },
   "outputs": [
    {
     "name": "stdout",
     "output_type": "stream",
     "text": [
      "notInFirst :  0  people in this category\n",
      "notInSecond :  2  people in this category\n",
      "notInThird :  5  people in this category\n",
      "notInFourth :  3  people in this category\n",
      "notInFifth :  1  people in this category\n",
      "noSecondChoice :  0  people in this category\n",
      "noThirdChoice :  0  people in this category\n"
     ]
    },
    {
     "data": {
      "text/plain": [
       "['Tuesday 4PM',\n",
       " 'Monday 4PM',\n",
       " 'Wednesday 4PM',\n",
       " 'Monday Night',\n",
       " 'Sunday Night',\n",
       " 'Thursday 4PM']"
      ]
     },
     "execution_count": 60,
     "metadata": {},
     "output_type": "execute_result"
    }
   ],
   "source": [
    "for problem in issueNames:\n",
    "    print problem, ': ', len(trackIssues[problem]), ' people in this category'\n",
    "    \n",
    "randLeagues"
   ]
  },
  {
   "cell_type": "code",
   "execution_count": null,
   "metadata": {
    "collapsed": false
   },
   "outputs": [],
   "source": []
  },
  {
   "cell_type": "code",
   "execution_count": 272,
   "metadata": {
    "collapsed": true
   },
   "outputs": [],
   "source": [
    "regTracking.to_csv('testing.csv')"
   ]
  },
  {
   "cell_type": "code",
   "execution_count": 273,
   "metadata": {
    "collapsed": true
   },
   "outputs": [],
   "source": [
    "regSorted.to_csv('testing2.csv')"
   ]
  },
  {
   "cell_type": "code",
   "execution_count": 274,
   "metadata": {
    "collapsed": true
   },
   "outputs": [],
   "source": [
    "regInfo.to_csv('testing3.csv')"
   ]
  },
  {
   "cell_type": "code",
   "execution_count": null,
   "metadata": {
    "collapsed": true
   },
   "outputs": [],
   "source": []
  },
  {
   "cell_type": "code",
   "execution_count": null,
   "metadata": {
    "collapsed": true
   },
   "outputs": [],
   "source": []
  },
  {
   "cell_type": "code",
   "execution_count": null,
   "metadata": {
    "collapsed": true
   },
   "outputs": [],
   "source": []
  },
  {
   "cell_type": "code",
   "execution_count": null,
   "metadata": {
    "collapsed": true
   },
   "outputs": [],
   "source": [
    "#ran multiple times...order the leagues are randomized will change the output"
   ]
  },
  {
   "cell_type": "code",
   "execution_count": null,
   "metadata": {
    "collapsed": false
   },
   "outputs": [],
   "source": [
    "for problem in issueNames:\n",
    "    print problem, ': ', len(trackIssues[problem]), ' people in this category'\n",
    "    \n",
    "randLeagues"
   ]
  },
  {
   "cell_type": "code",
   "execution_count": null,
   "metadata": {
    "collapsed": false
   },
   "outputs": [],
   "source": [
    "for problem in issueNames:\n",
    "    print problem, ': ', len(trackIssues[problem]), ' people in this category'\n",
    "    \n",
    "randLeagues"
   ]
  },
  {
   "cell_type": "code",
   "execution_count": null,
   "metadata": {
    "collapsed": false
   },
   "outputs": [],
   "source": [
    "for problem in issueNames:\n",
    "    print problem, ': ', len(trackIssues[problem]), ' people in this category'\n",
    "    \n",
    "randLeagues"
   ]
  },
  {
   "cell_type": "code",
   "execution_count": null,
   "metadata": {
    "collapsed": false
   },
   "outputs": [],
   "source": [
    "for problem in issueNames:\n",
    "    print problem, ': ', len(trackIssues[problem]), ' people in this category'\n",
    "\n",
    "randLeagues"
   ]
  },
  {
   "cell_type": "code",
   "execution_count": null,
   "metadata": {
    "collapsed": true
   },
   "outputs": [],
   "source": []
  },
  {
   "cell_type": "code",
   "execution_count": null,
   "metadata": {
    "collapsed": true
   },
   "outputs": [],
   "source": []
  }
 ],
 "metadata": {
  "kernelspec": {
   "display_name": "Python 2",
   "language": "python",
   "name": "python2"
  },
  "language_info": {
   "codemirror_mode": {
    "name": "ipython",
    "version": 2
   },
   "file_extension": ".py",
   "mimetype": "text/x-python",
   "name": "python",
   "nbconvert_exporter": "python",
   "pygments_lexer": "ipython2",
   "version": "2.7.12"
  }
 },
 "nbformat": 4,
 "nbformat_minor": 1
}
