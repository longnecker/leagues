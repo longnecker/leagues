{
 "cells": [
  {
   "cell_type": "markdown",
   "metadata": {},
   "source": [
    "Sort people into leagues for curling\n",
    "KL 8/30/2016"
   ]
  },
  {
   "cell_type": "markdown",
   "metadata": {},
   "source": [
    "#This version starts with a random league and puts a random subset of people into each league;\n",
    "updated to use new website export format"
   ]
  },
  {
   "cell_type": "markdown",
   "metadata": {},
   "source": [
    "#REMEMBER: this will skip league managers for the moment"
   ]
  },
  {
   "cell_type": "code",
   "execution_count": 5,
   "metadata": {
    "collapsed": false
   },
   "outputs": [
    {
     "name": "stdout",
     "output_type": "stream",
     "text": [
      "Once deleted, variables cannot be recovered. Proceed (y/[n])? y\n"
     ]
    }
   ],
   "source": [
    "if True:\n",
    "    %reset"
   ]
  },
  {
   "cell_type": "code",
   "execution_count": 6,
   "metadata": {
    "collapsed": true
   },
   "outputs": [],
   "source": [
    "setSeed = False"
   ]
  },
  {
   "cell_type": "code",
   "execution_count": 7,
   "metadata": {
    "collapsed": true
   },
   "outputs": [],
   "source": [
    "#set the random seed...if a number...will be able to recreate the random numbers\n",
    "if setSeed == True:\n",
    "    SEED = 42\n",
    "elif setSeed == False:\n",
    "    SEED = None"
   ]
  },
  {
   "cell_type": "code",
   "execution_count": 8,
   "metadata": {
    "collapsed": true
   },
   "outputs": [],
   "source": [
    "import pandas as pd\n",
    "import numpy as np\n",
    "import random\n",
    "import math\n",
    "import csv\n",
    "import os.path\n",
    "\n",
    "#used this to step into the function and debug it, also need line with Tracer()() \n",
    "from IPython.core.debugger import Tracer "
   ]
  },
  {
   "cell_type": "markdown",
   "metadata": {},
   "source": [
    "Define some functions up top"
   ]
  },
  {
   "cell_type": "code",
   "execution_count": 9,
   "metadata": {
    "collapsed": false
   },
   "outputs": [],
   "source": [
    "def addOne(leagueDict,oneLeague,oneName):\n",
    "    if len(leagueDict[oneLeague])==0: #nothing there yet\n",
    "        leagueDict[oneLeague] = oneName\n",
    "    else:     #need to append\n",
    "        leagueDict[oneLeague] = leagueDict[oneLeague].append(oneName)\n",
    "    return leagueDict"
   ]
  },
  {
   "cell_type": "code",
   "execution_count": 10,
   "metadata": {
    "collapsed": true
   },
   "outputs": [],
   "source": [
    "def addManager(leagueDictionary,r,manager): #here r is the index in...\n",
    "    useRow = r.index[0]\n",
    "    oneName = regSorted.loc[useRow,['lastname', 'firstname']] \n",
    "    oneName = oneName.to_frame().transpose() #need this format to make nice output\n",
    "    leagueDictionary[manager] = oneName\n",
    "    regSorted.loc[useRow,manager]=np.nan\n",
    "    regTracking.loc[useRow,manager]='yes'\n",
    "    return leagueDictionary"
   ]
  },
  {
   "cell_type": "markdown",
   "metadata": {},
   "source": [
    "Read in the data"
   ]
  },
  {
   "cell_type": "code",
   "execution_count": 11,
   "metadata": {
    "collapsed": false
   },
   "outputs": [],
   "source": [
    "#updated 8/30/2016 to use file from website\n",
    "fName = 'BackupList_Registrations.csv' \n",
    "importInfo=pd.read_csv(fName)"
   ]
  },
  {
   "cell_type": "code",
   "execution_count": 12,
   "metadata": {
    "collapsed": true
   },
   "outputs": [],
   "source": [
    "#shuffle the information from the website site to match the format in the rest of this file\n",
    "openLeagues = ['Sunday Night', 'Monday 4PM', 'Monday Night',\n",
    "               'Tuesday 4PM','Wednesday 4PM','Thursday 4PM'] #updated to match the priority list\n",
    "otherLeagues = ['League_4_Men', 'League_7_Ladies' ,'League_Scrod']\n",
    "priorities = ['League_Pri_1','League_Pri_2','League_Pri_3','League_Pri_4','League_Pri_5','League_Pri_6']\n",
    "\n",
    "regInfo = importInfo.loc[:,(['firstname','lastname','email','League_Number_Open'] + otherLeagues)]\n",
    "\n",
    "for item in openLeagues:\n",
    "    regInfo[item] = np.nan\n",
    "\n",
    "nPeople = len(regInfo.index)\n",
    "for idx in range(0,nPeople):\n",
    "    for idxP in enumerate(priorities):\n",
    "        #remember: enumerate will allow idxP[0] is the number, while idxP[1] is the value\n",
    "        getOne = importInfo.loc[idx,idxP[1]]\n",
    "        if getOne != 'None':\n",
    "            regInfo.loc[idx,getOne] = idxP[0] + 1  #want 1,2,3 and not python zero index"
   ]
  },
  {
   "cell_type": "code",
   "execution_count": 13,
   "metadata": {
    "collapsed": false
   },
   "outputs": [],
   "source": [
    "#first, how many random numbers so I need?\n",
    "nPeople = len(regInfo.index)\n",
    "np.random.seed(SEED)\n",
    "regInfo['randomNumCol'] = np.random.choice(range(nPeople), nPeople,replace = False)\n",
    "##so now, moving back to the list of people, sort the list by the random number\n",
    "#...still need to randomize people bc might have case where I can't grant first choice\n",
    "regSorted = regInfo.sort_values(by = 'randomNumCol', ascending=True)\n",
    "regSorted = regSorted.set_index(['randomNumCol'])\n",
    "\n",
    "#copy so I can have an output tracking what was done\n",
    "regTracking = regSorted.copy(deep=True)"
   ]
  },
  {
   "cell_type": "markdown",
   "metadata": {},
   "source": [
    "setup the places to store the output"
   ]
  },
  {
   "cell_type": "code",
   "execution_count": 14,
   "metadata": {
    "collapsed": false
   },
   "outputs": [
    {
     "data": {
      "text/plain": [
       "['Thursday 4PM',\n",
       " 'Monday 4PM',\n",
       " 'Monday Night',\n",
       " 'Tuesday 4PM',\n",
       " 'Wednesday 4PM',\n",
       " 'Sunday Night']"
      ]
     },
     "execution_count": 14,
     "metadata": {},
     "output_type": "execute_result"
    }
   ],
   "source": [
    "random.seed(SEED)\n",
    "randLeagues = list(openLeagues) #make a copy of the list\n",
    "random.shuffle(randLeagues) #does this in place, so don't make a new variable\n",
    "randLeagues"
   ]
  },
  {
   "cell_type": "code",
   "execution_count": 15,
   "metadata": {
    "collapsed": true
   },
   "outputs": [],
   "source": [
    "#might not want to randomize the leagues...changes outcome depending on how people prioritize"
   ]
  },
  {
   "cell_type": "code",
   "execution_count": 16,
   "metadata": {
    "collapsed": false
   },
   "outputs": [
    {
     "data": {
      "text/plain": [
       "{'Monday 4PM': 13,\n",
       " 'Monday Night': 21,\n",
       " 'Sunday Night': 20,\n",
       " 'Thursday 4PM': 20,\n",
       " 'Tuesday 4PM': 14,\n",
       " 'Wednesday 4PM': 12}"
      ]
     },
     "execution_count": 16,
     "metadata": {},
     "output_type": "execute_result"
    }
   ],
   "source": [
    "#want a way to quantify the most popular leagues...go back to regInfo\n",
    "countFirst = {}\n",
    "for name in openLeagues:\n",
    "    #countFirst[name] = pd.DataFrame()\n",
    "    countFirst[name] = len(regInfo.loc[regInfo[name]==1])\n",
    "\n",
    "countFirst\n",
    "\n",
    "#based on this...and the multiple runs, maybe should start with the least popular leagues in order\n",
    "#to get the most people into their first choice\n",
    "#though if we run Thursday 4 pm, Sunday, and Mondy 4 pm, have 1 person who doesn't even get 3rd choice"
   ]
  },
  {
   "cell_type": "code",
   "execution_count": 17,
   "metadata": {
    "collapsed": false
   },
   "outputs": [],
   "source": [
    "#setup the dictionary to hold the people information (start with openLeagues only)\n",
    "forDictionary = openLeagues\n",
    "#forDictionary.extend(otherLeagues)\n",
    "leagueDict_open = {}\n",
    "for name in forDictionary:\n",
    "    leagueDict_open[name] = pd.DataFrame()"
   ]
  },
  {
   "cell_type": "code",
   "execution_count": 18,
   "metadata": {
    "collapsed": false
   },
   "outputs": [],
   "source": [
    "if True:\n",
    "    #put the league managers into their league and set their the choice for that league to NaN\n",
    "    manager = 'Sunday Night'\n",
    "    r = regSorted.loc[(regSorted['lastname']=='Fragaszy') & (regSorted['firstname']=='Bill')]\n",
    "    leagueDict_open = addManager(leagueDict_open,r,manager)\n",
    "\n",
    "    manager = 'Monday 4PM'\n",
    "    r = regSorted.loc[(regSorted['lastname']=='Brown') & (regSorted['firstname']=='Peter')]\n",
    "    leagueDict_open = addManager(leagueDict_open,r,manager)\n",
    "\n",
    "    manager = 'Monday Night'\n",
    "    r = regSorted.loc[(regSorted['lastname']=='DiMassa') & (regSorted['firstname']=='Diane')]\n",
    "    leagueDict_open = addManager(leagueDict_open,r,manager)\n",
    "\n",
    "    manager = 'Tuesday 4PM'\n",
    "    r = regSorted.loc[(regSorted['lastname']=='Thomson') & (regSorted['firstname']=='Kenny')]\n",
    "    leagueDict_open = addManager(leagueDict_open,r,manager)\n",
    "\n",
    "    manager = 'Wednesday 4PM'\n",
    "    r = regSorted.loc[(regSorted['lastname']=='Murphy') & (regSorted['firstname']=='Katie')]\n",
    "    leagueDict_open = addManager(leagueDict_open,r,manager)\n",
    "\n",
    "    manager = 'Thursday 4PM'\n",
    "    r = regSorted.loc[(regSorted['lastname']=='Gallagher') & (regSorted['firstname']=='Bill')]\n",
    "    leagueDict_open = addManager(leagueDict_open,r,manager)"
   ]
  },
  {
   "cell_type": "code",
   "execution_count": 19,
   "metadata": {
    "collapsed": false
   },
   "outputs": [],
   "source": [
    "#set the limit for each league:\n",
    "sevenTeams = 20 #change to 28 (remember league manager already in here)\n",
    "fourteenTeams = 20\n",
    "\n",
    "d = {'Sunday Night': sevenTeams,\n",
    "     'Monday 4PM': sevenTeams,\n",
    "     'Monday Night': fourteenTeams,\n",
    "     'Tuesday 4PM': sevenTeams,\n",
    "     'Wednesday 4PM': sevenTeams,\n",
    "     'Thursday 4PM': sevenTeams,}\n",
    "\n",
    "nLimit = pd.DataFrame({'nLimit' : d})\n",
    "del d"
   ]
  },
  {
   "cell_type": "code",
   "execution_count": 20,
   "metadata": {
    "collapsed": true
   },
   "outputs": [],
   "source": [
    "##NEED better names for the issues"
   ]
  },
  {
   "cell_type": "code",
   "execution_count": 21,
   "metadata": {
    "collapsed": false
   },
   "outputs": [],
   "source": [
    "issueNames = ['notInFirst','notInSecond','notInThird','noSecondChoice','noAdditionalChoice',\n",
    "              'notInNext','notInNext2']\n",
    "\n",
    "#setup the dictionary to hold the issues\n",
    "trackIssues = {}\n",
    "for name in issueNames:\n",
    "    trackIssues[name] = pd.DataFrame()"
   ]
  },
  {
   "cell_type": "code",
   "execution_count": 22,
   "metadata": {
    "collapsed": true
   },
   "outputs": [],
   "source": [
    "pd.options.mode.chained_assignment = None  # default='warn'"
   ]
  },
  {
   "cell_type": "code",
   "execution_count": 23,
   "metadata": {
    "collapsed": true
   },
   "outputs": [],
   "source": [
    "#change tacks...go through a league and grant first choices...don't worry about 2nd choices yet"
   ]
  },
  {
   "cell_type": "code",
   "execution_count": 24,
   "metadata": {
    "collapsed": false
   },
   "outputs": [],
   "source": [
    "for oneLeague in randLeagues:\n",
    "    subset = regSorted.loc[regSorted[oneLeague]==1]\n",
    "    subset.reset_index(inplace = True)\n",
    "    nPeople = len(subset.index)\n",
    "    \n",
    "    #what is the limit for this league?\n",
    "    oneLimit = nLimit.loc[oneLeague][0]\n",
    "    \n",
    "    for idx in range(0,nPeople):\n",
    "        getIdx = subset.loc[idx,'randomNumCol']\n",
    "        if idx < oneLimit:           \n",
    "            oneName = subset.loc[idx,['lastname', 'firstname']] \n",
    "            oneName = oneName.to_frame().transpose() #need this format to make nice output \n",
    "            leagueDict_open = addOne(leagueDict_open,oneLeague,oneName)\n",
    "            \n",
    "            regTracking.loc[getIdx,oneLeague] = 'yes'\n",
    "            regSorted.loc[getIdx,oneLeague] = np.nan\n",
    "        elif idx >= oneLimit:\n",
    "            oneName = subset.loc[idx,['lastname', 'firstname']] \n",
    "            oneName = oneName.to_frame().transpose() #need this format to make nice output \n",
    "            trackIssues = addOne(trackIssues, 'notInFirst',oneName)\n",
    "            \n",
    "            regTracking.loc[getIdx,oneLeague] = 'no1'\n",
    "            regSorted.loc[getIdx,oneLeague] = np.nan"
   ]
  },
  {
   "cell_type": "code",
   "execution_count": 25,
   "metadata": {
    "collapsed": false
   },
   "outputs": [
    {
     "name": "stdout",
     "output_type": "stream",
     "text": [
      "Thursday 4PM 0\n",
      "Monday 4PM 7\n",
      "Monday Night -1\n",
      "Tuesday 4PM 6\n",
      "Wednesday 4PM 7\n",
      "Sunday Night 0\n"
     ]
    }
   ],
   "source": [
    "#OK...regTracking now has a 'no' for those people who did not get their first choice...use that to\n",
    "#put those people into their second choice league\n",
    "for oneLeague in randLeagues:    \n",
    "    #how many spaces are left in this league? Use to figure out how many to add\n",
    "    nRemaining = nLimit.loc[oneLeague][0] - len(leagueDict_open[oneLeague])  \n",
    "    print oneLeague, nRemaining"
   ]
  },
  {
   "cell_type": "code",
   "execution_count": 26,
   "metadata": {
    "collapsed": false
   },
   "outputs": [],
   "source": [
    "#go through the list of people who did not get their 1st choice league, and see about\n",
    "#putting them into their second choice league\n",
    "for idx in range(0,len(regTracking)):  \n",
    "    doSomething = []\n",
    "    r = regTracking.loc[idx,openLeagues]\n",
    "    for item in range(0,len(r)):\n",
    "        if r[item] == 'no1':\n",
    "            doSomething = True\n",
    "\n",
    "    if doSomething:\n",
    "        oneName = regTracking.loc[idx,['lastname', 'firstname']] \n",
    "        oneName = oneName.to_frame().transpose() #need this format to make nice output \n",
    "\n",
    "        #get their next choice\n",
    "        newPriority = regSorted.loc[idx,openLeagues].dropna().min()\n",
    "\n",
    "        if math.isnan(newPriority) == False: #have another league listed\n",
    "            league2 = regSorted.loc[idx,openLeagues].dropna().idxmin() #returns name of league\n",
    "            #first need to check if the league has space\n",
    "            if len(leagueDict_open[league2]) < (nLimit.loc[league2,'nLimit']):\n",
    "                leagueDict_open = addOne(leagueDict_open,league2,oneName)\n",
    "                regTracking.loc[idx,league2] = 'yes'\n",
    "                regSorted.loc[idx,league2] = np.nan\n",
    "            else:\n",
    "                #no space in second choice league\n",
    "                trackIssues = addOne(trackIssues,'notInSecond',oneName)\n",
    "                #set their first choice to 'no' and move onto second choices\n",
    "                regTracking.loc[idx,league2] = 'no1' \n",
    "                regSorted.loc[idx,league2] = np.nan\n",
    "                print oneName, 'no space in second choice; would need third'\n",
    "\n",
    "        elif math.isnan(newPriority):\n",
    "            trackIssues = addOne(trackIssues,'noSecondChoice',oneName)"
   ]
  },
  {
   "cell_type": "code",
   "execution_count": 27,
   "metadata": {
    "collapsed": false
   },
   "outputs": [],
   "source": [
    "#what about those people who did not get their second choice?\n",
    "for idx in range(0,len(regTracking)):  \n",
    "    doSomething = 0\n",
    "    r = regTracking.loc[idx,openLeagues]\n",
    "    for item in range(0,len(r)):\n",
    "        if r[item] == 'no1': #need two 'no' responses to doSomething\n",
    "             doSomething = doSomething+1\n",
    "\n",
    "    if doSomething > 1:\n",
    "        oneName = regTracking.loc[idx,['lastname', 'firstname']] \n",
    "        oneName = oneName.to_frame().transpose() #need this format to make nice output \n",
    "\n",
    "        #get their next choice\n",
    "        newPriority = regSorted.loc[idx,openLeagues].dropna().min()\n",
    "\n",
    "        if math.isnan(newPriority) == False: #have another league listed\n",
    "            league2 = regSorted.loc[idx,openLeagues].dropna().idxmin() #returns name of league\n",
    "            #first need to check if the league has space\n",
    "            if len(leagueDict_open[league2]) < (nLimit.loc[league2,'nLimit']):\n",
    "                leagueDict_open = addOne(leagueDict_open,league2,oneName)\n",
    "                regTracking.loc[idx,league2] = 'yes'\n",
    "                regSorted.loc[idx,league2] = np.nan\n",
    "            else:\n",
    "                #no space in second choice league\n",
    "                trackIssues = addOne(trackIssues,'notInThird',oneName)\n",
    "                #set their first choice to 'no' and move onto second choices\n",
    "                regTracking.loc[idx,league2] = 'no1' \n",
    "                regSorted.loc[idx,league2] = np.nan\n",
    "                print oneName, 'no space in third choice; would need fourth'\n",
    "\n",
    "        elif math.isnan(newPriority):\n",
    "            trackIssues = addOne(trackIssues,'noAdditionalChoice',oneName)"
   ]
  },
  {
   "cell_type": "code",
   "execution_count": 28,
   "metadata": {
    "collapsed": false
   },
   "outputs": [
    {
     "name": "stdout",
     "output_type": "stream",
     "text": [
      "yes\n"
     ]
    }
   ],
   "source": [
    "if len(trackIssues['notInThird'])==0:\n",
    "    #no longer trying to grant a first choice\n",
    "    print 'yes'"
   ]
  },
  {
   "cell_type": "code",
   "execution_count": 29,
   "metadata": {
    "collapsed": true
   },
   "outputs": [],
   "source": [
    "#this time...work from the bottom up...only need to work on someone if nWanted > 1"
   ]
  },
  {
   "cell_type": "code",
   "execution_count": 30,
   "metadata": {
    "collapsed": false
   },
   "outputs": [
    {
     "name": "stdout",
     "output_type": "stream",
     "text": [
      "     lastname firstname\n",
      "111  Thunberg      Eric no space in next choice; would need another\n",
      "     lastname firstname\n",
      "108  Voorhees   Kenneth no space in next choice; would need another\n",
      "    lastname firstname\n",
      "103    Brown     Peter no space in next choice; would need another\n",
      "   lastname firstname\n",
      "85  Baggett    Walter no space in next choice; would need another\n",
      "   lastname firstname\n",
      "75  BAYBUTT    PHILIP no space in next choice; would need another\n",
      "   lastname firstname\n",
      "64   Verner     Susan no space in next choice; would need another\n",
      "   lastname firstname\n",
      "57   Hannon      Jane no space in next choice; would need another\n",
      "    lastname firstname\n",
      "56  Fragaszy      Bill no space in next choice; would need another\n",
      "   lastname     firstname\n",
      "50  Pilotte  Courtney Lee no space in next choice; would need another\n",
      "   lastname firstname\n",
      "46  Perella      Anne no space in next choice; would need another\n",
      "   lastname firstname\n",
      "32   Hannon      Neal no space in next choice; would need another\n",
      "   lastname  firstname\n",
      "30   Belfit  Gabrielle no space in next choice; would need another\n",
      "      lastname firstname\n",
      "25  Pijanowski     Donna no space in next choice; would need another\n",
      "   lastname firstname\n",
      "24   Rohner     Peter no space in next choice; would need another\n",
      "    lastname firstname\n",
      "23  LaVallee   Suzanne no space in next choice; would need another\n",
      "    lastname firstname\n",
      "22  Benedict     Karin no space in next choice; would need another\n",
      "     lastname firstname\n",
      "20  Azarovitz       Tom no space in next choice; would need another\n",
      "   lastname   firstname\n",
      "17   O'Neil  Stephen M. no space in next choice; would need another\n",
      "   lastname firstname\n",
      "9  Kavanagh       Pat no space in next choice; would need another\n"
     ]
    },
    {
     "ename": "NameError",
     "evalue": "name 'newPriority' is not defined",
     "output_type": "error",
     "traceback": [
      "\u001b[0;31m---------------------------------------------------------------------------\u001b[0m",
      "\u001b[0;31mNameError\u001b[0m                                 Traceback (most recent call last)",
      "\u001b[0;32m<ipython-input-30-55a1af48c9c7>\u001b[0m in \u001b[0;36m<module>\u001b[0;34m()\u001b[0m\n\u001b[1;32m     22\u001b[0m                     \u001b[1;32mprint\u001b[0m \u001b[0moneName\u001b[0m\u001b[1;33m,\u001b[0m \u001b[1;34m'no space in next choice; would need another'\u001b[0m\u001b[1;33m\u001b[0m\u001b[0m\n\u001b[1;32m     23\u001b[0m \u001b[1;33m\u001b[0m\u001b[0m\n\u001b[0;32m---> 24\u001b[0;31m             \u001b[1;32melif\u001b[0m \u001b[0mmath\u001b[0m\u001b[1;33m.\u001b[0m\u001b[0misnan\u001b[0m\u001b[1;33m(\u001b[0m\u001b[0mnewPriority\u001b[0m\u001b[1;33m)\u001b[0m\u001b[1;33m:\u001b[0m\u001b[1;33m\u001b[0m\u001b[0m\n\u001b[0m\u001b[1;32m     25\u001b[0m                 \u001b[0mtrackIssues\u001b[0m \u001b[1;33m=\u001b[0m \u001b[0maddOne\u001b[0m\u001b[1;33m(\u001b[0m\u001b[0mtrackIssues\u001b[0m\u001b[1;33m,\u001b[0m\u001b[1;34m'noAdditionalChoice'\u001b[0m\u001b[1;33m,\u001b[0m\u001b[0moneName\u001b[0m\u001b[1;33m)\u001b[0m\u001b[1;33m\u001b[0m\u001b[0m\n",
      "\u001b[0;31mNameError\u001b[0m: name 'newPriority' is not defined"
     ]
    }
   ],
   "source": [
    "for idx in reversed(range(0,len(regTracking))):\n",
    "    nLeagues = regTracking.loc[idx,'League_Number_Open']\n",
    "    if nLeagues != 'None' : \n",
    "        if int(nLeagues) > 1:   \n",
    "            oneName = regTracking.loc[idx,['lastname', 'firstname']] \n",
    "            oneName = oneName.to_frame().transpose() #need this format to make nice output \n",
    "\n",
    "            nextPriority = regSorted.loc[idx,openLeagues].dropna().min()\n",
    "            if math.isnan(nextPriority) == False: #have another league listed\n",
    "                nextLeague = regSorted.loc[idx,openLeagues].dropna().idxmin()\n",
    "                #first need to check if the league has space\n",
    "                if len(leagueDict_open[nextLeague]) < (nLimit.loc[nextLeague,'nLimit']):\n",
    "                    leagueDict_open = addOne(leagueDict_open,nextLeague,oneName)\n",
    "                    regTracking.loc[idx,nextLeague] = 'yes'\n",
    "                    regSorted.loc[idx,nextLeague] = np.nan\n",
    "                else:\n",
    "                    #no space in second choice league\n",
    "                    trackIssues = addOne(trackIssues,'notInSecond',oneName)\n",
    "                    #set their first choice to 'no' and move onto second choices\n",
    "                    regTracking.loc[idx,nextLeague] = 'no2' \n",
    "                    regSorted.loc[idx,nextLeague] = np.nan\n",
    "                    print oneName, 'no space in next choice; would need another'\n",
    "\n",
    "            elif math.isnan(newPriority):\n",
    "                trackIssues = addOne(trackIssues,'noAdditionalChoice',oneName)"
   ]
  },
  {
   "cell_type": "code",
   "execution_count": null,
   "metadata": {
    "collapsed": false
   },
   "outputs": [],
   "source": [
    "#what about those people who are still looking for a second league?\n",
    "for idx in reversed(range(0,len(regTracking))):  \n",
    "    nLeagues = regTracking.loc[idx,'League_Number_Open']\n",
    "    if nLeagues != 'None':\n",
    "        doSomething = 0\n",
    "        r = regTracking.loc[idx,openLeagues]\n",
    "        for item in range(0,len(r)):\n",
    "            if r[item] == 'no2': #need two 'no' responses to doSomething\n",
    "                 doSomething = doSomething+1\n",
    "       \n",
    "        if (doSomething > 0) & (int(nLeagues) > 1):\n",
    "            oneName = regTracking.loc[idx,['lastname', 'firstname']] \n",
    "            oneName = oneName.to_frame().transpose() #need this format to make nice output \n",
    "            #get their next choice\n",
    "            newPriority = regSorted.loc[idx,openLeagues].dropna().min()\n",
    "\n",
    "            if math.isnan(newPriority) == False: #have another league listed\n",
    "                league2 = regSorted.loc[idx,openLeagues].dropna().idxmin() #returns name of league\n",
    "                #first need to check if the league has space\n",
    "                if len(leagueDict_open[league2]) < (nLimit.loc[league2,'nLimit']):\n",
    "                    leagueDict_open = addOne(leagueDict_open,league2,oneName)\n",
    "                    regTracking.loc[idx,league2] = 'yes'\n",
    "                    regSorted.loc[idx,league2] = np.nan\n",
    "                else:\n",
    "                    #no space in league\n",
    "                    trackIssues = addOne(trackIssues,'notInNext',oneName) \n",
    "                    #set their first choice to 'no' and move onto second choices\n",
    "                    regTracking.loc[idx,league2] = 'no2' \n",
    "                    regSorted.loc[idx,league2] = np.nan\n",
    "                    print oneName, 'no space in next choice; would need fourth'\n",
    "\n",
    "            elif math.isnan(newPriority):\n",
    "                trackIssues = addOne(trackIssues,'noAdditionalChoice',oneName)"
   ]
  },
  {
   "cell_type": "code",
   "execution_count": null,
   "metadata": {
    "collapsed": false
   },
   "outputs": [],
   "source": [
    "for idx in reversed(range(0,len(regTracking))):  \n",
    "    nLeagues = regTracking.loc[idx,'League_Number_Open']\n",
    "    if nLeagues != 'None':\n",
    "        doSomething = 0\n",
    "        r = regTracking.loc[idx,openLeagues]\n",
    "        for item in range(0,len(r)):\n",
    "            if r[item] == 'no2': #need two 'no' responses to doSomething\n",
    "                 doSomething = doSomething+1\n",
    "       \n",
    "        if (doSomething > 1) & (int(nLeagues) > 1):\n",
    "            oneName = regTracking.loc[idx,['lastname', 'firstname']] \n",
    "            oneName = oneName.to_frame().transpose() #need this format to make nice output \n",
    "            #get their next choice\n",
    "            newPriority = regSorted.loc[idx,openLeagues].dropna().min()\n",
    "\n",
    "            if math.isnan(newPriority) == False: #have another league listed\n",
    "                league2 = regSorted.loc[idx,openLeagues].dropna().idxmin() #returns name of league\n",
    "                #first need to check if the league has space\n",
    "                if len(leagueDict_open[league2]) < (nLimit.loc[league2,'nLimit']):\n",
    "                    leagueDict_open = addOne(leagueDict_open,league2,oneName)\n",
    "                    regTracking.loc[idx,league2] = 'yes'\n",
    "                    regSorted.loc[idx,league2] = np.nan\n",
    "                else:\n",
    "                    #no space in league\n",
    "                    trackIssues = addOne(trackIssues,'notInNext2',oneName) \n",
    "                    #set their first choice to 'no' and move onto second choices\n",
    "                    regTracking.loc[idx,league2] = 'no2' \n",
    "                    regSorted.loc[idx,league2] = np.nan\n",
    "                    print oneName, 'no space in next choice; would need fourth'\n",
    "\n",
    "            elif math.isnan(newPriority):\n",
    "                trackIssues = addOne(trackIssues,'noAdditionalChoice',oneName)"
   ]
  },
  {
   "cell_type": "code",
   "execution_count": null,
   "metadata": {
    "collapsed": true
   },
   "outputs": [],
   "source": []
  },
  {
   "cell_type": "code",
   "execution_count": null,
   "metadata": {
    "collapsed": false
   },
   "outputs": [],
   "source": [
    "#OK...regTracking now has a 'no' for those people who did not get their first choice...use that to\n",
    "#put those people into their second choice league\n",
    "for oneLeague in randLeagues:    \n",
    "    #how many spaces are left in this league? Use to figure out how many to add\n",
    "    nRemaining = nLimit.loc[oneLeague][0] - len(leagueDict_open[oneLeague])  \n",
    "    print oneLeague, nRemaining"
   ]
  },
  {
   "cell_type": "code",
   "execution_count": null,
   "metadata": {
    "collapsed": true
   },
   "outputs": [],
   "source": [
    "#make a new dictionary for other leagues...concat with openLeagues when done\n",
    "# do doubles and competitive league by hand...\n",
    "otherLeagues = ['League_4_Men', 'League_7_Ladies' ,'League_Scrod']\n",
    "\n",
    "leagueDict_other = {}\n",
    "for name in otherLeagues:\n",
    "    leagueDict_other[name] = pd.DataFrame()"
   ]
  },
  {
   "cell_type": "code",
   "execution_count": null,
   "metadata": {
    "collapsed": false
   },
   "outputs": [],
   "source": [
    "if False:\n",
    "    #put league managers in for other\n",
    "    manager = 'League_4_Men'\n",
    "    r = regSorted.loc[(regSorted['lastname']=='Pijanowski') & (regSorted['firstname']=='Brian')]\n",
    "    leagueDict_other = addManager(leagueDict_other,r,manager)\n",
    "\n",
    "    manager = 'League_7_Ladies'\n",
    "    r = regSorted.loc[(regSorted['lastname']=='Galligan') & (regSorted['firstname']=='Natalie')]\n",
    "    leagueDict_other = addManager(leagueDict_other,r,manager)\n",
    "\n",
    "    manager = 'League_Scrod'\n",
    "    r = regSorted.loc[(regSorted['lastname']=='Pilotte') & (regSorted['firstname']=='Courtney Lee')]\n",
    "    leagueDict_other = addManager(leagueDict_other,r,manager)"
   ]
  },
  {
   "cell_type": "code",
   "execution_count": null,
   "metadata": {
    "collapsed": false
   },
   "outputs": [],
   "source": [
    "#only have to go through once\n",
    "for idx in range(0,nPeople):\n",
    "    for oL in otherLeagues:    \n",
    "        oneName = regSorted.loc[idx,['lastname', 'firstname']] \n",
    "        oneName = oneName.to_frame().transpose() #need this format to make nice output\n",
    "        if regSorted.loc[idx,oL]=='Yes': #careful with trailing spaces\n",
    "            leagueDict_other = addOne(leagueDict_other,oL,oneName)\n",
    "            #now that I have added the person to a league, change their priority to NaN\n",
    "            regTracking.loc[idx,oL] = 'yes'\n",
    "            regSorted.loc[idx,oL] = np.nan"
   ]
  },
  {
   "cell_type": "code",
   "execution_count": null,
   "metadata": {
    "collapsed": false
   },
   "outputs": [],
   "source": [
    "#combine the two dictionaries\n",
    "leagueDict_all = leagueDict_open.copy()\n",
    "leagueDict_all.update(leagueDict_other)\n",
    "\n",
    "#combine the list of names\n",
    "allLeagues = list(openLeagues)\n",
    "allLeagues.extend(otherLeagues)"
   ]
  },
  {
   "cell_type": "code",
   "execution_count": null,
   "metadata": {
    "collapsed": false
   },
   "outputs": [],
   "source": [
    "#export the results to a series of CSV files (CAREFUL...will delete existing files)\n",
    "for fn in allLeagues:\n",
    "    fName = '%s.csv' % fn\n",
    "    #check if the file exists...delete if it does\n",
    "    if os.path.isfile(fName):\n",
    "        os.remove(fName)\n",
    "        \n",
    "    leagueDict_all[fn].to_csv(fName)"
   ]
  },
  {
   "cell_type": "code",
   "execution_count": null,
   "metadata": {
    "collapsed": false
   },
   "outputs": [],
   "source": [
    "#lets try some plotting\n",
    "%matplotlib inline"
   ]
  },
  {
   "cell_type": "code",
   "execution_count": null,
   "metadata": {
    "collapsed": false
   },
   "outputs": [],
   "source": [
    "tData = regInfo.loc[:,openLeagues]\n",
    "tData.count().plot(kind = 'bar')"
   ]
  },
  {
   "cell_type": "code",
   "execution_count": null,
   "metadata": {
    "collapsed": true
   },
   "outputs": [],
   "source": [
    "regInfo.to_csv('regOut.csv')"
   ]
  },
  {
   "cell_type": "code",
   "execution_count": null,
   "metadata": {
    "collapsed": false
   },
   "outputs": [],
   "source": [
    "tData.groupby(by=openLeagues)"
   ]
  },
  {
   "cell_type": "code",
   "execution_count": null,
   "metadata": {
    "collapsed": false
   },
   "outputs": [],
   "source": [
    "tData.get_value()"
   ]
  },
  {
   "cell_type": "code",
   "execution_count": null,
   "metadata": {
    "collapsed": true
   },
   "outputs": [],
   "source": [
    "tData."
   ]
  },
  {
   "cell_type": "code",
   "execution_count": null,
   "metadata": {
    "collapsed": true
   },
   "outputs": [],
   "source": []
  },
  {
   "cell_type": "code",
   "execution_count": null,
   "metadata": {
    "collapsed": true
   },
   "outputs": [],
   "source": []
  },
  {
   "cell_type": "code",
   "execution_count": null,
   "metadata": {
    "collapsed": true
   },
   "outputs": [],
   "source": [
    "_values()"
   ]
  },
  {
   "cell_type": "code",
   "execution_count": null,
   "metadata": {
    "collapsed": true
   },
   "outputs": [],
   "source": []
  },
  {
   "cell_type": "code",
   "execution_count": null,
   "metadata": {
    "collapsed": false
   },
   "outputs": [],
   "source": [
    "regInfo.loc[:,'Sunday Night'].plot(kind = 'bar')"
   ]
  },
  {
   "cell_type": "code",
   "execution_count": null,
   "metadata": {
    "collapsed": true
   },
   "outputs": [],
   "source": [
    "tData = regInfo.loc[:,'Sunday Night']"
   ]
  },
  {
   "cell_type": "code",
   "execution_count": null,
   "metadata": {
    "collapsed": false
   },
   "outputs": [],
   "source": [
    "tData.value_counts()"
   ]
  },
  {
   "cell_type": "code",
   "execution_count": null,
   "metadata": {
    "collapsed": false
   },
   "outputs": [],
   "source": [
    "tData.value_counts().plot(kind = 'bar')"
   ]
  },
  {
   "cell_type": "code",
   "execution_count": null,
   "metadata": {
    "collapsed": true
   },
   "outputs": [],
   "source": []
  },
  {
   "cell_type": "code",
   "execution_count": null,
   "metadata": {
    "collapsed": true
   },
   "outputs": [],
   "source": []
  },
  {
   "cell_type": "code",
   "execution_count": null,
   "metadata": {
    "collapsed": true
   },
   "outputs": [],
   "source": []
  },
  {
   "cell_type": "code",
   "execution_count": null,
   "metadata": {
    "collapsed": false
   },
   "outputs": [],
   "source": [
    "for problem in issueNames:\n",
    "    print problem, ': ', len(trackIssues[problem]), ' people in this category'\n",
    "    \n",
    "randLeagues"
   ]
  },
  {
   "cell_type": "code",
   "execution_count": null,
   "metadata": {
    "collapsed": false
   },
   "outputs": [],
   "source": [
    "for problem in issueNames:\n",
    "    print problem, ': ', len(trackIssues[problem]), ' people in this category'\n",
    "    \n",
    "randLeagues"
   ]
  },
  {
   "cell_type": "code",
   "execution_count": 529,
   "metadata": {
    "collapsed": true
   },
   "outputs": [],
   "source": [
    "regInfo.to_csv('sorted.csv')"
   ]
  },
  {
   "cell_type": "code",
   "execution_count": null,
   "metadata": {
    "collapsed": true
   },
   "outputs": [],
   "source": []
  },
  {
   "cell_type": "code",
   "execution_count": null,
   "metadata": {
    "collapsed": true
   },
   "outputs": [],
   "source": []
  },
  {
   "cell_type": "code",
   "execution_count": 351,
   "metadata": {
    "collapsed": true
   },
   "outputs": [],
   "source": [
    "#ran multiple times...order the leagues are randomized will change the output"
   ]
  },
  {
   "cell_type": "code",
   "execution_count": 353,
   "metadata": {
    "collapsed": false
   },
   "outputs": [
    {
     "name": "stdout",
     "output_type": "stream",
     "text": [
      "notInFirst :  0  people in this category\n",
      "notInSecond :  5  people in this category\n",
      "notInThird :  0  people in this category\n",
      "noSecondChoice :  16  people in this category\n",
      "noAdditionalChoice :  57  people in this category\n",
      "notInNext :  0  people in this category\n",
      "notInNext2 :  0  people in this category\n"
     ]
    },
    {
     "data": {
      "text/plain": [
       "['Monday Night',\n",
       " 'Thursday 4PM',\n",
       " 'Wednesday 4PM',\n",
       " 'Monday 4PM',\n",
       " 'Sunday Night',\n",
       " 'Tuesday 4PM']"
      ]
     },
     "execution_count": 353,
     "metadata": {},
     "output_type": "execute_result"
    }
   ],
   "source": [
    "for problem in issueNames:\n",
    "    print problem, ': ', len(trackIssues[problem]), ' people in this category'\n",
    "    \n",
    "randLeagues"
   ]
  },
  {
   "cell_type": "code",
   "execution_count": 354,
   "metadata": {
    "collapsed": false
   },
   "outputs": [
    {
     "name": "stdout",
     "output_type": "stream",
     "text": [
      "notInFirst :  0  people in this category\n",
      "notInSecond :  5  people in this category\n",
      "notInThird :  0  people in this category\n",
      "noSecondChoice :  16  people in this category\n",
      "noAdditionalChoice :  57  people in this category\n",
      "notInNext :  0  people in this category\n",
      "notInNext2 :  0  people in this category\n"
     ]
    },
    {
     "data": {
      "text/plain": [
       "['Monday Night',\n",
       " 'Thursday 4PM',\n",
       " 'Wednesday 4PM',\n",
       " 'Monday 4PM',\n",
       " 'Sunday Night',\n",
       " 'Tuesday 4PM']"
      ]
     },
     "execution_count": 354,
     "metadata": {},
     "output_type": "execute_result"
    }
   ],
   "source": [
    "for problem in issueNames:\n",
    "    print problem, ': ', len(trackIssues[problem]), ' people in this category'\n",
    "    \n",
    "randLeagues"
   ]
  },
  {
   "cell_type": "code",
   "execution_count": 355,
   "metadata": {
    "collapsed": false
   },
   "outputs": [
    {
     "name": "stdout",
     "output_type": "stream",
     "text": [
      "notInFirst :  0  people in this category\n",
      "notInSecond :  5  people in this category\n",
      "notInThird :  0  people in this category\n",
      "noSecondChoice :  16  people in this category\n",
      "noAdditionalChoice :  57  people in this category\n",
      "notInNext :  0  people in this category\n",
      "notInNext2 :  0  people in this category\n"
     ]
    },
    {
     "data": {
      "text/plain": [
       "['Monday Night',\n",
       " 'Thursday 4PM',\n",
       " 'Wednesday 4PM',\n",
       " 'Monday 4PM',\n",
       " 'Sunday Night',\n",
       " 'Tuesday 4PM']"
      ]
     },
     "execution_count": 355,
     "metadata": {},
     "output_type": "execute_result"
    }
   ],
   "source": [
    "for problem in issueNames:\n",
    "    print problem, ': ', len(trackIssues[problem]), ' people in this category'\n",
    "\n",
    "randLeagues"
   ]
  },
  {
   "cell_type": "code",
   "execution_count": null,
   "metadata": {
    "collapsed": true
   },
   "outputs": [],
   "source": []
  },
  {
   "cell_type": "code",
   "execution_count": null,
   "metadata": {
    "collapsed": true
   },
   "outputs": [],
   "source": []
  }
 ],
 "metadata": {
  "kernelspec": {
   "display_name": "Python 2",
   "language": "python",
   "name": "python2"
  },
  "language_info": {
   "codemirror_mode": {
    "name": "ipython",
    "version": 2
   },
   "file_extension": ".py",
   "mimetype": "text/x-python",
   "name": "python",
   "nbconvert_exporter": "python",
   "pygments_lexer": "ipython2",
   "version": "2.7.12"
  }
 },
 "nbformat": 4,
 "nbformat_minor": 1
}
