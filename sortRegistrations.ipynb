{
 "cells": [
  {
   "cell_type": "markdown",
   "metadata": {},
   "source": [
    "Get going on sorting people into leagues for curling\n",
    "KL 8/17/2016"
   ]
  },
  {
   "cell_type": "code",
   "execution_count": 292,
   "metadata": {
    "collapsed": false
   },
   "outputs": [
    {
     "name": "stdout",
     "output_type": "stream",
     "text": [
      "Once deleted, variables cannot be recovered. Proceed (y/[n])? yes\n"
     ]
    }
   ],
   "source": [
    "if True:\n",
    "    %reset"
   ]
  },
  {
   "cell_type": "code",
   "execution_count": 293,
   "metadata": {
    "collapsed": true
   },
   "outputs": [],
   "source": [
    "import pandas as pd\n",
    "import numpy as np\n",
    "import math\n",
    "import csv\n",
    "import os.path\n",
    "\n",
    "#used this to step into the function and debug it, also need line with Tracer()() \n",
    "from IPython.core.debugger import Tracer "
   ]
  },
  {
   "cell_type": "code",
   "execution_count": 294,
   "metadata": {
    "collapsed": false
   },
   "outputs": [],
   "source": [
    "#read in the file with the information on people's priorities\n",
    "#goal will be to use the version that comes out of the website\n",
    "fName = 'TestPriority4.csv'\n",
    "regInfo=pd.read_csv(fName)"
   ]
  },
  {
   "cell_type": "markdown",
   "metadata": {},
   "source": [
    "Define some functions up top"
   ]
  },
  {
   "cell_type": "code",
   "execution_count": 295,
   "metadata": {
    "collapsed": false
   },
   "outputs": [],
   "source": [
    "def addOne(leagueDict,oneLeague,oneName):\n",
    "    if len(leagueDict[oneLeague])==0: #nothing there yet\n",
    "        leagueDict[oneLeague] = oneName\n",
    "    else:     #need to append\n",
    "        leagueDict[oneLeague] = leagueDict[oneLeague].append(oneName)\n",
    "    return leagueDict"
   ]
  },
  {
   "cell_type": "code",
   "execution_count": 296,
   "metadata": {
    "collapsed": true
   },
   "outputs": [],
   "source": [
    "def addManager(r,manager):\n",
    "    useRow = r.index[0]\n",
    "    oneName = regSorted.loc[useRow,['lastname', 'firstname']] \n",
    "    oneName = oneName.to_frame().transpose() #need this format to make nice output\n",
    "    leagueDict_open[manager] = oneName\n",
    "    regSorted.loc[useRow,manager]=np.nan\n",
    "    regTracking.loc[useRow,manager]='yes'"
   ]
  },
  {
   "cell_type": "code",
   "execution_count": 297,
   "metadata": {
    "collapsed": false
   },
   "outputs": [],
   "source": [
    "def doStuff(idx,regSorted,regTracking,leagueDict_open):\n",
    "    #person is interested in open leagues, oneLeague will be index in their next choice\n",
    "    oneLeague = regSorted.loc[idx,openLeagues].dropna().idxmin()\n",
    "\n",
    "    oneName = regSorted.loc[idx,['lastname', 'firstname']] \n",
    "    oneName = oneName.to_frame().transpose() #need this format to make nice output\n",
    "\n",
    "    if len(leagueDict_open[oneLeague]) < (nLimit.loc[oneLeague,'nLimit']): #room in league\n",
    "        leagueDict_open = addOne(leagueDict_open,oneLeague,oneName)\n",
    "        #now that I have added the person to a league, change their priority to NaN\n",
    "        regSorted.loc[idx,oneLeague] = np.nan\n",
    "        regTracking.loc[idx,oneLeague] = 'yes'\n",
    "\n",
    "    elif len(leagueDict_open[oneLeague]) == (nLimit.loc[oneLeague,'nLimit']):\n",
    "        #league is full...does this person have another league listed?\n",
    "        #first, set current to NaN\n",
    "        regSorted.loc[idx,oneLeague] = np.nan\n",
    "        regTracking.loc[idx,oneLeague] = 'no' #did not get in\n",
    "        nextPriority = regSorted.loc[idx,openLeagues].dropna().min()\n",
    "        if math.isnan(nextPriority)!=1: #have a number\n",
    "            #go to the next league on their list\n",
    "            nextLeague = regSorted.loc[idx,openLeagues].dropna().idxmin()\n",
    "            #only add person is league has space\n",
    "            if len(leagueDict[nextLeague]) > (nLimit.loc[nextLeague,'nLimit']):\n",
    "                leagueDict_open = addOne(leagueDict_open,nextLeague,oneName)\n",
    "                regSorted.loc[idx,nextLeague] = np.nan\n",
    "                regTracking.loc[idx,nextLeague] = 'yes'\n",
    "            else:\n",
    "                regTracking.loc[idx,nextLeague]='no'\n",
    "    return regSorted, regTracking, leagueDict_open"
   ]
  },
  {
   "cell_type": "markdown",
   "metadata": {},
   "source": [
    "get started on the actual lists"
   ]
  },
  {
   "cell_type": "code",
   "execution_count": 298,
   "metadata": {
    "collapsed": false
   },
   "outputs": [],
   "source": [
    "##OK, now that I have the data in Python, add some columns that I will need\n",
    "#first, how many numbers so I need?\n",
    "nPeople = len(regInfo.index)\n",
    "regInfo['randomNumCol'] = np.random.choice(range(nPeople), nPeople,replace = False)\n",
    "##so now, moving back to the list of people, sort the list by the random number\n",
    "regSorted = regInfo.sort_values(by = 'randomNumCol', ascending=True)\n",
    "regSorted = regSorted.set_index(['randomNumCol'])\n",
    "\n",
    "#copy so I can have an output tracking what was done, make after I put in league managers\n",
    "regTracking = regSorted.copy(deep=True)"
   ]
  },
  {
   "cell_type": "code",
   "execution_count": 314,
   "metadata": {
    "collapsed": false
   },
   "outputs": [],
   "source": [
    "#now, make up a series of variables that are the names of the leagues, \n",
    "#can pull the leageu names from imported CSV file. They won't move around,\n",
    "#so just index in, but don't need the Men's league in here\n",
    "openLeagues = list(regInfo)[5:12]\n",
    "openLeagues.remove('League_4_Men')"
   ]
  },
  {
   "cell_type": "code",
   "execution_count": 315,
   "metadata": {
    "collapsed": false
   },
   "outputs": [
    {
     "data": {
      "text/plain": [
       "['League_1_Sunday_Open',\n",
       " 'League_2_Monday_Open',\n",
       " 'League_3_Monday_Night_Open',\n",
       " 'League_Tuesday_Open',\n",
       " 'League_5_Wednesday_Open',\n",
       " 'League_6_Thursday_Open']"
      ]
     },
     "execution_count": 315,
     "metadata": {},
     "output_type": "execute_result"
    }
   ],
   "source": [
    "openLeagues"
   ]
  },
  {
   "cell_type": "code",
   "execution_count": 301,
   "metadata": {
    "collapsed": false
   },
   "outputs": [],
   "source": [
    "#setup the dictionary to hold the people information (start with openLeagues only)\n",
    "forDictionary = openLeagues\n",
    "#forDictionary.extend(otherLeagues)\n",
    "leagueDict_open = {}\n",
    "for name in forDictionary:\n",
    "    leagueDict_open[name] = pd.DataFrame()"
   ]
  },
  {
   "cell_type": "code",
   "execution_count": 302,
   "metadata": {
    "collapsed": false
   },
   "outputs": [],
   "source": [
    "#set the limit for each league:\n",
    "sevenTeams = 27 #5 #lower for testing\n",
    "fourteenTeams = 55\n",
    "\n",
    "d = {'League_1_Sunday_Open': sevenTeams,\n",
    "     'League_2_Monday_Open': sevenTeams,\n",
    "     'League_3_Monday_Night_Open': fourteenTeams,\n",
    "     'League_Tuesday_Open': sevenTeams,\n",
    "     'League_5_Wednesday_Open': sevenTeams,\n",
    "     'League_6_Thursday_Open': sevenTeams,}\n",
    "\n",
    "nLimit = pd.DataFrame({'nLimit' : d})\n",
    "del d"
   ]
  },
  {
   "cell_type": "code",
   "execution_count": 303,
   "metadata": {
    "collapsed": true
   },
   "outputs": [],
   "source": [
    "#put the league managers into their league and set their the choice for that league to NaN\n",
    "manager = 'League_1_Sunday_Open'\n",
    "r = regSorted.loc[(regSorted['lastname']=='Fragaszy') & (regSorted['firstname']=='Bill')]\n",
    "addManager(r,manager)\n",
    "\n",
    "manager = 'League_2_Monday_Open'\n",
    "r = regSorted.loc[(regSorted['lastname']=='Brown') & (regSorted['firstname']=='Peter')]\n",
    "addManager(r,manager)\n",
    "\n",
    "manager = 'League_3_Monday_Night_Open'\n",
    "r = regSorted.loc[(regSorted['lastname']=='DiMassa') & (regSorted['firstname']=='Diane')]\n",
    "addManager(r,manager)\n",
    "\n",
    "manager = 'League_Tuesday_Open'\n",
    "r = regSorted.loc[(regSorted['lastname']=='Thomson') & (regSorted['firstname']=='Kenny')]\n",
    "addManager(r,manager)\n",
    "\n",
    "manager = 'League_5_Wednesday_Open'\n",
    "r = regSorted.loc[(regSorted['lastname']=='Murphy') & (regSorted['firstname']=='Katie')]\n",
    "addManager(r,manager)\n",
    "\n",
    "manager = 'League_6_Thursday_Open'\n",
    "r = regSorted.loc[(regSorted['lastname']=='Gallagher') & (regSorted['firstname']=='Bill')]\n",
    "addManager(r,manager)"
   ]
  },
  {
   "cell_type": "code",
   "execution_count": 304,
   "metadata": {
    "collapsed": false
   },
   "outputs": [],
   "source": [
    "#go forwards through the list to start\n",
    "for idx in (range(0,nPeople)):\n",
    "    #only do something if a person is still looking for more leagues...\n",
    "    rt = regTracking.loc[idx,openLeagues]\n",
    "    cHave = len(rt[rt=='yes'])\n",
    "    del rt\n",
    "    if cHave < regTracking.loc[idx,'numberLeagues']: #person wants more \n",
    "        onePriority = regSorted.loc[idx,openLeagues].dropna().min() #any more things ranked?   \n",
    "        if math.isnan(float(onePriority))==False:\n",
    "            regSorted,regTracking,leagueDict = doStuff(idx,regSorted,regTracking,leagueDict_open)"
   ]
  },
  {
   "cell_type": "code",
   "execution_count": 270,
   "metadata": {
    "collapsed": false
   },
   "outputs": [],
   "source": [
    "#now go backwards through the list to fill the other spots\n",
    "for idx in reversed(range(0,nPeople)):\n",
    "    #only do something if a person is still looking for more leagues...\n",
    "    rt = regTracking.loc[idx,openLeagues]\n",
    "    cHave = len(rt[rt=='yes'])\n",
    "    del rt\n",
    "    if cHave < regTracking.loc[idx,'numberLeagues']: #person wants more \n",
    "        onePriority = regSorted.loc[idx,openLeagues].dropna().min() #any more things ranked?   \n",
    "        if math.isnan(float(onePriority))==False:\n",
    "            regSorted,regTracking,leagueDict = doStuff(idx,regSorted,regTracking,leagueDict_open)\n",
    "        "
   ]
  },
  {
   "cell_type": "code",
   "execution_count": 306,
   "metadata": {
    "collapsed": false
   },
   "outputs": [
    {
     "data": {
      "text/plain": [
       "['League_1_Sunday_Open',\n",
       " 'League_2_Monday_Open',\n",
       " 'League_3_Monday_Night_Open',\n",
       " 'League_Tuesday_Open',\n",
       " 'League_5_Wednesday_Open',\n",
       " 'League_6_Thursday_Open']"
      ]
     },
     "execution_count": 306,
     "metadata": {},
     "output_type": "execute_result"
    }
   ],
   "source": [
    "openLeagues"
   ]
  },
  {
   "cell_type": "code",
   "execution_count": null,
   "metadata": {
    "collapsed": true
   },
   "outputs": [],
   "source": []
  },
  {
   "cell_type": "code",
   "execution_count": 307,
   "metadata": {
    "collapsed": true
   },
   "outputs": [],
   "source": [
    "#go forwards again...stop here...will be max 3, 4 pm leagues\n",
    "for idx in (range(0,nPeople)):\n",
    "    #only do something if a person is still looking for more leagues...\n",
    "    rt = regTracking.loc[idx,openLeagues]\n",
    "    cHave = len(rt[rt=='yes'])\n",
    "    del rt\n",
    "    if cHave < regTracking.loc[idx,'numberLeagues']: #person wants more \n",
    "        onePriority = regSorted.loc[idx,openLeagues].dropna().min() #any more things ranked?   \n",
    "        if math.isnan(float(onePriority))==False:\n",
    "            regSorted,regTracking,leagueDict = doStuff(idx,regSorted,regTracking,leagueDict_open)"
   ]
  },
  {
   "cell_type": "code",
   "execution_count": 308,
   "metadata": {
    "collapsed": true
   },
   "outputs": [],
   "source": [
    "#make a new dictionary for other leagues...concat with openLeagues when done\n",
    "# do doubles and competitive league by hand...\n",
    "otherLeagues = ['League_4_Men', 'League_7_Ladies' ,'League_Scrod']\n",
    "\n",
    "leagueDict_other = {}\n",
    "for name in otherLeagues:\n",
    "    leagueDict_other[name] = pd.DataFrame()"
   ]
  },
  {
   "cell_type": "code",
   "execution_count": 309,
   "metadata": {
    "collapsed": false
   },
   "outputs": [],
   "source": [
    "#only have to go through once\n",
    "for idx in range(0,nPeople):\n",
    "    for oL in otherLeagues:\n",
    "    \n",
    "        oneName = regSorted.loc[idx,['lastname', 'firstname']] \n",
    "        oneName = oneName.to_frame().transpose() #need this format to make nice output\n",
    "        if regSorted.loc[idx,oL]=='Yes': #careful with trailing spaces\n",
    "            leagueDict_other = addOne(leagueDict_other,oL,oneName)\n",
    "            #now that I have added the person to a league, change their priority to NaN\n",
    "            regTracking.loc[idx,oL] = 'done'\n",
    "            regSorted.loc[idx,oL] = np.nan"
   ]
  },
  {
   "cell_type": "code",
   "execution_count": 316,
   "metadata": {
    "collapsed": false
   },
   "outputs": [],
   "source": [
    "#combine the two dictionaries\n",
    "leagueDict_all = leagueDict_open.copy()\n",
    "leagueDict_all.update(leagueDict_other)\n",
    "\n",
    "#combine the list of names\n",
    "allLeagues = list(openLeagues)\n",
    "allLeagues.extend(otherLeagues)"
   ]
  },
  {
   "cell_type": "code",
   "execution_count": 277,
   "metadata": {
    "collapsed": false
   },
   "outputs": [],
   "source": [
    "#finally, export the results (CAREFUL...will delete existing files)\n",
    "for fn in allLeagues:\n",
    "    fName = '%s.csv' % fn\n",
    "    #check if the file exists...delete if it does\n",
    "    if os.path.isfile(fName):\n",
    "        os.remove(fName)\n",
    "        \n",
    "    leagueDict_all[fn].to_csv(fName)"
   ]
  },
  {
   "cell_type": "code",
   "execution_count": 329,
   "metadata": {
    "collapsed": false
   },
   "outputs": [
    {
     "name": "stdout",
     "output_type": "stream",
     "text": [
      "Barbara Sheerin  : got no open leagues\n",
      "Barbara Sheerin  : got no open leagues\n",
      "Barbara Sheerin  : got no open leagues\n",
      "Barbara Sheerin  : got no open leagues\n",
      "Barbara Sheerin  : got no open leagues\n",
      "Barbara Sheerin  : got no open leagues\n",
      "Barbara Sheerin  : got no open leagues\n",
      "Peter Clark  : got no open leagues\n",
      "Peter Clark  : got no open leagues\n",
      "Peter Clark  : got no open leagues\n",
      "Peter Clark  : got no open leagues\n",
      "Peter Clark  : got no open leagues\n",
      "Peter Clark  : got no open leagues\n",
      "Peter Clark  : got no open leagues\n",
      "Peter Clark  : got no open leagues\n",
      "Al Duester  : got no open leagues\n",
      "Al Duester  : got no open leagues\n",
      "Al Duester  : got no open leagues\n",
      "Al Duester  : got no open leagues\n",
      "David Palmer  : got no open leagues\n",
      "David Palmer  : got no open leagues\n",
      "David Palmer  : got no open leagues\n",
      "David Palmer  : got no open leagues\n",
      "David Palmer  : got no open leagues\n",
      "David Palmer  : got no open leagues\n",
      "Donna Pijanowski  : got no open leagues\n",
      "Donna Pijanowski  : got no open leagues\n",
      "Donna Pijanowski  : got no open leagues\n",
      "Donna Pijanowski  : got no open leagues\n",
      "Donna Pijanowski  : got no open leagues\n",
      "Donna Pijanowski  : got no open leagues\n",
      "Donna Pijanowski  : got no open leagues\n",
      "Donna Pijanowski  : got no open leagues\n",
      "Donna Pijanowski  : got no open leagues\n",
      "Donna Pijanowski  : got no open leagues\n",
      "Donna Pijanowski  : got no open leagues\n",
      "Donna Pijanowski  : got no open leagues\n",
      "Donna Pijanowski  : got no open leagues\n",
      "Donna Pijanowski  : got no open leagues\n",
      "Donna Pijanowski  : got no open leagues\n",
      "Joel Weinstein  : got no open leagues\n",
      "Joel Weinstein  : got no open leagues\n",
      "Joel Weinstein  : got no open leagues\n",
      "jack mahoney  : got no open leagues\n",
      "jack mahoney  : got no open leagues\n",
      "Frank Balas  : got no open leagues\n",
      "Frank Balas  : got no open leagues\n",
      "Pat Kavanagh  : got no open leagues\n",
      "Pat Kavanagh  : got no open leagues\n",
      "tom ballou  : got no open leagues\n",
      "tom ballou  : got no open leagues\n",
      "tom ballou  : got no open leagues\n",
      "tom ballou  : got no open leagues\n",
      "tom ballou  : got no open leagues\n",
      "tom ballou  : got no open leagues\n",
      "Andrea Woods  : got no open leagues\n",
      "Andrea Woods  : got no open leagues\n",
      "Andrea Woods  : got no open leagues\n",
      "David Nisula  : got no open leagues\n",
      "David Nisula  : got no open leagues\n",
      "Martha Balas  : got no open leagues\n",
      "Martha Balas  : got no open leagues\n",
      "Martha Balas  : got no open leagues\n",
      "Mary Kavanagh  : got no open leagues\n",
      "Mary Kavanagh  : got no open leagues\n",
      "Mary Kavanagh  : got no open leagues\n",
      "Mary Kavanagh  : got no open leagues\n",
      "Barbara Sheerin  : got no open leagues\n"
     ]
    }
   ],
   "source": [
    "if True:\n",
    "    #now...print up a list of  problems...use information in regTracking\n",
    "    #essentially..how many people have # 'yes' < numberLeagues\n",
    "    for idx in range(0,nPeople):\n",
    "        test = regTracking.loc[idx,openLeagues]\n",
    "        m =test[test=='yes']\n",
    "        if len(m) > 0:\n",
    "            if len(m) < regSorted.loc[idx,'numberLeagues']:\n",
    "                oneName = regSorted.loc[idx,['lastname', 'firstname']] \n",
    "                #print oneName['firstname'], oneName['lastname'], ' : wanted more'\n",
    "        elif len(m) ==0:\n",
    "            print oneName['firstname'], oneName['lastname'], ' : got no open leagues'\n",
    "        del test,m"
   ]
  },
  {
   "cell_type": "code",
   "execution_count": 322,
   "metadata": {
    "collapsed": false
   },
   "outputs": [],
   "source": [
    "regTracking.loc[1,'League_6_Thursday_Open'] = 4 "
   ]
  },
  {
   "cell_type": "code",
   "execution_count": 323,
   "metadata": {
    "collapsed": false
   },
   "outputs": [
    {
     "data": {
      "text/plain": [
       "Register Date                                           12/30/2015 0:06\n",
       "Event Name                    2015-2016 Second Half League Registration\n",
       "firstname                                                         Steve\n",
       "lastname                                                           Mojo\n",
       "numberLeagues                                                         1\n",
       "League_1_Sunday_Open                                                NaN\n",
       "League_2_Monday_Open                                                NaN\n",
       "League_3_Monday_Night_Open                                          NaN\n",
       "League_Tuesday_Open                                                 NaN\n",
       "League_4_Men                                                       done\n",
       "League_5_Wednesday_Open                                               2\n",
       "League_6_Thursday_Open                                                4\n",
       "League_7_Ladies                                                     NaN\n",
       "League_Friday_Doubles                                                No\n",
       "League_Friday_Doubles2                                              NaN\n",
       "League_Friday_Doubles3                                              NaN\n",
       "Competitive_League                                            On a team\n",
       "Competitive_League_Part2                                         Bagley\n",
       "League_Scrod                                                        NaN\n",
       "League_Day_Curling                                                  Yes\n",
       "League_Sub                                                          NaN\n",
       "Name: 1, dtype: object"
      ]
     },
     "execution_count": 323,
     "metadata": {},
     "output_type": "execute_result"
    }
   ],
   "source": [
    "regTracking.loc[1]"
   ]
  },
  {
   "cell_type": "code",
   "execution_count": 330,
   "metadata": {
    "collapsed": false
   },
   "outputs": [
    {
     "data": {
      "text/plain": [
       "League_1_Sunday_Open          NaN\n",
       "League_2_Monday_Open          NaN\n",
       "League_3_Monday_Night_Open    NaN\n",
       "League_Tuesday_Open           NaN\n",
       "League_5_Wednesday_Open         2\n",
       "League_6_Thursday_Open          4\n",
       "Name: 1, dtype: object"
      ]
     },
     "execution_count": 330,
     "metadata": {},
     "output_type": "execute_result"
    }
   ],
   "source": [
    "test = regTracking.loc[1,openLeagues]\n",
    "test"
   ]
  },
  {
   "cell_type": "code",
   "execution_count": 331,
   "metadata": {
    "collapsed": false
   },
   "outputs": [
    {
     "data": {
      "text/plain": [
       "League_1_Sunday_Open          NaN\n",
       "League_2_Monday_Open          NaN\n",
       "League_3_Monday_Night_Open    NaN\n",
       "League_Tuesday_Open           NaN\n",
       "League_5_Wednesday_Open         2\n",
       "League_6_Thursday_Open        NaN\n",
       "Name: 1, dtype: object"
      ]
     },
     "execution_count": 331,
     "metadata": {},
     "output_type": "execute_result"
    }
   ],
   "source": [
    "regSorted.loc[1,openLeagues]"
   ]
  },
  {
   "cell_type": "code",
   "execution_count": null,
   "metadata": {
    "collapsed": true
   },
   "outputs": [],
   "source": []
  },
  {
   "cell_type": "code",
   "execution_count": 326,
   "metadata": {
    "collapsed": false
   },
   "outputs": [
    {
     "data": {
      "text/plain": [
       "Series([], Name: 1, dtype: object)"
      ]
     },
     "execution_count": 326,
     "metadata": {},
     "output_type": "execute_result"
    }
   ],
   "source": [
    "m =test[test=='yes']\n",
    "m"
   ]
  },
  {
   "cell_type": "code",
   "execution_count": 327,
   "metadata": {
    "collapsed": false
   },
   "outputs": [
    {
     "data": {
      "text/plain": [
       "0"
      ]
     },
     "execution_count": 327,
     "metadata": {},
     "output_type": "execute_result"
    }
   ],
   "source": [
    "len(m)"
   ]
  },
  {
   "cell_type": "code",
   "execution_count": 282,
   "metadata": {
    "collapsed": false
   },
   "outputs": [
    {
     "name": "stdout",
     "output_type": "stream",
     "text": [
      "tom ballou\n"
     ]
    }
   ],
   "source": [
    "print oneName['firstname'], oneName['lastname']"
   ]
  },
  {
   "cell_type": "code",
   "execution_count": null,
   "metadata": {
    "collapsed": true
   },
   "outputs": [],
   "source": []
  },
  {
   "cell_type": "code",
   "execution_count": null,
   "metadata": {
    "collapsed": true
   },
   "outputs": [],
   "source": []
  },
  {
   "cell_type": "code",
   "execution_count": null,
   "metadata": {
    "collapsed": false
   },
   "outputs": [],
   "source": [
    "# leave here bc I keep having to look this up\n",
    "#df.loc[df['column_name'] == some_value]\n",
    "regTracking.loc[regTracking['lastname']=='Longnecker']"
   ]
  },
  {
   "cell_type": "code",
   "execution_count": null,
   "metadata": {
    "collapsed": true
   },
   "outputs": [],
   "source": [
    "#regTracking.to_csv('temp6.csv')"
   ]
  },
  {
   "cell_type": "code",
   "execution_count": null,
   "metadata": {
    "collapsed": true
   },
   "outputs": [],
   "source": []
  }
 ],
 "metadata": {
  "kernelspec": {
   "display_name": "Python 2",
   "language": "python",
   "name": "python2"
  },
  "language_info": {
   "codemirror_mode": {
    "name": "ipython",
    "version": 2
   },
   "file_extension": ".py",
   "mimetype": "text/x-python",
   "name": "python",
   "nbconvert_exporter": "python",
   "pygments_lexer": "ipython2",
   "version": "2.7.12"
  }
 },
 "nbformat": 4,
 "nbformat_minor": 1
}
