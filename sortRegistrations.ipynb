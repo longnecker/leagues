{
 "cells": [
  {
   "cell_type": "markdown",
   "metadata": {},
   "source": [
    "Get going on sorting people into leagues for curling\n",
    "KL 8/17/2016"
   ]
  },
  {
   "cell_type": "code",
   "execution_count": 1,
   "metadata": {
    "collapsed": false
   },
   "outputs": [
    {
     "name": "stdout",
     "output_type": "stream",
     "text": [
      "Once deleted, variables cannot be recovered. Proceed (y/[n])? y\n"
     ]
    }
   ],
   "source": [
    "%reset"
   ]
  },
  {
   "cell_type": "code",
   "execution_count": 135,
   "metadata": {
    "collapsed": true
   },
   "outputs": [],
   "source": [
    "import pandas as pd\n",
    "import numpy as np\n",
    "import math\n",
    "\n",
    "#used this to step into the function and debug it, also need line with Tracer()() \n",
    "from IPython.core.debugger import Tracer "
   ]
  },
  {
   "cell_type": "code",
   "execution_count": 155,
   "metadata": {
    "collapsed": false
   },
   "outputs": [],
   "source": [
    "#read in the file with the information on people's priorities\n",
    "#goal will be to use the version that comes out of the website\n",
    "fName = 'TestPriority3.csv'\n",
    "regInfo=pd.read_csv(fName)"
   ]
  },
  {
   "cell_type": "code",
   "execution_count": 156,
   "metadata": {
    "collapsed": false
   },
   "outputs": [],
   "source": [
    "##OK, now that I have the data in Python, add some columns that I will need\n",
    "#first, how many numbers so I need?\n",
    "nPeople = len(regInfo.index)\n",
    "regInfo['randomNumCol'] = np.random.choice(range(nPeople), nPeople,replace = False)"
   ]
  },
  {
   "cell_type": "code",
   "execution_count": 157,
   "metadata": {
    "collapsed": false
   },
   "outputs": [
    {
     "data": {
      "text/html": [
       "<div>\n",
       "<table border=\"1\" class=\"dataframe\">\n",
       "  <thead>\n",
       "    <tr style=\"text-align: right;\">\n",
       "      <th></th>\n",
       "      <th>Register Date</th>\n",
       "      <th>Event Name</th>\n",
       "      <th>firstname</th>\n",
       "      <th>lastname</th>\n",
       "      <th>numberLeagues</th>\n",
       "      <th>League_1_Sunday_Open</th>\n",
       "      <th>League_2_Monday_Open</th>\n",
       "      <th>League_3_Monday_Night_Open</th>\n",
       "      <th>League_Tuesday_Open</th>\n",
       "      <th>League_4_Men</th>\n",
       "      <th>...</th>\n",
       "      <th>League_7_Ladies</th>\n",
       "      <th>League_Friday_Doubles</th>\n",
       "      <th>League_Friday_Doubles2</th>\n",
       "      <th>League_Friday_Doubles3</th>\n",
       "      <th>Competitive_League</th>\n",
       "      <th>Competitive_League_Part2</th>\n",
       "      <th>League_Scrod</th>\n",
       "      <th>League_Day_Curling</th>\n",
       "      <th>League_Sub</th>\n",
       "      <th>randomNumCol</th>\n",
       "    </tr>\n",
       "  </thead>\n",
       "  <tbody>\n",
       "    <tr>\n",
       "      <th>0</th>\n",
       "      <td>12/30/2015 8:06</td>\n",
       "      <td>2015-2016 Second Half League Registration</td>\n",
       "      <td>Elizabeth</td>\n",
       "      <td>Abeltin</td>\n",
       "      <td>1</td>\n",
       "      <td>NaN</td>\n",
       "      <td>NaN</td>\n",
       "      <td>NaN</td>\n",
       "      <td>1</td>\n",
       "      <td>NaN</td>\n",
       "      <td>...</td>\n",
       "      <td>NaN</td>\n",
       "      <td>No</td>\n",
       "      <td>NaN</td>\n",
       "      <td>NaN</td>\n",
       "      <td>On a team</td>\n",
       "      <td>Baxter / Heisler/ Longnecker</td>\n",
       "      <td>NaN</td>\n",
       "      <td>No</td>\n",
       "      <td>Sunday Night Open, Monday Night Open</td>\n",
       "      <td>2</td>\n",
       "    </tr>\n",
       "    <tr>\n",
       "      <th>1</th>\n",
       "      <td>12/31/2015 13:41</td>\n",
       "      <td>2015-2016 Second Half League Registration</td>\n",
       "      <td>Neel</td>\n",
       "      <td>Aluru</td>\n",
       "      <td>0</td>\n",
       "      <td>NaN</td>\n",
       "      <td>NaN</td>\n",
       "      <td>NaN</td>\n",
       "      <td>NaN</td>\n",
       "      <td>NaN</td>\n",
       "      <td>...</td>\n",
       "      <td>NaN</td>\n",
       "      <td>Yes</td>\n",
       "      <td>Enter your own Team</td>\n",
       "      <td>Phil Bruce</td>\n",
       "      <td>On a team</td>\n",
       "      <td>Doc Dunkley</td>\n",
       "      <td>NaN</td>\n",
       "      <td>No</td>\n",
       "      <td>Monday Night Open, Tuesday Night Men</td>\n",
       "      <td>163</td>\n",
       "    </tr>\n",
       "  </tbody>\n",
       "</table>\n",
       "<p>2 rows × 22 columns</p>\n",
       "</div>"
      ],
      "text/plain": [
       "      Register Date                                 Event Name  firstname  \\\n",
       "0   12/30/2015 8:06  2015-2016 Second Half League Registration  Elizabeth   \n",
       "1  12/31/2015 13:41  2015-2016 Second Half League Registration       Neel   \n",
       "\n",
       "  lastname  numberLeagues  League_1_Sunday_Open League_2_Monday_Open  \\\n",
       "0  Abeltin              1                   NaN                  NaN   \n",
       "1    Aluru              0                   NaN                  NaN   \n",
       "\n",
       "   League_3_Monday_Night_Open League_Tuesday_Open League_4_Men     ...       \\\n",
       "0                         NaN                   1          NaN     ...        \n",
       "1                         NaN                 NaN          NaN     ...        \n",
       "\n",
       "  League_7_Ladies League_Friday_Doubles League_Friday_Doubles2  \\\n",
       "0             NaN                    No                    NaN   \n",
       "1             NaN                   Yes    Enter your own Team   \n",
       "\n",
       "  League_Friday_Doubles3 Competitive_League       Competitive_League_Part2  \\\n",
       "0                    NaN          On a team  Baxter / Heisler/ Longnecker    \n",
       "1             Phil Bruce          On a team                    Doc Dunkley   \n",
       "\n",
       "  League_Scrod League_Day_Curling                            League_Sub  \\\n",
       "0          NaN                 No  Sunday Night Open, Monday Night Open   \n",
       "1          NaN                 No  Monday Night Open, Tuesday Night Men   \n",
       "\n",
       "  randomNumCol  \n",
       "0            2  \n",
       "1          163  \n",
       "\n",
       "[2 rows x 22 columns]"
      ]
     },
     "execution_count": 157,
     "metadata": {},
     "output_type": "execute_result"
    }
   ],
   "source": [
    "regInfo.head(2)"
   ]
  },
  {
   "cell_type": "code",
   "execution_count": 158,
   "metadata": {
    "collapsed": false
   },
   "outputs": [],
   "source": [
    "##so now, moving back to the list of people, sort the list by the random number\n",
    "regSorted = regInfo.sort_values(by = 'randomNumCol', ascending=True)"
   ]
  },
  {
   "cell_type": "code",
   "execution_count": 159,
   "metadata": {
    "collapsed": false
   },
   "outputs": [],
   "source": [
    "regSorted = regSorted.set_index(['randomNumCol'])"
   ]
  },
  {
   "cell_type": "code",
   "execution_count": 178,
   "metadata": {
    "collapsed": false
   },
   "outputs": [
    {
     "data": {
      "text/html": [
       "<div>\n",
       "<table border=\"1\" class=\"dataframe\">\n",
       "  <thead>\n",
       "    <tr style=\"text-align: right;\">\n",
       "      <th></th>\n",
       "      <th>Register Date</th>\n",
       "      <th>Event Name</th>\n",
       "      <th>firstname</th>\n",
       "      <th>lastname</th>\n",
       "      <th>numberLeagues</th>\n",
       "      <th>League_1_Sunday_Open</th>\n",
       "      <th>League_2_Monday_Open</th>\n",
       "      <th>League_3_Monday_Night_Open</th>\n",
       "      <th>League_Tuesday_Open</th>\n",
       "      <th>League_4_Men</th>\n",
       "      <th>...</th>\n",
       "      <th>League_6_Thursday_Open</th>\n",
       "      <th>League_7_Ladies</th>\n",
       "      <th>League_Friday_Doubles</th>\n",
       "      <th>League_Friday_Doubles2</th>\n",
       "      <th>League_Friday_Doubles3</th>\n",
       "      <th>Competitive_League</th>\n",
       "      <th>Competitive_League_Part2</th>\n",
       "      <th>League_Scrod</th>\n",
       "      <th>League_Day_Curling</th>\n",
       "      <th>League_Sub</th>\n",
       "    </tr>\n",
       "    <tr>\n",
       "      <th>randomNumCol</th>\n",
       "      <th></th>\n",
       "      <th></th>\n",
       "      <th></th>\n",
       "      <th></th>\n",
       "      <th></th>\n",
       "      <th></th>\n",
       "      <th></th>\n",
       "      <th></th>\n",
       "      <th></th>\n",
       "      <th></th>\n",
       "      <th></th>\n",
       "      <th></th>\n",
       "      <th></th>\n",
       "      <th></th>\n",
       "      <th></th>\n",
       "      <th></th>\n",
       "      <th></th>\n",
       "      <th></th>\n",
       "      <th></th>\n",
       "      <th></th>\n",
       "      <th></th>\n",
       "    </tr>\n",
       "  </thead>\n",
       "  <tbody>\n",
       "    <tr>\n",
       "      <th>0</th>\n",
       "      <td>12/30/2015 0:10</td>\n",
       "      <td>2015-2016 Second Half League Registration</td>\n",
       "      <td>Levi</td>\n",
       "      <td>Gorrell</td>\n",
       "      <td>0</td>\n",
       "      <td>NaN</td>\n",
       "      <td>NaN</td>\n",
       "      <td>NaN</td>\n",
       "      <td>NaN</td>\n",
       "      <td>NaN</td>\n",
       "      <td>...</td>\n",
       "      <td>NaN</td>\n",
       "      <td>NaN</td>\n",
       "      <td>Yes</td>\n",
       "      <td>Enter your own Team</td>\n",
       "      <td>Matina Heisler</td>\n",
       "      <td>On a team</td>\n",
       "      <td>Eatough</td>\n",
       "      <td>NaN</td>\n",
       "      <td>No</td>\n",
       "      <td>NaN</td>\n",
       "    </tr>\n",
       "    <tr>\n",
       "      <th>1</th>\n",
       "      <td>12/31/2015 16:04</td>\n",
       "      <td>2015-2016 Second Half League Registration</td>\n",
       "      <td>Arunas</td>\n",
       "      <td>Kleinas</td>\n",
       "      <td>0</td>\n",
       "      <td>NaN</td>\n",
       "      <td>NaN</td>\n",
       "      <td>NaN</td>\n",
       "      <td>NaN</td>\n",
       "      <td>Yes</td>\n",
       "      <td>...</td>\n",
       "      <td>NaN</td>\n",
       "      <td>NaN</td>\n",
       "      <td>No</td>\n",
       "      <td>NaN</td>\n",
       "      <td>NaN</td>\n",
       "      <td>On a team</td>\n",
       "      <td>Kleinas</td>\n",
       "      <td>NaN</td>\n",
       "      <td>No</td>\n",
       "      <td>NaN</td>\n",
       "    </tr>\n",
       "    <tr>\n",
       "      <th>2</th>\n",
       "      <td>12/30/2015 8:06</td>\n",
       "      <td>2015-2016 Second Half League Registration</td>\n",
       "      <td>Elizabeth</td>\n",
       "      <td>Abeltin</td>\n",
       "      <td>1</td>\n",
       "      <td>NaN</td>\n",
       "      <td>NaN</td>\n",
       "      <td>NaN</td>\n",
       "      <td>1</td>\n",
       "      <td>NaN</td>\n",
       "      <td>...</td>\n",
       "      <td>NaN</td>\n",
       "      <td>NaN</td>\n",
       "      <td>No</td>\n",
       "      <td>NaN</td>\n",
       "      <td>NaN</td>\n",
       "      <td>On a team</td>\n",
       "      <td>Baxter / Heisler/ Longnecker</td>\n",
       "      <td>NaN</td>\n",
       "      <td>No</td>\n",
       "      <td>Sunday Night Open, Monday Night Open</td>\n",
       "    </tr>\n",
       "    <tr>\n",
       "      <th>3</th>\n",
       "      <td>12/30/2015 0:17</td>\n",
       "      <td>2015-2016 Second Half League Registration</td>\n",
       "      <td>Carrie</td>\n",
       "      <td>Gentile</td>\n",
       "      <td>1</td>\n",
       "      <td>NaN</td>\n",
       "      <td>NaN</td>\n",
       "      <td>1.0</td>\n",
       "      <td>NaN</td>\n",
       "      <td>NaN</td>\n",
       "      <td>...</td>\n",
       "      <td>NaN</td>\n",
       "      <td>NaN</td>\n",
       "      <td>No</td>\n",
       "      <td>NaN</td>\n",
       "      <td>NaN</td>\n",
       "      <td>No</td>\n",
       "      <td>NaN</td>\n",
       "      <td>OK</td>\n",
       "      <td>No</td>\n",
       "      <td>NaN</td>\n",
       "    </tr>\n",
       "    <tr>\n",
       "      <th>4</th>\n",
       "      <td>12/31/2015 9:00</td>\n",
       "      <td>2015-2016 Second Half League Registration</td>\n",
       "      <td>Bill</td>\n",
       "      <td>Hough</td>\n",
       "      <td>0</td>\n",
       "      <td>NaN</td>\n",
       "      <td>NaN</td>\n",
       "      <td>NaN</td>\n",
       "      <td>NaN</td>\n",
       "      <td>NaN</td>\n",
       "      <td>...</td>\n",
       "      <td>NaN</td>\n",
       "      <td>NaN</td>\n",
       "      <td>No</td>\n",
       "      <td>NaN</td>\n",
       "      <td>NaN</td>\n",
       "      <td>No</td>\n",
       "      <td>NaN</td>\n",
       "      <td>OK</td>\n",
       "      <td>No</td>\n",
       "      <td>NaN</td>\n",
       "    </tr>\n",
       "  </tbody>\n",
       "</table>\n",
       "<p>5 rows × 21 columns</p>\n",
       "</div>"
      ],
      "text/plain": [
       "                 Register Date                                 Event Name  \\\n",
       "randomNumCol                                                                \n",
       "0              12/30/2015 0:10  2015-2016 Second Half League Registration   \n",
       "1             12/31/2015 16:04  2015-2016 Second Half League Registration   \n",
       "2              12/30/2015 8:06  2015-2016 Second Half League Registration   \n",
       "3              12/30/2015 0:17  2015-2016 Second Half League Registration   \n",
       "4              12/31/2015 9:00  2015-2016 Second Half League Registration   \n",
       "\n",
       "              firstname lastname  numberLeagues  League_1_Sunday_Open  \\\n",
       "randomNumCol                                                            \n",
       "0                  Levi  Gorrell              0                   NaN   \n",
       "1                Arunas  Kleinas              0                   NaN   \n",
       "2             Elizabeth  Abeltin              1                   NaN   \n",
       "3                Carrie  Gentile              1                   NaN   \n",
       "4                  Bill    Hough              0                   NaN   \n",
       "\n",
       "             League_2_Monday_Open  League_3_Monday_Night_Open  \\\n",
       "randomNumCol                                                    \n",
       "0                             NaN                         NaN   \n",
       "1                             NaN                         NaN   \n",
       "2                             NaN                         NaN   \n",
       "3                             NaN                         1.0   \n",
       "4                             NaN                         NaN   \n",
       "\n",
       "             League_Tuesday_Open League_4_Men  \\\n",
       "randomNumCol                                    \n",
       "0                            NaN          NaN   \n",
       "1                            NaN          Yes   \n",
       "2                              1          NaN   \n",
       "3                            NaN          NaN   \n",
       "4                            NaN          NaN   \n",
       "\n",
       "                              ...                  League_6_Thursday_Open  \\\n",
       "randomNumCol                  ...                                           \n",
       "0                             ...                                     NaN   \n",
       "1                             ...                                     NaN   \n",
       "2                             ...                                     NaN   \n",
       "3                             ...                                     NaN   \n",
       "4                             ...                                     NaN   \n",
       "\n",
       "             League_7_Ladies League_Friday_Doubles League_Friday_Doubles2  \\\n",
       "randomNumCol                                                                \n",
       "0                        NaN                   Yes    Enter your own Team   \n",
       "1                        NaN                    No                    NaN   \n",
       "2                        NaN                    No                    NaN   \n",
       "3                        NaN                    No                    NaN   \n",
       "4                        NaN                    No                    NaN   \n",
       "\n",
       "             League_Friday_Doubles3 Competitive_League  \\\n",
       "randomNumCol                                             \n",
       "0                    Matina Heisler          On a team   \n",
       "1                               NaN          On a team   \n",
       "2                               NaN          On a team   \n",
       "3                               NaN                 No   \n",
       "4                               NaN                 No   \n",
       "\n",
       "                   Competitive_League_Part2 League_Scrod League_Day_Curling  \\\n",
       "randomNumCol                                                                  \n",
       "0                                   Eatough          NaN                 No   \n",
       "1                                   Kleinas          NaN                 No   \n",
       "2             Baxter / Heisler/ Longnecker           NaN                 No   \n",
       "3                                       NaN           OK                 No   \n",
       "4                                       NaN           OK                 No   \n",
       "\n",
       "                                        League_Sub  \n",
       "randomNumCol                                        \n",
       "0                                              NaN  \n",
       "1                                              NaN  \n",
       "2             Sunday Night Open, Monday Night Open  \n",
       "3                                              NaN  \n",
       "4                                              NaN  \n",
       "\n",
       "[5 rows x 21 columns]"
      ]
     },
     "execution_count": 178,
     "metadata": {},
     "output_type": "execute_result"
    }
   ],
   "source": [
    "regSorted.head(5)"
   ]
  },
  {
   "cell_type": "code",
   "execution_count": null,
   "metadata": {
    "collapsed": true
   },
   "outputs": [],
   "source": []
  },
  {
   "cell_type": "code",
   "execution_count": 161,
   "metadata": {
    "collapsed": false
   },
   "outputs": [
    {
     "data": {
      "text/plain": [
       "['League_1_Sunday_Open',\n",
       " 'League_2_Monday_Open',\n",
       " 'League_3_Monday_Night_Open',\n",
       " 'League_Tuesday_Open',\n",
       " 'League_5_Wednesday_Open',\n",
       " 'League_6_Thursday_Open']"
      ]
     },
     "execution_count": 161,
     "metadata": {},
     "output_type": "execute_result"
    }
   ],
   "source": [
    "#now, make up a series of variables that are the names of the leagues, \n",
    "#can pull the leageu names from imported CSV file. They won't move around,\n",
    "#so just index in, but don't need the Men's league in here\n",
    "openLeagues = list(regInfo)[5:12]\n",
    "openLeagues.remove('League_4_Men')\n",
    "openLeagues"
   ]
  },
  {
   "cell_type": "code",
   "execution_count": 162,
   "metadata": {
    "collapsed": true
   },
   "outputs": [],
   "source": [
    "#setup the dictionary to hold the people information\n",
    "leagueDict = {}\n",
    "for name in openLeagues:\n",
    "    leagueDict[name] = pd.DataFrame()"
   ]
  },
  {
   "cell_type": "code",
   "execution_count": 163,
   "metadata": {
    "collapsed": false
   },
   "outputs": [],
   "source": [
    "def addOne(leagueDict,oneLeague,oneName):\n",
    "    if len(leagueDict[oneLeague])==0: #nothing there yet\n",
    "        leagueDict[oneLeague] = oneName\n",
    "    else:     #need to append\n",
    "        r = [leagueDict[oneLeague]]\n",
    "        r.append(oneName)\n",
    "        leagueDict[oneLeague] = r\n",
    "    return leagueDict"
   ]
  },
  {
   "cell_type": "code",
   "execution_count": 164,
   "metadata": {
    "collapsed": false
   },
   "outputs": [
    {
     "data": {
      "text/html": [
       "<div>\n",
       "<table border=\"1\" class=\"dataframe\">\n",
       "  <thead>\n",
       "    <tr style=\"text-align: right;\">\n",
       "      <th></th>\n",
       "      <th>Register Date</th>\n",
       "      <th>Event Name</th>\n",
       "      <th>firstname</th>\n",
       "      <th>lastname</th>\n",
       "      <th>numberLeagues</th>\n",
       "      <th>League_1_Sunday_Open</th>\n",
       "      <th>League_2_Monday_Open</th>\n",
       "      <th>League_3_Monday_Night_Open</th>\n",
       "      <th>League_Tuesday_Open</th>\n",
       "      <th>League_4_Men</th>\n",
       "      <th>...</th>\n",
       "      <th>League_6_Thursday_Open</th>\n",
       "      <th>League_7_Ladies</th>\n",
       "      <th>League_Friday_Doubles</th>\n",
       "      <th>League_Friday_Doubles2</th>\n",
       "      <th>League_Friday_Doubles3</th>\n",
       "      <th>Competitive_League</th>\n",
       "      <th>Competitive_League_Part2</th>\n",
       "      <th>League_Scrod</th>\n",
       "      <th>League_Day_Curling</th>\n",
       "      <th>League_Sub</th>\n",
       "    </tr>\n",
       "    <tr>\n",
       "      <th>randomNumCol</th>\n",
       "      <th></th>\n",
       "      <th></th>\n",
       "      <th></th>\n",
       "      <th></th>\n",
       "      <th></th>\n",
       "      <th></th>\n",
       "      <th></th>\n",
       "      <th></th>\n",
       "      <th></th>\n",
       "      <th></th>\n",
       "      <th></th>\n",
       "      <th></th>\n",
       "      <th></th>\n",
       "      <th></th>\n",
       "      <th></th>\n",
       "      <th></th>\n",
       "      <th></th>\n",
       "      <th></th>\n",
       "      <th></th>\n",
       "      <th></th>\n",
       "      <th></th>\n",
       "    </tr>\n",
       "  </thead>\n",
       "  <tbody>\n",
       "    <tr>\n",
       "      <th>0</th>\n",
       "      <td>12/30/2015 0:10</td>\n",
       "      <td>2015-2016 Second Half League Registration</td>\n",
       "      <td>Levi</td>\n",
       "      <td>Gorrell</td>\n",
       "      <td>0</td>\n",
       "      <td>NaN</td>\n",
       "      <td>NaN</td>\n",
       "      <td>NaN</td>\n",
       "      <td>NaN</td>\n",
       "      <td>NaN</td>\n",
       "      <td>...</td>\n",
       "      <td>NaN</td>\n",
       "      <td>NaN</td>\n",
       "      <td>Yes</td>\n",
       "      <td>Enter your own Team</td>\n",
       "      <td>Matina Heisler</td>\n",
       "      <td>On a team</td>\n",
       "      <td>Eatough</td>\n",
       "      <td>NaN</td>\n",
       "      <td>No</td>\n",
       "      <td>NaN</td>\n",
       "    </tr>\n",
       "    <tr>\n",
       "      <th>1</th>\n",
       "      <td>12/31/2015 16:04</td>\n",
       "      <td>2015-2016 Second Half League Registration</td>\n",
       "      <td>Arunas</td>\n",
       "      <td>Kleinas</td>\n",
       "      <td>0</td>\n",
       "      <td>NaN</td>\n",
       "      <td>NaN</td>\n",
       "      <td>NaN</td>\n",
       "      <td>NaN</td>\n",
       "      <td>Yes</td>\n",
       "      <td>...</td>\n",
       "      <td>NaN</td>\n",
       "      <td>NaN</td>\n",
       "      <td>No</td>\n",
       "      <td>NaN</td>\n",
       "      <td>NaN</td>\n",
       "      <td>On a team</td>\n",
       "      <td>Kleinas</td>\n",
       "      <td>NaN</td>\n",
       "      <td>No</td>\n",
       "      <td>NaN</td>\n",
       "    </tr>\n",
       "  </tbody>\n",
       "</table>\n",
       "<p>2 rows × 21 columns</p>\n",
       "</div>"
      ],
      "text/plain": [
       "                 Register Date                                 Event Name  \\\n",
       "randomNumCol                                                                \n",
       "0              12/30/2015 0:10  2015-2016 Second Half League Registration   \n",
       "1             12/31/2015 16:04  2015-2016 Second Half League Registration   \n",
       "\n",
       "             firstname lastname  numberLeagues  League_1_Sunday_Open  \\\n",
       "randomNumCol                                                           \n",
       "0                 Levi  Gorrell              0                   NaN   \n",
       "1               Arunas  Kleinas              0                   NaN   \n",
       "\n",
       "             League_2_Monday_Open  League_3_Monday_Night_Open  \\\n",
       "randomNumCol                                                    \n",
       "0                             NaN                         NaN   \n",
       "1                             NaN                         NaN   \n",
       "\n",
       "             League_Tuesday_Open League_4_Men    ...      \\\n",
       "randomNumCol                                     ...       \n",
       "0                            NaN          NaN    ...       \n",
       "1                            NaN          Yes    ...       \n",
       "\n",
       "             League_6_Thursday_Open League_7_Ladies League_Friday_Doubles  \\\n",
       "randomNumCol                                                                \n",
       "0                               NaN             NaN                   Yes   \n",
       "1                               NaN             NaN                    No   \n",
       "\n",
       "             League_Friday_Doubles2 League_Friday_Doubles3 Competitive_League  \\\n",
       "randomNumCol                                                                    \n",
       "0               Enter your own Team         Matina Heisler          On a team   \n",
       "1                               NaN                    NaN          On a team   \n",
       "\n",
       "             Competitive_League_Part2 League_Scrod League_Day_Curling  \\\n",
       "randomNumCol                                                            \n",
       "0                             Eatough          NaN                 No   \n",
       "1                             Kleinas          NaN                 No   \n",
       "\n",
       "             League_Sub  \n",
       "randomNumCol             \n",
       "0                   NaN  \n",
       "1                   NaN  \n",
       "\n",
       "[2 rows x 21 columns]"
      ]
     },
     "execution_count": 164,
     "metadata": {},
     "output_type": "execute_result"
    }
   ],
   "source": [
    "regSorted.head(2)"
   ]
  },
  {
   "cell_type": "code",
   "execution_count": 165,
   "metadata": {
    "collapsed": false
   },
   "outputs": [
    {
     "data": {
      "text/html": [
       "<div>\n",
       "<table border=\"1\" class=\"dataframe\">\n",
       "  <thead>\n",
       "    <tr style=\"text-align: right;\">\n",
       "      <th></th>\n",
       "      <th>Register Date</th>\n",
       "      <th>Event Name</th>\n",
       "      <th>firstname</th>\n",
       "      <th>lastname</th>\n",
       "      <th>numberLeagues</th>\n",
       "      <th>League_1_Sunday_Open</th>\n",
       "      <th>League_2_Monday_Open</th>\n",
       "      <th>League_3_Monday_Night_Open</th>\n",
       "      <th>League_Tuesday_Open</th>\n",
       "      <th>League_4_Men</th>\n",
       "      <th>...</th>\n",
       "      <th>League_6_Thursday_Open</th>\n",
       "      <th>League_7_Ladies</th>\n",
       "      <th>League_Friday_Doubles</th>\n",
       "      <th>League_Friday_Doubles2</th>\n",
       "      <th>League_Friday_Doubles3</th>\n",
       "      <th>Competitive_League</th>\n",
       "      <th>Competitive_League_Part2</th>\n",
       "      <th>League_Scrod</th>\n",
       "      <th>League_Day_Curling</th>\n",
       "      <th>League_Sub</th>\n",
       "    </tr>\n",
       "    <tr>\n",
       "      <th>randomNumCol</th>\n",
       "      <th></th>\n",
       "      <th></th>\n",
       "      <th></th>\n",
       "      <th></th>\n",
       "      <th></th>\n",
       "      <th></th>\n",
       "      <th></th>\n",
       "      <th></th>\n",
       "      <th></th>\n",
       "      <th></th>\n",
       "      <th></th>\n",
       "      <th></th>\n",
       "      <th></th>\n",
       "      <th></th>\n",
       "      <th></th>\n",
       "      <th></th>\n",
       "      <th></th>\n",
       "      <th></th>\n",
       "      <th></th>\n",
       "      <th></th>\n",
       "      <th></th>\n",
       "    </tr>\n",
       "  </thead>\n",
       "  <tbody>\n",
       "    <tr>\n",
       "      <th>45</th>\n",
       "      <td>12/30/2015 11:09</td>\n",
       "      <td>2015-2016 Second Half League Registration</td>\n",
       "      <td>Krista</td>\n",
       "      <td>Longnecker</td>\n",
       "      <td>1</td>\n",
       "      <td>NaN</td>\n",
       "      <td>NaN</td>\n",
       "      <td>1.0</td>\n",
       "      <td>NaN</td>\n",
       "      <td>NaN</td>\n",
       "      <td>...</td>\n",
       "      <td>NaN</td>\n",
       "      <td>NaN</td>\n",
       "      <td>No</td>\n",
       "      <td>NaN</td>\n",
       "      <td>NaN</td>\n",
       "      <td>On a team</td>\n",
       "      <td>Longnecker</td>\n",
       "      <td>NaN</td>\n",
       "      <td>No</td>\n",
       "      <td>NaN</td>\n",
       "    </tr>\n",
       "  </tbody>\n",
       "</table>\n",
       "<p>1 rows × 21 columns</p>\n",
       "</div>"
      ],
      "text/plain": [
       "                 Register Date                                 Event Name  \\\n",
       "randomNumCol                                                                \n",
       "45            12/30/2015 11:09  2015-2016 Second Half League Registration   \n",
       "\n",
       "             firstname    lastname  numberLeagues  League_1_Sunday_Open  \\\n",
       "randomNumCol                                                              \n",
       "45              Krista  Longnecker              1                   NaN   \n",
       "\n",
       "             League_2_Monday_Open  League_3_Monday_Night_Open  \\\n",
       "randomNumCol                                                    \n",
       "45                            NaN                         1.0   \n",
       "\n",
       "             League_Tuesday_Open League_4_Men    ...      \\\n",
       "randomNumCol                                     ...       \n",
       "45                           NaN          NaN    ...       \n",
       "\n",
       "             League_6_Thursday_Open League_7_Ladies League_Friday_Doubles  \\\n",
       "randomNumCol                                                                \n",
       "45                              NaN             NaN                    No   \n",
       "\n",
       "             League_Friday_Doubles2 League_Friday_Doubles3 Competitive_League  \\\n",
       "randomNumCol                                                                    \n",
       "45                              NaN                    NaN          On a team   \n",
       "\n",
       "             Competitive_League_Part2 League_Scrod League_Day_Curling  \\\n",
       "randomNumCol                                                            \n",
       "45                         Longnecker          NaN                 No   \n",
       "\n",
       "             League_Sub  \n",
       "randomNumCol             \n",
       "45                  NaN  \n",
       "\n",
       "[1 rows x 21 columns]"
      ]
     },
     "execution_count": 165,
     "metadata": {},
     "output_type": "execute_result"
    }
   ],
   "source": [
    "regSorted.loc[regSorted['lastname']=='Longnecker']"
   ]
  },
  {
   "cell_type": "code",
   "execution_count": 166,
   "metadata": {
    "collapsed": false
   },
   "outputs": [],
   "source": [
    "idx =54\n",
    "#have to do dropna first or else min will not be consistent...\n",
    "onePriority = regSorted.loc[idx,openLeagues].dropna().min()"
   ]
  },
  {
   "cell_type": "code",
   "execution_count": 167,
   "metadata": {
    "collapsed": false
   },
   "outputs": [
    {
     "data": {
      "text/plain": [
       "1.0"
      ]
     },
     "execution_count": 167,
     "metadata": {},
     "output_type": "execute_result"
    }
   ],
   "source": [
    "onePriority"
   ]
  },
  {
   "cell_type": "code",
   "execution_count": 168,
   "metadata": {
    "collapsed": false
   },
   "outputs": [
    {
     "data": {
      "text/plain": [
       "'League_3_Monday_Night_Open'"
      ]
     },
     "execution_count": 168,
     "metadata": {},
     "output_type": "execute_result"
    }
   ],
   "source": [
    "oneLeague = regSorted.loc[idx,openLeagues].dropna().idxmin()\n",
    "oneLeague"
   ]
  },
  {
   "cell_type": "code",
   "execution_count": null,
   "metadata": {
    "collapsed": false
   },
   "outputs": [],
   "source": []
  },
  {
   "cell_type": "code",
   "execution_count": null,
   "metadata": {
    "collapsed": true
   },
   "outputs": [],
   "source": []
  },
  {
   "cell_type": "code",
   "execution_count": 169,
   "metadata": {
    "collapsed": false
   },
   "outputs": [
    {
     "data": {
      "text/plain": [
       "Register Date                                                  12/31/2015 13:44\n",
       "Event Name                            2015-2016 Second Half League Registration\n",
       "firstname                                                                  Dave\n",
       "lastname                                                               Garrison\n",
       "numberLeagues                                                                 2\n",
       "League_1_Sunday_Open                                                          2\n",
       "League_2_Monday_Open                                                        NaN\n",
       "League_3_Monday_Night_Open                                                    1\n",
       "League_Tuesday_Open                                                         NaN\n",
       "League_4_Men                                                                Yes\n",
       "League_5_Wednesday_Open                                                     NaN\n",
       "League_6_Thursday_Open                                                      NaN\n",
       "League_7_Ladies                                                             NaN\n",
       "League_Friday_Doubles                                                        No\n",
       "League_Friday_Doubles2                                                      NaN\n",
       "League_Friday_Doubles3                                                      NaN\n",
       "Competitive_League                                                           No\n",
       "Competitive_League_Part2                                                    NaN\n",
       "League_Scrod                                                                NaN\n",
       "League_Day_Curling                                                           No\n",
       "League_Sub                    Wednesday Afternoon Open, Wednesday Night Comp...\n",
       "Name: 54, dtype: object"
      ]
     },
     "execution_count": 169,
     "metadata": {},
     "output_type": "execute_result"
    }
   ],
   "source": [
    "regSorted.loc[idx,]"
   ]
  },
  {
   "cell_type": "code",
   "execution_count": 170,
   "metadata": {
    "collapsed": false
   },
   "outputs": [
    {
     "data": {
      "text/plain": [
       "1.0"
      ]
     },
     "execution_count": 170,
     "metadata": {},
     "output_type": "execute_result"
    }
   ],
   "source": [
    "onePriority"
   ]
  },
  {
   "cell_type": "code",
   "execution_count": 171,
   "metadata": {
    "collapsed": false
   },
   "outputs": [
    {
     "data": {
      "text/plain": [
       "False"
      ]
     },
     "execution_count": 171,
     "metadata": {},
     "output_type": "execute_result"
    }
   ],
   "source": [
    "math.isnan(onePriority)"
   ]
  },
  {
   "cell_type": "code",
   "execution_count": 172,
   "metadata": {
    "collapsed": false
   },
   "outputs": [
    {
     "name": "stdout",
     "output_type": "stream",
     "text": [
      "do stuff\n"
     ]
    }
   ],
   "source": [
    "#now, start with the first person on the list, for now, set idx to 4 ...for testing\n",
    "#idx = 4\n",
    "#have to do dropna first or else min will not be consistent...\n",
    "onePriority = regSorted.loc[idx,openLeagues].dropna().min()\n",
    "if math.isnan(onePriority)==False:\n",
    "    print 'do stuff'\n",
    "    #oneLeague = onePriority[onePriority == onePriority.min()].index[0]\n",
    "elif math.isnan(onePriority) == True: #will be Nan if done with this person\n",
    "    print 'done here'\n",
    "\n",
    "oneName = regSorted.loc[idx,['lastname', 'firstname']] #not sure this formating will work...\n",
    "\n",
    "leagueDict = addOne(leagueDict,oneLeague,oneName)\n",
    "#now that I have added the person to a league, change their priority to 99 (easier than NaN)\n",
    "regSorted.loc[idx,oneLeague] = np.nan"
   ]
  },
  {
   "cell_type": "code",
   "execution_count": 173,
   "metadata": {
    "collapsed": false
   },
   "outputs": [
    {
     "data": {
      "text/plain": [
       "Register Date                                                  12/31/2015 13:44\n",
       "Event Name                            2015-2016 Second Half League Registration\n",
       "firstname                                                                  Dave\n",
       "lastname                                                               Garrison\n",
       "numberLeagues                                                                 2\n",
       "League_1_Sunday_Open                                                          2\n",
       "League_2_Monday_Open                                                        NaN\n",
       "League_3_Monday_Night_Open                                                  NaN\n",
       "League_Tuesday_Open                                                         NaN\n",
       "League_4_Men                                                                Yes\n",
       "League_5_Wednesday_Open                                                     NaN\n",
       "League_6_Thursday_Open                                                      NaN\n",
       "League_7_Ladies                                                             NaN\n",
       "League_Friday_Doubles                                                        No\n",
       "League_Friday_Doubles2                                                      NaN\n",
       "League_Friday_Doubles3                                                      NaN\n",
       "Competitive_League                                                           No\n",
       "Competitive_League_Part2                                                    NaN\n",
       "League_Scrod                                                                NaN\n",
       "League_Day_Curling                                                           No\n",
       "League_Sub                    Wednesday Afternoon Open, Wednesday Night Comp...\n",
       "Name: 54, dtype: object"
      ]
     },
     "execution_count": 173,
     "metadata": {},
     "output_type": "execute_result"
    }
   ],
   "source": [
    "regSorted.loc[idx]"
   ]
  },
  {
   "cell_type": "code",
   "execution_count": 174,
   "metadata": {
    "collapsed": false
   },
   "outputs": [
    {
     "data": {
      "text/plain": [
       "{'League_1_Sunday_Open': Empty DataFrame\n",
       " Columns: []\n",
       " Index: [], 'League_2_Monday_Open': Empty DataFrame\n",
       " Columns: []\n",
       " Index: [], 'League_3_Monday_Night_Open': lastname     Garrison\n",
       " firstname        Dave\n",
       " Name: 54, dtype: object, 'League_5_Wednesday_Open': Empty DataFrame\n",
       " Columns: []\n",
       " Index: [], 'League_6_Thursday_Open': Empty DataFrame\n",
       " Columns: []\n",
       " Index: [], 'League_Tuesday_Open': Empty DataFrame\n",
       " Columns: []\n",
       " Index: []}"
      ]
     },
     "execution_count": 174,
     "metadata": {},
     "output_type": "execute_result"
    }
   ],
   "source": [
    "leagueDict"
   ]
  },
  {
   "cell_type": "code",
   "execution_count": 177,
   "metadata": {
    "collapsed": false
   },
   "outputs": [
    {
     "data": {
      "text/plain": [
       "Register Date                                           12/30/2015 8:06\n",
       "Event Name                    2015-2016 Second Half League Registration\n",
       "firstname                                                     Elizabeth\n",
       "lastname                                                        Abeltin\n",
       "numberLeagues                                                         1\n",
       "League_1_Sunday_Open                                                NaN\n",
       "League_2_Monday_Open                                                NaN\n",
       "League_3_Monday_Night_Open                                          NaN\n",
       "League_Tuesday_Open                                                   1\n",
       "League_4_Men                                                        NaN\n",
       "League_5_Wednesday_Open                                             NaN\n",
       "League_6_Thursday_Open                                              NaN\n",
       "League_7_Ladies                                                     NaN\n",
       "League_Friday_Doubles                                                No\n",
       "League_Friday_Doubles2                                              NaN\n",
       "League_Friday_Doubles3                                              NaN\n",
       "Competitive_League                                            On a team\n",
       "Competitive_League_Part2                  Baxter / Heisler/ Longnecker \n",
       "League_Scrod                                                        NaN\n",
       "League_Day_Curling                                                   No\n",
       "League_Sub                         Sunday Night Open, Monday Night Open\n",
       "Name: 2, dtype: object"
      ]
     },
     "execution_count": 177,
     "metadata": {},
     "output_type": "execute_result"
    }
   ],
   "source": [
    "regSorted.loc[idx]"
   ]
  },
  {
   "cell_type": "code",
   "execution_count": null,
   "metadata": {
    "collapsed": false
   },
   "outputs": [
    {
     "name": "stdout",
     "output_type": "stream",
     "text": [
      "> \u001b[0;32m<ipython-input-181-c19f8d0234fc>\u001b[0m(7)\u001b[0;36m<module>\u001b[0;34m()\u001b[0m\n",
      "\u001b[0;32m      5 \u001b[0;31m    \u001b[0monePriority\u001b[0m \u001b[1;33m=\u001b[0m \u001b[0mregSorted\u001b[0m\u001b[1;33m.\u001b[0m\u001b[0mloc\u001b[0m\u001b[1;33m[\u001b[0m\u001b[0midx\u001b[0m\u001b[1;33m,\u001b[0m\u001b[0mopenLeagues\u001b[0m\u001b[1;33m]\u001b[0m\u001b[1;33m.\u001b[0m\u001b[0mdropna\u001b[0m\u001b[1;33m(\u001b[0m\u001b[1;33m)\u001b[0m\u001b[1;33m.\u001b[0m\u001b[0mmin\u001b[0m\u001b[1;33m(\u001b[0m\u001b[1;33m)\u001b[0m\u001b[1;33m\u001b[0m\u001b[0m\n",
      "\u001b[0m\u001b[0;32m      6 \u001b[0;31m    \u001b[0mTracer\u001b[0m\u001b[1;33m(\u001b[0m\u001b[1;33m)\u001b[0m\u001b[1;33m(\u001b[0m\u001b[1;33m)\u001b[0m\u001b[1;33m\u001b[0m\u001b[0m\n",
      "\u001b[0m\u001b[0;32m----> 7 \u001b[0;31m    \u001b[1;32mif\u001b[0m \u001b[0mmath\u001b[0m\u001b[1;33m.\u001b[0m\u001b[0misnan\u001b[0m\u001b[1;33m(\u001b[0m\u001b[0monePriority\u001b[0m\u001b[1;33m)\u001b[0m\u001b[1;33m==\u001b[0m\u001b[0mFalse\u001b[0m\u001b[1;33m:\u001b[0m\u001b[1;33m\u001b[0m\u001b[0m\n",
      "\u001b[0m\u001b[0;32m      8 \u001b[0;31m        \u001b[1;31m#Tracer()()\u001b[0m\u001b[1;33m\u001b[0m\u001b[1;33m\u001b[0m\u001b[0m\n",
      "\u001b[0m\u001b[0;32m      9 \u001b[0;31m        \u001b[1;32mprint\u001b[0m \u001b[1;34m'do stuff'\u001b[0m\u001b[1;33m\u001b[0m\u001b[0m\n",
      "\u001b[0m\n",
      "ipdb> idx\n",
      "0\n",
      "ipdb> math.isnan(onePriority)\n",
      "True\n",
      "ipdb> idx=2\n",
      "ipdb> math.isnan(onePriority)\n",
      "True\n",
      "ipdb> quit\n",
      "done here\n",
      "> \u001b[0;32m<ipython-input-181-c19f8d0234fc>\u001b[0m(6)\u001b[0;36m<module>\u001b[0;34m()\u001b[0m\n",
      "\u001b[0;32m      4 \u001b[0;31m    \u001b[1;31m#have to do dropna first or else min will not be consistent...\u001b[0m\u001b[1;33m\u001b[0m\u001b[1;33m\u001b[0m\u001b[0m\n",
      "\u001b[0m\u001b[0;32m      5 \u001b[0;31m    \u001b[0monePriority\u001b[0m \u001b[1;33m=\u001b[0m \u001b[0mregSorted\u001b[0m\u001b[1;33m.\u001b[0m\u001b[0mloc\u001b[0m\u001b[1;33m[\u001b[0m\u001b[0midx\u001b[0m\u001b[1;33m,\u001b[0m\u001b[0mopenLeagues\u001b[0m\u001b[1;33m]\u001b[0m\u001b[1;33m.\u001b[0m\u001b[0mdropna\u001b[0m\u001b[1;33m(\u001b[0m\u001b[1;33m)\u001b[0m\u001b[1;33m.\u001b[0m\u001b[0mmin\u001b[0m\u001b[1;33m(\u001b[0m\u001b[1;33m)\u001b[0m\u001b[1;33m\u001b[0m\u001b[0m\n",
      "\u001b[0m\u001b[0;32m----> 6 \u001b[0;31m    \u001b[0mTracer\u001b[0m\u001b[1;33m(\u001b[0m\u001b[1;33m)\u001b[0m\u001b[1;33m(\u001b[0m\u001b[1;33m)\u001b[0m\u001b[1;33m\u001b[0m\u001b[0m\n",
      "\u001b[0m\u001b[0;32m      7 \u001b[0;31m    \u001b[1;32mif\u001b[0m \u001b[0mmath\u001b[0m\u001b[1;33m.\u001b[0m\u001b[0misnan\u001b[0m\u001b[1;33m(\u001b[0m\u001b[0monePriority\u001b[0m\u001b[1;33m)\u001b[0m\u001b[1;33m==\u001b[0m\u001b[0mFalse\u001b[0m\u001b[1;33m:\u001b[0m\u001b[1;33m\u001b[0m\u001b[0m\n",
      "\u001b[0m\u001b[0;32m      8 \u001b[0;31m        \u001b[1;31m#Tracer()()\u001b[0m\u001b[1;33m\u001b[0m\u001b[1;33m\u001b[0m\u001b[0m\n",
      "\u001b[0m\n",
      "ipdb> exit\n",
      "done here\n",
      "> \u001b[0;32m<ipython-input-181-c19f8d0234fc>\u001b[0m(7)\u001b[0;36m<module>\u001b[0;34m()\u001b[0m\n",
      "\u001b[0;32m      5 \u001b[0;31m    \u001b[0monePriority\u001b[0m \u001b[1;33m=\u001b[0m \u001b[0mregSorted\u001b[0m\u001b[1;33m.\u001b[0m\u001b[0mloc\u001b[0m\u001b[1;33m[\u001b[0m\u001b[0midx\u001b[0m\u001b[1;33m,\u001b[0m\u001b[0mopenLeagues\u001b[0m\u001b[1;33m]\u001b[0m\u001b[1;33m.\u001b[0m\u001b[0mdropna\u001b[0m\u001b[1;33m(\u001b[0m\u001b[1;33m)\u001b[0m\u001b[1;33m.\u001b[0m\u001b[0mmin\u001b[0m\u001b[1;33m(\u001b[0m\u001b[1;33m)\u001b[0m\u001b[1;33m\u001b[0m\u001b[0m\n",
      "\u001b[0m\u001b[0;32m      6 \u001b[0;31m    \u001b[0mTracer\u001b[0m\u001b[1;33m(\u001b[0m\u001b[1;33m)\u001b[0m\u001b[1;33m(\u001b[0m\u001b[1;33m)\u001b[0m\u001b[1;33m\u001b[0m\u001b[0m\n",
      "\u001b[0m\u001b[0;32m----> 7 \u001b[0;31m    \u001b[1;32mif\u001b[0m \u001b[0mmath\u001b[0m\u001b[1;33m.\u001b[0m\u001b[0misnan\u001b[0m\u001b[1;33m(\u001b[0m\u001b[0monePriority\u001b[0m\u001b[1;33m)\u001b[0m\u001b[1;33m==\u001b[0m\u001b[0mFalse\u001b[0m\u001b[1;33m:\u001b[0m\u001b[1;33m\u001b[0m\u001b[0m\n",
      "\u001b[0m\u001b[0;32m      8 \u001b[0;31m        \u001b[1;31m#Tracer()()\u001b[0m\u001b[1;33m\u001b[0m\u001b[1;33m\u001b[0m\u001b[0m\n",
      "\u001b[0m\u001b[0;32m      9 \u001b[0;31m        \u001b[1;32mprint\u001b[0m \u001b[1;34m'do stuff'\u001b[0m\u001b[1;33m\u001b[0m\u001b[0m\n",
      "\u001b[0m\n"
     ]
    }
   ],
   "source": [
    "for idx in range(0,nPeople):\n",
    "    \n",
    "    #idx = 4\n",
    "    #have to do dropna first or else min will not be consistent...\n",
    "    onePriority = regSorted.loc[idx,openLeagues].dropna().min()\n",
    "    Tracer()()\n",
    "    if math.isnan(onePriority)==False:\n",
    "        #Tracer()()\n",
    "        print 'do stuff'\n",
    "        #oneLeague = onePriority[onePriority == onePriority.min()].index[0]\n",
    "    elif math.isnan(onePriority) == True: #will be Nan if done with this person\n",
    "        print 'done here'\n",
    "\n",
    "    oneName = regSorted.loc[idx,['lastname', 'firstname']] #not sure this formating will work...\n",
    "\n",
    "    leagueDict = addOne(leagueDict,oneLeague,oneName)\n",
    "    #now that I have added the person to a league, change their priority to 99 (easier than NaN)\n",
    "    regSorted.loc[idx,oneLeague] = np.nan"
   ]
  },
  {
   "cell_type": "code",
   "execution_count": 179,
   "metadata": {
    "collapsed": false
   },
   "outputs": [
    {
     "data": {
      "text/plain": [
       "2"
      ]
     },
     "execution_count": 179,
     "metadata": {},
     "output_type": "execute_result"
    }
   ],
   "source": [
    "idx"
   ]
  },
  {
   "cell_type": "code",
   "execution_count": 180,
   "metadata": {
    "collapsed": true
   },
   "outputs": [],
   "source": [
    "del idx"
   ]
  },
  {
   "cell_type": "code",
   "execution_count": null,
   "metadata": {
    "collapsed": true
   },
   "outputs": [],
   "source": []
  },
  {
   "cell_type": "code",
   "execution_count": null,
   "metadata": {
    "collapsed": true
   },
   "outputs": [],
   "source": []
  },
  {
   "cell_type": "code",
   "execution_count": null,
   "metadata": {
    "collapsed": true
   },
   "outputs": [],
   "source": []
  },
  {
   "cell_type": "code",
   "execution_count": null,
   "metadata": {
    "collapsed": true
   },
   "outputs": [],
   "source": []
  },
  {
   "cell_type": "code",
   "execution_count": null,
   "metadata": {
    "collapsed": true
   },
   "outputs": [],
   "source": []
  },
  {
   "cell_type": "code",
   "execution_count": null,
   "metadata": {
    "collapsed": true
   },
   "outputs": [],
   "source": []
  },
  {
   "cell_type": "code",
   "execution_count": null,
   "metadata": {
    "collapsed": true
   },
   "outputs": [],
   "source": []
  },
  {
   "cell_type": "code",
   "execution_count": null,
   "metadata": {
    "collapsed": true
   },
   "outputs": [],
   "source": []
  }
 ],
 "metadata": {
  "kernelspec": {
   "display_name": "Python 2",
   "language": "python",
   "name": "python2"
  },
  "language_info": {
   "codemirror_mode": {
    "name": "ipython",
    "version": 2
   },
   "file_extension": ".py",
   "mimetype": "text/x-python",
   "name": "python",
   "nbconvert_exporter": "python",
   "pygments_lexer": "ipython2",
   "version": "2.7.12"
  }
 },
 "nbformat": 4,
 "nbformat_minor": 1
}
