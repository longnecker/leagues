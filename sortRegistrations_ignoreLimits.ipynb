{
 "cells": [
  {
   "cell_type": "markdown",
   "metadata": {},
   "source": [
    "Sort people into leagues for curling\n",
    "KL 8/17/2016; update 8/30/2016 to use new file format from website"
   ]
  },
  {
   "cell_type": "markdown",
   "metadata": {},
   "source": [
    "This version ignores the limits for each league..."
   ]
  },
  {
   "cell_type": "code",
   "execution_count": 209,
   "metadata": {
    "collapsed": true
   },
   "outputs": [],
   "source": [
    "#the -f does this without user confirmations\n",
    "%reset -f"
   ]
  },
  {
   "cell_type": "code",
   "execution_count": 210,
   "metadata": {
    "collapsed": true
   },
   "outputs": [],
   "source": [
    "setSeed = True"
   ]
  },
  {
   "cell_type": "code",
   "execution_count": 211,
   "metadata": {
    "collapsed": true
   },
   "outputs": [],
   "source": [
    "#set the random seed...if a number...will be able to recreate the random numbers\n",
    "if setSeed == True:\n",
    "    SEED = 42\n",
    "elif setSeed == False:\n",
    "    SEED = None"
   ]
  },
  {
   "cell_type": "code",
   "execution_count": 259,
   "metadata": {
    "collapsed": true
   },
   "outputs": [],
   "source": [
    "import pandas as pd\n",
    "import numpy as np\n",
    "import math\n",
    "import csv\n",
    "import os.path\n",
    "\n",
    "#used this to step into the function and debug it, also need line with Tracer()() \n",
    "from IPython.core.debugger import Tracer \n",
    "\n",
    "%matplotlib inline"
   ]
  },
  {
   "cell_type": "markdown",
   "metadata": {},
   "source": [
    "Define some functions up top"
   ]
  },
  {
   "cell_type": "code",
   "execution_count": 213,
   "metadata": {
    "collapsed": false
   },
   "outputs": [],
   "source": [
    "def addOne(leagueDict,oneLeague,oneName):\n",
    "    if len(leagueDict[oneLeague])==0: #nothing there yet\n",
    "        leagueDict[oneLeague] = oneName\n",
    "    else:     #need to append\n",
    "        leagueDict[oneLeague] = leagueDict[oneLeague].append(oneName)\n",
    "    return leagueDict"
   ]
  },
  {
   "cell_type": "code",
   "execution_count": 214,
   "metadata": {
    "collapsed": true
   },
   "outputs": [],
   "source": [
    "def addManager(leagueDictionary,r,manager): #here r is the index in...\n",
    "    useRow = r.index[0]\n",
    "    oneName = regSorted.loc[useRow,['lastname', 'firstname']] \n",
    "    oneName = oneName.to_frame().transpose() #need this format to make nice output\n",
    "    leagueDictionary[manager] = oneName\n",
    "    regSorted.loc[useRow,manager]=np.nan\n",
    "    regTracking.loc[useRow,manager]='yes'\n",
    "    return leagueDictionary"
   ]
  },
  {
   "cell_type": "code",
   "execution_count": 215,
   "metadata": {
    "collapsed": false
   },
   "outputs": [],
   "source": [
    "def addOpenLeague(idx,regSorted,regTracking,leagueDict_open,iteration,trackIssues):\n",
    "    #person is interested in open leagues, oneLeague will be index in their next choice\n",
    "    oneLeague = regSorted.loc[idx,openLeagues].dropna().idxmin()\n",
    "\n",
    "    oneName = regSorted.loc[idx,['lastname', 'firstname']] \n",
    "    oneName = oneName.to_frame().transpose() #need this format to make nice output\n",
    "\n",
    "    if len(leagueDict_open[oneLeague]) < (nLimit.loc[oneLeague,'nLimit']): #room in league\n",
    "        leagueDict_open = addOne(leagueDict_open,oneLeague,oneName)\n",
    "        #now that I have added the person to a league, change their priority to NaN\n",
    "        regSorted.loc[idx,oneLeague] = np.nan\n",
    "        regTracking.loc[idx,oneLeague] = 'yes'\n",
    "\n",
    "    elif len(leagueDict_open[oneLeague]) == (nLimit.loc[oneLeague,'nLimit']):\n",
    "        #league is full...does this person have another league listed?\n",
    "        #first, set current to NaN\n",
    "        regSorted.loc[idx,oneLeague] = np.nan\n",
    "        regTracking.loc[idx,oneLeague] = 'no' #did not get in\n",
    "        nextPriority = regSorted.loc[idx,openLeagues].dropna().min()\n",
    "        if math.isnan(nextPriority)!=1: #have a number\n",
    "            #go to the next league on their list\n",
    "            nextLeague = regSorted.loc[idx,openLeagues].dropna().idxmin()\n",
    "            #only add person is league has space\n",
    "            if len(leagueDict_open[nextLeague]) < (nLimit.loc[nextLeague,'nLimit']):\n",
    "                leagueDict_open = addOne(leagueDict_open,nextLeague,oneName)\n",
    "                regSorted.loc[idx,nextLeague] = np.nan\n",
    "                regTracking.loc[idx,nextLeague] = 'yes'\n",
    "            elif (len(leagueDict_open[nextLeague]) == nLimit.loc[nextLeague,'nLimit']) & (iteration==1):\n",
    "                regTracking.loc[idx,nextLeague]='no'\n",
    "                trackIssues = addOne(trackIssues,'notInFirst',oneName)\n",
    "            elif (len(leagueDict_open[nextLeague]) == nLimit.loc[nextLeague,'nLimit']) & (iteration==2):\n",
    "                regTracking.loc[idx,nextLeague]='no'\n",
    "                trackIssues = addOne(trackIssues,'notInSecond',oneName)\n",
    "            elif (len(leagueDict_open[nextLeague]) == nLimit.loc[nextLeague,'nLimit']) & (iteration==3):\n",
    "                regTracking.loc[idx,nextLeague]='no'\n",
    "                trackIssues = addOne(trackIssues,'notInThird',oneName)\n",
    "        elif math.isnan(nextPriority)==1:\n",
    "            trackIssues=addOne(trackIssues,'noAdditionalChoice',oneName)\n",
    "                           \n",
    "    return regSorted, regTracking, leagueDict_open, trackIssues"
   ]
  },
  {
   "cell_type": "markdown",
   "metadata": {},
   "source": [
    "Read in the data"
   ]
  },
  {
   "cell_type": "code",
   "execution_count": 216,
   "metadata": {
    "collapsed": false
   },
   "outputs": [],
   "source": [
    "#updated 8/30/2016 to use file from website\n",
    "fName = 'BackupList_Registrations.csv' \n",
    "importInfo=pd.read_csv(fName)"
   ]
  },
  {
   "cell_type": "code",
   "execution_count": 217,
   "metadata": {
    "collapsed": true
   },
   "outputs": [],
   "source": [
    "#shuffle the information from the website site to match the format in the rest of this file\n",
    "openLeagues = ['Sunday Night', 'Monday 4PM', 'Monday Night',\n",
    "               'Tuesday 4PM','Wednesday 4PM','Thursday 4PM'] #updated to match the priority list\n",
    "otherLeagues = ['League_4_Men', 'League_7_Ladies' ,'League_Scrod']\n",
    "priorities = ['League_Pri_1','League_Pri_2','League_Pri_3','League_Pri_4','League_Pri_5','League_Pri_6']\n",
    "\n",
    "regInfo = importInfo.loc[:,(['firstname','lastname','email','League_Number_Open'] + otherLeagues)]\n",
    "\n",
    "for item in openLeagues:\n",
    "    regInfo[item] = np.nan\n",
    "\n",
    "nPeople = len(regInfo.index)\n",
    "for idx in range(0,nPeople):\n",
    "    for idxP in enumerate(priorities):\n",
    "        #remember: enumerate will allow idxP[0] is the number, while idxP[1] is the value\n",
    "        getOne = importInfo.loc[idx,idxP[1]]\n",
    "        if getOne != 'None':\n",
    "            regInfo.loc[idx,getOne] = idxP[0] + 1  #want 1,2,3 and not python zero index"
   ]
  },
  {
   "cell_type": "code",
   "execution_count": 218,
   "metadata": {
    "collapsed": false
   },
   "outputs": [],
   "source": [
    "#first, how many random numbers so I need?\n",
    "nPeople = len(regInfo.index)\n",
    "np.random.seed(SEED)\n",
    "regInfo['randomNumCol'] = np.random.choice(range(nPeople), nPeople,replace = False)\n",
    "##so now, moving back to the list of people, sort the list by the random number\n",
    "regSorted = regInfo.sort_values(by = 'randomNumCol', ascending=True)\n",
    "regSorted = regSorted.set_index(['randomNumCol'])\n",
    "\n",
    "#copy so I can have an output tracking what was done, make after I put in league managers\n",
    "regTracking = regSorted.copy(deep=True)"
   ]
  },
  {
   "cell_type": "code",
   "execution_count": 219,
   "metadata": {
    "collapsed": false
   },
   "outputs": [],
   "source": [
    "issueNames = ['notInFirst','notInSecond','notInThird','noAdditionalChoice']\n",
    "#setup the dictionary to hold the issues\n",
    "trackIssues = {}\n",
    "for name in issueNames:\n",
    "    trackIssues[name] = pd.DataFrame()"
   ]
  },
  {
   "cell_type": "code",
   "execution_count": 220,
   "metadata": {
    "collapsed": false
   },
   "outputs": [],
   "source": [
    "#setup the dictionary to hold the people information (start with openLeagues only)\n",
    "forDictionary = openLeagues\n",
    "#forDictionary.extend(otherLeagues)\n",
    "leagueDict_open = {}\n",
    "for name in forDictionary:\n",
    "    leagueDict_open[name] = pd.DataFrame()"
   ]
  },
  {
   "cell_type": "code",
   "execution_count": 221,
   "metadata": {
    "collapsed": false
   },
   "outputs": [],
   "source": [
    "#set to a big number (easier than rewriting the code!)\n",
    "sevenTeams = 100 #should be 28 \n",
    "eightTeams = 100\n",
    "fourteenTeams = 100\n",
    "\n",
    "d = {'Sunday Night': eightTeams,\n",
    "     'Monday 4PM': sevenTeams,\n",
    "     'Monday Night': fourteenTeams,\n",
    "     'Tuesday 4PM': sevenTeams,\n",
    "     'Wednesday 4PM': sevenTeams,\n",
    "     'Thursday 4PM': sevenTeams,}\n",
    "\n",
    "nLimit = pd.DataFrame({'nLimit' : d})\n",
    "del d"
   ]
  },
  {
   "cell_type": "code",
   "execution_count": 222,
   "metadata": {
    "collapsed": false
   },
   "outputs": [],
   "source": [
    "if False:\n",
    "    #can skip this because everyone will get their first choice. However, pending conversations \n",
    "    #with the curling committee, this may change\n",
    "    #put the league managers into their league and set their the choice for that league to NaN\n",
    "    manager = 'Sunday Night'\n",
    "    r = regSorted.loc[(regSorted['lastname']=='Fragaszy') & (regSorted['firstname']=='Bill')]\n",
    "    leagueDict_open = addManager(leagueDict_open,r,manager)\n",
    "\n",
    "    manager = 'Monday 4PM'\n",
    "    r = regSorted.loc[(regSorted['lastname']=='Brown') & (regSorted['firstname']=='Peter')]\n",
    "    leagueDict_open = addManager(leagueDict_open,r,manager)\n",
    "\n",
    "    manager = 'Monday Night'\n",
    "    r = regSorted.loc[(regSorted['lastname']=='DiMassa') & (regSorted['firstname']=='Diane')]\n",
    "    leagueDict_open = addManager(leagueDict_open,r,manager)\n",
    "\n",
    "    manager = 'Tuesday 4PM'\n",
    "    r = regSorted.loc[(regSorted['lastname']=='Thomson') & (regSorted['firstname']=='Kenny')]\n",
    "    leagueDict_open = addManager(leagueDict_open,r,manager)\n",
    "\n",
    "    manager = 'Wednesday 4PM'\n",
    "    r = regSorted.loc[(regSorted['lastname']=='Murphy') & (regSorted['firstname']=='Katie')]\n",
    "    leagueDict_open = addManager(leagueDict_open,r,manager)\n",
    "\n",
    "    manager = 'Thursday 4PM'\n",
    "    r = regSorted.loc[(regSorted['lastname']=='Gallagher') & (regSorted['firstname']=='Bill')]\n",
    "    leagueDict_open = addManager(leagueDict_open,r,manager)"
   ]
  },
  {
   "cell_type": "code",
   "execution_count": 223,
   "metadata": {
    "collapsed": false
   },
   "outputs": [],
   "source": [
    "#go forwards through the list to start\n",
    "iteration = 1\n",
    "for idx in (range(0,nPeople)):\n",
    "    #ignore person who does not want open leagues:\n",
    "    if regTracking.loc[idx,'League_Number_Open'] != 'None':\n",
    "        #only do something if a person is still looking for more leagues...\n",
    "        rt = regTracking.loc[idx,openLeagues]\n",
    "        cHave = len(rt[rt=='yes'])\n",
    "        del rt\n",
    "        #NOTE: League_Number_Open will return a string...change to int\n",
    "        if cHave < int(regTracking.loc[idx,'League_Number_Open']): #person wants more \n",
    "            onePriority = regSorted.loc[idx,openLeagues].dropna().min() #any more things ranked?   \n",
    "            if math.isnan(float(onePriority))==False:\n",
    "                regSorted,regTracking,leagueDict_open,trackIssues = addOpenLeague(idx,regSorted,regTracking,leagueDict_open,iteration,trackIssues)"
   ]
  },
  {
   "cell_type": "code",
   "execution_count": 224,
   "metadata": {
    "collapsed": false
   },
   "outputs": [],
   "source": [
    "#now go backwards through the list to fill the other spots\n",
    "iteration = 2\n",
    "for idx in (range(0,nPeople)):\n",
    "    #ignore person who does not want open leagues:\n",
    "    if regTracking.loc[idx,'League_Number_Open'] != 'None':\n",
    "        #only do something if a person is still looking for more leagues...\n",
    "        rt = regTracking.loc[idx,openLeagues]\n",
    "        cHave = len(rt[rt=='yes'])\n",
    "        del rt\n",
    "        #NOTE: League_Number_Open will return a string...change to int\n",
    "        if cHave < int(regTracking.loc[idx,'League_Number_Open']): #person wants more \n",
    "            onePriority = regSorted.loc[idx,openLeagues].dropna().min() #any more things ranked?   \n",
    "            if math.isnan(float(onePriority))==False:\n",
    "                regSorted,regTracking,leagueDict_open,trackIssues = addOpenLeague(idx,regSorted,regTracking,leagueDict_open,iteration,trackIssues)        "
   ]
  },
  {
   "cell_type": "code",
   "execution_count": 225,
   "metadata": {
    "collapsed": false
   },
   "outputs": [],
   "source": [
    "#go forwards again\n",
    "iteraction = 3\n",
    "for idx in (range(0,nPeople)):\n",
    "    #ignore person who does not want open leagues:\n",
    "    if regTracking.loc[idx,'League_Number_Open'] != 'None':\n",
    "        #only do something if a person is still looking for more leagues...\n",
    "        rt = regTracking.loc[idx,openLeagues]\n",
    "        cHave = len(rt[rt=='yes'])\n",
    "        del rt\n",
    "        #NOTE: League_Number_Open will return a string...change to int\n",
    "        if cHave < int(regTracking.loc[idx,'League_Number_Open']): #person wants more \n",
    "            onePriority = regSorted.loc[idx,openLeagues].dropna().min() #any more things ranked?   \n",
    "            if math.isnan(float(onePriority))==False:\n",
    "                regSorted,regTracking,leagueDict_open,trackIssues = addOpenLeague(idx,regSorted,regTracking,leagueDict_open,iteration,trackIssues)"
   ]
  },
  {
   "cell_type": "code",
   "execution_count": 226,
   "metadata": {
    "collapsed": true
   },
   "outputs": [],
   "source": [
    "#only one person wants to curl 4x and I know there will not be space...stop here"
   ]
  },
  {
   "cell_type": "code",
   "execution_count": 227,
   "metadata": {
    "collapsed": true
   },
   "outputs": [],
   "source": [
    "#make a new dictionary for other leagues...concat with openLeagues when done\n",
    "# do doubles and competitive league by hand...\n",
    "otherLeagues = ['League_4_Men', 'League_7_Ladies' ,'League_Scrod']\n",
    "\n",
    "leagueDict_other = {}\n",
    "for name in otherLeagues:\n",
    "    leagueDict_other[name] = pd.DataFrame()"
   ]
  },
  {
   "cell_type": "code",
   "execution_count": 228,
   "metadata": {
    "collapsed": false
   },
   "outputs": [],
   "source": [
    "#only have to go through once\n",
    "for idx in range(0,nPeople):\n",
    "    for oL in otherLeagues:\n",
    "    \n",
    "        oneName = regSorted.loc[idx,['lastname', 'firstname']] \n",
    "        oneName = oneName.to_frame().transpose() #need this format to make nice output\n",
    "        if regSorted.loc[idx,oL]=='Yes': #careful with trailing spaces\n",
    "            leagueDict_other = addOne(leagueDict_other,oL,oneName)\n",
    "            #now that I have added the person to a league, change their priority to NaN\n",
    "            regTracking.loc[idx,oL] = 'done'\n",
    "            regSorted.loc[idx,oL] = np.nan"
   ]
  },
  {
   "cell_type": "code",
   "execution_count": 229,
   "metadata": {
    "collapsed": false
   },
   "outputs": [],
   "source": [
    "#combine the two dictionaries\n",
    "leagueDict_all = leagueDict_open.copy()\n",
    "leagueDict_all.update(leagueDict_other)\n",
    "\n",
    "#combine the list of names\n",
    "allLeagues = list(openLeagues)\n",
    "allLeagues.extend(otherLeagues)"
   ]
  },
  {
   "cell_type": "code",
   "execution_count": 230,
   "metadata": {
    "collapsed": false
   },
   "outputs": [],
   "source": [
    "# #finally, export the results (CAREFUL...will delete existing files)\n",
    "# for fn in allLeagues:\n",
    "#     fName = '%s.csv' % fn\n",
    "#     #check if the file exists...delete if it does\n",
    "#     if os.path.isfile(fName):\n",
    "#         os.remove(fName)\n",
    "        \n",
    "#     leagueDict_all[fn].to_csv(fName)"
   ]
  },
  {
   "cell_type": "markdown",
   "metadata": {},
   "source": [
    "ran multiple times and saved the output"
   ]
  },
  {
   "cell_type": "code",
   "execution_count": 231,
   "metadata": {
    "collapsed": false
   },
   "outputs": [
    {
     "name": "stdout",
     "output_type": "stream",
     "text": [
      "notInFirst :  0  people in this category\n",
      "notInSecond :  0  people in this category\n",
      "notInThird :  0  people in this category\n",
      "noAdditionalChoice :  0  people in this category\n"
     ]
    }
   ],
   "source": [
    "#count up number of issues\n",
    "for problem in issueNames:\n",
    "    print problem, ': ', len(trackIssues[problem]), ' people in this category'"
   ]
  },
  {
   "cell_type": "code",
   "execution_count": 232,
   "metadata": {
    "collapsed": true
   },
   "outputs": [],
   "source": [
    "regTracking.to_csv('outTracking.csv')\n",
    "regSorted.to_csv('outSorted.csv')\n",
    "regInfo.to_csv('outInfo.csv')"
   ]
  },
  {
   "cell_type": "code",
   "execution_count": 257,
   "metadata": {
    "collapsed": false
   },
   "outputs": [
    {
     "data": {
      "text/html": [
       "<div>\n",
       "<table border=\"1\" class=\"dataframe\">\n",
       "  <thead>\n",
       "    <tr style=\"text-align: right;\">\n",
       "      <th></th>\n",
       "      <th>nPeople</th>\n",
       "    </tr>\n",
       "  </thead>\n",
       "  <tbody>\n",
       "    <tr>\n",
       "      <th>Sunday Night</th>\n",
       "      <td>33.0</td>\n",
       "    </tr>\n",
       "    <tr>\n",
       "      <th>Monday 4PM</th>\n",
       "      <td>36.0</td>\n",
       "    </tr>\n",
       "    <tr>\n",
       "      <th>Monday Night</th>\n",
       "      <td>33.0</td>\n",
       "    </tr>\n",
       "    <tr>\n",
       "      <th>Tuesday 4PM</th>\n",
       "      <td>26.0</td>\n",
       "    </tr>\n",
       "    <tr>\n",
       "      <th>Wednesday 4PM</th>\n",
       "      <td>30.0</td>\n",
       "    </tr>\n",
       "    <tr>\n",
       "      <th>Thursday 4PM</th>\n",
       "      <td>39.0</td>\n",
       "    </tr>\n",
       "  </tbody>\n",
       "</table>\n",
       "</div>"
      ],
      "text/plain": [
       "               nPeople\n",
       "Sunday Night      33.0\n",
       "Monday 4PM        36.0\n",
       "Monday Night      33.0\n",
       "Tuesday 4PM       26.0\n",
       "Wednesday 4PM     30.0\n",
       "Thursday 4PM      39.0"
      ]
     },
     "execution_count": 257,
     "metadata": {},
     "output_type": "execute_result"
    }
   ],
   "source": [
    "#do some plotting...visually see how people distributed\n",
    "gather = pd.DataFrame(np.nan, index = openLeagues, columns=['nPeople'])\n",
    "for name in openLeagues:\n",
    "    gather.loc[name,'nPeople'] = len(leagueDict_open[name])\n",
    "    \n",
    "gather"
   ]
  },
  {
   "cell_type": "code",
   "execution_count": 264,
   "metadata": {
    "collapsed": false
   },
   "outputs": [
    {
     "data": {
      "text/plain": [
       "<matplotlib.axes._subplots.AxesSubplot at 0x70bcf90>"
      ]
     },
     "execution_count": 264,
     "metadata": {},
     "output_type": "execute_result"
    },
    {
     "data": {
      "image/png": "[encoded data removed]",
      "text/plain": [
       "<matplotlib.figure.Figure at 0x62eb0b0>"
      ]
     },
     "metadata": {},
     "output_type": "display_data"
    }
   ],
   "source": [
    "gather.plot(kind = 'bar')"
   ]
  },
  {
   "cell_type": "code",
   "execution_count": null,
   "metadata": {
    "collapsed": true
   },
   "outputs": [],
   "source": []
  },
  {
   "cell_type": "code",
   "execution_count": null,
   "metadata": {
    "collapsed": false
   },
   "outputs": [],
   "source": []
  },
  {
   "cell_type": "code",
   "execution_count": null,
   "metadata": {
    "collapsed": true
   },
   "outputs": [],
   "source": []
  }
 ],
 "metadata": {
  "kernelspec": {
   "display_name": "Python 2",
   "language": "python",
   "name": "python2"
  },
  "language_info": {
   "codemirror_mode": {
    "name": "ipython",
    "version": 2
   },
   "file_extension": ".py",
   "mimetype": "text/x-python",
   "name": "python",
   "nbconvert_exporter": "python",
   "pygments_lexer": "ipython2",
   "version": "2.7.12"
  }
 },
 "nbformat": 4,
 "nbformat_minor": 1
}
