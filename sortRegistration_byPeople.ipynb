{
 "cells": [
  {
   "cell_type": "markdown",
   "metadata": {},
   "source": [
    "Sort people into leagues for curling\n",
    "KL 8/17/2016; update 8/30/2016; update 9/15/2016; update 12/23/2016; update 9/2017"
   ]
  },
  {
   "cell_type": "markdown",
   "metadata": {},
   "source": [
    "KL 12/20/2017: Adding new leagues and skipping league manager placement while testing; 9/18/2019 updating for new season"
   ]
  },
  {
   "cell_type": "markdown",
   "metadata": {},
   "source": [
    "This version randomizes the people first"
   ]
  },
  {
   "cell_type": "code",
   "execution_count": 590,
   "metadata": {},
   "outputs": [],
   "source": [
    "# Before running this:\n",
    "#     (1) decide on max # of leagues and change that in the input.csv file,\n",
    "#     (2) decide on nLimit for each league\n",
    "#     (3) might need to optimize people's priority lists to increase number getting into 4 pm\n",
    "#     (4) update the list of league managers"
   ]
  },
  {
   "cell_type": "code",
   "execution_count": 591,
   "metadata": {},
   "outputs": [],
   "source": [
    "#the -f does this without user confirmations\n",
    "%reset -f"
   ]
  },
  {
   "cell_type": "code",
   "execution_count": 592,
   "metadata": {},
   "outputs": [],
   "source": [
    "setSeed = False"
   ]
  },
  {
   "cell_type": "code",
   "execution_count": 593,
   "metadata": {},
   "outputs": [],
   "source": [
    "#set the random seed...if a number...will be able to recreate the random numbers\n",
    "if setSeed == True:\n",
    "    SEED = 42\n",
    "elif setSeed == False:\n",
    "    SEED = None"
   ]
  },
  {
   "cell_type": "code",
   "execution_count": 594,
   "metadata": {},
   "outputs": [],
   "source": [
    "import pandas as pd\n",
    "import numpy as np\n",
    "import math\n",
    "import csv\n",
    "import os\n",
    "from datetime import datetime\n",
    "\n",
    "#used this to step into the function and debug it, also need line with Tracer()() \n",
    "from IPython.core.debugger import Tracer \n",
    "\n",
    "%matplotlib inline"
   ]
  },
  {
   "cell_type": "markdown",
   "metadata": {},
   "source": [
    "Define some functions up top"
   ]
  },
  {
   "cell_type": "code",
   "execution_count": 595,
   "metadata": {},
   "outputs": [],
   "source": [
    "#add the league manager to a league. They will be first on the list.\n",
    "def addManager(leagueDictionary,r,manager): #here r is the index in...\n",
    "    useRow = r.index[0]\n",
    "    #oneName = regSorted.loc[useRow,['lastname', 'firstname']] \n",
    "    oneName = regSorted.loc[useRow,['Last Name', 'First Name', 'Email']] \n",
    "    oneName = oneName.to_frame().transpose() #need this format to make nice output\n",
    "    #leagueDictionary[manager] = oneName #used to work, but now has , at end of tuple\n",
    "    #get rid of the @#$#% comma, updated 9/22/2019\n",
    "    forIdx = ''.join(manager)\n",
    "    leagueDictionary[forIdx] = oneName   \n",
    "    regSorted.loc[useRow,forIdx]=np.nan\n",
    "    regTracking.loc[useRow,forIdx]='yes'\n",
    "    return leagueDictionary"
   ]
  },
  {
   "cell_type": "code",
   "execution_count": 596,
   "metadata": {},
   "outputs": [],
   "source": [
    "#this adds a person to an 'open' league - or one where they have had to decide on priorities\n",
    "def addOpenLeague(idx,regSorted,regTracking,leagueDict_open,iteration,trackIssues):\n",
    "    #person is interested in open leagues, oneLeague will be index in their next choice\n",
    "    #prior to Fall 2019, this worked, seems to be a new format in the Excel file\n",
    "    #oneLeague = regSorted.loc[idx,openLeagues].dropna().idxmin()\n",
    "    #probably a better way to do this, but gather up all the bits in one line (yikes!)\n",
    "    oneLeague = pd.to_numeric(regSorted.loc[idx,openLeagues].dropna()).idxmin()\n",
    "    \n",
    "    oneName = regSorted.loc[idx,['Last Name', 'First Name', 'Email']]\n",
    "    oneName = oneName.to_frame().transpose() #need this format to make nice output\n",
    "\n",
    "    if len(leagueDict_open[oneLeague]) < (nLimit.loc[oneLeague,'nLimit']): #room in league\n",
    "        leagueDict_open = addOne(leagueDict_open,oneLeague,oneName)\n",
    "        #now that I have added the person to a league, change their priority to NaN\n",
    "        regSorted.loc[idx,oneLeague] = np.nan\n",
    "        regTracking.loc[idx,oneLeague] = 'yes'\n",
    "\n",
    "    elif len(leagueDict_open[oneLeague]) == (nLimit.loc[oneLeague,'nLimit']):\n",
    "        #league is full...does this person have another league listed?\n",
    "        #first, set current to NaN\n",
    "        regSorted.loc[idx,oneLeague] = np.nan\n",
    "        regTracking.loc[idx,oneLeague] = 'no' #did not get in\n",
    "        nextPriority = regSorted.loc[idx,openLeagues].dropna().min()\n",
    "        if math.isnan(nextPriority)!=1: #have a number\n",
    "            #go to the next league on their list\n",
    "            nextLeague = pd.to_numeric(regSorted.loc[idx,openLeagues].dropna()).idxmin()\n",
    "            \n",
    "            #only add person is league has space\n",
    "            if len(leagueDict_open[nextLeague]) < (nLimit.loc[nextLeague,'nLimit']):\n",
    "                leagueDict_open = addOne(leagueDict_open,nextLeague,oneName)\n",
    "                regSorted.loc[idx,nextLeague] = np.nan\n",
    "                regTracking.loc[idx,nextLeague] = 'yes'\n",
    "            elif (len(leagueDict_open[nextLeague]) == nLimit.loc[nextLeague,'nLimit']) & (iteration==1):\n",
    "                regTracking.loc[idx,nextLeague]='no'\n",
    "                trackIssues = addOne(trackIssues,'notInFirst',oneName)\n",
    "            elif (len(leagueDict_open[nextLeague]) == nLimit.loc[nextLeague,'nLimit']) & (iteration==2):\n",
    "                regTracking.loc[idx,nextLeague]='no'\n",
    "                trackIssues = addOne(trackIssues,'notInSecond',oneName)\n",
    "            elif (len(leagueDict_open[nextLeague]) == nLimit.loc[nextLeague,'nLimit']) & (iteration==3):\n",
    "                regTracking.loc[idx,nextLeague]='no'\n",
    "                trackIssues = addOne(trackIssues,'notInThird',oneName)\n",
    "            elif (len(leagueDict_open[nextLeague]) == nLimit.loc[nextLeague,'nLimit']) & (iteration==4):\n",
    "                regTracking.loc[idx,nextLeague]='no'\n",
    "                trackIssues = addOne(trackIssues,'notInFourth',oneName)\n",
    "            elif (len(leagueDict_open[nextLeague]) == nLimit.loc[nextLeague,'nLimit']) & (iteration==5):\n",
    "                regTracking.loc[idx,nextLeague]='no'\n",
    "                trackIssues = addOne(trackIssues,'notInFifth',oneName)\n",
    "        elif math.isnan(nextPriority)==1:\n",
    "            trackIssues=addOne(trackIssues,'noAdditionalChoice',oneName)\n",
    "                           \n",
    "    return regSorted, regTracking, leagueDict_open, trackIssues"
   ]
  },
  {
   "cell_type": "code",
   "execution_count": 597,
   "metadata": {},
   "outputs": [],
   "source": [
    "#this adds a person to a league without worrying about priorities (e.g., Mens or Ladies league)\n",
    "def addOne(leagueDict,oneLeague,oneName):\n",
    "    if len(leagueDict[oneLeague])==0: #nothing there yet\n",
    "        leagueDict[oneLeague] = oneName\n",
    "    else:     #need to append\n",
    "        leagueDict[oneLeague] = leagueDict[oneLeague].append(oneName)\n",
    "    return leagueDict"
   ]
  },
  {
   "cell_type": "markdown",
   "metadata": {},
   "source": [
    "Read in the data"
   ]
  },
  {
   "cell_type": "code",
   "execution_count": 598,
   "metadata": {},
   "outputs": [],
   "source": [
    "#New behind the scenes program exports an Excel file...\n",
    "fName = 'registrants_list_on_2019-12-31.KLworking.xlsx' \n",
    "importInfo = pd.read_excel(io=fName)\n",
    "\n",
    "#Men's league has an apostrophe that causes issues, rename it here\n",
    "importInfo.rename(\n",
    "  columns={\"Men's League\": 'Mens League'},inplace=True)"
   ]
  },
  {
   "cell_type": "code",
   "execution_count": 599,
   "metadata": {},
   "outputs": [],
   "source": [
    "#shuffle the information from the website site to match the format in the rest of this file\n",
    "openLeagues = ['Sunday Night', 'Monday 4PM', 'Monday Night','Tuesday 10AM','Tuesday 4PM',\n",
    "               'Wednesday 4PM','Thursday 4PM'] #updated to match the priority list\n",
    "otherLeagues = ['Mens League', 'Ladies League' ,'Scrod League']\n",
    "\n",
    "priorities = ['First Open League Choice','Second Open League Choice',\n",
    "              'Third Open League Choice','Fourth Open League Choice',\n",
    "              'Fifth Open League Choice','Sixth Open League Choice']\n",
    "\n",
    "regInfo = importInfo.loc[:,(['First Name','Last Name','Email',\n",
    "                             'How many Chamionship Leagues would you like to play in?'] + otherLeagues)]\n",
    "\n",
    "#hack to shift to old name bc old name has no spaces!\n",
    "regInfo.rename(columns={'How many Chamionship Leagues would you like to play in?': 'League_Number_Open'}, inplace=True) \n",
    "\n",
    "for item in openLeagues:\n",
    "    #add columns with open league names and fill with NaN\n",
    "    regInfo[item] = np.nan"
   ]
  },
  {
   "cell_type": "code",
   "execution_count": 600,
   "metadata": {},
   "outputs": [],
   "source": [
    "nPeople = len(regInfo.index)\n",
    "for idx in range(0,nPeople):\n",
    "    for idxP in enumerate(priorities):\n",
    "        #remember: enumerate will allow idxP[0] is the number, while idxP[1] is the value\n",
    "        getOne = importInfo.loc[idx,idxP[1]]\n",
    "        if isinstance(getOne,str): #updated 9/22/2019\n",
    "            regInfo.loc[idx,getOne] = idxP[0] + 1  #want 1,2,3 and not python zero index"
   ]
  },
  {
   "cell_type": "code",
   "execution_count": 601,
   "metadata": {},
   "outputs": [
    {
     "data": {
      "text/html": [
       "<div>\n",
       "<style scoped>\n",
       "    .dataframe tbody tr th:only-of-type {\n",
       "        vertical-align: middle;\n",
       "    }\n",
       "\n",
       "    .dataframe tbody tr th {\n",
       "        vertical-align: top;\n",
       "    }\n",
       "\n",
       "    .dataframe thead th {\n",
       "        text-align: right;\n",
       "    }\n",
       "</style>\n",
       "<table border=\"1\" class=\"dataframe\">\n",
       "  <thead>\n",
       "    <tr style=\"text-align: right;\">\n",
       "      <th></th>\n",
       "      <th>First Name</th>\n",
       "      <th>Last Name</th>\n",
       "      <th>Email</th>\n",
       "      <th>League_Number_Open</th>\n",
       "      <th>Mens League</th>\n",
       "      <th>Ladies League</th>\n",
       "      <th>Scrod League</th>\n",
       "      <th>Sunday Night</th>\n",
       "      <th>Monday 4PM</th>\n",
       "      <th>Monday Night</th>\n",
       "      <th>Tuesday 10AM</th>\n",
       "      <th>Tuesday 4PM</th>\n",
       "      <th>Wednesday 4PM</th>\n",
       "      <th>Thursday 4PM</th>\n",
       "    </tr>\n",
       "  </thead>\n",
       "  <tbody>\n",
       "    <tr>\n",
       "      <th>1</th>\n",
       "      <td>Nathan</td>\n",
       "      <td>Adams</td>\n",
       "      <td>adams.nathan.t@gmail.com</td>\n",
       "      <td>1.0</td>\n",
       "      <td>No</td>\n",
       "      <td>No</td>\n",
       "      <td>No</td>\n",
       "      <td>1.0</td>\n",
       "      <td>NaN</td>\n",
       "      <td>NaN</td>\n",
       "      <td>NaN</td>\n",
       "      <td>NaN</td>\n",
       "      <td>NaN</td>\n",
       "      <td>NaN</td>\n",
       "    </tr>\n",
       "    <tr>\n",
       "      <th>2</th>\n",
       "      <td>Tom</td>\n",
       "      <td>Adams</td>\n",
       "      <td>tradams121@gmail.com</td>\n",
       "      <td>1.0</td>\n",
       "      <td>Yes</td>\n",
       "      <td>No</td>\n",
       "      <td>No</td>\n",
       "      <td>2.0</td>\n",
       "      <td>NaN</td>\n",
       "      <td>NaN</td>\n",
       "      <td>NaN</td>\n",
       "      <td>NaN</td>\n",
       "      <td>NaN</td>\n",
       "      <td>NaN</td>\n",
       "    </tr>\n",
       "  </tbody>\n",
       "</table>\n",
       "</div>"
      ],
      "text/plain": [
       "  First Name Last Name                     Email  League_Number_Open  \\\n",
       "1     Nathan     Adams  adams.nathan.t@gmail.com                 1.0   \n",
       "2        Tom     Adams      tradams121@gmail.com                 1.0   \n",
       "\n",
       "  Mens League Ladies League Scrod League  Sunday Night  Monday 4PM  \\\n",
       "1          No            No           No           1.0         NaN   \n",
       "2         Yes            No           No           2.0         NaN   \n",
       "\n",
       "   Monday Night  Tuesday 10AM  Tuesday 4PM  Wednesday 4PM  Thursday 4PM  \n",
       "1           NaN           NaN          NaN            NaN           NaN  \n",
       "2           NaN           NaN          NaN            NaN           NaN  "
      ]
     },
     "execution_count": 601,
     "metadata": {},
     "output_type": "execute_result"
    }
   ],
   "source": [
    "#regInfo.loc[importInfo['Last Name']==\"O'Connor\"] #use this to find one person's registration\n",
    "regInfo.loc[importInfo['Last Name']==\"Adams\"]"
   ]
  },
  {
   "cell_type": "code",
   "execution_count": 602,
   "metadata": {},
   "outputs": [],
   "source": [
    "#first, how many random numbers so I need?\n",
    "nPeople = len(regInfo.index)\n",
    "np.random.seed(SEED)\n",
    "regInfo['randomNumCol'] = np.random.choice(range(nPeople), nPeople,replace = False)\n",
    "\n",
    "##put in place to rank people higher if they only want to curl in one championship league\n",
    "if False:\n",
    "    for idx in (range(0,nPeople)):\n",
    "        if regInfo.loc[idx,'League_Number_Open'] != '1':\n",
    "            regInfo.loc[idx,'randomNumCol'] = regInfo.loc[idx,'randomNumCol'] + 1000"
   ]
  },
  {
   "cell_type": "code",
   "execution_count": 603,
   "metadata": {},
   "outputs": [],
   "source": [
    "##so now, moving back to the list of people, sort the list by the random number\n",
    "regSorted = regInfo.sort_values(by = 'randomNumCol', ascending=True)\n",
    "regSorted.reset_index(inplace = True)\n",
    "#copy so I can have an output tracking what was done, make after I put in league managers\n",
    "regTracking = regSorted.copy(deep=True)"
   ]
  },
  {
   "cell_type": "code",
   "execution_count": 604,
   "metadata": {},
   "outputs": [],
   "source": [
    "issueNames = ['notInFirst','notInSecond','notInThird','notInFourth','notInFifth','noAdditionalChoice']\n",
    "#setup the dictionary to hold the issues\n",
    "trackIssues = {}\n",
    "for name in issueNames:\n",
    "    trackIssues[name] = pd.DataFrame()"
   ]
  },
  {
   "cell_type": "code",
   "execution_count": 605,
   "metadata": {},
   "outputs": [],
   "source": [
    "#setup the dictionary to hold the people information (start with openLeagues only)\n",
    "forDictionary = openLeagues\n",
    "#forDictionary.extend(otherLeagues)\n",
    "leagueDict_open = {}\n",
    "for name in forDictionary:\n",
    "    leagueDict_open[name] = pd.DataFrame()"
   ]
  },
  {
   "cell_type": "code",
   "execution_count": 606,
   "metadata": {},
   "outputs": [],
   "source": [
    "#set the limit for each league (can set to big numbers to see how oversubscribed each league is)\n",
    "fiveTeams = 20\n",
    "sixTeams = 24\n",
    "sevenTeams = 28 \n",
    "eightTeams = 32\n",
    "elevenTeams = 44\n",
    "fourteenTeams = 56\n",
    "\n",
    "d = {'Sunday Night': eightTeams,\n",
    "     'Monday 4PM': sevenTeams,\n",
    "     'Monday Night': fourteenTeams,\n",
    "     'Tuesday 10AM': sevenTeams,\n",
    "     'Tuesday 4PM': sixTeams,\n",
    "     'Wednesday 4PM': sevenTeams,\n",
    "     'Thursday 4PM': sevenTeams,}\n",
    "\n",
    "nLimit = pd.DataFrame({'nLimit' : d})\n",
    "del d"
   ]
  },
  {
   "cell_type": "code",
   "execution_count": 607,
   "metadata": {},
   "outputs": [],
   "source": [
    "# put the manager information into a loop bc need to check later for them\n",
    "# this cell usually fails if I have the league managers names wrong...\n",
    "##place holders in here\n",
    "names = [['Nathan','Adams'],['Jeanie','Yaroch'],['George', 'Bagley'],\n",
    "         ['Mary' ,'Colacchio'],['James', 'Woodworth'], #placeholder\n",
    "        ['Katie', 'Murphy'],['Bill', 'Gallagher']] #placeholder\n",
    "\n",
    "leagues = ['Sunday Night','Monday 4PM','Monday Night','Tuesday 10AM','Tuesday 4PM',\n",
    "           'Wednesday 4PM','Thursday 4PM']\n",
    "managers = pd.DataFrame(names,columns = ['firstname','lastname'],index = [leagues])\n",
    "#del names,leagues\n",
    "\n",
    "if True:\n",
    "    #put the league managers into their league and set their the choice for that league to NaN\n",
    "    for oL,item in managers.iterrows():\n",
    "        #print(oL,item)\n",
    "        r = regSorted.loc[(regSorted['Last Name']==item.lastname) & (regSorted['First Name']==item.firstname)]\n",
    "        #print(r)\n",
    "        leagueDict_open = addManager(leagueDict_open,r,oL)  "
   ]
  },
  {
   "cell_type": "code",
   "execution_count": 608,
   "metadata": {},
   "outputs": [
    {
     "data": {
      "text/plain": [
       "{'Sunday Night':     Last Name First Name                     Email\n",
       " 177     Adams     Nathan  adams.nathan.t@gmail.com,\n",
       " 'Monday 4PM':    Last Name First Name                     Email\n",
       " 89    Yaroch     Jeanie  jeanieyaroch@comcast.net,\n",
       " 'Monday Night':    Last Name First Name               Email\n",
       " 44    Bagley     George  gnbagley@gmail.com,\n",
       " 'Tuesday 10AM':      Last Name First Name                      Email\n",
       " 174  Colacchio       Mary  marycolacchio@verizon.net,\n",
       " 'Tuesday 4PM':      Last Name First Name                  Email\n",
       " 136  Woodworth      James  jwoodworthstl@aol.com,\n",
       " 'Wednesday 4PM':     Last Name First Name              Email\n",
       " 104    Murphy      Katie  quissettk@aol.com,\n",
       " 'Thursday 4PM':      Last Name First Name                     Email\n",
       " 179  Gallagher       Bill  b.gallagher.ma@gmail.com}"
      ]
     },
     "execution_count": 608,
     "metadata": {},
     "output_type": "execute_result"
    }
   ],
   "source": [
    "leagueDict_open"
   ]
  },
  {
   "cell_type": "code",
   "execution_count": 609,
   "metadata": {},
   "outputs": [
    {
     "data": {
      "text/html": [
       "<div>\n",
       "<style scoped>\n",
       "    .dataframe tbody tr th:only-of-type {\n",
       "        vertical-align: middle;\n",
       "    }\n",
       "\n",
       "    .dataframe tbody tr th {\n",
       "        vertical-align: top;\n",
       "    }\n",
       "\n",
       "    .dataframe thead th {\n",
       "        text-align: right;\n",
       "    }\n",
       "</style>\n",
       "<table border=\"1\" class=\"dataframe\">\n",
       "  <thead>\n",
       "    <tr style=\"text-align: right;\">\n",
       "      <th></th>\n",
       "      <th>firstname</th>\n",
       "      <th>lastname</th>\n",
       "    </tr>\n",
       "  </thead>\n",
       "  <tbody>\n",
       "    <tr>\n",
       "      <th>Sunday Night</th>\n",
       "      <td>Nathan</td>\n",
       "      <td>Adams</td>\n",
       "    </tr>\n",
       "    <tr>\n",
       "      <th>Monday 4PM</th>\n",
       "      <td>Jeanie</td>\n",
       "      <td>Yaroch</td>\n",
       "    </tr>\n",
       "    <tr>\n",
       "      <th>Monday Night</th>\n",
       "      <td>George</td>\n",
       "      <td>Bagley</td>\n",
       "    </tr>\n",
       "    <tr>\n",
       "      <th>Tuesday 10AM</th>\n",
       "      <td>Mary</td>\n",
       "      <td>Colacchio</td>\n",
       "    </tr>\n",
       "    <tr>\n",
       "      <th>Tuesday 4PM</th>\n",
       "      <td>James</td>\n",
       "      <td>Woodworth</td>\n",
       "    </tr>\n",
       "    <tr>\n",
       "      <th>Wednesday 4PM</th>\n",
       "      <td>Katie</td>\n",
       "      <td>Murphy</td>\n",
       "    </tr>\n",
       "    <tr>\n",
       "      <th>Thursday 4PM</th>\n",
       "      <td>Bill</td>\n",
       "      <td>Gallagher</td>\n",
       "    </tr>\n",
       "  </tbody>\n",
       "</table>\n",
       "</div>"
      ],
      "text/plain": [
       "              firstname   lastname\n",
       "Sunday Night     Nathan      Adams\n",
       "Monday 4PM       Jeanie     Yaroch\n",
       "Monday Night     George     Bagley\n",
       "Tuesday 10AM       Mary  Colacchio\n",
       "Tuesday 4PM       James  Woodworth\n",
       "Wednesday 4PM     Katie     Murphy\n",
       "Thursday 4PM       Bill  Gallagher"
      ]
     },
     "execution_count": 609,
     "metadata": {},
     "output_type": "execute_result"
    }
   ],
   "source": [
    "managers"
   ]
  },
  {
   "cell_type": "code",
   "execution_count": 610,
   "metadata": {},
   "outputs": [
    {
     "data": {
      "text/plain": [
       "200"
      ]
     },
     "execution_count": 610,
     "metadata": {},
     "output_type": "execute_result"
    }
   ],
   "source": [
    "nPeople"
   ]
  },
  {
   "cell_type": "code",
   "execution_count": 611,
   "metadata": {},
   "outputs": [],
   "source": [
    "if np.isnan(regTracking.loc[3,'League_Number_Open']) == True:\n",
    "    print('test')"
   ]
  },
  {
   "cell_type": "code",
   "execution_count": 612,
   "metadata": {},
   "outputs": [
    {
     "data": {
      "text/plain": [
       "False"
      ]
     },
     "execution_count": 612,
     "metadata": {},
     "output_type": "execute_result"
    }
   ],
   "source": [
    "regTracking.loc[3,'League_Number_Open'] == np.isnan"
   ]
  },
  {
   "cell_type": "markdown",
   "metadata": {},
   "source": [
    "The actual sorting process starts in the following cell"
   ]
  },
  {
   "cell_type": "code",
   "execution_count": 613,
   "metadata": {},
   "outputs": [],
   "source": [
    "iteration = 1\n",
    "for idx in (range(0,(nPeople-1))):\n",
    "    #if regTracking.loc[idx,'League_Number_Open'] != 'nan':\n",
    "    if np.isnan(regTracking.loc[idx,'League_Number_Open']) == False:\n",
    "        #Tracer()()\n",
    "        #only do something if a person is still looking for more leagues...\n",
    "        rt = regTracking.loc[idx,openLeagues]\n",
    "        cHave = len(rt[rt=='yes'])\n",
    "        del rt\n",
    "        #NOTE: League_Number_Open will return a string...change to int\n",
    "    \n",
    "if cHave < int(regTracking.loc[idx,'League_Number_Open']): #person wants more \n",
    "            onePriority = regSorted.loc[idx,openLeagues].dropna().min() #any more things ranked?   \n",
    "            if math.isnan(float(onePriority))==False:\n",
    "                regSorted,regTracking,leagueDict_open,trackIssues = addOpenLeague(idx,regSorted,regTracking,leagueDict_open,iteration,trackIssues)\n"
   ]
  },
  {
   "cell_type": "code",
   "execution_count": 614,
   "metadata": {},
   "outputs": [],
   "source": [
    "#now go backwards through the list to fill the other spots\n",
    "iteration = 2\n",
    "for idx in (range((nPeople - 1),0,-1)):\n",
    "    #ignore person who does not want open leagues:\n",
    "    if np.isnan(regTracking.loc[idx,'League_Number_Open']) == False:\n",
    "        #only do something if a person is still looking for more leagues...\n",
    "        rt = regTracking.loc[idx,openLeagues]\n",
    "        cHave = len(rt[rt=='yes'])\n",
    "        del rt\n",
    "        #NOTE: League_Number_Open will return a string...change to int\n",
    "        if cHave < int(regTracking.loc[idx,'League_Number_Open']): #person wants more \n",
    "            onePriority = regSorted.loc[idx,openLeagues].dropna().min() #any more things ranked?   \n",
    "            if math.isnan(float(onePriority))==False:\n",
    "                regSorted,regTracking,leagueDict_open,trackIssues = addOpenLeague(idx,regSorted,regTracking,leagueDict_open,iteration,trackIssues)"
   ]
  },
  {
   "cell_type": "code",
   "execution_count": 615,
   "metadata": {},
   "outputs": [
    {
     "data": {
      "text/plain": [
       "{'notInFirst': Empty DataFrame\n",
       " Columns: []\n",
       " Index: [], 'notInSecond': Empty DataFrame\n",
       " Columns: []\n",
       " Index: [], 'notInThird': Empty DataFrame\n",
       " Columns: []\n",
       " Index: [], 'notInFourth': Empty DataFrame\n",
       " Columns: []\n",
       " Index: [], 'notInFifth': Empty DataFrame\n",
       " Columns: []\n",
       " Index: [], 'noAdditionalChoice': Empty DataFrame\n",
       " Columns: []\n",
       " Index: []}"
      ]
     },
     "execution_count": 615,
     "metadata": {},
     "output_type": "execute_result"
    }
   ],
   "source": [
    "trackIssues"
   ]
  },
  {
   "cell_type": "code",
   "execution_count": null,
   "metadata": {},
   "outputs": [],
   "source": []
  },
  {
   "cell_type": "code",
   "execution_count": 616,
   "metadata": {},
   "outputs": [],
   "source": [
    "#go forwards again\n",
    "iteration = 3\n",
    "for idx in (range(0,(nPeople-1))):\n",
    "    #ignore person who does not want open leagues:\n",
    "    if np.isnan(regTracking.loc[idx,'League_Number_Open']) == False:\n",
    "        #only do something if a person is still looking for more leagues...\n",
    "        rt = regTracking.loc[idx,openLeagues]\n",
    "        cHave = len(rt[rt=='yes'])\n",
    "        del rt\n",
    "        #NOTE: League_Number_Open will return a string...change to int\n",
    "        if cHave < int(regTracking.loc[idx,'League_Number_Open']): #person wants more \n",
    "            onePriority = regSorted.loc[idx,openLeagues].dropna().min() #any more things ranked?   \n",
    "            if math.isnan(float(onePriority))==False:\n",
    "                regSorted,regTracking,leagueDict_open,trackIssues = addOpenLeague(idx,regSorted,regTracking,leagueDict_open,iteration,trackIssues)"
   ]
  },
  {
   "cell_type": "code",
   "execution_count": 617,
   "metadata": {},
   "outputs": [
    {
     "data": {
      "text/plain": [
       "{'notInFirst': Empty DataFrame\n",
       " Columns: []\n",
       " Index: [], 'notInSecond': Empty DataFrame\n",
       " Columns: []\n",
       " Index: [], 'notInThird': Empty DataFrame\n",
       " Columns: []\n",
       " Index: [], 'notInFourth': Empty DataFrame\n",
       " Columns: []\n",
       " Index: [], 'notInFifth': Empty DataFrame\n",
       " Columns: []\n",
       " Index: [], 'noAdditionalChoice':      Last Name First Name                 Email\n",
       " 80   Kraszeski       Mary  kraszeskim@yahoo.com\n",
       " 141       Mili      Peter    pdotmili@gmail.com\n",
       " 156     Nachin      Karen    kenachin@gmail.com\n",
       " 197      Smith       Barb     bsmith147@aol.com}"
      ]
     },
     "execution_count": 617,
     "metadata": {},
     "output_type": "execute_result"
    }
   ],
   "source": [
    "trackIssues"
   ]
  },
  {
   "cell_type": "code",
   "execution_count": null,
   "metadata": {},
   "outputs": [],
   "source": []
  },
  {
   "cell_type": "code",
   "execution_count": 618,
   "metadata": {},
   "outputs": [],
   "source": [
    "##add a fourth iteration...there might be space\n",
    "#now go backwards through the list to fill the other spots\n",
    "iteration = 4\n",
    "for idx in (range((nPeople-1),0,-1)):\n",
    "    #ignore person who does not want open leagues:\n",
    "    if np.isnan(regTracking.loc[idx,'League_Number_Open']) == False:\n",
    "        #only do something if a person is still looking for more leagues...\n",
    "        rt = regTracking.loc[idx,openLeagues]\n",
    "        cHave = len(rt[rt=='yes'])\n",
    "        del rt\n",
    "        #NOTE: League_Number_Open will return a string...change to int\n",
    "        if cHave < int(regTracking.loc[idx,'League_Number_Open']): #person wants more \n",
    "            onePriority = regSorted.loc[idx,openLeagues].dropna().min() #any more things ranked?   \n",
    "            if math.isnan(float(onePriority))==False:\n",
    "                regSorted,regTracking,leagueDict_open,trackIssues = addOpenLeague(idx,regSorted,regTracking,leagueDict_open,iteration,trackIssues)        "
   ]
  },
  {
   "cell_type": "code",
   "execution_count": 619,
   "metadata": {},
   "outputs": [
    {
     "data": {
      "text/plain": [
       "['Mens League', 'Ladies League', 'Scrod League']"
      ]
     },
     "execution_count": 619,
     "metadata": {},
     "output_type": "execute_result"
    }
   ],
   "source": [
    "otherLeagues"
   ]
  },
  {
   "cell_type": "code",
   "execution_count": 620,
   "metadata": {},
   "outputs": [],
   "source": [
    "#make a new dictionary for other leagues...concat with openLeagues when done\n",
    "# do doubles and competitive league by hand...\n",
    "#already defined this above...\n",
    "#otherLeagues = ['League_4_Men', 'League_7_Ladies' ,'League_Scrod']\n",
    "\n",
    "leagueDict_other = {}\n",
    "for name in otherLeagues:\n",
    "    leagueDict_other[name] = pd.DataFrame()"
   ]
  },
  {
   "cell_type": "code",
   "execution_count": 621,
   "metadata": {},
   "outputs": [],
   "source": [
    "#only have to go through once\n",
    "for idx, item in regTracking.iterrows():\n",
    "    for oL in otherLeagues:\n",
    "    \n",
    "        oneName = regSorted.loc[idx,['Last Name', 'First Name','Email']] #updated 9/13/2018\n",
    "        oneName = oneName.to_frame().transpose() #need this format to make nice output\n",
    "        if regSorted.loc[idx,oL]=='Yes': #careful with trailing spaces\n",
    "            leagueDict_other = addOne(leagueDict_other,oL,oneName)\n",
    "            #now that I have added the person to a league, change their priority to NaN\n",
    "            regTracking.loc[idx,oL] = 'done'\n",
    "            regSorted.loc[idx,oL] = np.nan"
   ]
  },
  {
   "cell_type": "code",
   "execution_count": 622,
   "metadata": {},
   "outputs": [],
   "source": [
    "#combine the two dictionaries\n",
    "leagueDict_all = leagueDict_open.copy()\n",
    "leagueDict_all.update(leagueDict_other)\n",
    "\n",
    "#combine the list of names\n",
    "allLeagues = list(openLeagues)\n",
    "allLeagues.extend(otherLeagues)"
   ]
  },
  {
   "cell_type": "code",
   "execution_count": 623,
   "metadata": {},
   "outputs": [],
   "source": [
    "#finally, export the results, until I have everyone...no need to keep every iteration\n",
    "folder = 'result_working' \n",
    "if not os.path.exists(folder):\n",
    "    os.makedirs(folder)    "
   ]
  },
  {
   "cell_type": "code",
   "execution_count": 624,
   "metadata": {},
   "outputs": [
    {
     "data": {
      "text/plain": [
       "['Sunday Night',\n",
       " 'Monday 4PM',\n",
       " 'Monday Night',\n",
       " 'Tuesday 10AM',\n",
       " 'Tuesday 4PM',\n",
       " 'Wednesday 4PM',\n",
       " 'Thursday 4PM',\n",
       " 'Mens League',\n",
       " 'Ladies League',\n",
       " 'Scrod League']"
      ]
     },
     "execution_count": 624,
     "metadata": {},
     "output_type": "execute_result"
    }
   ],
   "source": [
    "allLeagues"
   ]
  },
  {
   "cell_type": "code",
   "execution_count": 625,
   "metadata": {},
   "outputs": [],
   "source": [
    "#change this to sort alphabetically before exporting\n",
    "for fn in allLeagues:\n",
    "    fName = '%s.csv' % fn\n",
    "    #new folder for each run...\n",
    "    tData = leagueDict_all[fn].sort_values(by = ['Last Name'])\n",
    "    tData.to_csv(folder + '/' + fName)"
   ]
  },
  {
   "cell_type": "markdown",
   "metadata": {},
   "source": [
    "can ran multiple times and saved the output"
   ]
  },
  {
   "cell_type": "code",
   "execution_count": 626,
   "metadata": {},
   "outputs": [
    {
     "name": "stdout",
     "output_type": "stream",
     "text": [
      "notInFirst :  0  people in this category\n",
      "notInSecond :  0  people in this category\n",
      "notInThird :  0  people in this category\n",
      "notInFourth :  1  people in this category\n",
      "notInFifth :  0  people in this category\n",
      "noAdditionalChoice :  8  people in this category\n"
     ]
    }
   ],
   "source": [
    "#count up number of issues\n",
    "for problem in issueNames:\n",
    "    print(problem, ': ', len(trackIssues[problem]), ' people in this category')"
   ]
  },
  {
   "cell_type": "code",
   "execution_count": 627,
   "metadata": {
    "scrolled": true
   },
   "outputs": [
    {
     "data": {
      "text/html": [
       "<div>\n",
       "<style scoped>\n",
       "    .dataframe tbody tr th:only-of-type {\n",
       "        vertical-align: middle;\n",
       "    }\n",
       "\n",
       "    .dataframe tbody tr th {\n",
       "        vertical-align: top;\n",
       "    }\n",
       "\n",
       "    .dataframe thead th {\n",
       "        text-align: right;\n",
       "    }\n",
       "</style>\n",
       "<table border=\"1\" class=\"dataframe\">\n",
       "  <thead>\n",
       "    <tr style=\"text-align: right;\">\n",
       "      <th></th>\n",
       "      <th>nPeople</th>\n",
       "    </tr>\n",
       "  </thead>\n",
       "  <tbody>\n",
       "    <tr>\n",
       "      <th>Mens League</th>\n",
       "      <td>32.0</td>\n",
       "    </tr>\n",
       "    <tr>\n",
       "      <th>Ladies League</th>\n",
       "      <td>24.0</td>\n",
       "    </tr>\n",
       "    <tr>\n",
       "      <th>Scrod League</th>\n",
       "      <td>17.0</td>\n",
       "    </tr>\n",
       "  </tbody>\n",
       "</table>\n",
       "</div>"
      ],
      "text/plain": [
       "               nPeople\n",
       "Mens League       32.0\n",
       "Ladies League     24.0\n",
       "Scrod League      17.0"
      ]
     },
     "execution_count": 627,
     "metadata": {},
     "output_type": "execute_result"
    },
    {
     "data": {
      "image/png": "[encoded data removed]",
      "text/plain": [
       "<Figure size 432x288 with 1 Axes>"
      ]
     },
     "metadata": {
      "needs_background": "light"
     },
     "output_type": "display_data"
    }
   ],
   "source": [
    "#do some plotting...visually see how people distributed\n",
    "gather = pd.DataFrame(np.nan, index = otherLeagues, columns=['nPeople'])\n",
    "for name in otherLeagues:\n",
    "    gather.loc[name,'nPeople'] = len(leagueDict_all[name])\n",
    "    \n",
    "gather.plot(kind = 'bar',title='number of people in each league at this point')\n",
    "gather"
   ]
  },
  {
   "cell_type": "code",
   "execution_count": 628,
   "metadata": {
    "scrolled": true
   },
   "outputs": [
    {
     "data": {
      "text/html": [
       "<div>\n",
       "<style scoped>\n",
       "    .dataframe tbody tr th:only-of-type {\n",
       "        vertical-align: middle;\n",
       "    }\n",
       "\n",
       "    .dataframe tbody tr th {\n",
       "        vertical-align: top;\n",
       "    }\n",
       "\n",
       "    .dataframe thead th {\n",
       "        text-align: right;\n",
       "    }\n",
       "</style>\n",
       "<table border=\"1\" class=\"dataframe\">\n",
       "  <thead>\n",
       "    <tr style=\"text-align: right;\">\n",
       "      <th></th>\n",
       "      <th>nPeople</th>\n",
       "    </tr>\n",
       "  </thead>\n",
       "  <tbody>\n",
       "    <tr>\n",
       "      <th>Sunday Night</th>\n",
       "      <td>32.0</td>\n",
       "    </tr>\n",
       "    <tr>\n",
       "      <th>Monday 4PM</th>\n",
       "      <td>28.0</td>\n",
       "    </tr>\n",
       "    <tr>\n",
       "      <th>Monday Night</th>\n",
       "      <td>35.0</td>\n",
       "    </tr>\n",
       "    <tr>\n",
       "      <th>Tuesday 10AM</th>\n",
       "      <td>27.0</td>\n",
       "    </tr>\n",
       "    <tr>\n",
       "      <th>Tuesday 4PM</th>\n",
       "      <td>20.0</td>\n",
       "    </tr>\n",
       "    <tr>\n",
       "      <th>Wednesday 4PM</th>\n",
       "      <td>28.0</td>\n",
       "    </tr>\n",
       "    <tr>\n",
       "      <th>Thursday 4PM</th>\n",
       "      <td>27.0</td>\n",
       "    </tr>\n",
       "  </tbody>\n",
       "</table>\n",
       "</div>"
      ],
      "text/plain": [
       "               nPeople\n",
       "Sunday Night      32.0\n",
       "Monday 4PM        28.0\n",
       "Monday Night      35.0\n",
       "Tuesday 10AM      27.0\n",
       "Tuesday 4PM       20.0\n",
       "Wednesday 4PM     28.0\n",
       "Thursday 4PM      27.0"
      ]
     },
     "execution_count": 628,
     "metadata": {},
     "output_type": "execute_result"
    },
    {
     "data": {
      "image/png": "[encoded data removed]",
      "text/plain": [
       "<Figure size 432x288 with 1 Axes>"
      ]
     },
     "metadata": {
      "needs_background": "light"
     },
     "output_type": "display_data"
    }
   ],
   "source": [
    "#do some plotting...visually see how people distributed\n",
    "gather = pd.DataFrame(np.nan, index = openLeagues, columns=['nPeople'])\n",
    "for name in openLeagues:\n",
    "    gather.loc[name,'nPeople'] = len(leagueDict_open[name])\n",
    "    \n",
    "gather.plot(kind = 'bar',title='number of people in each league at this point')\n",
    "gather"
   ]
  },
  {
   "cell_type": "code",
   "execution_count": 629,
   "metadata": {},
   "outputs": [],
   "source": [
    "#gather up the number of people with # 'yes' < League_Number_Open\n",
    "outcome = regTracking.copy(deep = True)\n",
    "\n",
    "for idx, item in regTracking.iterrows():\n",
    "    #if regTracking.loc[idx,'League_Number_Open'] != 'None':\n",
    "    if np.isnan(regTracking.loc[idx,'League_Number_Open']) == False:\n",
    "        r = regTracking.loc[idx,openLeagues]\n",
    "        nLeagues = 0\n",
    "        for item in range(0,len(r)):\n",
    "            if r[item] == 'yes':\n",
    "                nLeagues = nLeagues + 1\n",
    "        if nLeagues == int(regTracking.loc[idx,'League_Number_Open']):\n",
    "            #delete from the dataframe\n",
    "            outcome.drop(idx,inplace = True)\n",
    "    else: #did not want open leagues, drop them too\n",
    "        outcome.drop(idx,inplace = True)\n",
    "        \n",
    "outcome.sort_values(by = 'League_Number_Open', inplace = True)"
   ]
  },
  {
   "cell_type": "code",
   "execution_count": 630,
   "metadata": {
    "scrolled": true
   },
   "outputs": [],
   "source": [
    "#this will be the list of people who did not get everything they wanted \n",
    "#(in terms of the # of 'championship' leagues)\n",
    "#outcome"
   ]
  },
  {
   "cell_type": "code",
   "execution_count": 631,
   "metadata": {},
   "outputs": [
    {
     "data": {
      "text/plain": [
       "10"
      ]
     },
     "execution_count": 631,
     "metadata": {},
     "output_type": "execute_result"
    }
   ],
   "source": [
    "len(outcome)"
   ]
  },
  {
   "cell_type": "code",
   "execution_count": 632,
   "metadata": {},
   "outputs": [
    {
     "data": {
      "text/html": [
       "<div>\n",
       "<style scoped>\n",
       "    .dataframe tbody tr th:only-of-type {\n",
       "        vertical-align: middle;\n",
       "    }\n",
       "\n",
       "    .dataframe tbody tr th {\n",
       "        vertical-align: top;\n",
       "    }\n",
       "\n",
       "    .dataframe thead th {\n",
       "        text-align: right;\n",
       "    }\n",
       "</style>\n",
       "<table border=\"1\" class=\"dataframe\">\n",
       "  <thead>\n",
       "    <tr style=\"text-align: right;\">\n",
       "      <th></th>\n",
       "      <th>index</th>\n",
       "      <th>First Name</th>\n",
       "      <th>Last Name</th>\n",
       "      <th>Email</th>\n",
       "      <th>League_Number_Open</th>\n",
       "      <th>Mens League</th>\n",
       "      <th>Ladies League</th>\n",
       "      <th>Scrod League</th>\n",
       "      <th>Sunday Night</th>\n",
       "      <th>Monday 4PM</th>\n",
       "      <th>Monday Night</th>\n",
       "      <th>Tuesday 10AM</th>\n",
       "      <th>Tuesday 4PM</th>\n",
       "      <th>Wednesday 4PM</th>\n",
       "      <th>Thursday 4PM</th>\n",
       "      <th>randomNumCol</th>\n",
       "    </tr>\n",
       "  </thead>\n",
       "  <tbody>\n",
       "    <tr>\n",
       "      <th>80</th>\n",
       "      <td>101</td>\n",
       "      <td>Mary</td>\n",
       "      <td>Kraszeski</td>\n",
       "      <td>kraszeskim@yahoo.com</td>\n",
       "      <td>2.0</td>\n",
       "      <td>No</td>\n",
       "      <td>No</td>\n",
       "      <td>No</td>\n",
       "      <td>NaN</td>\n",
       "      <td>no</td>\n",
       "      <td>NaN</td>\n",
       "      <td>yes</td>\n",
       "      <td>NaN</td>\n",
       "      <td>NaN</td>\n",
       "      <td>NaN</td>\n",
       "      <td>80</td>\n",
       "    </tr>\n",
       "    <tr>\n",
       "      <th>141</th>\n",
       "      <td>119</td>\n",
       "      <td>Peter</td>\n",
       "      <td>Mili</td>\n",
       "      <td>pdotmili@gmail.com</td>\n",
       "      <td>2.0</td>\n",
       "      <td>No</td>\n",
       "      <td>No</td>\n",
       "      <td>No</td>\n",
       "      <td>no</td>\n",
       "      <td>yes</td>\n",
       "      <td>NaN</td>\n",
       "      <td>NaN</td>\n",
       "      <td>NaN</td>\n",
       "      <td>NaN</td>\n",
       "      <td>NaN</td>\n",
       "      <td>141</td>\n",
       "    </tr>\n",
       "    <tr>\n",
       "      <th>156</th>\n",
       "      <td>124</td>\n",
       "      <td>Karen</td>\n",
       "      <td>Nachin</td>\n",
       "      <td>kenachin@gmail.com</td>\n",
       "      <td>2.0</td>\n",
       "      <td>No</td>\n",
       "      <td>No</td>\n",
       "      <td>No</td>\n",
       "      <td>no</td>\n",
       "      <td>NaN</td>\n",
       "      <td>NaN</td>\n",
       "      <td>yes</td>\n",
       "      <td>NaN</td>\n",
       "      <td>NaN</td>\n",
       "      <td>NaN</td>\n",
       "      <td>156</td>\n",
       "    </tr>\n",
       "    <tr>\n",
       "      <th>197</th>\n",
       "      <td>164</td>\n",
       "      <td>Barb</td>\n",
       "      <td>Smith</td>\n",
       "      <td>bsmith147@aol.com</td>\n",
       "      <td>2.0</td>\n",
       "      <td>No</td>\n",
       "      <td>No</td>\n",
       "      <td>No</td>\n",
       "      <td>no</td>\n",
       "      <td>NaN</td>\n",
       "      <td>NaN</td>\n",
       "      <td>yes</td>\n",
       "      <td>NaN</td>\n",
       "      <td>NaN</td>\n",
       "      <td>NaN</td>\n",
       "      <td>197</td>\n",
       "    </tr>\n",
       "    <tr>\n",
       "      <th>32</th>\n",
       "      <td>40</td>\n",
       "      <td>Peter</td>\n",
       "      <td>Clark</td>\n",
       "      <td>pelaclark@aol.com</td>\n",
       "      <td>3.0</td>\n",
       "      <td>No</td>\n",
       "      <td>No</td>\n",
       "      <td>No</td>\n",
       "      <td>no</td>\n",
       "      <td>NaN</td>\n",
       "      <td>NaN</td>\n",
       "      <td>NaN</td>\n",
       "      <td>yes</td>\n",
       "      <td>no</td>\n",
       "      <td>yes</td>\n",
       "      <td>32</td>\n",
       "    </tr>\n",
       "    <tr>\n",
       "      <th>43</th>\n",
       "      <td>108</td>\n",
       "      <td>Richard</td>\n",
       "      <td>Lousararian</td>\n",
       "      <td>rlousararian@gmail.com</td>\n",
       "      <td>3.0</td>\n",
       "      <td>done</td>\n",
       "      <td>No</td>\n",
       "      <td>No</td>\n",
       "      <td>NaN</td>\n",
       "      <td>no</td>\n",
       "      <td>NaN</td>\n",
       "      <td>NaN</td>\n",
       "      <td>NaN</td>\n",
       "      <td>yes</td>\n",
       "      <td>yes</td>\n",
       "      <td>43</td>\n",
       "    </tr>\n",
       "    <tr>\n",
       "      <th>46</th>\n",
       "      <td>72</td>\n",
       "      <td>Will</td>\n",
       "      <td>Gerlach</td>\n",
       "      <td>willg1ster@gmail.com</td>\n",
       "      <td>3.0</td>\n",
       "      <td>done</td>\n",
       "      <td>No</td>\n",
       "      <td>No</td>\n",
       "      <td>no</td>\n",
       "      <td>no</td>\n",
       "      <td>NaN</td>\n",
       "      <td>NaN</td>\n",
       "      <td>yes</td>\n",
       "      <td>NaN</td>\n",
       "      <td>yes</td>\n",
       "      <td>46</td>\n",
       "    </tr>\n",
       "    <tr>\n",
       "      <th>60</th>\n",
       "      <td>147</td>\n",
       "      <td>Bob</td>\n",
       "      <td>Reed</td>\n",
       "      <td>rreed.ma@gmail.com</td>\n",
       "      <td>3.0</td>\n",
       "      <td>No</td>\n",
       "      <td>No</td>\n",
       "      <td>No</td>\n",
       "      <td>NaN</td>\n",
       "      <td>no</td>\n",
       "      <td>NaN</td>\n",
       "      <td>NaN</td>\n",
       "      <td>yes</td>\n",
       "      <td>NaN</td>\n",
       "      <td>yes</td>\n",
       "      <td>60</td>\n",
       "    </tr>\n",
       "    <tr>\n",
       "      <th>94</th>\n",
       "      <td>69</td>\n",
       "      <td>Dave</td>\n",
       "      <td>Garrison</td>\n",
       "      <td>davegarrison@mac.com</td>\n",
       "      <td>3.0</td>\n",
       "      <td>No</td>\n",
       "      <td>No</td>\n",
       "      <td>No</td>\n",
       "      <td>no</td>\n",
       "      <td>NaN</td>\n",
       "      <td>NaN</td>\n",
       "      <td>yes</td>\n",
       "      <td>NaN</td>\n",
       "      <td>NaN</td>\n",
       "      <td>yes</td>\n",
       "      <td>94</td>\n",
       "    </tr>\n",
       "    <tr>\n",
       "      <th>161</th>\n",
       "      <td>50</td>\n",
       "      <td>Kathy</td>\n",
       "      <td>Devlin-Reed</td>\n",
       "      <td>kdevlinreed@gmail.com</td>\n",
       "      <td>3.0</td>\n",
       "      <td>No</td>\n",
       "      <td>No</td>\n",
       "      <td>No</td>\n",
       "      <td>NaN</td>\n",
       "      <td>no</td>\n",
       "      <td>NaN</td>\n",
       "      <td>NaN</td>\n",
       "      <td>yes</td>\n",
       "      <td>NaN</td>\n",
       "      <td>yes</td>\n",
       "      <td>161</td>\n",
       "    </tr>\n",
       "  </tbody>\n",
       "</table>\n",
       "</div>"
      ],
      "text/plain": [
       "     index First Name    Last Name                   Email  \\\n",
       "80     101       Mary    Kraszeski    kraszeskim@yahoo.com   \n",
       "141    119      Peter         Mili      pdotmili@gmail.com   \n",
       "156    124      Karen       Nachin      kenachin@gmail.com   \n",
       "197    164       Barb        Smith       bsmith147@aol.com   \n",
       "32      40      Peter        Clark       pelaclark@aol.com   \n",
       "43     108    Richard  Lousararian  rlousararian@gmail.com   \n",
       "46      72       Will      Gerlach    willg1ster@gmail.com   \n",
       "60     147        Bob         Reed      rreed.ma@gmail.com   \n",
       "94      69       Dave     Garrison    davegarrison@mac.com   \n",
       "161     50      Kathy  Devlin-Reed   kdevlinreed@gmail.com   \n",
       "\n",
       "     League_Number_Open Mens League Ladies League Scrod League Sunday Night  \\\n",
       "80                  2.0          No            No           No          NaN   \n",
       "141                 2.0          No            No           No           no   \n",
       "156                 2.0          No            No           No           no   \n",
       "197                 2.0          No            No           No           no   \n",
       "32                  3.0          No            No           No           no   \n",
       "43                  3.0        done            No           No          NaN   \n",
       "46                  3.0        done            No           No           no   \n",
       "60                  3.0          No            No           No          NaN   \n",
       "94                  3.0          No            No           No           no   \n",
       "161                 3.0          No            No           No          NaN   \n",
       "\n",
       "    Monday 4PM Monday Night Tuesday 10AM Tuesday 4PM Wednesday 4PM  \\\n",
       "80          no          NaN          yes         NaN           NaN   \n",
       "141        yes          NaN          NaN         NaN           NaN   \n",
       "156        NaN          NaN          yes         NaN           NaN   \n",
       "197        NaN          NaN          yes         NaN           NaN   \n",
       "32         NaN          NaN          NaN         yes            no   \n",
       "43          no          NaN          NaN         NaN           yes   \n",
       "46          no          NaN          NaN         yes           NaN   \n",
       "60          no          NaN          NaN         yes           NaN   \n",
       "94         NaN          NaN          yes         NaN           NaN   \n",
       "161         no          NaN          NaN         yes           NaN   \n",
       "\n",
       "    Thursday 4PM  randomNumCol  \n",
       "80           NaN            80  \n",
       "141          NaN           141  \n",
       "156          NaN           156  \n",
       "197          NaN           197  \n",
       "32           yes            32  \n",
       "43           yes            43  \n",
       "46           yes            46  \n",
       "60           yes            60  \n",
       "94           yes            94  \n",
       "161          yes           161  "
      ]
     },
     "execution_count": 632,
     "metadata": {},
     "output_type": "execute_result"
    }
   ],
   "source": [
    "outcome"
   ]
  },
  {
   "cell_type": "code",
   "execution_count": 633,
   "metadata": {},
   "outputs": [],
   "source": [
    "#alphabetize regTracking before saving\n",
    "regTracking.sort_values(by = 'Last Name',inplace = True)\n",
    "\n",
    "outcome.to_csv(folder + '/exportOutcome.csv')\n",
    "regTracking.to_csv(folder + '/exportTracking.csv')\n",
    "regSorted.to_csv(folder + '/exportSorted.csv')\n",
    "regInfo.to_csv(folder + '/exportInfo.csv')"
   ]
  },
  {
   "cell_type": "code",
   "execution_count": 634,
   "metadata": {},
   "outputs": [],
   "source": [
    "#can run multiple times and see what the best possible outcome is...would want to keep that..."
   ]
  },
  {
   "cell_type": "code",
   "execution_count": 635,
   "metadata": {},
   "outputs": [
    {
     "name": "stdout",
     "output_type": "stream",
     "text": [
      "notInFirst :  0  people in this category\n",
      "notInSecond :  0  people in this category\n",
      "notInThird :  0  people in this category\n",
      "notInFourth :  1  people in this category\n",
      "notInFifth :  0  people in this category\n",
      "noAdditionalChoice :  8  people in this category\n"
     ]
    }
   ],
   "source": [
    "for problem in issueNames:\n",
    "    print(problem, ': ', len(trackIssues[problem]), ' people in this category')"
   ]
  },
  {
   "cell_type": "code",
   "execution_count": null,
   "metadata": {},
   "outputs": [],
   "source": []
  },
  {
   "cell_type": "code",
   "execution_count": null,
   "metadata": {},
   "outputs": [],
   "source": []
  }
 ],
 "metadata": {
  "kernelspec": {
   "display_name": "Python 3",
   "language": "python",
   "name": "python3"
  },
  "language_info": {
   "codemirror_mode": {
    "name": "ipython",
    "version": 3
   },
   "file_extension": ".py",
   "mimetype": "text/x-python",
   "name": "python",
   "nbconvert_exporter": "python",
   "pygments_lexer": "ipython3",
   "version": "3.7.1"
  }
 },
 "nbformat": 4,
 "nbformat_minor": 1
}
