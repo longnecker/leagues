{
 "cells": [
  {
   "cell_type": "markdown",
   "metadata": {},
   "source": [
    "Sort people into leagues for curling\n",
    "KL 8/17/2016"
   ]
  },
  {
   "cell_type": "markdown",
   "metadata": {},
   "source": [
    "This version randomizes the people first...seems better to do byLeague version (more people get first choice)"
   ]
  },
  {
   "cell_type": "code",
   "execution_count": 67,
   "metadata": {
    "collapsed": false
   },
   "outputs": [
    {
     "name": "stdout",
     "output_type": "stream",
     "text": [
      "Once deleted, variables cannot be recovered. Proceed (y/[n])? y\n"
     ]
    }
   ],
   "source": [
    "if True:\n",
    "    %reset"
   ]
  },
  {
   "cell_type": "code",
   "execution_count": 68,
   "metadata": {
    "collapsed": true
   },
   "outputs": [],
   "source": [
    "import pandas as pd\n",
    "import numpy as np\n",
    "import math\n",
    "import csv\n",
    "import os.path\n",
    "\n",
    "#used this to step into the function and debug it, also need line with Tracer()() \n",
    "from IPython.core.debugger import Tracer "
   ]
  },
  {
   "cell_type": "markdown",
   "metadata": {},
   "source": [
    "Define some functions up top"
   ]
  },
  {
   "cell_type": "code",
   "execution_count": 70,
   "metadata": {
    "collapsed": false
   },
   "outputs": [],
   "source": [
    "def addOne(leagueDict,oneLeague,oneName):\n",
    "    if len(leagueDict[oneLeague])==0: #nothing there yet\n",
    "        leagueDict[oneLeague] = oneName\n",
    "    else:     #need to append\n",
    "        leagueDict[oneLeague] = leagueDict[oneLeague].append(oneName)\n",
    "    return leagueDict"
   ]
  },
  {
   "cell_type": "code",
   "execution_count": 71,
   "metadata": {
    "collapsed": true
   },
   "outputs": [],
   "source": [
    "def addManager(r,manager):\n",
    "    useRow = r.index[0]\n",
    "    oneName = regSorted.loc[useRow,['lastname', 'firstname']] \n",
    "    oneName = oneName.to_frame().transpose() #need this format to make nice output\n",
    "    leagueDict_open[manager] = oneName\n",
    "    regSorted.loc[useRow,manager]=np.nan\n",
    "    regTracking.loc[useRow,manager]='yes'"
   ]
  },
  {
   "cell_type": "code",
   "execution_count": 73,
   "metadata": {
    "collapsed": false
   },
   "outputs": [],
   "source": [
    "def addOpenLeague(idx,regSorted,regTracking,leagueDict_open,iteration,trackIssues):\n",
    "    #person is interested in open leagues, oneLeague will be index in their next choice\n",
    "    oneLeague = regSorted.loc[idx,openLeagues].dropna().idxmin()\n",
    "\n",
    "    oneName = regSorted.loc[idx,['lastname', 'firstname']] \n",
    "    oneName = oneName.to_frame().transpose() #need this format to make nice output\n",
    "\n",
    "    if len(leagueDict_open[oneLeague]) < (nLimit.loc[oneLeague,'nLimit']): #room in league\n",
    "        leagueDict_open = addOne(leagueDict_open,oneLeague,oneName)\n",
    "        #now that I have added the person to a league, change their priority to NaN\n",
    "        regSorted.loc[idx,oneLeague] = np.nan\n",
    "        regTracking.loc[idx,oneLeague] = 'yes'\n",
    "\n",
    "    elif len(leagueDict_open[oneLeague]) == (nLimit.loc[oneLeague,'nLimit']):\n",
    "        #league is full...does this person have another league listed?\n",
    "        #first, set current to NaN\n",
    "        regSorted.loc[idx,oneLeague] = np.nan\n",
    "        regTracking.loc[idx,oneLeague] = 'no' #did not get in\n",
    "        nextPriority = regSorted.loc[idx,openLeagues].dropna().min()\n",
    "        if math.isnan(nextPriority)!=1: #have a number\n",
    "            #go to the next league on their list\n",
    "            nextLeague = regSorted.loc[idx,openLeagues].dropna().idxmin()\n",
    "            #only add person is league has space\n",
    "            if len(leagueDict_open[nextLeague]) < (nLimit.loc[nextLeague,'nLimit']):\n",
    "                leagueDict_open = addOne(leagueDict_open,nextLeague,oneName)\n",
    "                regSorted.loc[idx,nextLeague] = np.nan\n",
    "                regTracking.loc[idx,nextLeague] = 'yes'\n",
    "            elif (len(leagueDict_open[nextLeague]) == nLimit.loc[nextLeague,'nLimit']) & (iteration==1):\n",
    "                regTracking.loc[idx,nextLeague]='no'\n",
    "                trackIssues = addOne(trackIssues,'notInFirst',oneName)\n",
    "            elif (len(leagueDict_open[nextLeague]) == nLimit.loc[nextLeague,'nLimit']) & (iteration==2):\n",
    "                regTracking.loc[idx,nextLeague]='no'\n",
    "                trackIssues = addOne(trackIssues,'notInSecond',oneName)\n",
    "            elif (len(leagueDict_open[nextLeague]) == nLimit.loc[nextLeague,'nLimit']) & (iteration==3):\n",
    "                regTracking.loc[idx,nextLeague]='no'\n",
    "                trackIssues = addOne(trackIssues,'notInThird',oneName)\n",
    "        elif math.isnan(nextPriority)==1:\n",
    "            trackIssues=addOne(trackIssues,'noAdditionalChoice',oneName)\n",
    "                           \n",
    "    return regSorted, regTracking, leagueDict_open, trackIssues"
   ]
  },
  {
   "cell_type": "markdown",
   "metadata": {},
   "source": [
    "Read in the data"
   ]
  },
  {
   "cell_type": "code",
   "execution_count": 74,
   "metadata": {
    "collapsed": false
   },
   "outputs": [],
   "source": [
    "#goal will be to use the version that comes out of the website\n",
    "fName = 'TestPriority4.csv'\n",
    "regInfo=pd.read_csv(fName)\n",
    "\n",
    "#first, how many random numbers so I need?\n",
    "nPeople = len(regInfo.index)\n",
    "regInfo['randomNumCol'] = np.random.choice(range(nPeople), nPeople,replace = False)\n",
    "##so now, moving back to the list of people, sort the list by the random number\n",
    "regSorted = regInfo.sort_values(by = 'randomNumCol', ascending=True)\n",
    "regSorted = regSorted.set_index(['randomNumCol'])\n",
    "\n",
    "#copy so I can have an output tracking what was done, make after I put in league managers\n",
    "regTracking = regSorted.copy(deep=True)"
   ]
  },
  {
   "cell_type": "code",
   "execution_count": 76,
   "metadata": {
    "collapsed": false
   },
   "outputs": [
    {
     "data": {
      "text/plain": [
       "['League_1_Sunday_Open',\n",
       " 'League_2_Monday_Open',\n",
       " 'League_3_Monday_Night_Open',\n",
       " 'League_Tuesday_Open',\n",
       " 'League_5_Wednesday_Open',\n",
       " 'League_6_Thursday_Open']"
      ]
     },
     "execution_count": 76,
     "metadata": {},
     "output_type": "execute_result"
    }
   ],
   "source": [
    "#now, make up a series of variables that are the names of the leagues, \n",
    "#can pull the leageu names from imported CSV file. They won't move around,\n",
    "#so just index in, but don't need the Men's league in here\n",
    "openLeagues = list(regInfo)[5:12]\n",
    "openLeagues.remove('League_4_Men')\n",
    "openLeagues"
   ]
  },
  {
   "cell_type": "code",
   "execution_count": 72,
   "metadata": {
    "collapsed": false
   },
   "outputs": [],
   "source": [
    "issueNames = ['notInFirst','notInSecond','notInThird','noAdditionalChoice']\n",
    "#setup the dictionary to hold the issues\n",
    "trackIssues = {}\n",
    "for name in issueNames:\n",
    "    trackIssues[name] = pd.DataFrame()"
   ]
  },
  {
   "cell_type": "code",
   "execution_count": 77,
   "metadata": {
    "collapsed": false
   },
   "outputs": [],
   "source": [
    "#setup the dictionary to hold the people information (start with openLeagues only)\n",
    "forDictionary = openLeagues\n",
    "#forDictionary.extend(otherLeagues)\n",
    "leagueDict_open = {}\n",
    "for name in forDictionary:\n",
    "    leagueDict_open[name] = pd.DataFrame()"
   ]
  },
  {
   "cell_type": "code",
   "execution_count": 78,
   "metadata": {
    "collapsed": false
   },
   "outputs": [],
   "source": [
    "#set the limit for each league:\n",
    "sevenTeams = 5 #change to 28 (remember league manager goes in first)\n",
    "fourteenTeams = 56\n",
    "\n",
    "d = {'League_1_Sunday_Open': sevenTeams,\n",
    "     'League_2_Monday_Open': sevenTeams,\n",
    "     'League_3_Monday_Night_Open': fourteenTeams,\n",
    "     'League_Tuesday_Open': sevenTeams,\n",
    "     'League_5_Wednesday_Open': sevenTeams,\n",
    "     'League_6_Thursday_Open': sevenTeams,}\n",
    "\n",
    "nLimit = pd.DataFrame({'nLimit' : d})\n",
    "del d"
   ]
  },
  {
   "cell_type": "code",
   "execution_count": 79,
   "metadata": {
    "collapsed": true
   },
   "outputs": [],
   "source": [
    "#put the league managers into their league and set their the choice for that league to NaN\n",
    "manager = 'League_1_Sunday_Open'\n",
    "r = regSorted.loc[(regSorted['lastname']=='Fragaszy') & (regSorted['firstname']=='Bill')]\n",
    "addManager(r,manager)\n",
    "\n",
    "manager = 'League_2_Monday_Open'\n",
    "r = regSorted.loc[(regSorted['lastname']=='Brown') & (regSorted['firstname']=='Peter')]\n",
    "addManager(r,manager)\n",
    "\n",
    "manager = 'League_3_Monday_Night_Open'\n",
    "r = regSorted.loc[(regSorted['lastname']=='DiMassa') & (regSorted['firstname']=='Diane')]\n",
    "addManager(r,manager)\n",
    "\n",
    "manager = 'League_Tuesday_Open'\n",
    "r = regSorted.loc[(regSorted['lastname']=='Thomson') & (regSorted['firstname']=='Kenny')]\n",
    "addManager(r,manager)\n",
    "\n",
    "manager = 'League_5_Wednesday_Open'\n",
    "r = regSorted.loc[(regSorted['lastname']=='Murphy') & (regSorted['firstname']=='Katie')]\n",
    "addManager(r,manager)\n",
    "\n",
    "manager = 'League_6_Thursday_Open'\n",
    "r = regSorted.loc[(regSorted['lastname']=='Gallagher') & (regSorted['firstname']=='Bill')]\n",
    "addManager(r,manager)"
   ]
  },
  {
   "cell_type": "code",
   "execution_count": 80,
   "metadata": {
    "collapsed": false
   },
   "outputs": [],
   "source": [
    "#go forwards through the list to start\n",
    "iteration = 1\n",
    "for idx in (range(0,nPeople)):\n",
    "    #only do something if a person is still looking for more leagues...\n",
    "    rt = regTracking.loc[idx,openLeagues]\n",
    "    cHave = len(rt[rt=='yes'])\n",
    "    del rt\n",
    "    if cHave < regTracking.loc[idx,'numberLeagues']: #person wants more \n",
    "        onePriority = regSorted.loc[idx,openLeagues].dropna().min() #any more things ranked?   \n",
    "        if math.isnan(float(onePriority))==False:\n",
    "            regSorted,regTracking,leagueDict_open,trackIssues = addOpenLeague(idx,regSorted,regTracking,leagueDict_open,iteration,trackIssues)"
   ]
  },
  {
   "cell_type": "code",
   "execution_count": 81,
   "metadata": {
    "collapsed": false
   },
   "outputs": [],
   "source": [
    "#now go backwards through the list to fill the other spots\n",
    "iteration = 2\n",
    "for idx in reversed(range(0,nPeople)):\n",
    "#for idx in range(0,15):\n",
    "    #only do something if a person is still looking for more leagues...\n",
    "    rt = regTracking.loc[idx,openLeagues]\n",
    "    cHave = len(rt[rt=='yes'])\n",
    "    del rt\n",
    "    if cHave < regTracking.loc[idx,'numberLeagues']: #person wants more \n",
    "        onePriority = regSorted.loc[idx,openLeagues].dropna().min() #any more things ranked?   \n",
    "        if math.isnan(float(onePriority))==False:\n",
    "            regSorted,regTracking,leagueDict_open,trackIssues = addOpenLeague(idx,regSorted,regTracking,leagueDict_open,iteration,trackIssues)\n",
    "        "
   ]
  },
  {
   "cell_type": "code",
   "execution_count": 82,
   "metadata": {
    "collapsed": false
   },
   "outputs": [],
   "source": [
    "#go forwards again...stop here...though I could go backwards again if there are people who want to curl 4x @ 4pm\n",
    "iteraction = 3\n",
    "for idx in (range(0,nPeople)):\n",
    "    #only do something if a person is still looking for more leagues...\n",
    "    rt = regTracking.loc[idx,openLeagues]\n",
    "    cHave = len(rt[rt=='yes'])\n",
    "    del rt\n",
    "    if cHave < regTracking.loc[idx,'numberLeagues']: #person wants more \n",
    "        onePriority = regSorted.loc[idx,openLeagues].dropna().min() #any more things ranked?   \n",
    "        if math.isnan(float(onePriority))==False:\n",
    "            regSorted,regTracking,leagueDict_open,trackIssues = addOpenLeague(idx,regSorted,regTracking,leagueDict_open,iteration,trackIssues)"
   ]
  },
  {
   "cell_type": "code",
   "execution_count": 83,
   "metadata": {
    "collapsed": true
   },
   "outputs": [],
   "source": [
    "#make a new dictionary for other leagues...concat with openLeagues when done\n",
    "# do doubles and competitive league by hand...\n",
    "otherLeagues = ['League_4_Men', 'League_7_Ladies' ,'League_Scrod']\n",
    "\n",
    "leagueDict_other = {}\n",
    "for name in otherLeagues:\n",
    "    leagueDict_other[name] = pd.DataFrame()"
   ]
  },
  {
   "cell_type": "code",
   "execution_count": 84,
   "metadata": {
    "collapsed": false
   },
   "outputs": [],
   "source": [
    "#only have to go through once\n",
    "for idx in range(0,nPeople):\n",
    "    for oL in otherLeagues:\n",
    "    \n",
    "        oneName = regSorted.loc[idx,['lastname', 'firstname']] \n",
    "        oneName = oneName.to_frame().transpose() #need this format to make nice output\n",
    "        if regSorted.loc[idx,oL]=='Yes': #careful with trailing spaces\n",
    "            leagueDict_other = addOne(leagueDict_other,oL,oneName)\n",
    "            #now that I have added the person to a league, change their priority to NaN\n",
    "            regTracking.loc[idx,oL] = 'done'\n",
    "            regSorted.loc[idx,oL] = np.nan"
   ]
  },
  {
   "cell_type": "code",
   "execution_count": 85,
   "metadata": {
    "collapsed": false
   },
   "outputs": [],
   "source": [
    "#combine the two dictionaries\n",
    "leagueDict_all = leagueDict_open.copy()\n",
    "leagueDict_all.update(leagueDict_other)\n",
    "\n",
    "#combine the list of names\n",
    "allLeagues = list(openLeagues)\n",
    "allLeagues.extend(otherLeagues)"
   ]
  },
  {
   "cell_type": "code",
   "execution_count": 86,
   "metadata": {
    "collapsed": false
   },
   "outputs": [],
   "source": [
    "#finally, export the results (CAREFUL...will delete existing files)\n",
    "for fn in allLeagues:\n",
    "    fName = '%s.csv' % fn\n",
    "    #check if the file exists...delete if it does\n",
    "    if os.path.isfile(fName):\n",
    "        os.remove(fName)\n",
    "        \n",
    "    leagueDict_all[fn].to_csv(fName)"
   ]
  },
  {
   "cell_type": "markdown",
   "metadata": {},
   "source": [
    "ran multiple times and saved the output"
   ]
  },
  {
   "cell_type": "code",
   "execution_count": 88,
   "metadata": {
    "collapsed": false
   },
   "outputs": [
    {
     "name": "stdout",
     "output_type": "stream",
     "text": [
      "notInFirst :  37  people in this category\n",
      "notInSecond :  15  people in this category\n",
      "notInThird :  0  people in this category\n",
      "noAdditionalChoice :  80  people in this category\n"
     ]
    }
   ],
   "source": [
    "#count up number of issues\n",
    "for problem in issueNames:\n",
    "    print problem, ': ', len(trackIssues[problem]), ' people in this category'"
   ]
  },
  {
   "cell_type": "code",
   "execution_count": 66,
   "metadata": {
    "collapsed": false
   },
   "outputs": [
    {
     "name": "stdout",
     "output_type": "stream",
     "text": [
      "notInFirst :  38  people in this category\n",
      "notInSecond :  16  people in this category\n",
      "notInThird :  0  people in this category\n",
      "noAdditionalChoice :  79  people in this category\n"
     ]
    }
   ],
   "source": [
    "for problem in issueNames:\n",
    "    print problem, ': ', len(trackIssues[problem]), ' people in this category'"
   ]
  },
  {
   "cell_type": "code",
   "execution_count": 44,
   "metadata": {
    "collapsed": false
   },
   "outputs": [
    {
     "name": "stdout",
     "output_type": "stream",
     "text": [
      "notInFirst :  38  people in this category\n",
      "notInSecond :  15  people in this category\n",
      "notInThird :  0  people in this category\n",
      "noAdditionalChoice :  77  people in this category\n"
     ]
    }
   ],
   "source": [
    "for problem in issueNames:\n",
    "    print problem, ': ', len(trackIssues[problem]), ' people in this category'"
   ]
  },
  {
   "cell_type": "code",
   "execution_count": 22,
   "metadata": {
    "collapsed": false
   },
   "outputs": [
    {
     "name": "stdout",
     "output_type": "stream",
     "text": [
      "notInFirst :  36  people in here\n",
      "notInSecond :  16  people in here\n",
      "notInThird :  0  people in here\n",
      "noAdditionalChoice :  79  people in here\n"
     ]
    }
   ],
   "source": [
    "for problem in issueNames:\n",
    "    print problem, ': ', len(trackIssues[problem]), ' people in this category'"
   ]
  },
  {
   "cell_type": "code",
   "execution_count": null,
   "metadata": {
    "collapsed": true
   },
   "outputs": [],
   "source": []
  },
  {
   "cell_type": "code",
   "execution_count": null,
   "metadata": {
    "collapsed": false
   },
   "outputs": [],
   "source": []
  },
  {
   "cell_type": "code",
   "execution_count": null,
   "metadata": {
    "collapsed": true
   },
   "outputs": [],
   "source": []
  }
 ],
 "metadata": {
  "kernelspec": {
   "display_name": "Python 2",
   "language": "python",
   "name": "python2"
  },
  "language_info": {
   "codemirror_mode": {
    "name": "ipython",
    "version": 2
   },
   "file_extension": ".py",
   "mimetype": "text/x-python",
   "name": "python",
   "nbconvert_exporter": "python",
   "pygments_lexer": "ipython2",
   "version": "2.7.12"
  }
 },
 "nbformat": 4,
 "nbformat_minor": 1
}
