{
 "cells": [
  {
   "cell_type": "markdown",
   "metadata": {},
   "source": [
    "#Get going on sorting people into leagues for curling\n",
    "KL 8/17/2016"
   ]
  },
  {
   "cell_type": "markdown",
   "metadata": {},
   "source": [
    "This version randomizes the people first"
   ]
  },
  {
   "cell_type": "code",
   "execution_count": 1,
   "metadata": {
    "collapsed": false
   },
   "outputs": [
    {
     "name": "stdout",
     "output_type": "stream",
     "text": [
      "Once deleted, variables cannot be recovered. Proceed (y/[n])? y\n"
     ]
    }
   ],
   "source": [
    "if True:\n",
    "    %reset"
   ]
  },
  {
   "cell_type": "code",
   "execution_count": 2,
   "metadata": {
    "collapsed": true
   },
   "outputs": [],
   "source": [
    "import pandas as pd\n",
    "import numpy as np\n",
    "import math\n",
    "import csv\n",
    "import os.path\n",
    "\n",
    "#used this to step into the function and debug it, also need line with Tracer()() \n",
    "from IPython.core.debugger import Tracer "
   ]
  },
  {
   "cell_type": "code",
   "execution_count": 3,
   "metadata": {
    "collapsed": false
   },
   "outputs": [],
   "source": [
    "#read in the file with the information on people's priorities\n",
    "#goal will be to use the version that comes out of the website\n",
    "fName = 'TestPriority4.csv'\n",
    "regInfo=pd.read_csv(fName)"
   ]
  },
  {
   "cell_type": "markdown",
   "metadata": {},
   "source": [
    "Define some functions up top"
   ]
  },
  {
   "cell_type": "code",
   "execution_count": 4,
   "metadata": {
    "collapsed": false
   },
   "outputs": [],
   "source": [
    "def addOne(leagueDict,oneLeague,oneName):\n",
    "    if len(leagueDict[oneLeague])==0: #nothing there yet\n",
    "        leagueDict[oneLeague] = oneName\n",
    "    else:     #need to append\n",
    "        leagueDict[oneLeague] = leagueDict[oneLeague].append(oneName)\n",
    "    return leagueDict"
   ]
  },
  {
   "cell_type": "code",
   "execution_count": 5,
   "metadata": {
    "collapsed": true
   },
   "outputs": [],
   "source": [
    "def addManager(r,manager):\n",
    "    useRow = r.index[0]\n",
    "    oneName = regSorted.loc[useRow,['lastname', 'firstname']] \n",
    "    oneName = oneName.to_frame().transpose() #need this format to make nice output\n",
    "    leagueDict_open[manager] = oneName\n",
    "    regSorted.loc[useRow,manager]=np.nan\n",
    "    regTracking.loc[useRow,manager]='yes'"
   ]
  },
  {
   "cell_type": "code",
   "execution_count": 6,
   "metadata": {
    "collapsed": false
   },
   "outputs": [],
   "source": [
    "def doStuff(idx,regSorted,regTracking,leagueDict_open):\n",
    "    #person is interested in open leagues, oneLeague will be index in their next choice\n",
    "    oneLeague = regSorted.loc[idx,openLeagues].dropna().idxmin()\n",
    "\n",
    "    oneName = regSorted.loc[idx,['lastname', 'firstname']] \n",
    "    oneName = oneName.to_frame().transpose() #need this format to make nice output\n",
    "\n",
    "    if len(leagueDict_open[oneLeague]) < (nLimit.loc[oneLeague,'nLimit']): #room in league\n",
    "        leagueDict_open = addOne(leagueDict_open,oneLeague,oneName)\n",
    "        #now that I have added the person to a league, change their priority to NaN\n",
    "        regSorted.loc[idx,oneLeague] = np.nan\n",
    "        regTracking.loc[idx,oneLeague] = 'yes'\n",
    "\n",
    "    elif len(leagueDict_open[oneLeague]) == (nLimit.loc[oneLeague,'nLimit']):\n",
    "        #league is full...does this person have another league listed?\n",
    "        #first, set current to NaN\n",
    "        regSorted.loc[idx,oneLeague] = np.nan\n",
    "        regTracking.loc[idx,oneLeague] = 'no' #did not get in\n",
    "        nextPriority = regSorted.loc[idx,openLeagues].dropna().min()\n",
    "        if math.isnan(nextPriority)!=1: #have a number\n",
    "            #go to the next league on their list\n",
    "            nextLeague = regSorted.loc[idx,openLeagues].dropna().idxmin()\n",
    "            #only add person is league has space\n",
    "            if len(leagueDict[nextLeague]) < (nLimit.loc[nextLeague,'nLimit']):\n",
    "                leagueDict_open = addOne(leagueDict_open,nextLeague,oneName)\n",
    "                regSorted.loc[idx,nextLeague] = np.nan\n",
    "                regTracking.loc[idx,nextLeague] = 'yes'\n",
    "            else:\n",
    "                regTracking.loc[idx,nextLeague]='no'\n",
    "    return regSorted, regTracking, leagueDict_open"
   ]
  },
  {
   "cell_type": "markdown",
   "metadata": {},
   "source": [
    "get started on the actual lists"
   ]
  },
  {
   "cell_type": "code",
   "execution_count": 7,
   "metadata": {
    "collapsed": false
   },
   "outputs": [],
   "source": [
    "##OK, now that I have the data in Python, add some columns that I will need\n",
    "#first, how many numbers so I need?\n",
    "nPeople = len(regInfo.index)\n",
    "regInfo['randomNumCol'] = np.random.choice(range(nPeople), nPeople,replace = False)\n",
    "##so now, moving back to the list of people, sort the list by the random number\n",
    "regSorted = regInfo.sort_values(by = 'randomNumCol', ascending=True)\n",
    "regSorted = regSorted.set_index(['randomNumCol'])\n",
    "\n",
    "#copy so I can have an output tracking what was done, make after I put in league managers\n",
    "regTracking = regSorted.copy(deep=True)"
   ]
  },
  {
   "cell_type": "code",
   "execution_count": 8,
   "metadata": {
    "collapsed": false
   },
   "outputs": [],
   "source": [
    "#now, make up a series of variables that are the names of the leagues, \n",
    "#can pull the leageu names from imported CSV file. They won't move around,\n",
    "#so just index in, but don't need the Men's league in here\n",
    "openLeagues = list(regInfo)[5:12]\n",
    "openLeagues.remove('League_4_Men')"
   ]
  },
  {
   "cell_type": "code",
   "execution_count": 9,
   "metadata": {
    "collapsed": false
   },
   "outputs": [
    {
     "data": {
      "text/plain": [
       "['League_1_Sunday_Open',\n",
       " 'League_2_Monday_Open',\n",
       " 'League_3_Monday_Night_Open',\n",
       " 'League_Tuesday_Open',\n",
       " 'League_5_Wednesday_Open',\n",
       " 'League_6_Thursday_Open']"
      ]
     },
     "execution_count": 9,
     "metadata": {},
     "output_type": "execute_result"
    }
   ],
   "source": [
    "openLeagues"
   ]
  },
  {
   "cell_type": "code",
   "execution_count": null,
   "metadata": {
    "collapsed": true
   },
   "outputs": [],
   "source": []
  },
  {
   "cell_type": "code",
   "execution_count": 10,
   "metadata": {
    "collapsed": false
   },
   "outputs": [],
   "source": [
    "#setup the dictionary to hold the people information (start with openLeagues only)\n",
    "forDictionary = openLeagues\n",
    "#forDictionary.extend(otherLeagues)\n",
    "leagueDict_open = {}\n",
    "for name in forDictionary:\n",
    "    leagueDict_open[name] = pd.DataFrame()"
   ]
  },
  {
   "cell_type": "code",
   "execution_count": 11,
   "metadata": {
    "collapsed": false
   },
   "outputs": [],
   "source": [
    "#set the limit for each league:\n",
    "sevenTeams = 27 #change to 28/27 (? should league manager goes in first)\n",
    "fourteenTeams = 55\n",
    "\n",
    "d = {'League_1_Sunday_Open': sevenTeams,\n",
    "     'League_2_Monday_Open': sevenTeams,\n",
    "     'League_3_Monday_Night_Open': fourteenTeams,\n",
    "     'League_Tuesday_Open': sevenTeams,\n",
    "     'League_5_Wednesday_Open': sevenTeams,\n",
    "     'League_6_Thursday_Open': sevenTeams,}\n",
    "\n",
    "nLimit = pd.DataFrame({'nLimit' : d})\n",
    "del d"
   ]
  },
  {
   "cell_type": "code",
   "execution_count": 12,
   "metadata": {
    "collapsed": true
   },
   "outputs": [],
   "source": [
    "#put the league managers into their league and set their the choice for that league to NaN\n",
    "manager = 'League_1_Sunday_Open'\n",
    "r = regSorted.loc[(regSorted['lastname']=='Fragaszy') & (regSorted['firstname']=='Bill')]\n",
    "addManager(r,manager)\n",
    "\n",
    "manager = 'League_2_Monday_Open'\n",
    "r = regSorted.loc[(regSorted['lastname']=='Brown') & (regSorted['firstname']=='Peter')]\n",
    "addManager(r,manager)\n",
    "\n",
    "manager = 'League_3_Monday_Night_Open'\n",
    "r = regSorted.loc[(regSorted['lastname']=='DiMassa') & (regSorted['firstname']=='Diane')]\n",
    "addManager(r,manager)\n",
    "\n",
    "manager = 'League_Tuesday_Open'\n",
    "r = regSorted.loc[(regSorted['lastname']=='Thomson') & (regSorted['firstname']=='Kenny')]\n",
    "addManager(r,manager)\n",
    "\n",
    "manager = 'League_5_Wednesday_Open'\n",
    "r = regSorted.loc[(regSorted['lastname']=='Murphy') & (regSorted['firstname']=='Katie')]\n",
    "addManager(r,manager)\n",
    "\n",
    "manager = 'League_6_Thursday_Open'\n",
    "r = regSorted.loc[(regSorted['lastname']=='Gallagher') & (regSorted['firstname']=='Bill')]\n",
    "addManager(r,manager)"
   ]
  },
  {
   "cell_type": "code",
   "execution_count": 13,
   "metadata": {
    "collapsed": false
   },
   "outputs": [],
   "source": [
    "#go forwards through the list to start\n",
    "for idx in (range(0,nPeople)):\n",
    "    #only do something if a person is still looking for more leagues...\n",
    "    rt = regTracking.loc[idx,openLeagues]\n",
    "    cHave = len(rt[rt=='yes'])\n",
    "    del rt\n",
    "    if cHave < regTracking.loc[idx,'numberLeagues']: #person wants more \n",
    "        onePriority = regSorted.loc[idx,openLeagues].dropna().min() #any more things ranked?   \n",
    "        if math.isnan(float(onePriority))==False:\n",
    "            regSorted,regTracking,leagueDict = doStuff(idx,regSorted,regTracking,leagueDict_open)"
   ]
  },
  {
   "cell_type": "code",
   "execution_count": 14,
   "metadata": {
    "collapsed": false
   },
   "outputs": [],
   "source": [
    "#now go backwards through the list to fill the other spots\n",
    "for idx in reversed(range(0,nPeople)):\n",
    "    #only do something if a person is still looking for more leagues...\n",
    "    rt = regTracking.loc[idx,openLeagues]\n",
    "    cHave = len(rt[rt=='yes'])\n",
    "    del rt\n",
    "    if cHave < regTracking.loc[idx,'numberLeagues']: #person wants more \n",
    "        onePriority = regSorted.loc[idx,openLeagues].dropna().min() #any more things ranked?   \n",
    "        if math.isnan(float(onePriority))==False:\n",
    "            regSorted,regTracking,leagueDict = doStuff(idx,regSorted,regTracking,leagueDict_open)\n",
    "        "
   ]
  },
  {
   "cell_type": "code",
   "execution_count": 15,
   "metadata": {
    "collapsed": false
   },
   "outputs": [
    {
     "data": {
      "text/plain": [
       "['League_1_Sunday_Open',\n",
       " 'League_2_Monday_Open',\n",
       " 'League_3_Monday_Night_Open',\n",
       " 'League_Tuesday_Open',\n",
       " 'League_5_Wednesday_Open',\n",
       " 'League_6_Thursday_Open']"
      ]
     },
     "execution_count": 15,
     "metadata": {},
     "output_type": "execute_result"
    }
   ],
   "source": [
    "openLeagues"
   ]
  },
  {
   "cell_type": "code",
   "execution_count": 16,
   "metadata": {
    "collapsed": true
   },
   "outputs": [],
   "source": [
    "#go forwards again...stop here...will be max 3, 4 pm leagues\n",
    "for idx in (range(0,nPeople)):\n",
    "    #only do something if a person is still looking for more leagues...\n",
    "    rt = regTracking.loc[idx,openLeagues]\n",
    "    cHave = len(rt[rt=='yes'])\n",
    "    del rt\n",
    "    if cHave < regTracking.loc[idx,'numberLeagues']: #person wants more \n",
    "        onePriority = regSorted.loc[idx,openLeagues].dropna().min() #any more things ranked?   \n",
    "        if math.isnan(float(onePriority))==False:\n",
    "            regSorted,regTracking,leagueDict = doStuff(idx,regSorted,regTracking,leagueDict_open)"
   ]
  },
  {
   "cell_type": "code",
   "execution_count": 17,
   "metadata": {
    "collapsed": true
   },
   "outputs": [],
   "source": [
    "#make a new dictionary for other leagues...concat with openLeagues when done\n",
    "# do doubles and competitive league by hand...\n",
    "otherLeagues = ['League_4_Men', 'League_7_Ladies' ,'League_Scrod']\n",
    "\n",
    "leagueDict_other = {}\n",
    "for name in otherLeagues:\n",
    "    leagueDict_other[name] = pd.DataFrame()"
   ]
  },
  {
   "cell_type": "code",
   "execution_count": 18,
   "metadata": {
    "collapsed": false
   },
   "outputs": [],
   "source": [
    "#only have to go through once\n",
    "for idx in range(0,nPeople):\n",
    "    for oL in otherLeagues:\n",
    "    \n",
    "        oneName = regSorted.loc[idx,['lastname', 'firstname']] \n",
    "        oneName = oneName.to_frame().transpose() #need this format to make nice output\n",
    "        if regSorted.loc[idx,oL]=='Yes': #careful with trailing spaces\n",
    "            leagueDict_other = addOne(leagueDict_other,oL,oneName)\n",
    "            #now that I have added the person to a league, change their priority to NaN\n",
    "            regTracking.loc[idx,oL] = 'done'\n",
    "            regSorted.loc[idx,oL] = np.nan"
   ]
  },
  {
   "cell_type": "code",
   "execution_count": 19,
   "metadata": {
    "collapsed": false
   },
   "outputs": [],
   "source": [
    "#combine the two dictionaries\n",
    "leagueDict_all = leagueDict_open.copy()\n",
    "leagueDict_all.update(leagueDict_other)\n",
    "\n",
    "#combine the list of names\n",
    "allLeagues = list(openLeagues)\n",
    "allLeagues.extend(otherLeagues)"
   ]
  },
  {
   "cell_type": "code",
   "execution_count": 20,
   "metadata": {
    "collapsed": false
   },
   "outputs": [],
   "source": [
    "#finally, export the results (CAREFUL...will delete existing files)\n",
    "for fn in allLeagues:\n",
    "    fName = '%s.csv' % fn\n",
    "    #check if the file exists...delete if it does\n",
    "    if os.path.isfile(fName):\n",
    "        os.remove(fName)\n",
    "        \n",
    "    leagueDict_all[fn].to_csv(fName)"
   ]
  },
  {
   "cell_type": "code",
   "execution_count": 21,
   "metadata": {
    "collapsed": false
   },
   "outputs": [],
   "source": [
    "if True:\n",
    "    #now...print up a list of  problems...use information in regTracking\n",
    "    #essentially..how many people have # 'yes' < numberLeagues\n",
    "    for idx in range(0,nPeople):\n",
    "        test = regTracking.loc[idx,openLeagues]\n",
    "        \n",
    "        oneName = regSorted.loc[idx,['lastname', 'firstname']] \n",
    "        oneName = oneName.to_frame().transpose() #need this format to make nice output\n",
    "       \n",
    "        if test.isnull().sum()!=6: #if al 6 are NaN, no open leagues\n",
    "            testT = regTracking.loc[idx,openLeagues]\n",
    "            nNo = testT[testT=='no']\n",
    "            nYes = testT[testT=='yes']\n",
    "            if (len(nYes)==0) & (len(nNo) > 0):\n",
    "                print oneName['firstname'], oneName['lastname'], ' : got no open leagues'      "
   ]
  },
  {
   "cell_type": "code",
   "execution_count": null,
   "metadata": {
    "collapsed": true
   },
   "outputs": [],
   "source": []
  },
  {
   "cell_type": "code",
   "execution_count": null,
   "metadata": {
    "collapsed": true
   },
   "outputs": [],
   "source": []
  },
  {
   "cell_type": "code",
   "execution_count": 22,
   "metadata": {
    "collapsed": false
   },
   "outputs": [
    {
     "data": {
      "text/html": [
       "<div>\n",
       "<table border=\"1\" class=\"dataframe\">\n",
       "  <thead>\n",
       "    <tr style=\"text-align: right;\">\n",
       "      <th></th>\n",
       "      <th>Register Date</th>\n",
       "      <th>Event Name</th>\n",
       "      <th>firstname</th>\n",
       "      <th>lastname</th>\n",
       "      <th>numberLeagues</th>\n",
       "      <th>League_1_Sunday_Open</th>\n",
       "      <th>League_2_Monday_Open</th>\n",
       "      <th>League_3_Monday_Night_Open</th>\n",
       "      <th>League_Tuesday_Open</th>\n",
       "      <th>League_4_Men</th>\n",
       "      <th>...</th>\n",
       "      <th>League_6_Thursday_Open</th>\n",
       "      <th>League_7_Ladies</th>\n",
       "      <th>League_Friday_Doubles</th>\n",
       "      <th>League_Friday_Doubles2</th>\n",
       "      <th>League_Friday_Doubles3</th>\n",
       "      <th>Competitive_League</th>\n",
       "      <th>Competitive_League_Part2</th>\n",
       "      <th>League_Scrod</th>\n",
       "      <th>League_Day_Curling</th>\n",
       "      <th>League_Sub</th>\n",
       "    </tr>\n",
       "    <tr>\n",
       "      <th>randomNumCol</th>\n",
       "      <th></th>\n",
       "      <th></th>\n",
       "      <th></th>\n",
       "      <th></th>\n",
       "      <th></th>\n",
       "      <th></th>\n",
       "      <th></th>\n",
       "      <th></th>\n",
       "      <th></th>\n",
       "      <th></th>\n",
       "      <th></th>\n",
       "      <th></th>\n",
       "      <th></th>\n",
       "      <th></th>\n",
       "      <th></th>\n",
       "      <th></th>\n",
       "      <th></th>\n",
       "      <th></th>\n",
       "      <th></th>\n",
       "      <th></th>\n",
       "      <th></th>\n",
       "    </tr>\n",
       "  </thead>\n",
       "  <tbody>\n",
       "    <tr>\n",
       "      <th>141</th>\n",
       "      <td>12/30/2015 11:09</td>\n",
       "      <td>2015-2016 Second Half League Registration</td>\n",
       "      <td>Krista</td>\n",
       "      <td>Longnecker</td>\n",
       "      <td>1</td>\n",
       "      <td>NaN</td>\n",
       "      <td>NaN</td>\n",
       "      <td>yes</td>\n",
       "      <td>NaN</td>\n",
       "      <td>NaN</td>\n",
       "      <td>...</td>\n",
       "      <td>NaN</td>\n",
       "      <td>NaN</td>\n",
       "      <td>No</td>\n",
       "      <td>NaN</td>\n",
       "      <td>NaN</td>\n",
       "      <td>On a team</td>\n",
       "      <td>Longnecker</td>\n",
       "      <td>NaN</td>\n",
       "      <td>No</td>\n",
       "      <td>NaN</td>\n",
       "    </tr>\n",
       "  </tbody>\n",
       "</table>\n",
       "<p>1 rows × 21 columns</p>\n",
       "</div>"
      ],
      "text/plain": [
       "                 Register Date                                 Event Name  \\\n",
       "randomNumCol                                                                \n",
       "141           12/30/2015 11:09  2015-2016 Second Half League Registration   \n",
       "\n",
       "             firstname    lastname  numberLeagues League_1_Sunday_Open  \\\n",
       "randomNumCol                                                             \n",
       "141             Krista  Longnecker              1                  NaN   \n",
       "\n",
       "             League_2_Monday_Open League_3_Monday_Night_Open  \\\n",
       "randomNumCol                                                   \n",
       "141                           NaN                        yes   \n",
       "\n",
       "             League_Tuesday_Open League_4_Men    ...      \\\n",
       "randomNumCol                                     ...       \n",
       "141                          NaN          NaN    ...       \n",
       "\n",
       "             League_6_Thursday_Open League_7_Ladies League_Friday_Doubles  \\\n",
       "randomNumCol                                                                \n",
       "141                             NaN             NaN                    No   \n",
       "\n",
       "             League_Friday_Doubles2 League_Friday_Doubles3 Competitive_League  \\\n",
       "randomNumCol                                                                    \n",
       "141                             NaN                    NaN          On a team   \n",
       "\n",
       "             Competitive_League_Part2 League_Scrod League_Day_Curling  \\\n",
       "randomNumCol                                                            \n",
       "141                        Longnecker          NaN                 No   \n",
       "\n",
       "             League_Sub  \n",
       "randomNumCol             \n",
       "141                 NaN  \n",
       "\n",
       "[1 rows x 21 columns]"
      ]
     },
     "execution_count": 22,
     "metadata": {},
     "output_type": "execute_result"
    }
   ],
   "source": [
    "# leave here bc I keep having to look this up\n",
    "#df.loc[df['column_name'] == some_value]\n",
    "regTracking.loc[regTracking['lastname']=='Longnecker']"
   ]
  },
  {
   "cell_type": "code",
   "execution_count": 23,
   "metadata": {
    "collapsed": false
   },
   "outputs": [],
   "source": [
    "#regTracking.to_csv('temp7.csv')"
   ]
  }
 ],
 "metadata": {
  "kernelspec": {
   "display_name": "Python 2",
   "language": "python",
   "name": "python2"
  },
  "language_info": {
   "codemirror_mode": {
    "name": "ipython",
    "version": 2
   },
   "file_extension": ".py",
   "mimetype": "text/x-python",
   "name": "python",
   "nbconvert_exporter": "python",
   "pygments_lexer": "ipython2",
   "version": "2.7.12"
  }
 },
 "nbformat": 4,
 "nbformat_minor": 1
}
