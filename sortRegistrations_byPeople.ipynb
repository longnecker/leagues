{
 "cells": [
  {
   "cell_type": "markdown",
   "metadata": {},
   "source": [
    "Sort people into leagues for curling\n",
    "KL 8/17/2016; update 8/30/2016; update 9/15/2016"
   ]
  },
  {
   "cell_type": "markdown",
   "metadata": {},
   "source": [
    "This version randomizes the people first"
   ]
  },
  {
   "cell_type": "code",
   "execution_count": 1058,
   "metadata": {
    "collapsed": true
   },
   "outputs": [],
   "source": [
    "# Before running this:\n",
    "#     (1) decide on max # of leagues and change that in the input.csv file,\n",
    "#     (2) decide on nLimit for each league\n",
    "#     (3) might need to optimize people's priority lists to increase number getting into 4 pm"
   ]
  },
  {
   "cell_type": "code",
   "execution_count": 1059,
   "metadata": {
    "collapsed": true
   },
   "outputs": [],
   "source": [
    "#the -f does this without user confirmations\n",
    "%reset -f"
   ]
  },
  {
   "cell_type": "code",
   "execution_count": 1060,
   "metadata": {
    "collapsed": true
   },
   "outputs": [],
   "source": [
    "setSeed = False"
   ]
  },
  {
   "cell_type": "code",
   "execution_count": 1061,
   "metadata": {
    "collapsed": true
   },
   "outputs": [],
   "source": [
    "#set the random seed...if a number...will be able to recreate the random numbers\n",
    "if setSeed == True:\n",
    "    SEED = 42\n",
    "elif setSeed == False:\n",
    "    SEED = None"
   ]
  },
  {
   "cell_type": "code",
   "execution_count": 1062,
   "metadata": {
    "collapsed": true
   },
   "outputs": [],
   "source": [
    "import pandas as pd\n",
    "import numpy as np\n",
    "import math\n",
    "import csv\n",
    "import os\n",
    "from datetime import datetime\n",
    "\n",
    "#used this to step into the function and debug it, also need line with Tracer()() \n",
    "from IPython.core.debugger import Tracer \n",
    "\n",
    "%matplotlib inline"
   ]
  },
  {
   "cell_type": "markdown",
   "metadata": {},
   "source": [
    "Define some functions up top"
   ]
  },
  {
   "cell_type": "code",
   "execution_count": 1063,
   "metadata": {
    "collapsed": false
   },
   "outputs": [],
   "source": [
    "def addOne(leagueDict,oneLeague,oneName):\n",
    "    if len(leagueDict[oneLeague])==0: #nothing there yet\n",
    "        leagueDict[oneLeague] = oneName\n",
    "    else:     #need to append\n",
    "        leagueDict[oneLeague] = leagueDict[oneLeague].append(oneName)\n",
    "    return leagueDict"
   ]
  },
  {
   "cell_type": "code",
   "execution_count": 1064,
   "metadata": {
    "collapsed": true
   },
   "outputs": [],
   "source": [
    "def addManager(leagueDictionary,r,manager): #here r is the index in...\n",
    "    useRow = r.index[0]\n",
    "    oneName = regSorted.loc[useRow,['lastname', 'firstname']] \n",
    "    oneName = oneName.to_frame().transpose() #need this format to make nice output\n",
    "    leagueDictionary[manager] = oneName\n",
    "    regSorted.loc[useRow,manager]=np.nan\n",
    "    regTracking.loc[useRow,manager]='yes'\n",
    "    return leagueDictionary"
   ]
  },
  {
   "cell_type": "code",
   "execution_count": 1065,
   "metadata": {
    "collapsed": false
   },
   "outputs": [],
   "source": [
    "def addOpenLeague(idx,regSorted,regTracking,leagueDict_open,iteration,trackIssues):\n",
    "    #person is interested in open leagues, oneLeague will be index in their next choice\n",
    "    oneLeague = regSorted.loc[idx,openLeagues].dropna().idxmin()\n",
    "\n",
    "    oneName = regSorted.loc[idx,['lastname', 'firstname']] \n",
    "    oneName = oneName.to_frame().transpose() #need this format to make nice output\n",
    "\n",
    "    if len(leagueDict_open[oneLeague]) < (nLimit.loc[oneLeague,'nLimit']): #room in league\n",
    "        leagueDict_open = addOne(leagueDict_open,oneLeague,oneName)\n",
    "        #now that I have added the person to a league, change their priority to NaN\n",
    "        regSorted.loc[idx,oneLeague] = np.nan\n",
    "        regTracking.loc[idx,oneLeague] = 'yes'\n",
    "\n",
    "    elif len(leagueDict_open[oneLeague]) == (nLimit.loc[oneLeague,'nLimit']):\n",
    "        #league is full...does this person have another league listed?\n",
    "        #first, set current to NaN\n",
    "        regSorted.loc[idx,oneLeague] = np.nan\n",
    "        regTracking.loc[idx,oneLeague] = 'no' #did not get in\n",
    "        nextPriority = regSorted.loc[idx,openLeagues].dropna().min()\n",
    "        if math.isnan(nextPriority)!=1: #have a number\n",
    "            #go to the next league on their list\n",
    "            nextLeague = regSorted.loc[idx,openLeagues].dropna().idxmin()\n",
    "            #only add person is league has space\n",
    "            if len(leagueDict_open[nextLeague]) < (nLimit.loc[nextLeague,'nLimit']):\n",
    "                leagueDict_open = addOne(leagueDict_open,nextLeague,oneName)\n",
    "                regSorted.loc[idx,nextLeague] = np.nan\n",
    "                regTracking.loc[idx,nextLeague] = 'yes'\n",
    "            elif (len(leagueDict_open[nextLeague]) == nLimit.loc[nextLeague,'nLimit']) & (iteration==1):\n",
    "                regTracking.loc[idx,nextLeague]='no'\n",
    "                trackIssues = addOne(trackIssues,'notInFirst',oneName)\n",
    "            elif (len(leagueDict_open[nextLeague]) == nLimit.loc[nextLeague,'nLimit']) & (iteration==2):\n",
    "                regTracking.loc[idx,nextLeague]='no'\n",
    "                trackIssues = addOne(trackIssues,'notInSecond',oneName)\n",
    "            elif (len(leagueDict_open[nextLeague]) == nLimit.loc[nextLeague,'nLimit']) & (iteration==3):\n",
    "                regTracking.loc[idx,nextLeague]='no'\n",
    "                trackIssues = addOne(trackIssues,'notInThird',oneName)\n",
    "            elif (len(leagueDict_open[nextLeague]) == nLimit.loc[nextLeague,'nLimit']) & (iteration==4):\n",
    "                regTracking.loc[idx,nextLeague]='no'\n",
    "                trackIssues = addOne(trackIssues,'notInFourth',oneName)\n",
    "            elif (len(leagueDict_open[nextLeague]) == nLimit.loc[nextLeague,'nLimit']) & (iteration==5):\n",
    "                regTracking.loc[idx,nextLeague]='no'\n",
    "                trackIssues = addOne(trackIssues,'notInFifth',oneName)\n",
    "        elif math.isnan(nextPriority)==1:\n",
    "            trackIssues=addOne(trackIssues,'noAdditionalChoice',oneName)\n",
    "                           \n",
    "    return regSorted, regTracking, leagueDict_open, trackIssues"
   ]
  },
  {
   "cell_type": "markdown",
   "metadata": {},
   "source": [
    "Read in the data"
   ]
  },
  {
   "cell_type": "code",
   "execution_count": 1066,
   "metadata": {
    "collapsed": false
   },
   "outputs": [],
   "source": [
    "#updated 8/30/2016 to use file from website\n",
    "#fName = 'BackupList_Registrations.csv' \n",
    "fName = 'registrations_KL_forPython.csv'\n",
    "importInfo=pd.read_csv(fName)"
   ]
  },
  {
   "cell_type": "code",
   "execution_count": 1067,
   "metadata": {
    "collapsed": true
   },
   "outputs": [],
   "source": [
    "#shuffle the information from the website site to match the format in the rest of this file\n",
    "openLeagues = ['Sunday Night', 'Monday 4PM', 'Monday Night',\n",
    "               'Tuesday 4PM','Wednesday 4PM','Thursday 4PM'] #updated to match the priority list\n",
    "otherLeagues = ['League_4_Men', 'League_7_Ladies' ,'League_Scrod']\n",
    "priorities = ['League_Pri_1','League_Pri_2','League_Pri_3','League_Pri_4','League_Pri_5','League_Pri_6']\n",
    "\n",
    "regInfo = importInfo.loc[:,(['firstname','lastname','email','League_Number_Open'] + otherLeagues)]\n",
    "\n",
    "for item in openLeagues:\n",
    "    regInfo[item] = np.nan\n",
    "\n",
    "nPeople = len(regInfo.index)\n",
    "for idx in range(0,nPeople):\n",
    "    for idxP in enumerate(priorities):\n",
    "        #remember: enumerate will allow idxP[0] is the number, while idxP[1] is the value\n",
    "        getOne = importInfo.loc[idx,idxP[1]]\n",
    "        if getOne != 'None':\n",
    "            regInfo.loc[idx,getOne] = idxP[0] + 1  #want 1,2,3 and not python zero index"
   ]
  },
  {
   "cell_type": "code",
   "execution_count": 1068,
   "metadata": {
    "collapsed": false
   },
   "outputs": [],
   "source": [
    "# regTracking.loc[regTracking['lastname']=='Longnecker']"
   ]
  },
  {
   "cell_type": "code",
   "execution_count": 1069,
   "metadata": {
    "collapsed": false
   },
   "outputs": [],
   "source": [
    "#first, how many random numbers so I need?\n",
    "nPeople = len(regInfo.index)\n",
    "np.random.seed(SEED)\n",
    "regInfo['randomNumCol'] = np.random.choice(range(nPeople), nPeople,replace = False)\n",
    "##so now, moving back to the list of people, sort the list by the random number\n",
    "regSorted = regInfo.sort_values(by = 'randomNumCol', ascending=True)\n",
    "regSorted = regSorted.set_index(['randomNumCol'])\n",
    "\n",
    "#copy so I can have an output tracking what was done, make after I put in league managers\n",
    "regTracking = regSorted.copy(deep=True)"
   ]
  },
  {
   "cell_type": "code",
   "execution_count": 1070,
   "metadata": {
    "collapsed": false
   },
   "outputs": [],
   "source": [
    "issueNames = ['notInFirst','notInSecond','notInThird','notInFourth','notInFifth','noAdditionalChoice']\n",
    "#setup the dictionary to hold the issues\n",
    "trackIssues = {}\n",
    "for name in issueNames:\n",
    "    trackIssues[name] = pd.DataFrame()"
   ]
  },
  {
   "cell_type": "code",
   "execution_count": 1071,
   "metadata": {
    "collapsed": false
   },
   "outputs": [],
   "source": [
    "#setup the dictionary to hold the people information (start with openLeagues only)\n",
    "forDictionary = openLeagues\n",
    "#forDictionary.extend(otherLeagues)\n",
    "leagueDict_open = {}\n",
    "for name in forDictionary:\n",
    "    leagueDict_open[name] = pd.DataFrame()"
   ]
  },
  {
   "cell_type": "code",
   "execution_count": 1072,
   "metadata": {
    "collapsed": false
   },
   "outputs": [],
   "source": [
    "#set the limit for each league (can set to big numbers to see how oversubscribed each league is)\n",
    "sevenTeams = 28 #change to 28 (remember league manager already in here)\n",
    "eightTeams = 32\n",
    "fourteenTeams = 56\n",
    "\n",
    "d = {'Sunday Night': eightTeams,\n",
    "     'Monday 4PM': eightTeams,\n",
    "     'Monday Night': fourteenTeams,\n",
    "     'Tuesday 4PM': sevenTeams,\n",
    "     'Wednesday 4PM': sevenTeams,\n",
    "     'Thursday 4PM': sevenTeams,}\n",
    "\n",
    "nLimit = pd.DataFrame({'nLimit' : d})\n",
    "del d"
   ]
  },
  {
   "cell_type": "code",
   "execution_count": 1073,
   "metadata": {
    "collapsed": false
   },
   "outputs": [],
   "source": [
    "# put the manager information into a loop bc need to check later for them, updated 12/17/2016\n",
    "names = [['Bill','Fragaszy'],['Richard','Lousararian'],['George', 'Bagley'],['Kenny', 'Thomson'],\n",
    "        ['Katie', 'Murphy'],['Bill', 'Gallagher']]\n",
    "leagues = ['Sunday Night','Monday 4PM','Monday Night','Tuesday 4PM','Wednesday 4PM','Thursday 4PM']\n",
    "\n",
    "managers = pd.DataFrame(names,columns = ['firstname','lastname'],index = [leagues])\n",
    "del names,leagues\n",
    "\n",
    "if True:\n",
    "    #can skip this because everyone will get their first choice. However, pending conversations \n",
    "    #with the curling committee, this may change\n",
    "    #put the league managers into their league and set their the choice for that league to NaN\n",
    "    for oL,item in managers.iterrows():\n",
    "        r = regSorted.loc[(regSorted['lastname']==item.lastname) & (regSorted['firstname']==item.firstname)]\n",
    "        leagueDict_open = addManager(leagueDict_open,r,oL)"
   ]
  },
  {
   "cell_type": "code",
   "execution_count": 1074,
   "metadata": {
    "collapsed": false
   },
   "outputs": [],
   "source": [
    "#go forwards through the list to start, skip over league managers bc already have 1st choice:\n",
    "iteration = 1\n",
    "for idx in (range(0,nPeople)):\n",
    "    #ignore person who does not want open leagues \n",
    "    if (regTracking.loc[idx,'League_Number_Open'] != 'None'):\n",
    "        t = regTracking.loc[idx,['firstname','lastname']]\n",
    "        if len(managers.loc[(managers['lastname']==t.lastname) & (managers['firstname']==t.firstname)]) != 1:            \n",
    "            #only do something if a person is still looking for more leagues...\n",
    "            rt = regTracking.loc[idx,openLeagues]\n",
    "            cHave = len(rt[rt=='yes'])\n",
    "            del rt\n",
    "            #NOTE: League_Number_Open will return a string...change to int\n",
    "            if cHave < int(regTracking.loc[idx,'League_Number_Open']): #person wants more \n",
    "                onePriority = regSorted.loc[idx,openLeagues].dropna().min() #any more things ranked?   \n",
    "                if math.isnan(float(onePriority))==False:\n",
    "                    regSorted,regTracking,leagueDict_open,trackIssues = addOpenLeague(idx,regSorted,regTracking,leagueDict_open,iteration,trackIssues)"
   ]
  },
  {
   "cell_type": "code",
   "execution_count": 1075,
   "metadata": {
    "collapsed": false
   },
   "outputs": [],
   "source": [
    "#now go backwards through the list to fill the other spots\n",
    "iteration = 2\n",
    "for idx in (range(0,nPeople)):\n",
    "    #ignore person who does not want open leagues:\n",
    "    if regTracking.loc[idx,'League_Number_Open'] != 'None':\n",
    "        #only do something if a person is still looking for more leagues...\n",
    "        rt = regTracking.loc[idx,openLeagues]\n",
    "        cHave = len(rt[rt=='yes'])\n",
    "        del rt\n",
    "        #NOTE: League_Number_Open will return a string...change to int\n",
    "        if cHave < int(regTracking.loc[idx,'League_Number_Open']): #person wants more \n",
    "            onePriority = regSorted.loc[idx,openLeagues].dropna().min() #any more things ranked?   \n",
    "            if math.isnan(float(onePriority))==False:\n",
    "                regSorted,regTracking,leagueDict_open,trackIssues = addOpenLeague(idx,regSorted,regTracking,leagueDict_open,iteration,trackIssues)        "
   ]
  },
  {
   "cell_type": "code",
   "execution_count": 1076,
   "metadata": {
    "collapsed": false
   },
   "outputs": [],
   "source": [
    "#go forwards again\n",
    "iteraction = 3\n",
    "for idx in (range(0,nPeople)):\n",
    "    #ignore person who does not want open leagues:\n",
    "    if regTracking.loc[idx,'League_Number_Open'] != 'None':\n",
    "        #only do something if a person is still looking for more leagues...\n",
    "        rt = regTracking.loc[idx,openLeagues]\n",
    "        cHave = len(rt[rt=='yes'])\n",
    "        del rt\n",
    "        #NOTE: League_Number_Open will return a string...change to int\n",
    "        if cHave < int(regTracking.loc[idx,'League_Number_Open']): #person wants more \n",
    "            onePriority = regSorted.loc[idx,openLeagues].dropna().min() #any more things ranked?   \n",
    "            if math.isnan(float(onePriority))==False:\n",
    "                regSorted,regTracking,leagueDict_open,trackIssues = addOpenLeague(idx,regSorted,regTracking,leagueDict_open,iteration,trackIssues)"
   ]
  },
  {
   "cell_type": "code",
   "execution_count": 1077,
   "metadata": {
    "collapsed": true
   },
   "outputs": [],
   "source": [
    "#only one person wants to curl 4x and I know there will not be space...stop here"
   ]
  },
  {
   "cell_type": "code",
   "execution_count": 1078,
   "metadata": {
    "collapsed": true
   },
   "outputs": [],
   "source": [
    "#make a new dictionary for other leagues...concat with openLeagues when done\n",
    "# do doubles and competitive league by hand...\n",
    "otherLeagues = ['League_4_Men', 'League_7_Ladies' ,'League_Scrod']\n",
    "\n",
    "leagueDict_other = {}\n",
    "for name in otherLeagues:\n",
    "    leagueDict_other[name] = pd.DataFrame()"
   ]
  },
  {
   "cell_type": "code",
   "execution_count": 1079,
   "metadata": {
    "collapsed": false
   },
   "outputs": [],
   "source": [
    "#only have to go through once\n",
    "for idx in range(0,nPeople):\n",
    "    for oL in otherLeagues:\n",
    "    \n",
    "        oneName = regSorted.loc[idx,['lastname', 'firstname']] \n",
    "        oneName = oneName.to_frame().transpose() #need this format to make nice output\n",
    "        if regSorted.loc[idx,oL]=='Yes': #careful with trailing spaces\n",
    "            leagueDict_other = addOne(leagueDict_other,oL,oneName)\n",
    "            #now that I have added the person to a league, change their priority to NaN\n",
    "            regTracking.loc[idx,oL] = 'done'\n",
    "            regSorted.loc[idx,oL] = np.nan"
   ]
  },
  {
   "cell_type": "code",
   "execution_count": 1080,
   "metadata": {
    "collapsed": false
   },
   "outputs": [],
   "source": [
    "#combine the two dictionaries\n",
    "leagueDict_all = leagueDict_open.copy()\n",
    "leagueDict_all.update(leagueDict_other)\n",
    "\n",
    "#combine the list of names\n",
    "allLeagues = list(openLeagues)\n",
    "allLeagues.extend(otherLeagues)"
   ]
  },
  {
   "cell_type": "code",
   "execution_count": 1081,
   "metadata": {
    "collapsed": false
   },
   "outputs": [],
   "source": [
    "#finally, export the results \n",
    "folder = 'result_' + datetime.now().strftime(\"%Y%m%d-%H%M%S\")\n",
    "if not os.path.exists(folder):\n",
    "    os.makedirs(folder)\n",
    "else:\n",
    "    raise ValueError('Something wrong, this folder already exists')\n",
    "\n",
    "#change this to sort alphabetically before exporting\n",
    "for fn in allLeagues:\n",
    "    fName = '%s.csv' % fn\n",
    "    #new folder for each run...\n",
    "    tData = leagueDict_all[fn].sort_values(by = 'lastname')\n",
    "    tData.to_csv(folder + '/' + fName)"
   ]
  },
  {
   "cell_type": "markdown",
   "metadata": {},
   "source": [
    "can ran multiple times and saved the output"
   ]
  },
  {
   "cell_type": "code",
   "execution_count": 1082,
   "metadata": {
    "collapsed": false
   },
   "outputs": [
    {
     "name": "stdout",
     "output_type": "stream",
     "text": [
      "notInFirst :  0  people in this category\n",
      "notInSecond :  1  people in this category\n",
      "notInThird :  0  people in this category\n",
      "notInFourth :  0  people in this category\n",
      "notInFifth :  0  people in this category\n",
      "noAdditionalChoice :  0  people in this category\n"
     ]
    }
   ],
   "source": [
    "#count up number of issues\n",
    "for problem in issueNames:\n",
    "    print(problem, ': ', len(trackIssues[problem]), ' people in this category')"
   ]
  },
  {
   "cell_type": "code",
   "execution_count": 1083,
   "metadata": {
    "collapsed": false,
    "scrolled": true
   },
   "outputs": [
    {
     "data": {
      "text/html": [
       "<div>\n",
       "<table border=\"1\" class=\"dataframe\">\n",
       "  <thead>\n",
       "    <tr style=\"text-align: right;\">\n",
       "      <th></th>\n",
       "      <th>nPeople</th>\n",
       "    </tr>\n",
       "  </thead>\n",
       "  <tbody>\n",
       "    <tr>\n",
       "      <th>Sunday Night</th>\n",
       "      <td>32.0</td>\n",
       "    </tr>\n",
       "    <tr>\n",
       "      <th>Monday 4PM</th>\n",
       "      <td>32.0</td>\n",
       "    </tr>\n",
       "    <tr>\n",
       "      <th>Monday Night</th>\n",
       "      <td>42.0</td>\n",
       "    </tr>\n",
       "    <tr>\n",
       "      <th>Tuesday 4PM</th>\n",
       "      <td>28.0</td>\n",
       "    </tr>\n",
       "    <tr>\n",
       "      <th>Wednesday 4PM</th>\n",
       "      <td>26.0</td>\n",
       "    </tr>\n",
       "    <tr>\n",
       "      <th>Thursday 4PM</th>\n",
       "      <td>28.0</td>\n",
       "    </tr>\n",
       "  </tbody>\n",
       "</table>\n",
       "</div>"
      ],
      "text/plain": [
       "               nPeople\n",
       "Sunday Night      32.0\n",
       "Monday 4PM        32.0\n",
       "Monday Night      42.0\n",
       "Tuesday 4PM       28.0\n",
       "Wednesday 4PM     26.0\n",
       "Thursday 4PM      28.0"
      ]
     },
     "execution_count": 1083,
     "metadata": {},
     "output_type": "execute_result"
    },
    {
     "data": {
      "image/png": "[encoded data removed]",
      "text/plain": [
       "<matplotlib.figure.Figure at 0x95c3080>"
      ]
     },
     "metadata": {},
     "output_type": "display_data"
    }
   ],
   "source": [
    "#do some plotting...visually see how people distributed\n",
    "gather = pd.DataFrame(np.nan, index = openLeagues, columns=['nPeople'])\n",
    "for name in openLeagues:\n",
    "    gather.loc[name,'nPeople'] = len(leagueDict_open[name])\n",
    "    \n",
    "gather.plot(kind = 'bar',title='number of people in each league at this point')\n",
    "gather"
   ]
  },
  {
   "cell_type": "code",
   "execution_count": 1084,
   "metadata": {
    "collapsed": true
   },
   "outputs": [],
   "source": [
    "#gather up the number of people with # 'yes' < League_Number_Open\n",
    "outcome = regTracking.copy(deep = True)\n",
    "\n",
    "for idx in range(0,len(regTracking)):   \n",
    "    if regTracking.loc[idx,'League_Number_Open'] != 'None':\n",
    "        r = regTracking.loc[idx,openLeagues]\n",
    "        nLeagues = 0\n",
    "        for item in range(0,len(r)):\n",
    "            if r[item] == 'yes':\n",
    "                nLeagues = nLeagues + 1\n",
    "        if nLeagues == int(regTracking.loc[idx,'League_Number_Open']):\n",
    "            #delete from the dataframe\n",
    "            outcome.drop(idx,inplace = True)\n",
    "    else: #did not want open leagues, drop them too\n",
    "        outcome.drop(idx,inplace = True)\n",
    "        \n",
    "outcome.sort_values(by = 'League_Number_Open', inplace = True)"
   ]
  },
  {
   "cell_type": "code",
   "execution_count": 1085,
   "metadata": {
    "collapsed": false
   },
   "outputs": [
    {
     "data": {
      "text/plain": [
       "1"
      ]
     },
     "execution_count": 1085,
     "metadata": {},
     "output_type": "execute_result"
    }
   ],
   "source": [
    "len(outcome)"
   ]
  },
  {
   "cell_type": "code",
   "execution_count": 1086,
   "metadata": {
    "collapsed": false
   },
   "outputs": [
    {
     "data": {
      "text/html": [
       "<div>\n",
       "<table border=\"1\" class=\"dataframe\">\n",
       "  <thead>\n",
       "    <tr style=\"text-align: right;\">\n",
       "      <th></th>\n",
       "      <th>firstname</th>\n",
       "      <th>lastname</th>\n",
       "      <th>email</th>\n",
       "      <th>League_Number_Open</th>\n",
       "      <th>League_4_Men</th>\n",
       "      <th>League_7_Ladies</th>\n",
       "      <th>League_Scrod</th>\n",
       "      <th>Sunday Night</th>\n",
       "      <th>Monday 4PM</th>\n",
       "      <th>Monday Night</th>\n",
       "      <th>Tuesday 4PM</th>\n",
       "      <th>Wednesday 4PM</th>\n",
       "      <th>Thursday 4PM</th>\n",
       "      <th>nan</th>\n",
       "    </tr>\n",
       "    <tr>\n",
       "      <th>randomNumCol</th>\n",
       "      <th></th>\n",
       "      <th></th>\n",
       "      <th></th>\n",
       "      <th></th>\n",
       "      <th></th>\n",
       "      <th></th>\n",
       "      <th></th>\n",
       "      <th></th>\n",
       "      <th></th>\n",
       "      <th></th>\n",
       "      <th></th>\n",
       "      <th></th>\n",
       "      <th></th>\n",
       "      <th></th>\n",
       "    </tr>\n",
       "  </thead>\n",
       "  <tbody>\n",
       "    <tr>\n",
       "      <th>177</th>\n",
       "      <td>Martha</td>\n",
       "      <td>Balas</td>\n",
       "      <td>mfbalas@verizon.net</td>\n",
       "      <td>3</td>\n",
       "      <td>No</td>\n",
       "      <td>No</td>\n",
       "      <td>No</td>\n",
       "      <td>NaN</td>\n",
       "      <td>yes</td>\n",
       "      <td>NaN</td>\n",
       "      <td>no</td>\n",
       "      <td>yes</td>\n",
       "      <td>no</td>\n",
       "      <td>NaN</td>\n",
       "    </tr>\n",
       "  </tbody>\n",
       "</table>\n",
       "</div>"
      ],
      "text/plain": [
       "             firstname lastname                email League_Number_Open  \\\n",
       "randomNumCol                                                              \n",
       "177             Martha    Balas  mfbalas@verizon.net                  3   \n",
       "\n",
       "             League_4_Men League_7_Ladies League_Scrod Sunday Night  \\\n",
       "randomNumCol                                                          \n",
       "177                    No              No           No          NaN   \n",
       "\n",
       "             Monday 4PM Monday Night Tuesday 4PM Wednesday 4PM Thursday 4PM  \\\n",
       "randomNumCol                                                                  \n",
       "177                 yes          NaN          no           yes           no   \n",
       "\n",
       "              NaN  \n",
       "randomNumCol       \n",
       "177           NaN  "
      ]
     },
     "execution_count": 1086,
     "metadata": {},
     "output_type": "execute_result"
    }
   ],
   "source": [
    "outcome"
   ]
  },
  {
   "cell_type": "code",
   "execution_count": 1087,
   "metadata": {
    "collapsed": false
   },
   "outputs": [],
   "source": [
    "outcome.to_csv(folder + '/exportOutcome.csv')\n",
    "regTracking.to_csv(folder + '/exportTracking.csv')\n",
    "regSorted.to_csv(folder + '/exportSorted.csv')\n",
    "regInfo.to_csv(folder + '/exportInfo.csv')"
   ]
  },
  {
   "cell_type": "code",
   "execution_count": 1088,
   "metadata": {
    "collapsed": true
   },
   "outputs": [],
   "source": [
    "#can run multiple times and see what the best possible outcome is...would want to keep that..."
   ]
  },
  {
   "cell_type": "code",
   "execution_count": 1090,
   "metadata": {
    "collapsed": false
   },
   "outputs": [
    {
     "name": "stdout",
     "output_type": "stream",
     "text": [
      "notInFirst :  0  people in this category\n",
      "notInSecond :  1  people in this category\n",
      "notInThird :  0  people in this category\n",
      "notInFourth :  0  people in this category\n",
      "notInFifth :  0  people in this category\n",
      "noAdditionalChoice :  0  people in this category\n"
     ]
    }
   ],
   "source": [
    "for problem in issueNames:\n",
    "    print(problem, ': ', len(trackIssues[problem]), ' people in this category')"
   ]
  },
  {
   "cell_type": "code",
   "execution_count": 1096,
   "metadata": {
    "collapsed": false
   },
   "outputs": [
    {
     "data": {
      "text/html": [
       "<div>\n",
       "<table border=\"1\" class=\"dataframe\">\n",
       "  <thead>\n",
       "    <tr style=\"text-align: right;\">\n",
       "      <th></th>\n",
       "      <th>firstname</th>\n",
       "      <th>lastname</th>\n",
       "      <th>email</th>\n",
       "      <th>League_Number_Open</th>\n",
       "      <th>League_4_Men</th>\n",
       "      <th>League_7_Ladies</th>\n",
       "      <th>League_Scrod</th>\n",
       "      <th>Sunday Night</th>\n",
       "      <th>Monday 4PM</th>\n",
       "      <th>Monday Night</th>\n",
       "      <th>Tuesday 4PM</th>\n",
       "      <th>Wednesday 4PM</th>\n",
       "      <th>Thursday 4PM</th>\n",
       "      <th>nan</th>\n",
       "    </tr>\n",
       "    <tr>\n",
       "      <th>randomNumCol</th>\n",
       "      <th></th>\n",
       "      <th></th>\n",
       "      <th></th>\n",
       "      <th></th>\n",
       "      <th></th>\n",
       "      <th></th>\n",
       "      <th></th>\n",
       "      <th></th>\n",
       "      <th></th>\n",
       "      <th></th>\n",
       "      <th></th>\n",
       "      <th></th>\n",
       "      <th></th>\n",
       "      <th></th>\n",
       "    </tr>\n",
       "  </thead>\n",
       "  <tbody>\n",
       "    <tr>\n",
       "      <th>189</th>\n",
       "      <td>Pat</td>\n",
       "      <td>Kavanagh</td>\n",
       "      <td>PKavanagh5@aol.com</td>\n",
       "      <td>2</td>\n",
       "      <td>No</td>\n",
       "      <td>No</td>\n",
       "      <td>No</td>\n",
       "      <td>yes</td>\n",
       "      <td>4</td>\n",
       "      <td>NaN</td>\n",
       "      <td>5</td>\n",
       "      <td>yes</td>\n",
       "      <td>3</td>\n",
       "      <td>NaN</td>\n",
       "    </tr>\n",
       "    <tr>\n",
       "      <th>197</th>\n",
       "      <td>Mary</td>\n",
       "      <td>Kavanagh</td>\n",
       "      <td>M84PAT@aol.com</td>\n",
       "      <td>2</td>\n",
       "      <td>No</td>\n",
       "      <td>No</td>\n",
       "      <td>No</td>\n",
       "      <td>yes</td>\n",
       "      <td>4</td>\n",
       "      <td>NaN</td>\n",
       "      <td>5</td>\n",
       "      <td>yes</td>\n",
       "      <td>3</td>\n",
       "      <td>NaN</td>\n",
       "    </tr>\n",
       "  </tbody>\n",
       "</table>\n",
       "</div>"
      ],
      "text/plain": [
       "             firstname  lastname               email League_Number_Open  \\\n",
       "randomNumCol                                                              \n",
       "189                Pat  Kavanagh  PKavanagh5@aol.com                  2   \n",
       "197               Mary  Kavanagh      M84PAT@aol.com                  2   \n",
       "\n",
       "             League_4_Men League_7_Ladies League_Scrod Sunday Night  \\\n",
       "randomNumCol                                                          \n",
       "189                    No              No           No          yes   \n",
       "197                    No              No           No          yes   \n",
       "\n",
       "             Monday 4PM Monday Night Tuesday 4PM Wednesday 4PM Thursday 4PM  \\\n",
       "randomNumCol                                                                  \n",
       "189                   4          NaN           5           yes            3   \n",
       "197                   4          NaN           5           yes            3   \n",
       "\n",
       "              NaN  \n",
       "randomNumCol       \n",
       "189           NaN  \n",
       "197           NaN  "
      ]
     },
     "execution_count": 1096,
     "metadata": {},
     "output_type": "execute_result"
    }
   ],
   "source": [
    "regTracking.loc[regTracking['lastname']=='Kavanagh']"
   ]
  }
 ],
 "metadata": {
  "anaconda-cloud": {},
  "kernelspec": {
   "display_name": "Python [conda root]",
   "language": "python",
   "name": "conda-root-py"
  },
  "language_info": {
   "codemirror_mode": {
    "name": "ipython",
    "version": 3
   },
   "file_extension": ".py",
   "mimetype": "text/x-python",
   "name": "python",
   "nbconvert_exporter": "python",
   "pygments_lexer": "ipython3",
   "version": "3.5.2"
  }
 },
 "nbformat": 4,
 "nbformat_minor": 1
}
