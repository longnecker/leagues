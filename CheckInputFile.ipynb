{
 "cells": [
  {
   "cell_type": "markdown",
   "metadata": {},
   "source": [
    "Check the input file for issues, so far I see the following\n",
    "(1) do they list any league more than once?\n",
    "(2) should I ask about more options?\n",
    "(3) do they want to curl in more open leagues than they list?"
   ]
  },
  {
   "cell_type": "code",
   "execution_count": 1,
   "metadata": {
    "collapsed": false
   },
   "outputs": [],
   "source": [
    "import pandas as pd\n",
    "import numpy as np\n",
    "import random\n",
    "import math\n",
    "import csv\n",
    "import os.path\n",
    "import matplotlib.pyplot as plt\n",
    "%matplotlib inline"
   ]
  },
  {
   "cell_type": "code",
   "execution_count": 2,
   "metadata": {
    "collapsed": false
   },
   "outputs": [],
   "source": [
    "#updated 8/30/2016 to use file from website\n",
    "fName = 'BackupList_Registrations.csv' \n",
    "importInfo=pd.read_csv(fName)"
   ]
  },
  {
   "cell_type": "code",
   "execution_count": 3,
   "metadata": {
    "collapsed": true
   },
   "outputs": [],
   "source": [
    "openLeagues = ['Sunday Night', 'Monday 4PM', 'Monday Night',\n",
    "               'Tuesday 4PM','Wednesday 4PM','Thursday 4PM'] #updated to match the priority list\n",
    "otherLeagues = ['League_4_Men', 'League_7_Ladies' ,'League_Scrod']\n",
    "priorities = ['League_Pri_1','League_Pri_2','League_Pri_3','League_Pri_4','League_Pri_5','League_Pri_6']\n",
    "\n",
    "regInfo = importInfo.loc[:,(['firstname','lastname','email','League_Number_Open'] + otherLeagues)]\n",
    "\n",
    "for item in openLeagues:\n",
    "    regInfo[item] = np.nan\n",
    "\n",
    "nPeople = len(regInfo.index)\n",
    "for idx in range(0,nPeople):\n",
    "    for idxP in enumerate(priorities):\n",
    "        #remember: enumerate will allow idxP[0] is the number, while idxP[1] is the value\n",
    "        getOne = importInfo.loc[idx,idxP[1]]\n",
    "        if getOne != 'None':\n",
    "            regInfo.loc[idx,getOne] = idxP[0] + 1  #want 1,2,3 and not python zero index"
   ]
  },
  {
   "cell_type": "code",
   "execution_count": 4,
   "metadata": {
    "collapsed": false
   },
   "outputs": [
    {
     "data": {
      "text/plain": [
       "{'Monday 4PM': 5,\n",
       " 'Monday Night': 12,\n",
       " 'Sunday Night': 10,\n",
       " 'Thursday 4PM': 12,\n",
       " 'Tuesday 4PM': 7,\n",
       " 'Wednesday 4PM': 6}"
      ]
     },
     "execution_count": 4,
     "metadata": {},
     "output_type": "execute_result"
    }
   ],
   "source": [
    "countFirst = {}\n",
    "for name in openLeagues:\n",
    "    countFirst[name] = len(regInfo.loc[regInfo[name]==1])\n",
    "\n",
    "countFirst"
   ]
  },
  {
   "cell_type": "code",
   "execution_count": 5,
   "metadata": {
    "collapsed": false
   },
   "outputs": [
    {
     "data": {
      "text/plain": [
       "{'Monday 4PM': 10,\n",
       " 'Monday Night': 2,\n",
       " 'Sunday Night': 0,\n",
       " 'Thursday 4PM': 7,\n",
       " 'Tuesday 4PM': 3,\n",
       " 'Wednesday 4PM': 9}"
      ]
     },
     "execution_count": 5,
     "metadata": {},
     "output_type": "execute_result"
    }
   ],
   "source": [
    "countSecond = {}\n",
    "for name in openLeagues:\n",
    "    countSecond[name] = len(regInfo.loc[regInfo[name]==2])\n",
    "\n",
    "countSecond"
   ]
  },
  {
   "cell_type": "code",
   "execution_count": 6,
   "metadata": {
    "collapsed": false
   },
   "outputs": [
    {
     "data": {
      "text/plain": [
       "{'Monday 4PM': 8,\n",
       " 'Monday Night': 0,\n",
       " 'Sunday Night': 0,\n",
       " 'Thursday 4PM': 4,\n",
       " 'Tuesday 4PM': 4,\n",
       " 'Wednesday 4PM': 4}"
      ]
     },
     "execution_count": 6,
     "metadata": {},
     "output_type": "execute_result"
    }
   ],
   "source": [
    "countThird = {}\n",
    "for name in openLeagues:\n",
    "    countThird[name] = len(regInfo.loc[regInfo[name]==3])\n",
    "\n",
    "countThird"
   ]
  },
  {
   "cell_type": "code",
   "execution_count": 7,
   "metadata": {
    "collapsed": false
   },
   "outputs": [
    {
     "data": {
      "text/plain": [
       "{'Monday 4PM': 1,\n",
       " 'Monday Night': 0,\n",
       " 'Sunday Night': 0,\n",
       " 'Thursday 4PM': 1,\n",
       " 'Tuesday 4PM': 3,\n",
       " 'Wednesday 4PM': 3}"
      ]
     },
     "execution_count": 7,
     "metadata": {},
     "output_type": "execute_result"
    }
   ],
   "source": [
    "countFourth = {}\n",
    "for name in openLeagues:\n",
    "    countFourth[name] = len(regInfo.loc[regInfo[name]==4])\n",
    "\n",
    "countFourth"
   ]
  },
  {
   "cell_type": "code",
   "execution_count": 8,
   "metadata": {
    "collapsed": false
   },
   "outputs": [
    {
     "data": {
      "text/plain": [
       "{'Monday 4PM': 0,\n",
       " 'Monday Night': 0,\n",
       " 'Sunday Night': 2,\n",
       " 'Thursday 4PM': 0,\n",
       " 'Tuesday 4PM': 0,\n",
       " 'Wednesday 4PM': 0}"
      ]
     },
     "execution_count": 8,
     "metadata": {},
     "output_type": "execute_result"
    }
   ],
   "source": [
    "countFifth = {}\n",
    "for name in openLeagues:\n",
    "    countFifth[name] = len(regInfo.loc[regInfo[name]==5])\n",
    "\n",
    "countFifth"
   ]
  },
  {
   "cell_type": "code",
   "execution_count": 9,
   "metadata": {
    "collapsed": false
   },
   "outputs": [
    {
     "data": {
      "text/plain": [
       "{'Monday 4PM': 0,\n",
       " 'Monday Night': 0,\n",
       " 'Sunday Night': 0,\n",
       " 'Thursday 4PM': 0,\n",
       " 'Tuesday 4PM': 0,\n",
       " 'Wednesday 4PM': 0}"
      ]
     },
     "execution_count": 9,
     "metadata": {},
     "output_type": "execute_result"
    }
   ],
   "source": [
    "countSixth = {}\n",
    "for name in openLeagues:\n",
    "    countSixth[name] = len(regInfo.loc[regInfo[name]==6])\n",
    "\n",
    "countSixth"
   ]
  },
  {
   "cell_type": "code",
   "execution_count": 10,
   "metadata": {
    "collapsed": false
   },
   "outputs": [
    {
     "data": {
      "text/plain": [
       "60"
      ]
     },
     "execution_count": 10,
     "metadata": {},
     "output_type": "execute_result"
    }
   ],
   "source": [
    "len(regInfo)"
   ]
  },
  {
   "cell_type": "code",
   "execution_count": null,
   "metadata": {
    "collapsed": true
   },
   "outputs": [],
   "source": []
  },
  {
   "cell_type": "code",
   "execution_count": 177,
   "metadata": {
    "collapsed": true
   },
   "outputs": [],
   "source": [
    "tData = regInfo.replace(to_replace='None', value=0)"
   ]
  },
  {
   "cell_type": "code",
   "execution_count": 180,
   "metadata": {
    "collapsed": false
   },
   "outputs": [
    {
     "data": {
      "text/html": [
       "<div>\n",
       "<table border=\"1\" class=\"dataframe\">\n",
       "  <thead>\n",
       "    <tr style=\"text-align: right;\">\n",
       "      <th></th>\n",
       "      <th>Sunday Night</th>\n",
       "      <th>Monday 4PM</th>\n",
       "      <th>Monday Night</th>\n",
       "      <th>Tuesday 4PM</th>\n",
       "      <th>Wednesday 4PM</th>\n",
       "      <th>Thursday 4PM</th>\n",
       "    </tr>\n",
       "    <tr>\n",
       "      <th>League_Number_Open</th>\n",
       "      <th></th>\n",
       "      <th></th>\n",
       "      <th></th>\n",
       "      <th></th>\n",
       "      <th></th>\n",
       "      <th></th>\n",
       "    </tr>\n",
       "  </thead>\n",
       "  <tbody>\n",
       "    <tr>\n",
       "      <th>0</th>\n",
       "      <td>NaN</td>\n",
       "      <td>NaN</td>\n",
       "      <td>NaN</td>\n",
       "      <td>NaN</td>\n",
       "      <td>NaN</td>\n",
       "      <td>NaN</td>\n",
       "    </tr>\n",
       "    <tr>\n",
       "      <th>1</th>\n",
       "      <td>1.666667</td>\n",
       "      <td>2.333333</td>\n",
       "      <td>1.0</td>\n",
       "      <td>1.400000</td>\n",
       "      <td>1.700000</td>\n",
       "      <td>1.4</td>\n",
       "    </tr>\n",
       "    <tr>\n",
       "      <th>2</th>\n",
       "      <td>2.000000</td>\n",
       "      <td>2.000000</td>\n",
       "      <td>2.0</td>\n",
       "      <td>2.555556</td>\n",
       "      <td>2.625000</td>\n",
       "      <td>2.0</td>\n",
       "    </tr>\n",
       "    <tr>\n",
       "      <th>3</th>\n",
       "      <td>NaN</td>\n",
       "      <td>2.666667</td>\n",
       "      <td>2.0</td>\n",
       "      <td>1.000000</td>\n",
       "      <td>2.333333</td>\n",
       "      <td>1.5</td>\n",
       "    </tr>\n",
       "    <tr>\n",
       "      <th>4</th>\n",
       "      <td>NaN</td>\n",
       "      <td>1.000000</td>\n",
       "      <td>NaN</td>\n",
       "      <td>2.000000</td>\n",
       "      <td>3.000000</td>\n",
       "      <td>4.0</td>\n",
       "    </tr>\n",
       "  </tbody>\n",
       "</table>\n",
       "</div>"
      ],
      "text/plain": [
       "                    Sunday Night  Monday 4PM  Monday Night  Tuesday 4PM  \\\n",
       "League_Number_Open                                                        \n",
       "0                            NaN         NaN           NaN          NaN   \n",
       "1                       1.666667    2.333333           1.0     1.400000   \n",
       "2                       2.000000    2.000000           2.0     2.555556   \n",
       "3                            NaN    2.666667           2.0     1.000000   \n",
       "4                            NaN    1.000000           NaN     2.000000   \n",
       "\n",
       "                    Wednesday 4PM  Thursday 4PM  \n",
       "League_Number_Open                               \n",
       "0                             NaN           NaN  \n",
       "1                        1.700000           1.4  \n",
       "2                        2.625000           2.0  \n",
       "3                        2.333333           1.5  \n",
       "4                        3.000000           4.0  "
      ]
     },
     "execution_count": 180,
     "metadata": {},
     "output_type": "execute_result"
    }
   ],
   "source": [
    "tData.groupby(by = 'League_Number_Open').mean()"
   ]
  },
  {
   "cell_type": "code",
   "execution_count": 184,
   "metadata": {
    "collapsed": false
   },
   "outputs": [
    {
     "data": {
      "text/plain": [
       "1    33\n",
       "2    12\n",
       "0     8\n",
       "3     4\n",
       "4     1\n",
       "Name: League_Number_Open, dtype: int64"
      ]
     },
     "execution_count": 184,
     "metadata": {},
     "output_type": "execute_result"
    }
   ],
   "source": [
    "tData.loc[:,'League_Number_Open'].value_counts()"
   ]
  },
  {
   "cell_type": "code",
   "execution_count": 186,
   "metadata": {
    "collapsed": true
   },
   "outputs": [],
   "source": [
    "toPlot = tData.loc[:,'League_Number_Open'].value_counts()"
   ]
  },
  {
   "cell_type": "code",
   "execution_count": 187,
   "metadata": {
    "collapsed": false
   },
   "outputs": [
    {
     "data": {
      "text/plain": [
       "pandas.core.series.Series"
      ]
     },
     "execution_count": 187,
     "metadata": {},
     "output_type": "execute_result"
    }
   ],
   "source": [
    "type(toPlot)"
   ]
  },
  {
   "cell_type": "code",
   "execution_count": 194,
   "metadata": {
    "collapsed": false
   },
   "outputs": [
    {
     "data": {
      "text/plain": [
       "<matplotlib.text.Text at 0x7f44d90>"
      ]
     },
     "execution_count": 194,
     "metadata": {},
     "output_type": "execute_result"
    },
    {
     "data": {
      "image/png": "[encoded data removed]",
      "text/plain": [
       "<matplotlib.figure.Figure at 0x7d62f10>"
      ]
     },
     "metadata": {},
     "output_type": "display_data"
    }
   ],
   "source": [
    "toPlot.plot(kind = 'bar')\n",
    "plt.xlabel('# of times people want to be in open league')\n",
    "plt.ylabel('# of people in category')"
   ]
  },
  {
   "cell_type": "code",
   "execution_count": null,
   "metadata": {
    "collapsed": true
   },
   "outputs": [],
   "source": []
  },
  {
   "cell_type": "code",
   "execution_count": null,
   "metadata": {
    "collapsed": true
   },
   "outputs": [],
   "source": []
  },
  {
   "cell_type": "code",
   "execution_count": null,
   "metadata": {
    "collapsed": true
   },
   "outputs": [],
   "source": []
  },
  {
   "cell_type": "code",
   "execution_count": 5,
   "metadata": {
    "collapsed": false
   },
   "outputs": [
    {
     "data": {
      "text/plain": [
       "Sunday Night     NaN\n",
       "Monday 4PM         1\n",
       "Monday Night     NaN\n",
       "Tuesday 4PM      NaN\n",
       "Wednesday 4PM    NaN\n",
       "Thursday 4PM     NaN\n",
       "Name: 1, dtype: object"
      ]
     },
     "execution_count": 5,
     "metadata": {},
     "output_type": "execute_result"
    }
   ],
   "source": [
    "regInfo.loc[idx,openLeagues]"
   ]
  },
  {
   "cell_type": "code",
   "execution_count": 7,
   "metadata": {
    "collapsed": false
   },
   "outputs": [
    {
     "data": {
      "text/plain": [
       "1"
      ]
     },
     "execution_count": 7,
     "metadata": {},
     "output_type": "execute_result"
    }
   ],
   "source": [
    "regInfo.loc[idx,openLeagues].count()"
   ]
  },
  {
   "cell_type": "code",
   "execution_count": 8,
   "metadata": {
    "collapsed": false
   },
   "outputs": [
    {
     "data": {
      "text/plain": [
       "5"
      ]
     },
     "execution_count": 8,
     "metadata": {},
     "output_type": "execute_result"
    }
   ],
   "source": [
    "regInfo.loc[idx,openLeagues].isnull().sum()"
   ]
  },
  {
   "cell_type": "code",
   "execution_count": 79,
   "metadata": {
    "collapsed": false
   },
   "outputs": [],
   "source": [
    "idx\n",
    "tData = importInfo.loc[idx,priorities]"
   ]
  },
  {
   "cell_type": "code",
   "execution_count": 82,
   "metadata": {
    "collapsed": true
   },
   "outputs": [],
   "source": [
    "r = tData=='None'"
   ]
  },
  {
   "cell_type": "code",
   "execution_count": 90,
   "metadata": {
    "collapsed": false
   },
   "outputs": [],
   "source": [
    "testNpriority = tData[-r].value_counts()"
   ]
  },
  {
   "cell_type": "code",
   "execution_count": 91,
   "metadata": {
    "collapsed": false
   },
   "outputs": [
    {
     "data": {
      "text/plain": [
       "Monday 4PM    1\n",
       "Name: 1, dtype: int64"
      ]
     },
     "execution_count": 91,
     "metadata": {},
     "output_type": "execute_result"
    }
   ],
   "source": [
    "testNpriority"
   ]
  },
  {
   "cell_type": "code",
   "execution_count": 100,
   "metadata": {
    "collapsed": false
   },
   "outputs": [
    {
     "name": "stdout",
     "output_type": "stream",
     "text": [
      "issue\n",
      "issue\n"
     ]
    }
   ],
   "source": [
    "for idx in range(0,len(importInfo)):\n",
    "    tData = importInfo.loc[idx,priorities]\n",
    "    r = tData == 'None'\n",
    "    testNpriority = tData[-r].value_counts()\n",
    "#     if testNpriority.index[0] > 1:\n",
    "#         print 'issue'\n",
    "#     else:\n",
    "#         print 'ok'"
   ]
  },
  {
   "cell_type": "code",
   "execution_count": 101,
   "metadata": {
    "collapsed": true
   },
   "outputs": [],
   "source": [
    "idx = 1"
   ]
  },
  {
   "cell_type": "code",
   "execution_count": 102,
   "metadata": {
    "collapsed": false
   },
   "outputs": [],
   "source": [
    "tData = importInfo.loc[idx,priorities]\n",
    "r = tData == 'None'\n",
    "testNpriority = tData[-r].value_counts()\n"
   ]
  },
  {
   "cell_type": "code",
   "execution_count": 103,
   "metadata": {
    "collapsed": false
   },
   "outputs": [
    {
     "data": {
      "text/plain": [
       "Monday 4PM    1\n",
       "Name: 1, dtype: int64"
      ]
     },
     "execution_count": 103,
     "metadata": {},
     "output_type": "execute_result"
    }
   ],
   "source": [
    "testNpriority"
   ]
  },
  {
   "cell_type": "code",
   "execution_count": 104,
   "metadata": {
    "collapsed": false
   },
   "outputs": [
    {
     "name": "stdout",
     "output_type": "stream",
     "text": [
      "issue\n"
     ]
    }
   ],
   "source": [
    "if testNpriority.index[0]> 1:\n",
    "    print 'issue'"
   ]
  },
  {
   "cell_type": "code",
   "execution_count": 106,
   "metadata": {
    "collapsed": false
   },
   "outputs": [
    {
     "data": {
      "text/plain": [
       "Monday 4PM    False\n",
       "Name: 1, dtype: bool"
      ]
     },
     "execution_count": 106,
     "metadata": {},
     "output_type": "execute_result"
    }
   ],
   "source": [
    "testNpriority > 1"
   ]
  },
  {
   "cell_type": "code",
   "execution_count": null,
   "metadata": {
    "collapsed": true
   },
   "outputs": [],
   "source": []
  },
  {
   "cell_type": "code",
   "execution_count": null,
   "metadata": {
    "collapsed": true
   },
   "outputs": [],
   "source": []
  },
  {
   "cell_type": "code",
   "execution_count": null,
   "metadata": {
    "collapsed": true
   },
   "outputs": [],
   "source": []
  },
  {
   "cell_type": "code",
   "execution_count": null,
   "metadata": {
    "collapsed": true
   },
   "outputs": [],
   "source": []
  },
  {
   "cell_type": "code",
   "execution_count": null,
   "metadata": {
    "collapsed": true
   },
   "outputs": [],
   "source": []
  },
  {
   "cell_type": "code",
   "execution_count": 73,
   "metadata": {
    "collapsed": false
   },
   "outputs": [
    {
     "name": "stdout",
     "output_type": "stream",
     "text": [
      "None          4\n",
      "Monday 4PM    2\n",
      "Name: 0, dtype: int64\n",
      "None          5\n",
      "Monday 4PM    1\n",
      "Name: 1, dtype: int64\n"
     ]
    }
   ],
   "source": [
    "for idx in range(0,len(importInfo)):\n",
    "    testNpriority = importInfo.loc[idx,priorities].value_counts()\n",
    "    print testNpriority\n",
    "    for item in range(0,len(testNpriority)):\n",
    "        if testNpriority.index[item] != 'None':\n",
    "            if len(testNpriority.index[item]) > 1:\n",
    "                print 'duplicate priorities'\n",
    "            else:\n",
    "                print 'no issue'"
   ]
  },
  {
   "cell_type": "code",
   "execution_count": null,
   "metadata": {
    "collapsed": true
   },
   "outputs": [],
   "source": []
  },
  {
   "cell_type": "code",
   "execution_count": 77,
   "metadata": {
    "collapsed": true
   },
   "outputs": [],
   "source": [
    "testNpriority = importInfo.loc[idx,priorities].value_counts()"
   ]
  },
  {
   "cell_type": "code",
   "execution_count": 71,
   "metadata": {
    "collapsed": false
   },
   "outputs": [
    {
     "data": {
      "text/plain": [
       "None          4\n",
       "Monday 4PM    2\n",
       "Name: 0, dtype: int64"
      ]
     },
     "execution_count": 71,
     "metadata": {},
     "output_type": "execute_result"
    }
   ],
   "source": [
    "importInfo.loc[0,priorities].value_counts()"
   ]
  },
  {
   "cell_type": "code",
   "execution_count": 72,
   "metadata": {
    "collapsed": false
   },
   "outputs": [
    {
     "data": {
      "text/plain": [
       "None          5\n",
       "Monday 4PM    1\n",
       "Name: 1, dtype: int64"
      ]
     },
     "execution_count": 72,
     "metadata": {},
     "output_type": "execute_result"
    }
   ],
   "source": [
    "importInfo.loc[1,priorities].value_counts()"
   ]
  },
  {
   "cell_type": "code",
   "execution_count": null,
   "metadata": {
    "collapsed": true
   },
   "outputs": [],
   "source": []
  },
  {
   "cell_type": "code",
   "execution_count": null,
   "metadata": {
    "collapsed": true
   },
   "outputs": [],
   "source": []
  },
  {
   "cell_type": "code",
   "execution_count": null,
   "metadata": {
    "collapsed": true
   },
   "outputs": [],
   "source": []
  },
  {
   "cell_type": "code",
   "execution_count": null,
   "metadata": {
    "collapsed": true
   },
   "outputs": [],
   "source": []
  },
  {
   "cell_type": "code",
   "execution_count": null,
   "metadata": {
    "collapsed": true
   },
   "outputs": [],
   "source": []
  },
  {
   "cell_type": "code",
   "execution_count": null,
   "metadata": {
    "collapsed": true
   },
   "outputs": [],
   "source": []
  },
  {
   "cell_type": "code",
   "execution_count": null,
   "metadata": {
    "collapsed": true
   },
   "outputs": [],
   "source": []
  },
  {
   "cell_type": "code",
   "execution_count": null,
   "metadata": {
    "collapsed": true
   },
   "outputs": [],
   "source": []
  },
  {
   "cell_type": "code",
   "execution_count": 23,
   "metadata": {
    "collapsed": false
   },
   "outputs": [
    {
     "data": {
      "text/plain": [
       "pandas.core.series.Series"
      ]
     },
     "execution_count": 23,
     "metadata": {},
     "output_type": "execute_result"
    }
   ],
   "source": [
    "type(importInfo.loc[idx,priorities].value_counts())"
   ]
  },
  {
   "cell_type": "code",
   "execution_count": 16,
   "metadata": {
    "collapsed": true
   },
   "outputs": [],
   "source": [
    "idx = 0"
   ]
  },
  {
   "cell_type": "code",
   "execution_count": 19,
   "metadata": {
    "collapsed": false
   },
   "outputs": [
    {
     "data": {
      "text/plain": [
       "pandas.core.series.Series"
      ]
     },
     "execution_count": 19,
     "metadata": {},
     "output_type": "execute_result"
    }
   ],
   "source": []
  },
  {
   "cell_type": "code",
   "execution_count": null,
   "metadata": {
    "collapsed": true
   },
   "outputs": [],
   "source": []
  },
  {
   "cell_type": "code",
   "execution_count": null,
   "metadata": {
    "collapsed": true
   },
   "outputs": [],
   "source": []
  },
  {
   "cell_type": "code",
   "execution_count": null,
   "metadata": {
    "collapsed": true
   },
   "outputs": [],
   "source": []
  },
  {
   "cell_type": "code",
   "execution_count": null,
   "metadata": {
    "collapsed": true
   },
   "outputs": [],
   "source": []
  },
  {
   "cell_type": "code",
   "execution_count": 17,
   "metadata": {
    "collapsed": true
   },
   "outputs": [],
   "source": [
    "##now...check the file, does anyone prioritize the same league more than once?"
   ]
  },
  {
   "cell_type": "code",
   "execution_count": 9,
   "metadata": {
    "collapsed": true
   },
   "outputs": [],
   "source": [
    "idx = 0"
   ]
  },
  {
   "cell_type": "code",
   "execution_count": 13,
   "metadata": {
    "collapsed": false
   },
   "outputs": [
    {
     "data": {
      "text/plain": [
       "League_Pri_1    Monday 4PM\n",
       "League_Pri_2    Monday 4PM\n",
       "League_Pri_3          None\n",
       "League_Pri_4          None\n",
       "League_Pri_5          None\n",
       "League_Pri_6          None\n",
       "Name: 0, dtype: object"
      ]
     },
     "execution_count": 13,
     "metadata": {},
     "output_type": "execute_result"
    }
   ],
   "source": [
    "importInfo.loc[idx, priorities]"
   ]
  },
  {
   "cell_type": "code",
   "execution_count": 14,
   "metadata": {
    "collapsed": true
   },
   "outputs": [],
   "source": [
    "un = importInfo.loc[idx, priorities]"
   ]
  },
  {
   "cell_type": "code",
   "execution_count": 15,
   "metadata": {
    "collapsed": false
   },
   "outputs": [
    {
     "data": {
      "text/plain": [
       "<bound method Series.unique of League_Pri_1    Monday 4PM\n",
       "League_Pri_2    Monday 4PM\n",
       "League_Pri_3          None\n",
       "League_Pri_4          None\n",
       "League_Pri_5          None\n",
       "League_Pri_6          None\n",
       "Name: 0, dtype: object>"
      ]
     },
     "execution_count": 15,
     "metadata": {},
     "output_type": "execute_result"
    }
   ],
   "source": [
    "un.unique"
   ]
  },
  {
   "cell_type": "code",
   "execution_count": 16,
   "metadata": {
    "collapsed": false
   },
   "outputs": [
    {
     "data": {
      "text/plain": [
       "League_Pri_1    Monday 4PM\n",
       "League_Pri_2    Monday 4PM\n",
       "League_Pri_3          None\n",
       "League_Pri_4          None\n",
       "League_Pri_5          None\n",
       "League_Pri_6          None\n",
       "Name: 0, dtype: object"
      ]
     },
     "execution_count": 16,
     "metadata": {},
     "output_type": "execute_result"
    }
   ],
   "source": [
    "un.sort_values()"
   ]
  },
  {
   "cell_type": "code",
   "execution_count": null,
   "metadata": {
    "collapsed": true
   },
   "outputs": [],
   "source": []
  },
  {
   "cell_type": "code",
   "execution_count": null,
   "metadata": {
    "collapsed": true
   },
   "outputs": [],
   "source": []
  },
  {
   "cell_type": "code",
   "execution_count": null,
   "metadata": {
    "collapsed": true
   },
   "outputs": [],
   "source": []
  }
 ],
 "metadata": {
  "kernelspec": {
   "display_name": "Python 2",
   "language": "python",
   "name": "python2"
  },
  "language_info": {
   "codemirror_mode": {
    "name": "ipython",
    "version": 2
   },
   "file_extension": ".py",
   "mimetype": "text/x-python",
   "name": "python",
   "nbconvert_exporter": "python",
   "pygments_lexer": "ipython2",
   "version": "2.7.12"
  }
 },
 "nbformat": 4,
 "nbformat_minor": 1
}
