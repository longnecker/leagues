{
 "cells": [
  {
   "cell_type": "markdown",
   "metadata": {},
   "source": [
    "Check the input file for issues, so far I see the following\n",
    "(1) do they list any league more than once?\n",
    "(2) should I ask about more options?\n",
    "(3) do they want to curl in more open leagues than they list?"
   ]
  },
  {
   "cell_type": "code",
   "execution_count": 1,
   "metadata": {
    "collapsed": true
   },
   "outputs": [],
   "source": [
    "%reset -f"
   ]
  },
  {
   "cell_type": "code",
   "execution_count": 2,
   "metadata": {
    "collapsed": false
   },
   "outputs": [],
   "source": [
    "import pandas as pd\n",
    "import numpy as np\n",
    "import random\n",
    "import math\n",
    "import csv\n",
    "import os.path\n",
    "import matplotlib.pyplot as plt\n",
    "%matplotlib inline"
   ]
  },
  {
   "cell_type": "code",
   "execution_count": 3,
   "metadata": {
    "collapsed": false
   },
   "outputs": [],
   "source": [
    "#updated 8/30/2016 to use file from website\n",
    "fName = 'BackupList_Registrations_forPython.csv' \n",
    "#fName = 'registrations_KL_working.csv'\n",
    "importInfo=pd.read_csv(fName)"
   ]
  },
  {
   "cell_type": "code",
   "execution_count": 4,
   "metadata": {
    "collapsed": true
   },
   "outputs": [],
   "source": [
    "openLeagues = ['Sunday Night', 'Monday 4PM', 'Monday Night',\n",
    "               'Wednesday 4PM','Thursday 9AM','Thursday 4PM'] #updated to match the priority list\n",
    "otherLeagues = ['League_4_Men', 'League_7_Ladies' ,'League_Scrod','League_Tuesday_open_NC']\n",
    "priorities = ['League_Pri_1','League_Pri_2','League_Pri_3','League_Pri_4','League_Pri_5','League_Pri_6']\n",
    "\n",
    "regInfo = importInfo.loc[:,(['firstname','lastname','email','League_Number_Open'] + otherLeagues)]\n",
    "\n",
    "for item in openLeagues:\n",
    "    regInfo[item] = np.nan\n",
    "\n",
    "nPeople = len(regInfo.index)\n",
    "for idx in range(0,nPeople):\n",
    "    for idxP in enumerate(priorities):\n",
    "        #remember: enumerate will allow idxP[0] is the number, while idxP[1] is the value\n",
    "        getOne = importInfo.loc[idx,idxP[1]]\n",
    "        if getOne != 'None':\n",
    "            regInfo.loc[idx,getOne] = idxP[0] + 1  #want 1,2,3 and not python zero index"
   ]
  },
  {
   "cell_type": "code",
   "execution_count": 5,
   "metadata": {
    "collapsed": true
   },
   "outputs": [],
   "source": [
    "#if we only consider the 4 pm leagues\n",
    "only4pm = ['Monday 4PM','Wednesday 4PM','Thursday 4PM']"
   ]
  },
  {
   "cell_type": "code",
   "execution_count": 6,
   "metadata": {
    "collapsed": false
   },
   "outputs": [
    {
     "data": {
      "text/plain": [
       "204"
      ]
     },
     "execution_count": 6,
     "metadata": {},
     "output_type": "execute_result"
    }
   ],
   "source": [
    "len(regInfo)"
   ]
  },
  {
   "cell_type": "code",
   "execution_count": 7,
   "metadata": {
    "collapsed": false,
    "scrolled": true
   },
   "outputs": [
    {
     "data": {
      "text/plain": [
       "<matplotlib.text.Text at 0x8fb08d0>"
      ]
     },
     "execution_count": 7,
     "metadata": {},
     "output_type": "execute_result"
    },
    {
     "data": {
      "image/png": "[encoded data removed]",
      "text/plain": [
       "<matplotlib.figure.Figure at 0x8f734e0>"
      ]
     },
     "metadata": {},
     "output_type": "display_data"
    }
   ],
   "source": [
    "tData = regInfo.replace(to_replace='None', value=0)\n",
    "toPlot = tData.loc[:,'League_Number_Open'].value_counts()\n",
    "\n",
    "#drop the zeros...seems crazy, but can't really index into a series easily\n",
    "toPlot = toPlot[~toPlot.index.isin([0])]\n",
    "\n",
    "toPlot.plot(kind = 'bar')\n",
    "plt.xlabel('# of times person wants to curl in open league')\n",
    "plt.ylabel('# of people in category')"
   ]
  },
  {
   "cell_type": "code",
   "execution_count": 8,
   "metadata": {
    "collapsed": false
   },
   "outputs": [
    {
     "data": {
      "text/plain": [
       "1    110\n",
       "2     43\n",
       "3      3\n",
       "Name: League_Number_Open, dtype: int64"
      ]
     },
     "execution_count": 8,
     "metadata": {},
     "output_type": "execute_result"
    }
   ],
   "source": [
    "toPlot"
   ]
  },
  {
   "cell_type": "code",
   "execution_count": 9,
   "metadata": {
    "collapsed": true
   },
   "outputs": [],
   "source": [
    "regPlot = importInfo.loc[:,(['firstname','lastname','email','League_Number_Open'] + otherLeagues)]\n",
    "\n",
    "for item in openLeagues:\n",
    "    regPlot[item] = np.nan\n",
    "\n",
    "nPeople = len(regPlot.index)\n",
    "for idx in range(0,nPeople):\n",
    "    for idxP in enumerate(priorities):\n",
    "        #remember: enumerate will allow idxP[0] is the number, while idxP[1] is the value\n",
    "        getOne = importInfo.loc[idx,idxP[1]]\n",
    "        if getOne != 'None':\n",
    "            regPlot.loc[idx,getOne] = 1  \n",
    "\n",
    "#little misleading bc people are listing multiple options        "
   ]
  },
  {
   "cell_type": "code",
   "execution_count": 10,
   "metadata": {
    "collapsed": false
   },
   "outputs": [],
   "source": [
    "d = {'Sunday Night': np.nan,\n",
    "     'Monday 4PM': np.nan,\n",
    "     'Monday Night': np.nan,\n",
    "     'Wednesday 4PM': np.nan,\n",
    "     'Thursday 9AM': np.nan,\n",
    "     'Thursday 4PM': np.nan,}\n",
    "\n",
    "gather = pd.DataFrame({'nFirst' : d,'nSecond' :d,'nThird' :d,'nFourth':d,'nFifth':d})"
   ]
  },
  {
   "cell_type": "code",
   "execution_count": 11,
   "metadata": {
    "collapsed": false
   },
   "outputs": [],
   "source": [
    "for name in openLeagues:\n",
    "    gather.loc[name,'nFirst'] = len(regInfo.loc[regInfo[name]==1])\n",
    "    gather.loc[name,'nSecond'] = len(regInfo.loc[regInfo[name]==2])\n",
    "    gather.loc[name,'nThird'] = len(regInfo.loc[regInfo[name]==3])\n",
    "    gather.loc[name,'nFourth'] = len(regInfo.loc[regInfo[name]==4])\n",
    "    gather.loc[name,'nFifth'] = len(regInfo.loc[regInfo[name]==5])\n",
    "    gather.loc[name,'nSixth'] = len(regInfo.loc[regInfo[name]==6])"
   ]
  },
  {
   "cell_type": "code",
   "execution_count": 12,
   "metadata": {
    "collapsed": false
   },
   "outputs": [
    {
     "data": {
      "text/plain": [
       "<matplotlib.axes._subplots.AxesSubplot at 0x49d2780>"
      ]
     },
     "execution_count": 12,
     "metadata": {},
     "output_type": "execute_result"
    },
    {
     "data": {
      "image/png": "[encoded data removed]",
      "text/plain": [
       "<matplotlib.figure.Figure at 0x81eb5f8>"
      ]
     },
     "metadata": {},
     "output_type": "display_data"
    }
   ],
   "source": [
    "#otherwise will list the values in alphabetical order\n",
    "gather.loc[:,['nFirst','nSecond','nThird','nFourth','nFifth','nSixth']].plot(kind = 'bar')"
   ]
  },
  {
   "cell_type": "code",
   "execution_count": 13,
   "metadata": {
    "collapsed": false
   },
   "outputs": [
    {
     "data": {
      "text/plain": [
       "<matplotlib.axes._subplots.AxesSubplot at 0x98ab550>"
      ]
     },
     "execution_count": 13,
     "metadata": {},
     "output_type": "execute_result"
    },
    {
     "data": {
      "image/png": "[encoded data removed]",
      "text/plain": [
       "<matplotlib.figure.Figure at 0x918c4e0>"
      ]
     },
     "metadata": {},
     "output_type": "display_data"
    }
   ],
   "source": [
    "#otherwise will list the values in alphabetical order\n",
    "gather.loc[only4pm,['nFirst','nSecond','nThird','nFourth','nFifth','nSixth']].plot(kind = 'bar',legend = False)"
   ]
  },
  {
   "cell_type": "code",
   "execution_count": 14,
   "metadata": {
    "collapsed": false
   },
   "outputs": [
    {
     "data": {
      "text/plain": [
       "{'Monday 4PM': 34,\n",
       " 'Monday Night': 28,\n",
       " 'Sunday Night': 33,\n",
       " 'Thursday 4PM': 31,\n",
       " 'Thursday 9AM': 10,\n",
       " 'Wednesday 4PM': 20}"
      ]
     },
     "execution_count": 14,
     "metadata": {},
     "output_type": "execute_result"
    }
   ],
   "source": [
    "#another way to do this:\n",
    "countFirst = {}\n",
    "for name in openLeagues:\n",
    "    countFirst[name] = len(regInfo.loc[regInfo[name]==1])\n",
    "\n",
    "countFirst"
   ]
  },
  {
   "cell_type": "code",
   "execution_count": 15,
   "metadata": {
    "collapsed": false
   },
   "outputs": [
    {
     "data": {
      "text/plain": [
       "<matplotlib.axes._subplots.AxesSubplot at 0x9b34518>"
      ]
     },
     "execution_count": 15,
     "metadata": {},
     "output_type": "execute_result"
    },
    {
     "data": {
      "image/png": "[encoded data removed]",
      "text/plain": [
       "<matplotlib.figure.Figure at 0x9b0d550>"
      ]
     },
     "metadata": {},
     "output_type": "display_data"
    }
   ],
   "source": [
    "gather.loc[only4pm,['nFirst','nSecond','nThird','nFourth','nFifth','nSixth']].T.plot(kind = 'bar')"
   ]
  },
  {
   "cell_type": "code",
   "execution_count": 16,
   "metadata": {
    "collapsed": false
   },
   "outputs": [
    {
     "data": {
      "text/plain": [
       "<matplotlib.axes._subplots.AxesSubplot at 0x997f2e8>"
      ]
     },
     "execution_count": 16,
     "metadata": {},
     "output_type": "execute_result"
    },
    {
     "data": {
      "image/png": "[encoded data removed]",
      "text/plain": [
       "<matplotlib.figure.Figure at 0x9bbc710>"
      ]
     },
     "metadata": {},
     "output_type": "display_data"
    }
   ],
   "source": [
    "gather.loc[:,['nFirst','nSecond','nThird','nFourth','nFifth','nSixth']].plot(kind = 'bar')"
   ]
  },
  {
   "cell_type": "code",
   "execution_count": null,
   "metadata": {
    "collapsed": true
   },
   "outputs": [],
   "source": []
  }
 ],
 "metadata": {
  "kernelspec": {
   "display_name": "Python 3",
   "language": "python",
   "name": "python3"
  },
  "language_info": {
   "codemirror_mode": {
    "name": "ipython",
    "version": 3
   },
   "file_extension": ".py",
   "mimetype": "text/x-python",
   "name": "python",
   "nbconvert_exporter": "python",
   "pygments_lexer": "ipython3",
   "version": "3.6.0"
  }
 },
 "nbformat": 4,
 "nbformat_minor": 1
}
