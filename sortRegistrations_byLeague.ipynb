{
 "cells": [
  {
   "cell_type": "markdown",
   "metadata": {},
   "source": [
    "Sort people into leagues for curling\n",
    "KL 8/21/2016"
   ]
  },
  {
   "cell_type": "markdown",
   "metadata": {},
   "source": [
    "#This version starts with a random league and puts a random subset of people into each league"
   ]
  },
  {
   "cell_type": "code",
   "execution_count": 180,
   "metadata": {
    "collapsed": false
   },
   "outputs": [
    {
     "name": "stdout",
     "output_type": "stream",
     "text": [
      "Once deleted, variables cannot be recovered. Proceed (y/[n])? y\n"
     ]
    }
   ],
   "source": [
    "if True:\n",
    "    %reset"
   ]
  },
  {
   "cell_type": "code",
   "execution_count": 181,
   "metadata": {
    "collapsed": true
   },
   "outputs": [],
   "source": [
    "import pandas as pd\n",
    "import numpy as np\n",
    "import random\n",
    "import math\n",
    "import csv\n",
    "import os.path\n",
    "\n",
    "#used this to step into the function and debug it, also need line with Tracer()() \n",
    "from IPython.core.debugger import Tracer "
   ]
  },
  {
   "cell_type": "markdown",
   "metadata": {},
   "source": [
    "Define some functions up top"
   ]
  },
  {
   "cell_type": "code",
   "execution_count": 182,
   "metadata": {
    "collapsed": false
   },
   "outputs": [],
   "source": [
    "def addOne(leagueDict,oneLeague,oneName):\n",
    "    if len(leagueDict[oneLeague])==0: #nothing there yet\n",
    "        leagueDict[oneLeague] = oneName\n",
    "    else:     #need to append\n",
    "        leagueDict[oneLeague] = leagueDict[oneLeague].append(oneName)\n",
    "    return leagueDict"
   ]
  },
  {
   "cell_type": "code",
   "execution_count": 183,
   "metadata": {
    "collapsed": true
   },
   "outputs": [],
   "source": [
    "def addManager(leagueDictionary,r,manager): #here r is the index in...\n",
    "    useRow = r.index[0]\n",
    "    oneName = regSorted.loc[useRow,['lastname', 'firstname']] \n",
    "    oneName = oneName.to_frame().transpose() #need this format to make nice output\n",
    "    leagueDictionary[manager] = oneName\n",
    "    regSorted.loc[useRow,manager]=np.nan\n",
    "    regTracking.loc[useRow,manager]='yes'\n",
    "    return leagueDictionary"
   ]
  },
  {
   "cell_type": "markdown",
   "metadata": {},
   "source": [
    "Read in the data"
   ]
  },
  {
   "cell_type": "code",
   "execution_count": 184,
   "metadata": {
    "collapsed": false
   },
   "outputs": [],
   "source": [
    "#goal will be to use the version that comes out of the website\n",
    "fName = 'TestPriority4.csv'\n",
    "regInfo=pd.read_csv(fName)\n",
    "\n",
    "#first, how many random numbers so I need?\n",
    "nPeople = len(regInfo.index)\n",
    "regInfo['randomNumCol'] = np.random.choice(range(nPeople), nPeople,replace = False)\n",
    "##so now, moving back to the list of people, sort the list by the random number\n",
    "#...still need to randomize people bc might have case where I can't grant first choice\n",
    "regSorted = regInfo.sort_values(by = 'randomNumCol', ascending=True)\n",
    "regSorted = regSorted.set_index(['randomNumCol'])\n",
    "\n",
    "#copy so I can have an output tracking what was done\n",
    "regTracking = regSorted.copy(deep=True)"
   ]
  },
  {
   "cell_type": "markdown",
   "metadata": {},
   "source": [
    "setup the places to store the output"
   ]
  },
  {
   "cell_type": "code",
   "execution_count": 185,
   "metadata": {
    "collapsed": false
   },
   "outputs": [
    {
     "data": {
      "text/plain": [
       "['League_2_Monday_Open',\n",
       " 'League_1_Sunday_Open',\n",
       " 'League_6_Thursday_Open',\n",
       " 'League_3_Monday_Night_Open',\n",
       " 'League_5_Wednesday_Open',\n",
       " 'League_Tuesday_Open']"
      ]
     },
     "execution_count": 185,
     "metadata": {},
     "output_type": "execute_result"
    }
   ],
   "source": [
    "#need the list of open leagues and randomize the order of leagues\n",
    "openLeagues = list(regInfo)[5:12]\n",
    "openLeagues.remove('League_4_Men')\n",
    "randLeagues = list(openLeagues) #make a copy of the list\n",
    "random.shuffle(randLeagues) #does this in place, so don't make a new variable\n",
    "randLeagues"
   ]
  },
  {
   "cell_type": "code",
   "execution_count": 186,
   "metadata": {
    "collapsed": false
   },
   "outputs": [],
   "source": [
    "#setup the dictionary to hold the people information (start with openLeagues only)\n",
    "forDictionary = openLeagues\n",
    "#forDictionary.extend(otherLeagues)\n",
    "leagueDict_open = {}\n",
    "for name in forDictionary:\n",
    "    leagueDict_open[name] = pd.DataFrame()"
   ]
  },
  {
   "cell_type": "code",
   "execution_count": 187,
   "metadata": {
    "collapsed": false
   },
   "outputs": [],
   "source": [
    "#put the league managers into their league and set their the choice for that league to NaN\n",
    "manager = 'League_1_Sunday_Open'\n",
    "r = regSorted.loc[(regSorted['lastname']=='Fragaszy') & (regSorted['firstname']=='Bill')]\n",
    "leagueDict_open = addManager(leagueDict_open,r,manager)\n",
    "\n",
    "manager = 'League_2_Monday_Open'\n",
    "r = regSorted.loc[(regSorted['lastname']=='Brown') & (regSorted['firstname']=='Peter')]\n",
    "leagueDict_open = addManager(leagueDict_open,r,manager)\n",
    "\n",
    "manager = 'League_3_Monday_Night_Open'\n",
    "r = regSorted.loc[(regSorted['lastname']=='DiMassa') & (regSorted['firstname']=='Diane')]\n",
    "leagueDict_open = addManager(leagueDict_open,r,manager)\n",
    "\n",
    "manager = 'League_Tuesday_Open'\n",
    "r = regSorted.loc[(regSorted['lastname']=='Thomson') & (regSorted['firstname']=='Kenny')]\n",
    "leagueDict_open = addManager(leagueDict_open,r,manager)\n",
    "\n",
    "manager = 'League_5_Wednesday_Open'\n",
    "r = regSorted.loc[(regSorted['lastname']=='Murphy') & (regSorted['firstname']=='Katie')]\n",
    "leagueDict_open = addManager(leagueDict_open,r,manager)\n",
    "\n",
    "manager = 'League_6_Thursday_Open'\n",
    "r = regSorted.loc[(regSorted['lastname']=='Gallagher') & (regSorted['firstname']=='Bill')]\n",
    "leagueDict_open = addManager(leagueDict_open,r,manager)\n"
   ]
  },
  {
   "cell_type": "code",
   "execution_count": 188,
   "metadata": {
    "collapsed": false
   },
   "outputs": [],
   "source": [
    "#set the limit for each league:\n",
    "sevenTeams = 5 #change to 28 (remember league manager already in here)\n",
    "fourteenTeams = 56\n",
    "\n",
    "d = {'League_1_Sunday_Open': sevenTeams,\n",
    "     'League_2_Monday_Open': sevenTeams,\n",
    "     'League_3_Monday_Night_Open': fourteenTeams,\n",
    "     'League_Tuesday_Open': sevenTeams,\n",
    "     'League_5_Wednesday_Open': sevenTeams,\n",
    "     'League_6_Thursday_Open': sevenTeams,}\n",
    "\n",
    "nLimit = pd.DataFrame({'nLimit' : d})\n",
    "del d"
   ]
  },
  {
   "cell_type": "code",
   "execution_count": 189,
   "metadata": {
    "collapsed": false
   },
   "outputs": [],
   "source": [
    "issueNames = ['notInFirst','notInSecond','notInThird','noSecondChoice','noThirdChoice']\n",
    "\n",
    "#setup the dictionary to hold the issues\n",
    "trackIssues = {}\n",
    "for name in issueNames:\n",
    "    trackIssues[name] = pd.DataFrame()"
   ]
  },
  {
   "cell_type": "code",
   "execution_count": 190,
   "metadata": {
    "collapsed": true
   },
   "outputs": [],
   "source": [
    "pd.options.mode.chained_assignment = None  # default='warn'"
   ]
  },
  {
   "cell_type": "code",
   "execution_count": 191,
   "metadata": {
    "collapsed": false
   },
   "outputs": [
    {
     "name": "stdout",
     "output_type": "stream",
     "text": [
      "League_5_Wednesday_Open no more space in league\n"
     ]
    }
   ],
   "source": [
    "for oneLeague in randLeagues:    \n",
    "    #how many spaces are left in this league?\n",
    "    nRemaining = nLimit.loc[oneLeague][0] - len(leagueDict_open[oneLeague])\n",
    "    if nRemaining > 0:      \n",
    "        #find list of people interested in that league\n",
    "        subset = regSorted.loc[regSorted[oneLeague]==1]\n",
    "        subset.reset_index(inplace = True)\n",
    "        nPeople = len(subset.index)\n",
    "        subset.loc[:,('subsetRandomNumCol')] = np.random.choice(range(nPeople),nPeople, replace = False)\n",
    "\n",
    "        for idx in range(0,nPeople): #remember nPeople in this version is only subset for a league\n",
    "            oneName = subset.loc[idx,['lastname', 'firstname']] \n",
    "            oneName = oneName.to_frame().transpose() #need this format to make nice output\n",
    "\n",
    "            #does this person want another league?\n",
    "            rt = regTracking.loc[idx,openLeagues]\n",
    "            cHave = len(rt[rt=='yes'])\n",
    "            del rt\n",
    "            \n",
    "            if cHave < regTracking.loc[idx,'numberLeagues']: #person wants more \n",
    "                if subset.loc[idx,'subsetRandomNumCol'] < (nRemaining): #random # < number of places remaining\n",
    "                    leagueDict_open = addOne(leagueDict_open,oneLeague,oneName)                \n",
    "                    regSorted.loc[idx,oneLeague] = np.nan\n",
    "                    regTracking.loc[idx,oneLeague] = 'yes'\n",
    "\n",
    "                else:\n",
    "                    #no space in first choice league:\n",
    "                    trackIssues = addOne(trackIssues,'notInFirst',oneName)\n",
    "                    #set their first choice to 'no' and move onto second choices\n",
    "                    newI = subset.loc[idx,'randomNumCol'] ###remember: this is the index into regSorted and regTracking\n",
    "                    regTracking.loc[newI,oneLeague] = 'no'\n",
    "                    regSorted.loc[newI,oneLeague] = np.nan\n",
    "\n",
    "                    #use the idx into subset to go back into regTracking\n",
    "                    newPriority = regSorted.loc[newI,openLeagues].dropna().min()\n",
    "\n",
    "                    if math.isnan(newPriority) == False: #have another league listed\n",
    "                        league2 = regSorted.loc[newI,openLeagues].dropna().idxmin() #returns name of league\n",
    "                        #first need to check if the league has space\n",
    "                        if len(leagueDict_open[league2]) < (nLimit.loc[league2,'nLimit']):\n",
    "                            leagueDict_open = addOne(leagueDict_open,league2,oneName)\n",
    "                            regTracking.loc[newI,league2] = 'yes'\n",
    "                            regSorted.loc[newI,league2] = np.nan\n",
    "                        else:\n",
    "                            #no space in second choice league\n",
    "                            trackIssues = addOne(trackIssues,'notInSecond',oneName)\n",
    "                            #set their first choice to 'no' and move onto second choices\n",
    "                            regTracking.loc[newI,league2] = 'no' \n",
    "                            regSorted.loc[newI,league2] = np.nan\n",
    "\n",
    "                            #use the idx into subset to go back into regTracking\n",
    "                            priority3 = regSorted.loc[newI,openLeagues].dropna().min()\n",
    "\n",
    "                            if math.isnan(priority3) == False: #have another league listed\n",
    "                                league3 = regSorted.loc[newI,openLeagues].dropna().idxmin() #returns name of league\n",
    "                                #first need to check if the league has space\n",
    "                                if len(leagueDict_open[league3]) < (nLimit.loc[league3,'nLimit']):\n",
    "                                    leagueDict_open = addOne(leagueDict_open,league3,oneName)\n",
    "                                    regTracking.loc[newI,league3] = 'yes'\n",
    "                                    regSorted.loc[newI,league3] = np.nan\n",
    "                                else:\n",
    "                                    print oneName.values.ravel()[1],oneName.values.ravel()[0],': no space in third choice league'\n",
    "                                    trackIssues = addOne(trackIssues,'notInThird',oneName)\n",
    "                                    regTracking.loc[newI,league3] = 'no'\n",
    "                            else: \n",
    "                                #no other league listed\n",
    "                                trackIssues = addOne(trackIssues,'noThirdChoice',oneName)\n",
    "                    elif math.isnan(newPriority):\n",
    "                        #print oneName.values.ravel()[1],oneName.values.ravel()[0], ': did not list a second league'\n",
    "                        trackIssues = addOne(trackIssues,'noSecondChoice',oneName)\n",
    "        del subset\n",
    "    elif nRemaining == 0:\n",
    "        print oneLeague, 'no more space in league'"
   ]
  },
  {
   "cell_type": "code",
   "execution_count": 192,
   "metadata": {
    "collapsed": true
   },
   "outputs": [],
   "source": [
    "#make a new dictionary for other leagues...concat with openLeagues when done\n",
    "# do doubles and competitive league by hand...\n",
    "otherLeagues = ['League_4_Men', 'League_7_Ladies' ,'League_Scrod']\n",
    "\n",
    "leagueDict_other = {}\n",
    "for name in otherLeagues:\n",
    "    leagueDict_other[name] = pd.DataFrame()"
   ]
  },
  {
   "cell_type": "code",
   "execution_count": 193,
   "metadata": {
    "collapsed": false
   },
   "outputs": [],
   "source": [
    "#put league managers in for other\n",
    "manager = 'League_4_Men'\n",
    "r = regSorted.loc[(regSorted['lastname']=='Pijanowski') & (regSorted['firstname']=='Brian')]\n",
    "leagueDict_other = addManager(leagueDict_other,r,manager)\n",
    "\n",
    "manager = 'League_7_Ladies'\n",
    "r = regSorted.loc[(regSorted['lastname']=='Galligan') & (regSorted['firstname']=='Natalie')]\n",
    "leagueDict_other = addManager(leagueDict_other,r,manager)\n",
    "\n",
    "manager = 'League_Scrod'\n",
    "r = regSorted.loc[(regSorted['lastname']=='Pilotte') & (regSorted['firstname']=='Courtney Lee')]\n",
    "leagueDict_other = addManager(leagueDict_other,r,manager)"
   ]
  },
  {
   "cell_type": "code",
   "execution_count": 194,
   "metadata": {
    "collapsed": false
   },
   "outputs": [],
   "source": [
    "#only have to go through once\n",
    "for idx in range(0,nPeople):\n",
    "    for oL in otherLeagues:    \n",
    "        oneName = regSorted.loc[idx,['lastname', 'firstname']] \n",
    "        oneName = oneName.to_frame().transpose() #need this format to make nice output\n",
    "        if regSorted.loc[idx,oL]=='Yes': #careful with trailing spaces\n",
    "            leagueDict_other = addOne(leagueDict_other,oL,oneName)\n",
    "            #now that I have added the person to a league, change their priority to NaN\n",
    "            regTracking.loc[idx,oL] = 'yes'\n",
    "            regSorted.loc[idx,oL] = np.nan"
   ]
  },
  {
   "cell_type": "code",
   "execution_count": 195,
   "metadata": {
    "collapsed": false
   },
   "outputs": [],
   "source": [
    "#combine the two dictionaries\n",
    "leagueDict_all = leagueDict_open.copy()\n",
    "leagueDict_all.update(leagueDict_other)\n",
    "\n",
    "#combine the list of names\n",
    "allLeagues = list(openLeagues)\n",
    "allLeagues.extend(otherLeagues)"
   ]
  },
  {
   "cell_type": "code",
   "execution_count": 196,
   "metadata": {
    "collapsed": false
   },
   "outputs": [],
   "source": [
    "#export the results to a series of CSV files (CAREFUL...will delete existing files)\n",
    "for fn in allLeagues:\n",
    "    fName = '%s.csv' % fn\n",
    "    #check if the file exists...delete if it does\n",
    "    if os.path.isfile(fName):\n",
    "        os.remove(fName)\n",
    "        \n",
    "    leagueDict_all[fn].to_csv(fName)"
   ]
  },
  {
   "cell_type": "code",
   "execution_count": null,
   "metadata": {
    "collapsed": true
   },
   "outputs": [],
   "source": [
    "#ran multiple times...order the leagues are randomized will change the output"
   ]
  },
  {
   "cell_type": "code",
   "execution_count": 197,
   "metadata": {
    "collapsed": false
   },
   "outputs": [
    {
     "name": "stdout",
     "output_type": "stream",
     "text": [
      "notInFirst :  23  people in this category\n",
      "notInSecond :  3  people in this category\n",
      "notInThird :  0  people in this category\n",
      "noSecondChoice :  12  people in this category\n",
      "noThirdChoice :  3  people in this category\n"
     ]
    },
    {
     "data": {
      "text/plain": [
       "['League_2_Monday_Open',\n",
       " 'League_1_Sunday_Open',\n",
       " 'League_6_Thursday_Open',\n",
       " 'League_3_Monday_Night_Open',\n",
       " 'League_5_Wednesday_Open',\n",
       " 'League_Tuesday_Open']"
      ]
     },
     "execution_count": 197,
     "metadata": {},
     "output_type": "execute_result"
    }
   ],
   "source": [
    "for problem in issueNames:\n",
    "    print problem, ': ', len(trackIssues[problem]), ' people in this category'\n",
    "    \n",
    "randLeagues"
   ]
  },
  {
   "cell_type": "code",
   "execution_count": 179,
   "metadata": {
    "collapsed": false
   },
   "outputs": [
    {
     "name": "stdout",
     "output_type": "stream",
     "text": [
      "notInFirst :  23  people in this category\n",
      "notInSecond :  0  people in this category\n",
      "notInThird :  0  people in this category\n",
      "noSecondChoice :  14  people in this category\n",
      "noThirdChoice :  0  people in this category\n"
     ]
    },
    {
     "data": {
      "text/plain": [
       "['League_Tuesday_Open',\n",
       " 'League_3_Monday_Night_Open',\n",
       " 'League_6_Thursday_Open',\n",
       " 'League_2_Monday_Open',\n",
       " 'League_5_Wednesday_Open',\n",
       " 'League_1_Sunday_Open']"
      ]
     },
     "execution_count": 179,
     "metadata": {},
     "output_type": "execute_result"
    }
   ],
   "source": [
    "for problem in issueNames:\n",
    "    print problem, ': ', len(trackIssues[problem]), ' people in this category'\n",
    "    \n",
    "randLeagues"
   ]
  },
  {
   "cell_type": "code",
   "execution_count": 161,
   "metadata": {
    "collapsed": false
   },
   "outputs": [
    {
     "name": "stdout",
     "output_type": "stream",
     "text": [
      "notInFirst :  16  people in this category\n",
      "notInSecond :  0  people in this category\n",
      "notInThird :  0  people in this category\n",
      "noSecondChoice :  7  people in this category\n",
      "noThirdChoice :  0  people in this category\n"
     ]
    },
    {
     "data": {
      "text/plain": [
       "['League_Tuesday_Open',\n",
       " 'League_3_Monday_Night_Open',\n",
       " 'League_2_Monday_Open',\n",
       " 'League_1_Sunday_Open',\n",
       " 'League_6_Thursday_Open',\n",
       " 'League_5_Wednesday_Open']"
      ]
     },
     "execution_count": 161,
     "metadata": {},
     "output_type": "execute_result"
    }
   ],
   "source": [
    "for problem in issueNames:\n",
    "    print problem, ': ', len(trackIssues[problem]), ' people in this category'\n",
    "    \n",
    "randLeagues"
   ]
  },
  {
   "cell_type": "code",
   "execution_count": 143,
   "metadata": {
    "collapsed": false
   },
   "outputs": [
    {
     "name": "stdout",
     "output_type": "stream",
     "text": [
      "notInFirst :  29  people in this category\n",
      "notInSecond :  1  people in this category\n",
      "notInThird :  1  people in this category\n",
      "noSecondChoice :  13  people in this category\n",
      "noThirdChoice :  0  people in this category\n"
     ]
    },
    {
     "data": {
      "text/plain": [
       "['League_6_Thursday_Open',\n",
       " 'League_1_Sunday_Open',\n",
       " 'League_2_Monday_Open',\n",
       " 'League_Tuesday_Open',\n",
       " 'League_3_Monday_Night_Open',\n",
       " 'League_5_Wednesday_Open']"
      ]
     },
     "execution_count": 143,
     "metadata": {},
     "output_type": "execute_result"
    }
   ],
   "source": [
    "for problem in issueNames:\n",
    "    print problem, ': ', len(trackIssues[problem]), ' people in this category'\n",
    "    \n",
    "randLeagues"
   ]
  },
  {
   "cell_type": "code",
   "execution_count": 125,
   "metadata": {
    "collapsed": false
   },
   "outputs": [
    {
     "name": "stdout",
     "output_type": "stream",
     "text": [
      "notInFirst :  23  people in this category\n",
      "notInSecond :  0  people in this category\n",
      "notInThird :  0  people in this category\n",
      "noSecondChoice :  14  people in this category\n",
      "noThirdChoice :  0  people in this category\n"
     ]
    },
    {
     "data": {
      "text/plain": [
       "['League_Tuesday_Open',\n",
       " 'League_3_Monday_Night_Open',\n",
       " 'League_6_Thursday_Open',\n",
       " 'League_2_Monday_Open',\n",
       " 'League_1_Sunday_Open',\n",
       " 'League_5_Wednesday_Open']"
      ]
     },
     "execution_count": 125,
     "metadata": {},
     "output_type": "execute_result"
    }
   ],
   "source": [
    "for problem in issueNames:\n",
    "    print problem, ': ', len(trackIssues[problem]), ' people in this category'\n",
    "\n",
    "randLeagues"
   ]
  },
  {
   "cell_type": "code",
   "execution_count": null,
   "metadata": {
    "collapsed": true
   },
   "outputs": [],
   "source": []
  },
  {
   "cell_type": "code",
   "execution_count": null,
   "metadata": {
    "collapsed": true
   },
   "outputs": [],
   "source": []
  }
 ],
 "metadata": {
  "kernelspec": {
   "display_name": "Python 2",
   "language": "python",
   "name": "python2"
  },
  "language_info": {
   "codemirror_mode": {
    "name": "ipython",
    "version": 2
   },
   "file_extension": ".py",
   "mimetype": "text/x-python",
   "name": "python",
   "nbconvert_exporter": "python",
   "pygments_lexer": "ipython2",
   "version": "2.7.12"
  }
 },
 "nbformat": 4,
 "nbformat_minor": 1
}
