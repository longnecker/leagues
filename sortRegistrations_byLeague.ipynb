{
 "cells": [
  {
   "cell_type": "markdown",
   "metadata": {},
   "source": [
    "Get going on sorting people into leagues for curling\n",
    "KL 8/21/2016"
   ]
  },
  {
   "cell_type": "markdown",
   "metadata": {},
   "source": [
    "This version starts with a random league and puts a random subset of people into each league"
   ]
  },
  {
   "cell_type": "code",
   "execution_count": 231,
   "metadata": {
    "collapsed": false
   },
   "outputs": [],
   "source": [
    "if False:\n",
    "    %reset"
   ]
  },
  {
   "cell_type": "code",
   "execution_count": 232,
   "metadata": {
    "collapsed": true
   },
   "outputs": [],
   "source": [
    "import pandas as pd\n",
    "import numpy as np\n",
    "import random\n",
    "import math\n",
    "import csv\n",
    "import os.path\n",
    "\n",
    "#used this to step into the function and debug it, also need line with Tracer()() \n",
    "from IPython.core.debugger import Tracer "
   ]
  },
  {
   "cell_type": "code",
   "execution_count": 233,
   "metadata": {
    "collapsed": false
   },
   "outputs": [],
   "source": [
    "#read in the file with the information on people's priorities\n",
    "#goal will be to use the version that comes out of the website\n",
    "fName = 'TestPriority4.csv'\n",
    "regInfo=pd.read_csv(fName)"
   ]
  },
  {
   "cell_type": "code",
   "execution_count": 234,
   "metadata": {
    "collapsed": true
   },
   "outputs": [],
   "source": [
    "##OK, now that I have the data in Python, add some columns that I will need\n",
    "#first, how many numbers so I need?\n",
    "nPeople = len(regInfo.index)\n",
    "regInfo['randomNumCol'] = np.random.choice(range(nPeople), nPeople,replace = False)\n",
    "##so now, moving back to the list of people, sort the list by the random number\n",
    "#...still need to randomize people bc might have case where I can't  \n",
    "regSorted = regInfo.sort_values(by = 'randomNumCol', ascending=True)\n",
    "regSorted = regSorted.set_index(['randomNumCol'])\n",
    "\n",
    "#copy so I can have an output tracking what was done, make after I put in league managers\n",
    "regTracking = regSorted.copy(deep=True)"
   ]
  },
  {
   "cell_type": "markdown",
   "metadata": {},
   "source": [
    "Define some functions up top"
   ]
  },
  {
   "cell_type": "code",
   "execution_count": 235,
   "metadata": {
    "collapsed": false
   },
   "outputs": [],
   "source": [
    "def addOne(leagueDict,oneLeague,oneName):\n",
    "    if len(leagueDict[oneLeague])==0: #nothing there yet\n",
    "        leagueDict[oneLeague] = oneName\n",
    "    else:     #need to append\n",
    "        leagueDict[oneLeague] = leagueDict[oneLeague].append(oneName)\n",
    "    return leagueDict"
   ]
  },
  {
   "cell_type": "code",
   "execution_count": 236,
   "metadata": {
    "collapsed": true
   },
   "outputs": [],
   "source": [
    "def addManager(leagueDictionary,r,manager): #here r is the index in...\n",
    "    useRow = r.index[0]\n",
    "    oneName = regSorted.loc[useRow,['lastname', 'firstname']] \n",
    "    oneName = oneName.to_frame().transpose() #need this format to make nice output\n",
    "    leagueDictionary[manager] = oneName\n",
    "    regSorted.loc[useRow,manager]=np.nan\n",
    "    regTracking.loc[useRow,manager]='yes'\n",
    "    return leagueDictionary"
   ]
  },
  {
   "cell_type": "markdown",
   "metadata": {},
   "source": [
    "get started on the actual lists"
   ]
  },
  {
   "cell_type": "code",
   "execution_count": 237,
   "metadata": {
    "collapsed": false
   },
   "outputs": [
    {
     "data": {
      "text/plain": [
       "['League_5_Wednesday_Open',\n",
       " 'League_2_Monday_Open',\n",
       " 'League_6_Thursday_Open',\n",
       " 'League_3_Monday_Night_Open',\n",
       " 'League_1_Sunday_Open',\n",
       " 'League_Tuesday_Open']"
      ]
     },
     "execution_count": 237,
     "metadata": {},
     "output_type": "execute_result"
    }
   ],
   "source": [
    "#need the list of open leagues...\n",
    "openLeagues = list(regInfo)[5:12]\n",
    "openLeagues.remove('League_4_Men')\n",
    "randLeagues = list(openLeagues) #make a copy of the list\n",
    "random.shuffle(randLeagues) #does this in place, so don't make a new variable\n",
    "randLeagues"
   ]
  },
  {
   "cell_type": "code",
   "execution_count": 238,
   "metadata": {
    "collapsed": true
   },
   "outputs": [],
   "source": [
    "#might set up all the leagues at once...think about that later..."
   ]
  },
  {
   "cell_type": "code",
   "execution_count": 239,
   "metadata": {
    "collapsed": false
   },
   "outputs": [],
   "source": [
    "#setup the dictionary to hold the people information (start with openLeagues only)\n",
    "forDictionary = openLeagues\n",
    "#forDictionary.extend(otherLeagues)\n",
    "leagueDict_open = {}\n",
    "for name in forDictionary:\n",
    "    leagueDict_open[name] = pd.DataFrame()"
   ]
  },
  {
   "cell_type": "code",
   "execution_count": 240,
   "metadata": {
    "collapsed": false
   },
   "outputs": [],
   "source": [
    "#put the league managers into their league and set their the choice for that league to NaN\n",
    "manager = 'League_1_Sunday_Open'\n",
    "r = regSorted.loc[(regSorted['lastname']=='Fragaszy') & (regSorted['firstname']=='Bill')]\n",
    "leagueDict_open = addManager(leagueDict_open,r,manager)\n",
    "\n",
    "manager = 'League_2_Monday_Open'\n",
    "r = regSorted.loc[(regSorted['lastname']=='Brown') & (regSorted['firstname']=='Peter')]\n",
    "leagueDict_open = addManager(leagueDict_open,r,manager)\n",
    "\n",
    "manager = 'League_3_Monday_Night_Open'\n",
    "r = regSorted.loc[(regSorted['lastname']=='DiMassa') & (regSorted['firstname']=='Diane')]\n",
    "leagueDict_open = addManager(leagueDict_open,r,manager)\n",
    "\n",
    "manager = 'League_Tuesday_Open'\n",
    "r = regSorted.loc[(regSorted['lastname']=='Thomson') & (regSorted['firstname']=='Kenny')]\n",
    "leagueDict_open = addManager(leagueDict_open,r,manager)\n",
    "\n",
    "manager = 'League_5_Wednesday_Open'\n",
    "r = regSorted.loc[(regSorted['lastname']=='Murphy') & (regSorted['firstname']=='Katie')]\n",
    "leagueDict_open = addManager(leagueDict_open,r,manager)\n",
    "\n",
    "manager = 'League_6_Thursday_Open'\n",
    "r = regSorted.loc[(regSorted['lastname']=='Gallagher') & (regSorted['firstname']=='Bill')]\n",
    "leagueDict_open = addManager(leagueDict_open,r,manager)\n"
   ]
  },
  {
   "cell_type": "code",
   "execution_count": 241,
   "metadata": {
    "collapsed": false
   },
   "outputs": [
    {
     "data": {
      "text/plain": [
       "{'League_1_Sunday_Open':      lastname firstname\n",
       " 156  Fragaszy      Bill, 'League_2_Monday_Open':     lastname firstname\n",
       " 164    Brown     Peter, 'League_3_Monday_Night_Open':     lastname firstname\n",
       " 189  DiMassa     Diane, 'League_5_Wednesday_Open':   lastname firstname\n",
       " 2   Murphy     Katie, 'League_6_Thursday_Open':      lastname firstname\n",
       " 95  Gallagher      Bill, 'League_Tuesday_Open':    lastname firstname\n",
       " 81  Thomson     Kenny}"
      ]
     },
     "execution_count": 241,
     "metadata": {},
     "output_type": "execute_result"
    }
   ],
   "source": [
    "leagueDict_open"
   ]
  },
  {
   "cell_type": "code",
   "execution_count": null,
   "metadata": {
    "collapsed": true
   },
   "outputs": [],
   "source": []
  },
  {
   "cell_type": "code",
   "execution_count": 163,
   "metadata": {
    "collapsed": false
   },
   "outputs": [],
   "source": [
    "#set the limit for each league:\n",
    "sevenTeams = 5 #change to 28/27 (? should league manager goes in first)\n",
    "fourteenTeams = 55\n",
    "\n",
    "d = {'League_1_Sunday_Open': sevenTeams,\n",
    "     'League_2_Monday_Open': sevenTeams,\n",
    "     'League_3_Monday_Night_Open': fourteenTeams,\n",
    "     'League_Tuesday_Open': sevenTeams,\n",
    "     'League_5_Wednesday_Open': sevenTeams,\n",
    "     'League_6_Thursday_Open': sevenTeams,}\n",
    "\n",
    "nLimit = pd.DataFrame({'nLimit' : d})\n",
    "del d"
   ]
  },
  {
   "cell_type": "code",
   "execution_count": 164,
   "metadata": {
    "collapsed": false
   },
   "outputs": [
    {
     "name": "stdout",
     "output_type": "stream",
     "text": [
      "Elizabeth Abeltin : no space in first choice league\n",
      "Elizabeth Abeltin : did not list a second league\n",
      "Lynn Parks : no space in first choice league\n",
      "Lynn Parks : did not list a second league\n",
      "Meghan Lino : no space in first choice league\n",
      "Meghan Lino : did not list a second league\n",
      "Carolyn Wurm : no space in first choice league\n",
      "Carolyn Wurm : did not list a second league\n",
      "Pete Mitchell : no space in first choice league\n",
      "Martha Balas : no space in first choice league\n",
      "Eric Robillard : no space in first choice league\n",
      "Eric Robillard : did not list a second league\n",
      "Jane Hannon : no space in first choice league\n",
      "Bob Reed : no space in first choice league\n",
      "Bob Kleinrath : no space in first choice league\n",
      "Bob Kleinrath : did not list a second league\n",
      "John Woods : no space in first choice league\n",
      "Richard Lousararian : no space in first choice league\n",
      "Coco Wellington : no space in first choice league\n",
      "Coco Wellington : did not list a second league\n",
      "Joel Weinstein : no space in first choice league\n",
      "Steve Mojo : no space in first choice league\n",
      "Kathleen Devlin-Reed : no space in first choice league\n",
      "tom ballou : no space in first choice league\n",
      "tom ballou : no space in second choice league\n",
      "jack mahoney : no space in first choice league\n",
      "jack mahoney : no space in second choice league\n",
      "chuck barnes : no space in first choice league\n",
      "chuck barnes : did not list a second league\n",
      "Mary Kavanagh : no space in first choice league\n",
      "Matthew Leary : no space in first choice league\n",
      "Matthew Leary : did not list a second league\n",
      "Mike Gavin : no space in first choice league\n",
      "Mike Gavin : did not list a second league\n",
      "Shay Austin-Leary : no space in first choice league\n",
      "Shay Austin-Leary : did not list a second league\n",
      "James  Bailey : no space in first choice league\n",
      "James  Bailey : no space in second choice league\n",
      "Katherine Colgan : no space in first choice league\n",
      "Katherine Colgan : did not list a second league\n",
      "Nedine Cunningham : no space in first choice league\n",
      "Nedine Cunningham : did not list a second league\n",
      "Mark Riedesel : no space in first choice league\n",
      "Mark Riedesel : did not list a second league\n",
      "David Bailey : no space in first choice league\n",
      "David Bailey : did not list a second league\n",
      "Barb Kimmey : no space in first choice league\n",
      "Barb Kimmey : did not list a second league\n",
      "Kathleen Harlow : no space in first choice league\n",
      "Kathleen Harlow : did not list a second league\n",
      "Karen  von Haam : no space in first choice league\n",
      "Karen  von Haam : did not list a second league\n",
      "Jason Riopelle : no space in first choice league\n",
      "Jason Riopelle : did not list a second league\n",
      "Alexandra Brandt : no space in first choice league\n",
      "Alexandra Brandt : did not list a second league\n",
      "Stephen M. O'Neil : no space in first choice league\n",
      "Stephen M. O'Neil : no space in second choice league\n",
      "Paula Howe : no space in first choice league\n",
      "Paula Howe : no space in second choice league\n",
      "Connie Spilhaus : no space in first choice league\n",
      "Connie Spilhaus : did not list a second league\n",
      "Terry kirby : no space in first choice league\n",
      "Terry kirby : did not list a second league\n",
      "Todd Benedict : no space in first choice league\n",
      "Todd Benedict : no space in second choice league\n",
      "Beth Howard : no space in first choice league\n",
      "Beth Howard : no space in second choice league\n",
      "Debra Sawka : no space in first choice league\n",
      "Debra Sawka : did not list a second league\n",
      "Russel Lemcke : no space in first choice league\n",
      "Russel Lemcke : no space in second choice league\n",
      "Mary Colacchio : no space in first choice league\n",
      "Mary Colacchio : did not list a second league\n",
      "Frank Sylvia : no space in first choice league\n",
      "League_5_Wednesday_Open no more space in league\n"
     ]
    }
   ],
   "source": [
    "for oneLeague in randLeagues:    \n",
    "    #how many spaces are left in this league?\n",
    "    nRemaining = nLimit.loc[oneLeague][0] - len(leagueDict_open[oneLeague])\n",
    "    if nRemaining > 0:      \n",
    "        #find list of people interested in that league\n",
    "        subset = regSorted.loc[regSorted[oneLeague]==1]\n",
    "        subset.reset_index(inplace = True)\n",
    "        nPeople = len(subset.index)\n",
    "        subset.loc[:,('subsetRandomNumCol')] = np.random.choice(range(nPeople),nPeople, replace = False)\n",
    "\n",
    "        for idx in range(0,nPeople): #remember nPeople in this version is only subset for a league\n",
    "            oneName = subset.loc[idx,['lastname', 'firstname']] \n",
    "            oneName = oneName.to_frame().transpose() #need this format to make nice output\n",
    "\n",
    "            #does this person want another league?\n",
    "            rt = regTracking.loc[idx,openLeagues]\n",
    "            cHave = len(rt[rt=='yes'])\n",
    "            del rt\n",
    "            \n",
    "            if cHave < regTracking.loc[idx,'numberLeagues']: #person wants more \n",
    "                if subset.loc[idx,'subsetRandomNumCol'] < (nRemaining): #random # < number of places remaining\n",
    "                    leagueDict_open = addOne(leagueDict_open,oneLeague,oneName)                \n",
    "                    regSorted.loc[idx,oneLeague] = np.nan\n",
    "                    regTracking.loc[idx,oneLeague] = 'yes'\n",
    "\n",
    "                else:\n",
    "                    print oneName.values.ravel()[1],oneName.values.ravel()[0],': no space in first choice league'\n",
    "                    #set their first choice to 'no' and move onto second choices\n",
    "                    newI = subset.loc[idx,'randomNumCol'] ###CHECK THIS IN NEXT LOOP\n",
    "                    regTracking.loc[newI,oneLeague] = 'no'\n",
    "                    regSorted.loc[newI,oneLeague] = np.nan\n",
    "\n",
    "                    #use the idx into subset to go back into regTracking\n",
    "                    newPriority = regSorted.loc[newI,openLeagues].dropna().min()\n",
    "\n",
    "                    if math.isnan(newPriority) == False: #have another league listed\n",
    "                        league2 = regSorted.loc[newI,openLeagues].dropna().idxmin() #returns name of league\n",
    "                        #first need to check if the league has space\n",
    "                        if len(leagueDict_open[league2]) < (nLimit.loc[league2,'nLimit']):\n",
    "                            leagueDict_open = addOne(leagueDict_open,league2,oneName)\n",
    "                            regTracking.loc[newI,league2] = 'yes'\n",
    "                            regSorted.loc[newI,league2] = np.nan\n",
    "                        else:\n",
    "                            print oneName.values.ravel()[1],oneName.values.ravel()[0],': no space in second choice league'\n",
    "                            #set their first choice to 'no' and move onto second choices\n",
    "                            regTracking.loc[newI,league2] = 'no' ###CHECK newI\n",
    "                            regSorted.loc[newI,league2] = np.nan\n",
    "\n",
    "                            #use the idx into subset to go back into regTracking\n",
    "                            priority3 = regSorted.loc[newI,openLeagues].dropna().min()\n",
    "\n",
    "                            if math.isnan(priority3) == False: #have another league listed\n",
    "                                league3 = regSorted.loc[newI,openLeagues].dropna().idxmin() #returns name of league\n",
    "                                #first need to check if the league has space\n",
    "                                if len(leagueDict_open[nextLeague]) < (nLimit.loc[league3,'nLimit']):\n",
    "                                    leagueDict_open = addOne(leagueDict_open,league3,oneName)\n",
    "                                    regTracking.loc[newI,league3] = 'yes'\n",
    "                                    regSorted.loc[newI,league3] = np.nan\n",
    "                                else:\n",
    "                                    print oneName.values.ravel()[1],oneName.values.ravel()[0],': no space in third choice league'\n",
    "                                    regTracking.loc[newI,league3] = 'no'\n",
    "                    elif math.isnan(newPriority):\n",
    "                        print oneName.values.ravel()[1],oneName.values.ravel()[0], ': did not list a second league'\n",
    "        del subset\n",
    "    elif nRemaining == 0:\n",
    "        print oneLeague, 'no more space in league'\n",
    "    elif nRemaining < 0:\n",
    "        print 'something is wrong'"
   ]
  },
  {
   "cell_type": "code",
   "execution_count": 165,
   "metadata": {
    "collapsed": false
   },
   "outputs": [
    {
     "data": {
      "text/plain": [
       "['League_Tuesday_Open',\n",
       " 'League_6_Thursday_Open',\n",
       " 'League_1_Sunday_Open',\n",
       " 'League_2_Monday_Open',\n",
       " 'League_3_Monday_Night_Open',\n",
       " 'League_5_Wednesday_Open']"
      ]
     },
     "execution_count": 165,
     "metadata": {},
     "output_type": "execute_result"
    }
   ],
   "source": [
    "randLeagues"
   ]
  },
  {
   "cell_type": "code",
   "execution_count": 246,
   "metadata": {
    "collapsed": true
   },
   "outputs": [],
   "source": [
    "#make a new dictionary for other leagues...concat with openLeagues when done\n",
    "# do doubles and competitive league by hand...\n",
    "otherLeagues = ['League_4_Men', 'League_7_Ladies' ,'League_Scrod']\n",
    "\n",
    "leagueDict_other = {}\n",
    "for name in otherLeagues:\n",
    "    leagueDict_other[name] = pd.DataFrame()"
   ]
  },
  {
   "cell_type": "code",
   "execution_count": 251,
   "metadata": {
    "collapsed": false
   },
   "outputs": [],
   "source": [
    "#put league managers in for other\n",
    "manager = 'League_4_Men'\n",
    "r = regSorted.loc[(regSorted['lastname']=='Pijanowski') & (regSorted['firstname']=='Brian')]\n",
    "leagueDict_other = addManager(leagueDict_other,r,manager)\n",
    "\n",
    "manager = 'League_7_Ladies'\n",
    "r = regSorted.loc[(regSorted['lastname']=='Galligan') & (regSorted['firstname']=='Natalie')]\n",
    "leagueDict_other = addManager(leagueDict_other,r,manager)\n",
    "\n",
    "manager = 'League_Scrod'\n",
    "r = regSorted.loc[(regSorted['lastname']=='Pilotte') & (regSorted['firstname']=='Courtney Lee')]\n",
    "leagueDict_other = addManager(leagueDict_other,r,manager)\n",
    "\n"
   ]
  },
  {
   "cell_type": "code",
   "execution_count": 253,
   "metadata": {
    "collapsed": false
   },
   "outputs": [],
   "source": [
    "#only have to go through once\n",
    "for idx in range(0,nPeople):\n",
    "    for oL in otherLeagues:    \n",
    "        oneName = regSorted.loc[idx,['lastname', 'firstname']] \n",
    "        oneName = oneName.to_frame().transpose() #need this format to make nice output\n",
    "        if regSorted.loc[idx,oL]=='Yes': #careful with trailing spaces\n",
    "            leagueDict_other = addOne(leagueDict_other,oL,oneName)\n",
    "            #now that I have added the person to a league, change their priority to NaN\n",
    "            regTracking.loc[idx,oL] = 'yes'\n",
    "            regSorted.loc[idx,oL] = np.nan"
   ]
  },
  {
   "cell_type": "code",
   "execution_count": 254,
   "metadata": {
    "collapsed": false
   },
   "outputs": [],
   "source": [
    "#combine the two dictionaries\n",
    "leagueDict_all = leagueDict_open.copy()\n",
    "leagueDict_all.update(leagueDict_other)\n",
    "\n",
    "#combine the list of names\n",
    "allLeagues = list(openLeagues)\n",
    "allLeagues.extend(otherLeagues)"
   ]
  },
  {
   "cell_type": "code",
   "execution_count": 255,
   "metadata": {
    "collapsed": false
   },
   "outputs": [],
   "source": [
    "#finally, export the results (CAREFUL...will delete existing files)\n",
    "for fn in allLeagues:\n",
    "    fName = '%s.csv' % fn\n",
    "    #check if the file exists...delete if it does\n",
    "    if os.path.isfile(fName):\n",
    "        os.remove(fName)\n",
    "        \n",
    "    leagueDict_all[fn].to_csv(fName)"
   ]
  },
  {
   "cell_type": "code",
   "execution_count": 256,
   "metadata": {
    "collapsed": false
   },
   "outputs": [],
   "source": [
    "if True:\n",
    "    #now...print up a list of  problems...use information in regTracking\n",
    "    #essentially..how many people have # 'yes' < numberLeagues\n",
    "    for idx in range(0,nPeople):\n",
    "        test = regTracking.loc[idx,openLeagues]\n",
    "        \n",
    "        oneName = regSorted.loc[idx,['lastname', 'firstname']] \n",
    "        oneName = oneName.to_frame().transpose() #need this format to make nice output\n",
    "       \n",
    "        if test.isnull().sum()!=6: #if al 6 are NaN, no open leagues\n",
    "            testT = regTracking.loc[idx,openLeagues]\n",
    "            nNo = testT[testT=='no']\n",
    "            nYes = testT[testT=='yes']\n",
    "            if (len(nYes)==0) & (len(nNo) > 0):\n",
    "                print oneName.values.ravel()[1],oneName.values.ravel()[0],': got no open leagues'    "
   ]
  },
  {
   "cell_type": "code",
   "execution_count": null,
   "metadata": {
    "collapsed": true
   },
   "outputs": [],
   "source": []
  },
  {
   "cell_type": "code",
   "execution_count": null,
   "metadata": {
    "collapsed": true
   },
   "outputs": [],
   "source": []
  },
  {
   "cell_type": "code",
   "execution_count": 249,
   "metadata": {
    "collapsed": false
   },
   "outputs": [
    {
     "data": {
      "text/html": [
       "<div>\n",
       "<table border=\"1\" class=\"dataframe\">\n",
       "  <thead>\n",
       "    <tr style=\"text-align: right;\">\n",
       "      <th></th>\n",
       "      <th>Register Date</th>\n",
       "      <th>Event Name</th>\n",
       "      <th>firstname</th>\n",
       "      <th>lastname</th>\n",
       "      <th>numberLeagues</th>\n",
       "      <th>League_1_Sunday_Open</th>\n",
       "      <th>League_2_Monday_Open</th>\n",
       "      <th>League_3_Monday_Night_Open</th>\n",
       "      <th>League_Tuesday_Open</th>\n",
       "      <th>League_4_Men</th>\n",
       "      <th>...</th>\n",
       "      <th>League_6_Thursday_Open</th>\n",
       "      <th>League_7_Ladies</th>\n",
       "      <th>League_Friday_Doubles</th>\n",
       "      <th>League_Friday_Doubles2</th>\n",
       "      <th>League_Friday_Doubles3</th>\n",
       "      <th>Competitive_League</th>\n",
       "      <th>Competitive_League_Part2</th>\n",
       "      <th>League_Scrod</th>\n",
       "      <th>League_Day_Curling</th>\n",
       "      <th>League_Sub</th>\n",
       "    </tr>\n",
       "    <tr>\n",
       "      <th>randomNumCol</th>\n",
       "      <th></th>\n",
       "      <th></th>\n",
       "      <th></th>\n",
       "      <th></th>\n",
       "      <th></th>\n",
       "      <th></th>\n",
       "      <th></th>\n",
       "      <th></th>\n",
       "      <th></th>\n",
       "      <th></th>\n",
       "      <th></th>\n",
       "      <th></th>\n",
       "      <th></th>\n",
       "      <th></th>\n",
       "      <th></th>\n",
       "      <th></th>\n",
       "      <th></th>\n",
       "      <th></th>\n",
       "      <th></th>\n",
       "      <th></th>\n",
       "      <th></th>\n",
       "    </tr>\n",
       "  </thead>\n",
       "  <tbody>\n",
       "    <tr>\n",
       "      <th>125</th>\n",
       "      <td>1/2/2016 10:30</td>\n",
       "      <td>2015-2016 Second Half League Registration</td>\n",
       "      <td>Zachary</td>\n",
       "      <td>Pilotte</td>\n",
       "      <td>1</td>\n",
       "      <td>NaN</td>\n",
       "      <td>NaN</td>\n",
       "      <td>1</td>\n",
       "      <td>NaN</td>\n",
       "      <td>NaN</td>\n",
       "      <td>...</td>\n",
       "      <td>NaN</td>\n",
       "      <td>NaN</td>\n",
       "      <td>No</td>\n",
       "      <td>NaN</td>\n",
       "      <td>NaN</td>\n",
       "      <td>No</td>\n",
       "      <td>NaN</td>\n",
       "      <td>Yes</td>\n",
       "      <td>No</td>\n",
       "      <td>NaN</td>\n",
       "    </tr>\n",
       "    <tr>\n",
       "      <th>149</th>\n",
       "      <td>12/31/2015 15:32</td>\n",
       "      <td>2015-2016 Second Half League Registration</td>\n",
       "      <td>Courtney Lee</td>\n",
       "      <td>Pilotte</td>\n",
       "      <td>2</td>\n",
       "      <td>2</td>\n",
       "      <td>NaN</td>\n",
       "      <td>1</td>\n",
       "      <td>NaN</td>\n",
       "      <td>NaN</td>\n",
       "      <td>...</td>\n",
       "      <td>NaN</td>\n",
       "      <td>NaN</td>\n",
       "      <td>No</td>\n",
       "      <td>NaN</td>\n",
       "      <td>NaN</td>\n",
       "      <td>No</td>\n",
       "      <td>NaN</td>\n",
       "      <td>Yes</td>\n",
       "      <td>No</td>\n",
       "      <td>Monday Afternoon Open</td>\n",
       "    </tr>\n",
       "  </tbody>\n",
       "</table>\n",
       "<p>2 rows × 21 columns</p>\n",
       "</div>"
      ],
      "text/plain": [
       "                 Register Date                                 Event Name  \\\n",
       "randomNumCol                                                                \n",
       "125             1/2/2016 10:30  2015-2016 Second Half League Registration   \n",
       "149           12/31/2015 15:32  2015-2016 Second Half League Registration   \n",
       "\n",
       "                 firstname lastname  numberLeagues League_1_Sunday_Open  \\\n",
       "randomNumCol                                                              \n",
       "125                Zachary  Pilotte              1                  NaN   \n",
       "149           Courtney Lee  Pilotte              2                    2   \n",
       "\n",
       "             League_2_Monday_Open League_3_Monday_Night_Open  \\\n",
       "randomNumCol                                                   \n",
       "125                           NaN                          1   \n",
       "149                           NaN                          1   \n",
       "\n",
       "             League_Tuesday_Open League_4_Men          ...            \\\n",
       "randomNumCol                                           ...             \n",
       "125                          NaN          NaN          ...             \n",
       "149                          NaN          NaN          ...             \n",
       "\n",
       "             League_6_Thursday_Open League_7_Ladies League_Friday_Doubles  \\\n",
       "randomNumCol                                                                \n",
       "125                             NaN             NaN                    No   \n",
       "149                             NaN             NaN                    No   \n",
       "\n",
       "             League_Friday_Doubles2 League_Friday_Doubles3 Competitive_League  \\\n",
       "randomNumCol                                                                    \n",
       "125                             NaN                    NaN                 No   \n",
       "149                             NaN                    NaN                 No   \n",
       "\n",
       "             Competitive_League_Part2 League_Scrod League_Day_Curling  \\\n",
       "randomNumCol                                                            \n",
       "125                               NaN          Yes                 No   \n",
       "149                               NaN          Yes                 No   \n",
       "\n",
       "                         League_Sub  \n",
       "randomNumCol                         \n",
       "125                             NaN  \n",
       "149           Monday Afternoon Open  \n",
       "\n",
       "[2 rows x 21 columns]"
      ]
     },
     "execution_count": 249,
     "metadata": {},
     "output_type": "execute_result"
    }
   ],
   "source": [
    "# leave here bc I keep having to look this up\n",
    "#df.loc[df['column_name'] == some_value]\n",
    "regTracking.loc[regTracking['lastname']=='Pilotte']"
   ]
  },
  {
   "cell_type": "code",
   "execution_count": null,
   "metadata": {
    "collapsed": false
   },
   "outputs": [],
   "source": []
  },
  {
   "cell_type": "code",
   "execution_count": null,
   "metadata": {
    "collapsed": true
   },
   "outputs": [],
   "source": []
  },
  {
   "cell_type": "code",
   "execution_count": null,
   "metadata": {
    "collapsed": true
   },
   "outputs": [],
   "source": []
  },
  {
   "cell_type": "code",
   "execution_count": 172,
   "metadata": {
    "collapsed": false
   },
   "outputs": [
    {
     "ename": "IOError",
     "evalue": "[Errno 13] Permission denied: 'temp7.csv'",
     "output_type": "error",
     "traceback": [
      "\u001b[0;31m---------------------------------------------------------------------------\u001b[0m",
      "\u001b[0;31mIOError\u001b[0m                                   Traceback (most recent call last)",
      "\u001b[0;32m<ipython-input-172-f556ddc97697>\u001b[0m in \u001b[0;36m<module>\u001b[0;34m()\u001b[0m\n\u001b[0;32m----> 1\u001b[0;31m \u001b[0mregTracking\u001b[0m\u001b[1;33m.\u001b[0m\u001b[0mto_csv\u001b[0m\u001b[1;33m(\u001b[0m\u001b[1;34m'temp7.csv'\u001b[0m\u001b[1;33m)\u001b[0m\u001b[1;33m\u001b[0m\u001b[0m\n\u001b[0m",
      "\u001b[0;32mc:\\miniconda2\\lib\\site-packages\\pandas\\core\\frame.pyc\u001b[0m in \u001b[0;36mto_csv\u001b[0;34m(self, path_or_buf, sep, na_rep, float_format, columns, header, index, index_label, mode, encoding, compression, quoting, quotechar, line_terminator, chunksize, tupleize_cols, date_format, doublequote, escapechar, decimal, **kwds)\u001b[0m\n\u001b[1;32m   1342\u001b[0m                                      \u001b[0mdoublequote\u001b[0m\u001b[1;33m=\u001b[0m\u001b[0mdoublequote\u001b[0m\u001b[1;33m,\u001b[0m\u001b[1;33m\u001b[0m\u001b[0m\n\u001b[1;32m   1343\u001b[0m                                      escapechar=escapechar, decimal=decimal)\n\u001b[0;32m-> 1344\u001b[0;31m         \u001b[0mformatter\u001b[0m\u001b[1;33m.\u001b[0m\u001b[0msave\u001b[0m\u001b[1;33m(\u001b[0m\u001b[1;33m)\u001b[0m\u001b[1;33m\u001b[0m\u001b[0m\n\u001b[0m\u001b[1;32m   1345\u001b[0m \u001b[1;33m\u001b[0m\u001b[0m\n\u001b[1;32m   1346\u001b[0m         \u001b[1;32mif\u001b[0m \u001b[0mpath_or_buf\u001b[0m \u001b[1;32mis\u001b[0m \u001b[0mNone\u001b[0m\u001b[1;33m:\u001b[0m\u001b[1;33m\u001b[0m\u001b[0m\n",
      "\u001b[0;32mc:\\miniconda2\\lib\\site-packages\\pandas\\formats\\format.pyc\u001b[0m in \u001b[0;36msave\u001b[0;34m(self)\u001b[0m\n\u001b[1;32m   1524\u001b[0m             f = _get_handle(self.path_or_buf, self.mode,\n\u001b[1;32m   1525\u001b[0m                             \u001b[0mencoding\u001b[0m\u001b[1;33m=\u001b[0m\u001b[0mself\u001b[0m\u001b[1;33m.\u001b[0m\u001b[0mencoding\u001b[0m\u001b[1;33m,\u001b[0m\u001b[1;33m\u001b[0m\u001b[0m\n\u001b[0;32m-> 1526\u001b[0;31m                             compression=self.compression)\n\u001b[0m\u001b[1;32m   1527\u001b[0m             \u001b[0mclose\u001b[0m \u001b[1;33m=\u001b[0m \u001b[0mTrue\u001b[0m\u001b[1;33m\u001b[0m\u001b[0m\n\u001b[1;32m   1528\u001b[0m \u001b[1;33m\u001b[0m\u001b[0m\n",
      "\u001b[0;32mc:\\miniconda2\\lib\\site-packages\\pandas\\io\\common.pyc\u001b[0m in \u001b[0;36m_get_handle\u001b[0;34m(path, mode, encoding, compression)\u001b[0m\n\u001b[1;32m    424\u001b[0m                 \u001b[0mf\u001b[0m \u001b[1;33m=\u001b[0m \u001b[0mopen\u001b[0m\u001b[1;33m(\u001b[0m\u001b[0mpath\u001b[0m\u001b[1;33m,\u001b[0m \u001b[0mmode\u001b[0m\u001b[1;33m,\u001b[0m \u001b[0merrors\u001b[0m\u001b[1;33m=\u001b[0m\u001b[1;34m'replace'\u001b[0m\u001b[1;33m)\u001b[0m\u001b[1;33m\u001b[0m\u001b[0m\n\u001b[1;32m    425\u001b[0m         \u001b[1;32melse\u001b[0m\u001b[1;33m:\u001b[0m\u001b[1;33m\u001b[0m\u001b[0m\n\u001b[0;32m--> 426\u001b[0;31m             \u001b[0mf\u001b[0m \u001b[1;33m=\u001b[0m \u001b[0mopen\u001b[0m\u001b[1;33m(\u001b[0m\u001b[0mpath\u001b[0m\u001b[1;33m,\u001b[0m \u001b[0mmode\u001b[0m\u001b[1;33m)\u001b[0m\u001b[1;33m\u001b[0m\u001b[0m\n\u001b[0m\u001b[1;32m    427\u001b[0m \u001b[1;33m\u001b[0m\u001b[0m\n\u001b[1;32m    428\u001b[0m     \u001b[1;32mreturn\u001b[0m \u001b[0mf\u001b[0m\u001b[1;33m\u001b[0m\u001b[0m\n",
      "\u001b[0;31mIOError\u001b[0m: [Errno 13] Permission denied: 'temp7.csv'"
     ]
    }
   ],
   "source": [
    "regTracking.to_csv('temp7.csv')"
   ]
  },
  {
   "cell_type": "code",
   "execution_count": null,
   "metadata": {
    "collapsed": true
   },
   "outputs": [],
   "source": [
    "regSorted.to_csv('temp8.csv')"
   ]
  },
  {
   "cell_type": "code",
   "execution_count": null,
   "metadata": {
    "collapsed": true
   },
   "outputs": [],
   "source": []
  }
 ],
 "metadata": {
  "kernelspec": {
   "display_name": "Python 2",
   "language": "python",
   "name": "python2"
  },
  "language_info": {
   "codemirror_mode": {
    "name": "ipython",
    "version": 2
   },
   "file_extension": ".py",
   "mimetype": "text/x-python",
   "name": "python",
   "nbconvert_exporter": "python",
   "pygments_lexer": "ipython2",
   "version": "2.7.12"
  }
 },
 "nbformat": 4,
 "nbformat_minor": 1
}
